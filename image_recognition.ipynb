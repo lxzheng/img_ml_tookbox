{
 "cells": [
  {
   "cell_type": "markdown",
   "metadata": {},
   "source": [
    "# 图像识别示例\n",
    "\n",
    "## 准备工作：首先运行下面的代码，导入一些函数库"
   ]
  },
  {
   "cell_type": "code",
   "execution_count": 1,
   "metadata": {},
   "outputs": [],
   "source": [
    "import net_transfer\n",
    "import unzip_data\n",
    "import image_browser \n",
    "import gen_model\n",
    "import classifier\n",
    "import transvideo_data\n",
    "import downloadimage_data"
   ]
  },
  {
   "cell_type": "markdown",
   "metadata": {},
   "source": [
    "# 数据准备\n",
    "1. 收集\n",
    "2. 分类整理并打包\n",
    "3. 加载：有以下三种加载方式\n",
    ">     ①如果数据没加载到服务器，则运行下面的代码，输入链接地址(链接为包含zip格式打包的网络下载地址，例如qq邮箱超大附件的下载链接),点击传输按键，下载数据集\n",
    ">     ②输入名字根据关键词，从搜索引擎下载图片数据集\n",
    ">     ③输入本地视频的地址、对应的标签和帧数间隔，生成数据集"
   ]
  },
  {
   "cell_type": "code",
   "execution_count": 2,
   "metadata": {},
   "outputs": [
    {
     "name": "stdout",
     "output_type": "stream",
     "text": [
      "请输入下载链接，和要保存的文件名，点击“传输”按键将网盘上的zip传输到服务器\n"
     ]
    },
    {
     "data": {
      "application/vnd.jupyter.widget-view+json": {
       "model_id": "313948e8397847399f4545e8c969b721",
       "version_major": 2,
       "version_minor": 0
      },
      "text/plain": [
       "VBox(children=(Text(value='', description='链接'), Text(value='dataset.zip', description='文件名'), Button(descript…"
      ]
     },
     "metadata": {},
     "output_type": "display_data"
    }
   ],
   "source": [
    "net_transfer.get_zip_file()"
   ]
  },
  {
   "cell_type": "markdown",
   "metadata": {},
   "source": [
    "在进行模型训练前，需先把上一步骤下载的数据集解压，运行下面的代码后，在选择框中选择要解压的文件，点击解压按键提取图像数据。"
   ]
  },
  {
   "cell_type": "code",
   "execution_count": 3,
   "metadata": {},
   "outputs": [
    {
     "name": "stdout",
     "output_type": "stream",
     "text": [
      "请选择要解压的zip文件，点击“解压”按键将zip文件解压，点击“刷新”按键更新zip文件列表\n"
     ]
    },
    {
     "data": {
      "application/vnd.jupyter.widget-view+json": {
       "model_id": "35f6e03a0efd4a46b02fe9cc9348b42e",
       "version_major": 2,
       "version_minor": 0
      },
      "text/plain": [
       "Box(children=(Dropdown(description='zip文件:', options=('cats_and_dogs.zip', 'cats_and_dogs_filtered.zip', 'flow…"
      ]
     },
     "metadata": {},
     "output_type": "display_data"
    }
   ],
   "source": [
    "unzip_data.do_unzip(net_transfer.file_name)"
   ]
  },
  {
   "cell_type": "code",
   "execution_count": 4,
   "metadata": {},
   "outputs": [
    {
     "name": "stdout",
     "output_type": "stream",
     "text": [
      "请输入要下载的数据集信息（注意如果要一次性下载多多种类型的图片,关键字之间用分号;隔开）\n"
     ]
    },
    {
     "data": {
      "application/vnd.jupyter.widget-view+json": {
       "model_id": "407276313f2d4352830b6b99cf81adab",
       "version_major": 2,
       "version_minor": 0
      },
      "text/plain": [
       "VBox(children=(Text(value='', description='数据集名称'), Text(value='', description='图片类别'), Dropdown(description='…"
      ]
     },
     "metadata": {},
     "output_type": "display_data"
    }
   ],
   "source": [
    "downloadimage_data.get_image()"
   ]
  },
  {
   "cell_type": "code",
   "execution_count": 5,
   "metadata": {},
   "outputs": [
    {
     "name": "stdout",
     "output_type": "stream",
     "text": [
      "请输入本地视频地址、要保存的标签名和间隔，点击“传输”按键将把视频转换成数据集\n"
     ]
    },
    {
     "data": {
      "application/vnd.jupyter.widget-view+json": {
       "model_id": "de360aa50521493daf8e35db18c6b9e0",
       "version_major": 2,
       "version_minor": 0
      },
      "text/plain": [
       "VBox(children=(Text(value='test.mp4', description='视频位置'), Dropdown(description='选择本地文件:', options=('test.mp4'…"
      ]
     },
     "metadata": {},
     "output_type": "display_data"
    }
   ],
   "source": [
    "transvideo_data.get_Video()"
   ]
  },
  {
   "cell_type": "markdown",
   "metadata": {},
   "source": [
    "4. 数据检查与确认。运行下面的代码，选择一个想要训练的数据集，并检查确认图像的正确性"
   ]
  },
  {
   "cell_type": "code",
   "execution_count": 6,
   "metadata": {},
   "outputs": [
    {
     "data": {
      "application/vnd.jupyter.widget-view+json": {
       "model_id": "cf99f737de5843bf8dbc580325cdb2c8",
       "version_major": 2,
       "version_minor": 0
      },
      "text/plain": [
       "Box(children=(Dropdown(description='数据集目录', options=('测试', '水果', 'flower_photos', 'cats_and_dogs_filtered', 'c…"
      ]
     },
     "metadata": {},
     "output_type": "display_data"
    },
    {
     "data": {
      "application/vnd.jupyter.widget-view+json": {
       "model_id": "6865c1e53cbb40769fffff9fde277aee",
       "version_major": 2,
       "version_minor": 0
      },
      "text/plain": [
       "Dropdown(description='类别:', options=('t', 't2', 't1'), value='t')"
      ]
     },
     "metadata": {},
     "output_type": "display_data"
    },
    {
     "data": {
      "application/vnd.jupyter.widget-view+json": {
       "model_id": "aaefd9c2fb5f4775b8eb378b28bed677",
       "version_major": 2,
       "version_minor": 0
      },
      "text/plain": [
       "Button(description='下一页', style=ButtonStyle())"
      ]
     },
     "metadata": {},
     "output_type": "display_data"
    },
    {
     "data": {
      "application/vnd.jupyter.widget-view+json": {
       "model_id": "c13d36f43fac447a8a962836dc364201",
       "version_major": 2,
       "version_minor": 0
      },
      "text/plain": [
       "Output(layout=Layout(border='1px solid black'))"
      ]
     },
     "metadata": {},
     "output_type": "display_data"
    },
    {
     "data": {
      "application/vnd.jupyter.widget-view+json": {
       "model_id": "ba54b0ddfc764a8e9fc413b3f9739242",
       "version_major": 2,
       "version_minor": 0
      },
      "text/plain": [
       "Button(description='删除选中图像', style=ButtonStyle())"
      ]
     },
     "metadata": {},
     "output_type": "display_data"
    }
   ],
   "source": [
    "image_browser.display_images(grid_size=(2,3),img_disp_size=(150,150))"
   ]
  },
  {
   "cell_type": "markdown",
   "metadata": {},
   "source": [
    "## 训练模型\n",
    "运行下面的代码，点击训练模型按键，开始训练"
   ]
  },
  {
   "cell_type": "code",
   "execution_count": 9,
   "metadata": {
    "scrolled": true
   },
   "outputs": [
    {
     "data": {
      "application/vnd.jupyter.widget-view+json": {
       "model_id": "401a1326686a4662b248211d26595421",
       "version_major": 2,
       "version_minor": 0
      },
      "text/plain": [
       "VBox(children=(Checkbox(value=True, description='高级选项', indent=False), Dropdown(description='训练模型选择', options=…"
      ]
     },
     "metadata": {},
     "output_type": "display_data"
    },
    {
     "data": {
      "application/vnd.jupyter.widget-view+json": {
       "model_id": "3ec64e5d0ba74d6b8862dfb042b77b10",
       "version_major": 2,
       "version_minor": 0
      },
      "text/plain": [
       "VBox(children=(Button(description='训练模型', style=ButtonStyle()),))"
      ]
     },
     "metadata": {},
     "output_type": "display_data"
    },
    {
     "name": "stdout",
     "output_type": "stream",
     "text": [
      "Found 3306 images belonging to 5 classes.\n",
      "Found 364 images belonging to 5 classes.\n",
      "开始模型训练。。。\n",
      "使用的模型为mobilenetv2（适用于移动端模型）\n",
      "WARNING:tensorflow:sample_weight modes were coerced from\n",
      "  ...\n",
      "    to  \n",
      "  ['...']\n",
      "WARNING:tensorflow:sample_weight modes were coerced from\n",
      "  ...\n",
      "    to  \n",
      "  ['...']\n",
      "Train for 827 steps, validate for 91 steps\n",
      "Epoch 1/2\n",
      "827/827 [==============================] - 27s 33ms/step - loss: 1.5964 - acc: 0.4501 - val_loss: 1.3527 - val_acc: 0.5247\n",
      "Epoch 2/2\n",
      "827/827 [==============================] - 24s 29ms/step - loss: 0.7557 - acc: 0.7272 - val_loss: 1.0991 - val_acc: 0.6236\n",
      "训练结束,标签已更新\n",
      "{'loss': [1.5961424716434476, 0.755775569454151], 'acc': [0.45009074, 0.7271627], 'val_loss': [1.3526976115510359, 1.0991257021797227], 'val_acc': [0.52472526, 0.62362635]}\n"
     ]
    },
    {
     "data": {
      "image/png": "[encoded data removed]",
      "text/plain": [
       "<Figure size 576x576 with 2 Axes>"
      ]
     },
     "metadata": {
      "needs_background": "light"
     },
     "output_type": "display_data"
    }
   ],
   "source": [
    "gen_model.do_model_train(image_browser.current_dataset_dir)"
   ]
  },
  {
   "cell_type": "markdown",
   "metadata": {},
   "source": [
    "## 分类预测\n",
    "* 上传一张图片，进行分类测试"
   ]
  },
  {
   "cell_type": "code",
   "execution_count": 8,
   "metadata": {
    "scrolled": true
   },
   "outputs": [
    {
     "data": {
      "application/vnd.jupyter.widget-view+json": {
       "model_id": "fced752941734ec1816b889851daeb36",
       "version_major": 2,
       "version_minor": 0
      },
      "text/plain": [
       "VBox(children=(FileUpload(value={}, accept='image/*', description='上传待识别图像'), Button(description='识别图像', style…"
      ]
     },
     "metadata": {},
     "output_type": "display_data"
    }
   ],
   "source": [
    "classifier.do_classification(gen_model.label_names)"
   ]
  }
 ],
 "metadata": {
  "kernelspec": {
   "display_name": "Python 3",
   "language": "python",
   "name": "python3"
  },
  "language_info": {
   "codemirror_mode": {
    "name": "ipython",
    "version": 3
   },
   "file_extension": ".py",
   "mimetype": "text/x-python",
   "name": "python",
   "nbconvert_exporter": "python",
   "pygments_lexer": "ipython3",
   "version": "3.7.6"
  }
 },
 "nbformat": 4,
 "nbformat_minor": 2
}

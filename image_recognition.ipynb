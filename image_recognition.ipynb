{
 "cells": [
  {
   "cell_type": "markdown",
   "metadata": {},
   "source": [
    "# 深度神经网络图像识别工具\n",
    "- 该工具包主要用于初学者体验深度神经网络，了解机器学习的基本步骤，它基于Tensorflow和keras实现。\n",
    "- 界面交互采用ipywidgets实现，以便将展示在初学者面前的代码最少化，同时它基于Jupyter Notebook实现，有助于需要进一步学习深度学习代码编写的人员熟悉了解Jupyter Notebook的使用。\n",
    "- 它的整个流程包括\n",
    "  1. 准备数据集\n",
    "  1. 训练模型\n",
    "  1. 使用模型（进行分类预测）\n",
    "\n",
    "## 准备工作：\n",
    "\n",
    "运行下面的代码，导入函数库"
   ]
  },
  {
   "cell_type": "code",
   "execution_count": null,
   "metadata": {},
   "outputs": [],
   "source": [
    "import img_ml_toolbox"
   ]
  },
  {
   "cell_type": "markdown",
   "metadata": {},
   "source": [
    "## 准备数据集\n",
    "运行下面的代码，处理用于模型训练的数据集\n",
    "###  <li>加载方式</li>\n",
    "1. 网络下载：输入链接地址(链接为包含zip或gz格式打包的数据集网络下载链接),点击传输按键，下载数据集。下载后选择要解压的文件，点击解压。\n",
    "   - 打包的数据集目录格式\n",
    "     ```\n",
    "        dataset.zip\n",
    "        |\n",
    "        dataset/\n",
    "            |__class1/\n",
    "            |__class2/\n",
    "            .......\n",
    "\n",
    "     ```   \n",
    "1. 搜索引擎爬取：根据输入的关键词，从搜索引擎下载图片生成数据集\n",
    "1. 视频转换：选择或输入一个数据集名称，类别标签、要转换的视频文件和抽取图像的间隔时间，从视频抽取图像生成数据集\n",
    "\n",
    "### <li>检查与清洗数据</li>\n",
    "选择一个用于模型训练的数据集，检查确认数据集中图像的正确性，并做数据清洗"
   ]
  },
  {
   "cell_type": "code",
   "execution_count": null,
   "metadata": {
    "scrolled": false
   },
   "outputs": [],
   "source": [
    "img_ml_toolbox.prepare_data()"
   ]
  },
  {
   "cell_type": "markdown",
   "metadata": {},
   "source": [
    "## 训练模型\n",
    "在准备好训练需要的数据集之后，就可以选择一个神经网络的模型，使用选定的数据集进行训练。\n",
    "\n",
    "运行下面的代码，点击训练模型按键，即可开始训练。\n",
    "\n",
    "点击高级选项，可以选择模型的类型，目前内置了mobilenet以及google最新的EfficientNet\n"
   ]
  },
  {
   "cell_type": "code",
   "execution_count": null,
   "metadata": {
    "scrolled": false
   },
   "outputs": [],
   "source": [
    "img_ml_toolbox.make_model()"
   ]
  },
  {
   "cell_type": "markdown",
   "metadata": {},
   "source": [
    "## 使用模型（进行分类预测）\n",
    "* 上传一张图片，进行分类测试"
   ]
  },
  {
   "cell_type": "code",
   "execution_count": null,
   "metadata": {
    "scrolled": true
   },
   "outputs": [],
   "source": [
    "img_ml_toolbox.predict()"
   ]
  },
  {
   "cell_type": "markdown",
   "metadata": {},
   "source": [
    "<!--<center><a rel=\"license\" href=\"http://creativecommons.org/licenses/by-nc-sa/4.0/\"><img alt=\"知识共享许可协议\" style=\"border-width:0\" src=\"https://i.creativecommons.org/l/by-nc-sa/4.0/88x31.png\" /></a><br />本作品采用<a rel=\"license\" href=\"http://creativecommons.org/licenses/by-nc-sa/4.0/\">知识共享署名-非商业性使用-相同方式共享 4.0 国际许可协议</a>进行许可。</center></-->"
   ]
  },
  {
   "cell_type": "code",
   "execution_count": null,
   "metadata": {},
   "outputs": [],
   "source": []
  }
 ],
 "metadata": {
  "kernelspec": {
   "display_name": "Python 3",
   "language": "python",
   "name": "python3"
  },
  "language_info": {
   "codemirror_mode": {
    "name": "ipython",
    "version": 3
   },
   "file_extension": ".py",
   "mimetype": "text/x-python",
   "name": "python",
   "nbconvert_exporter": "python",
   "pygments_lexer": "ipython3",
   "version": "3.6.9"
  },
  "pycharm": {
   "stem_cell": {
    "cell_type": "raw",
    "metadata": {
     "collapsed": false
    },
    "source": []
   }
  },
  "widgets": {
   "application/vnd.jupyter.widget-state+json": {
    "state": {
     "01263af053544e0a9de0350da2a41bd6": {
      "model_module": "@jupyter-widgets/base",
      "model_module_version": "1.2.0",
      "model_name": "LayoutModel",
      "state": {}
     },
     "039e18c4d33245d59dc4d114d252eb07": {
      "model_module": "@jupyter-widgets/base",
      "model_module_version": "1.2.0",
      "model_name": "LayoutModel",
      "state": {}
     },
     "04bb059e76cd4c798af5e2ab8dd0eef5": {
      "model_module": "@jupyter-widgets/controls",
      "model_module_version": "1.5.0",
      "model_name": "DescriptionStyleModel",
      "state": {
       "description_width": ""
      }
     },
     "05bba99863d649cabd6d53e132aeb5bf": {
      "model_module": "@jupyter-widgets/controls",
      "model_module_version": "1.5.0",
      "model_name": "ButtonModel",
      "state": {
       "description": "解压",
       "layout": "IPY_MODEL_149c6b811d754dcb8be6ba5a6a253929",
       "style": "IPY_MODEL_6b2f3436435841908048ff6e0c89413d"
      }
     },
     "06e5a09bd5634961a2813cd109e2b3f3": {
      "model_module": "@jupyter-widgets/controls",
      "model_module_version": "1.5.0",
      "model_name": "CheckboxModel",
      "state": {
       "disabled": true,
       "layout": "IPY_MODEL_ca1a0710b8ce4250beca94d01500600a",
       "style": "IPY_MODEL_412d92a10d924d57924c562c380e090e",
       "value": false
      }
     },
     "074edab9162048d786e3fa1559f89301": {
      "model_module": "@jupyter-widgets/base",
      "model_module_version": "1.2.0",
      "model_name": "LayoutModel",
      "state": {}
     },
     "0880ced80d64403787313dc2cb528390": {
      "model_module": "@jupyter-widgets/controls",
      "model_module_version": "1.5.0",
      "model_name": "DescriptionStyleModel",
      "state": {
       "description_width": ""
      }
     },
     "08e908db3de24d6f88484db31b081df8": {
      "model_module": "@jupyter-widgets/base",
      "model_module_version": "1.2.0",
      "model_name": "LayoutModel",
      "state": {}
     },
     "0928a3fa6f794db087ae990dfc74e527": {
      "model_module": "@jupyter-widgets/controls",
      "model_module_version": "1.5.0",
      "model_name": "TextModel",
      "state": {
       "description": "类别",
       "layout": "IPY_MODEL_de66ed3f4b814a44ae9311fa77cc2f94",
       "style": "IPY_MODEL_80078ba2abd94cc29cb93337fcc891fe"
      }
     },
     "09b3c807a0fd455797b563d79fa2ea57": {
      "model_module": "@jupyter-widgets/controls",
      "model_module_version": "1.5.0",
      "model_name": "DescriptionStyleModel",
      "state": {
       "description_width": ""
      }
     },
     "0a5c32bce3c748068c1d5d8e9d5e8df6": {
      "model_module": "@jupyter-widgets/controls",
      "model_module_version": "1.5.0",
      "model_name": "CheckboxModel",
      "state": {
       "description": "高级选项",
       "disabled": false,
       "indent": false,
       "layout": "IPY_MODEL_ab02256d9d074c66808f23860a61a3f6",
       "style": "IPY_MODEL_09b3c807a0fd455797b563d79fa2ea57",
       "value": false
      }
     },
     "0b36a012f3164d9295f623fd725936cd": {
      "model_module": "@jupyter-widgets/controls",
      "model_module_version": "1.5.0",
      "model_name": "DescriptionStyleModel",
      "state": {
       "description_width": ""
      }
     },
     "0ba9d69c4378418ca2c053dfea0b4f82": {
      "model_module": "@jupyter-widgets/controls",
      "model_module_version": "1.5.0",
      "model_name": "VBoxModel",
      "state": {
       "children": [
        "IPY_MODEL_e178cee9cc7b440f8241505cfaf1aa3b",
        "IPY_MODEL_c17001b1ed8d4497a8c4655cddf7207d"
       ],
       "layout": "IPY_MODEL_a0eafd9f983f4618a9f3f9232b640631"
      }
     },
     "0bdf1d3fd92a45aa988f74dcefe29db3": {
      "model_module": "@jupyter-widgets/base",
      "model_module_version": "1.2.0",
      "model_name": "LayoutModel",
      "state": {}
     },
     "0cc8bc59d09844258ea35b01d6c15b76": {
      "model_module": "@jupyter-widgets/base",
      "model_module_version": "1.2.0",
      "model_name": "LayoutModel",
      "state": {}
     },
     "0dbe831b49d547bfbcabd72fcdc24b1d": {
      "model_module": "@jupyter-widgets/base",
      "model_module_version": "1.2.0",
      "model_name": "LayoutModel",
      "state": {}
     },
     "0e52ecba096c449da7817725bc9bac36": {
      "model_module": "@jupyter-widgets/controls",
      "model_module_version": "1.5.0",
      "model_name": "LabelModel",
      "state": {
       "layout": "IPY_MODEL_bb43345844e44017a3f7df19077eb82c",
       "style": "IPY_MODEL_a458031f2c3b4635b5f6da954ea568ee"
      }
     },
     "0ebc3dacf9f04cbe856c2be5229d155b": {
      "model_module": "@jupyter-widgets/base",
      "model_module_version": "1.2.0",
      "model_name": "LayoutModel",
      "state": {}
     },
     "0fd35d0063a74eabbef06f1502cb9044": {
      "model_module": "@jupyter-widgets/controls",
      "model_module_version": "1.5.0",
      "model_name": "VBoxModel",
      "state": {
       "children": [
        "IPY_MODEL_def801f686f149d6b262a7e7067ae998",
        "IPY_MODEL_1144e2d6042d416e8a58b58ad86fc41e"
       ],
       "layout": "IPY_MODEL_60b3a0aca2b94ca1acb9c596193ae43d"
      }
     },
     "0fd919b6f5de4b0ab040d5bfdc372fb3": {
      "model_module": "@jupyter-widgets/base",
      "model_module_version": "1.2.0",
      "model_name": "LayoutModel",
      "state": {}
     },
     "10e880c954ce41dcbf814334c562a77a": {
      "model_module": "@jupyter-widgets/controls",
      "model_module_version": "1.5.0",
      "model_name": "DescriptionStyleModel",
      "state": {
       "description_width": ""
      }
     },
     "1144e2d6042d416e8a58b58ad86fc41e": {
      "buffers": [
       {
        "data": "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",
        "encoding": "base64",
        "path": [
         "value"
        ]
       }
      ],
      "model_module": "@jupyter-widgets/controls",
      "model_module_version": "1.5.0",
      "model_name": "ImageModel",
      "state": {
       "height": "150",
       "layout": "IPY_MODEL_b78b61c80081405389c561c20a2903da",
       "value": {},
       "width": "150"
      }
     },
     "132df8398048483f973ca428c488d83f": {
      "model_module": "@jupyter-widgets/base",
      "model_module_version": "1.2.0",
      "model_name": "LayoutModel",
      "state": {}
     },
     "145083901a744bcdb5d5bcaf3e88941e": {
      "buffers": [
       {
        "data": "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",
        "encoding": "base64",
        "path": [
         "value"
        ]
       }
      ],
      "model_module": "@jupyter-widgets/controls",
      "model_module_version": "1.5.0",
      "model_name": "ImageModel",
      "state": {
       "height": "150",
       "layout": "IPY_MODEL_cc2c01928e0848cc95bb04e2fe21bbad",
       "value": {},
       "width": "150"
      }
     },
     "149c6b811d754dcb8be6ba5a6a253929": {
      "model_module": "@jupyter-widgets/base",
      "model_module_version": "1.2.0",
      "model_name": "LayoutModel",
      "state": {}
     },
     "17eac0bb8d7249f4b52f69a28adc3162": {
      "model_module": "@jupyter-widgets/base",
      "model_module_version": "1.2.0",
      "model_name": "LayoutModel",
      "state": {}
     },
     "1893df2b6ebe47f680153e1acb733b0f": {
      "model_module": "@jupyter-widgets/controls",
      "model_module_version": "1.5.0",
      "model_name": "DescriptionStyleModel",
      "state": {
       "description_width": ""
      }
     },
     "1a05f5ae1dab4075af9692c313a26299": {
      "model_module": "@jupyter-widgets/controls",
      "model_module_version": "1.5.0",
      "model_name": "DescriptionStyleModel",
      "state": {
       "description_width": ""
      }
     },
     "1ad9f5bd0a3a4baca39e759a225949b4": {
      "model_module": "@jupyter-widgets/controls",
      "model_module_version": "1.5.0",
      "model_name": "DescriptionStyleModel",
      "state": {
       "description_width": ""
      }
     },
     "1b064d3644964a62a7ced1248d2c39bb": {
      "model_module": "@jupyter-widgets/controls",
      "model_module_version": "1.5.0",
      "model_name": "ButtonModel",
      "state": {
       "description": "删除选中图像",
       "disabled": true,
       "layout": "IPY_MODEL_8075d9dbbf104742ac6a186ec13252e1",
       "style": "IPY_MODEL_48470516bd2044a28a5403377c97df56"
      }
     },
     "1c2d6a4d3e6f41369adb05842eafc1fc": {
      "model_module": "@jupyter-widgets/base",
      "model_module_version": "1.2.0",
      "model_name": "LayoutModel",
      "state": {}
     },
     "1e164ac3d49540e7b947066c5d7f8279": {
      "model_module": "@jupyter-widgets/controls",
      "model_module_version": "1.5.0",
      "model_name": "DescriptionStyleModel",
      "state": {
       "description_width": ""
      }
     },
     "1f71bf17381f47c9810ce63842bfaee6": {
      "model_module": "@jupyter-widgets/controls",
      "model_module_version": "1.5.0",
      "model_name": "CheckboxModel",
      "state": {
       "disabled": false,
       "layout": "IPY_MODEL_55ac1e827a8145b2b3fc2896519b4bd6",
       "style": "IPY_MODEL_e1302cd6fff346c78eeec09309191abf",
       "value": false
      }
     },
     "20e8c455f27f4c9b8db68141000e2f1a": {
      "model_module": "@jupyter-widgets/controls",
      "model_module_version": "1.5.0",
      "model_name": "ButtonModel",
      "state": {
       "description": "识别图像",
       "layout": "IPY_MODEL_7545cde59b1145109d13301a49e72eb9",
       "style": "IPY_MODEL_9cf1f56134684c2e9048fef613b4eb89"
      }
     },
     "21f5bfcc431448c4a063e89f77613e25": {
      "model_module": "@jupyter-widgets/controls",
      "model_module_version": "1.5.0",
      "model_name": "ButtonModel",
      "state": {
       "description": "下一页",
       "layout": "IPY_MODEL_27ff4cf0c9a944f88278e58cfad36189",
       "style": "IPY_MODEL_42c6b45313a54c3ca1f7500471d4fcd9"
      }
     },
     "2243e887734b4381b4a7864bb43b8095": {
      "model_module": "@jupyter-widgets/base",
      "model_module_version": "1.2.0",
      "model_name": "LayoutModel",
      "state": {
       "border": "1px solid black",
       "height": "320px"
      }
     },
     "2281a813b94b4afaa62e478f80594c1b": {
      "model_module": "@jupyter-widgets/controls",
      "model_module_version": "1.5.0",
      "model_name": "LabelModel",
      "state": {
       "layout": "IPY_MODEL_5ad32addfc1b4d10a21b725284a24835",
       "style": "IPY_MODEL_d6dfa164a838405ab31e89e87be271a8"
      }
     },
     "22ed876788894c1c970744b94ea312ce": {
      "model_module": "@jupyter-widgets/controls",
      "model_module_version": "1.5.0",
      "model_name": "FloatTextModel",
      "state": {
       "description": "水平偏移幅度",
       "layout": "IPY_MODEL_34379da1979542c1bcb16b1d131fbc49",
       "step": null,
       "style": "IPY_MODEL_43032bb515984d7ea99a8d24e98c5420",
       "value": 0.15
      }
     },
     "2529eae8d7154b53a0540a02c2835b12": {
      "model_module": "@jupyter-widgets/controls",
      "model_module_version": "1.5.0",
      "model_name": "DescriptionStyleModel",
      "state": {
       "description_width": ""
      }
     },
     "27926d77fe4941e999de661dc8e64510": {
      "buffers": [
       {
        "data": "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",
        "encoding": "base64",
        "path": [
         "value"
        ]
       }
      ],
      "model_module": "@jupyter-widgets/controls",
      "model_module_version": "1.5.0",
      "model_name": "ImageModel",
      "state": {
       "height": "150",
       "layout": "IPY_MODEL_33d581ab0f364db0acee62385fc20312",
       "value": {},
       "width": "150"
      }
     },
     "27e1b1cdbb804f46b0520c9367e9185f": {
      "model_module": "@jupyter-widgets/controls",
      "model_module_version": "1.5.0",
      "model_name": "VBoxModel",
      "state": {
       "children": [
        "IPY_MODEL_489475dab4634264b30c85a3e20aee3a",
        "IPY_MODEL_5a7d896864fa4527a42ee3fd2c20007f"
       ],
       "layout": "IPY_MODEL_95006ba6aa054e0c98ca2d5ea40a2524"
      }
     },
     "27ff4cf0c9a944f88278e58cfad36189": {
      "model_module": "@jupyter-widgets/base",
      "model_module_version": "1.2.0",
      "model_name": "LayoutModel",
      "state": {}
     },
     "298d892385624a989546ee10a3906b27": {
      "model_module": "@jupyter-widgets/controls",
      "model_module_version": "1.5.0",
      "model_name": "ImageModel",
      "state": {
       "height": "150",
       "layout": "IPY_MODEL_5d7c05530ebb443694fdab3ae2482923",
       "width": "150"
      }
     },
     "2af1d4402e35498ca4c676d3b15204e0": {
      "model_module": "@jupyter-widgets/controls",
      "model_module_version": "1.5.0",
      "model_name": "GridBoxModel",
      "state": {
       "children": [
        "IPY_MODEL_0ba9d69c4378418ca2c053dfea0b4f82",
        "IPY_MODEL_5fe7deb1c8e1484584429d044a914113",
        "IPY_MODEL_a3d2e07ff328491abb0553c77eff34e8",
        "IPY_MODEL_9550945be02a4ba39c2edd30c0c1dadb",
        "IPY_MODEL_7300a1606f6f4f618ae3ec7f6c6dbe76",
        "IPY_MODEL_5eacba4be83a4334941a9961f3c03c04"
       ],
       "layout": "IPY_MODEL_e3ca35b8cffb481489f0eff5781aa527"
      }
     },
     "2b20367a53154bddbc88ceeb3535802f": {
      "model_module": "@jupyter-widgets/controls",
      "model_module_version": "1.5.0",
      "model_name": "TextModel",
      "state": {
       "description": "文件名",
       "layout": "IPY_MODEL_6db2ca0e649b444c86d7abd59bdf10a3",
       "style": "IPY_MODEL_579246fc05d449b88b855b0d40ae8799",
       "value": "dataset.zip"
      }
     },
     "2b6e64c453b94ed289d8dc0d4eca16c9": {
      "model_module": "@jupyter-widgets/controls",
      "model_module_version": "1.5.0",
      "model_name": "CheckboxModel",
      "state": {
       "disabled": true,
       "layout": "IPY_MODEL_fcb5122c8571488787c6f00d6774e045",
       "style": "IPY_MODEL_680dc8fec7a84c5781d5ee56b10e5505",
       "value": false
      }
     },
     "2d4655f809584e5d9d1a03ae21927956": {
      "model_module": "@jupyter-widgets/controls",
      "model_module_version": "1.5.0",
      "model_name": "DescriptionStyleModel",
      "state": {
       "description_width": ""
      }
     },
     "32adf9f2887944389ad3a5efbf4467e3": {
      "model_module": "@jupyter-widgets/controls",
      "model_module_version": "1.5.0",
      "model_name": "VBoxModel",
      "state": {
       "children": [
        "IPY_MODEL_d0740c120aa747d685d4e7e8a6700449",
        "IPY_MODEL_2b20367a53154bddbc88ceeb3535802f",
        "IPY_MODEL_bb02ef1e1ba9425ca9931f1b6ae30a0f"
       ],
       "layout": "IPY_MODEL_829973e695704a37804a5ed9cb116e19"
      }
     },
     "32ce0de0e7af4382866cd2dcd6aca5d5": {
      "model_module": "@jupyter-widgets/controls",
      "model_module_version": "1.5.0",
      "model_name": "BoxModel",
      "state": {
       "children": [
        "IPY_MODEL_bc258ab17e6f4b20b8e18df5732f4dec",
        "IPY_MODEL_4999645047734ccb8ce62dc8a4a712fb"
       ],
       "layout": "IPY_MODEL_dc98df362c7141769d1718a3896939c7"
      }
     },
     "338d6ca035dd4bf1b876c922d8f88e3e": {
      "model_module": "@jupyter-widgets/base",
      "model_module_version": "1.2.0",
      "model_name": "LayoutModel",
      "state": {}
     },
     "33d581ab0f364db0acee62385fc20312": {
      "model_module": "@jupyter-widgets/base",
      "model_module_version": "1.2.0",
      "model_name": "LayoutModel",
      "state": {}
     },
     "34379da1979542c1bcb16b1d131fbc49": {
      "model_module": "@jupyter-widgets/base",
      "model_module_version": "1.2.0",
      "model_name": "LayoutModel",
      "state": {}
     },
     "34d663a2e18447c38c0ede5bd0eb73ba": {
      "model_module": "@jupyter-widgets/controls",
      "model_module_version": "1.5.0",
      "model_name": "VBoxModel",
      "state": {
       "children": [
        "IPY_MODEL_f907630a93934bab8a4447c43ee24e45",
        "IPY_MODEL_0928a3fa6f794db087ae990dfc74e527",
        "IPY_MODEL_ade0b4da27a34007bd3586a5d7806653",
        "IPY_MODEL_fb1bed6afd6a4332bf40bdaf838bb58f",
        "IPY_MODEL_b7fb834c642641178ea0398754df92ec"
       ],
       "layout": "IPY_MODEL_68ee1cb5fa4d4cf180f8c94436b54446"
      }
     },
     "35e5d272a758405f9a3ee4b4a42115a5": {
      "model_module": "@jupyter-widgets/controls",
      "model_module_version": "1.5.0",
      "model_name": "DescriptionStyleModel",
      "state": {
       "description_width": ""
      }
     },
     "39a87215a84c4d2e867c7d9af8fa144f": {
      "model_module": "@jupyter-widgets/controls",
      "model_module_version": "1.5.0",
      "model_name": "ButtonModel",
      "state": {
       "description": "下一页",
       "disabled": true,
       "layout": "IPY_MODEL_132df8398048483f973ca428c488d83f",
       "style": "IPY_MODEL_da4317fcc6d240f98cde3d8a6d7223d8"
      }
     },
     "39dbdb88477544b19b2e7123555536bd": {
      "model_module": "@jupyter-widgets/controls",
      "model_module_version": "1.5.0",
      "model_name": "DescriptionStyleModel",
      "state": {
       "description_width": ""
      }
     },
     "3b4d14e8c7024319bb9f0692654d0bb0": {
      "model_module": "@jupyter-widgets/base",
      "model_module_version": "1.2.0",
      "model_name": "LayoutModel",
      "state": {}
     },
     "3d56dd2644ea454f84c968d007cd8ecc": {
      "model_module": "@jupyter-widgets/controls",
      "model_module_version": "1.5.0",
      "model_name": "ButtonStyleModel",
      "state": {}
     },
     "3dbaa58dd8164da4979b4680c951d975": {
      "model_module": "@jupyter-widgets/base",
      "model_module_version": "1.2.0",
      "model_name": "LayoutModel",
      "state": {}
     },
     "3e750bea3464454eba57cc889ec4b15e": {
      "model_module": "@jupyter-widgets/controls",
      "model_module_version": "1.5.0",
      "model_name": "CheckboxModel",
      "state": {
       "disabled": false,
       "layout": "IPY_MODEL_5900bd82a4e74e7393523f941f30c48d",
       "style": "IPY_MODEL_1e164ac3d49540e7b947066c5d7f8279",
       "value": false
      }
     },
     "3eb723e85775447da56c2e89e272bb1d": {
      "model_module": "@jupyter-widgets/base",
      "model_module_version": "1.2.0",
      "model_name": "LayoutModel",
      "state": {
       "grid_area": "widget003"
      }
     },
     "40315c9cc2924a758245cb64f42dbe30": {
      "model_module": "@jupyter-widgets/base",
      "model_module_version": "1.2.0",
      "model_name": "LayoutModel",
      "state": {
       "grid_template_areas": "\"widget030 widget031 widget032\"\n\"widget033 widget034 widget035\"",
       "grid_template_columns": "repeat(3, 1fr)",
       "grid_template_rows": "repeat(2, 1fr)"
      }
     },
     "412d92a10d924d57924c562c380e090e": {
      "model_module": "@jupyter-widgets/controls",
      "model_module_version": "1.5.0",
      "model_name": "DescriptionStyleModel",
      "state": {
       "description_width": ""
      }
     },
     "4216dcceb928413ca81df744dd37a6b3": {
      "model_module": "@jupyter-widgets/base",
      "model_module_version": "1.2.0",
      "model_name": "LayoutModel",
      "state": {}
     },
     "42c6b45313a54c3ca1f7500471d4fcd9": {
      "model_module": "@jupyter-widgets/controls",
      "model_module_version": "1.5.0",
      "model_name": "ButtonStyleModel",
      "state": {}
     },
     "43032bb515984d7ea99a8d24e98c5420": {
      "model_module": "@jupyter-widgets/controls",
      "model_module_version": "1.5.0",
      "model_name": "DescriptionStyleModel",
      "state": {
       "description_width": ""
      }
     },
     "43969aea1dd84ce5b568d61caf76e70b": {
      "model_module": "@jupyter-widgets/base",
      "model_module_version": "1.2.0",
      "model_name": "LayoutModel",
      "state": {
       "grid_area": "widget031"
      }
     },
     "4501128b031f4c6b94d53dd11475d875": {
      "model_module": "@jupyter-widgets/output",
      "model_module_version": "1.0.0",
      "model_name": "OutputModel",
      "state": {
       "layout": "IPY_MODEL_2243e887734b4381b4a7864bb43b8095",
       "outputs": [
        {
         "data": {
          "application/vnd.jupyter.widget-view+json": {
           "model_id": "5b81e16b6b9e49d1b1ef73efcb6a6cba",
           "version_major": 2,
           "version_minor": 0
          },
          "text/plain": "RadioButtons(description='数据准备方式', options=('网络下载', '搜索引擎爬取', '视频转换'), value='网络下载')"
         },
         "metadata": {},
         "output_type": "display_data"
        },
        {
         "name": "stdout",
         "output_type": "stream",
         "text": "请输入下载链接，和要保存的文件名，点击“传输”按键将网盘上的zip传输到服务器\n"
        },
        {
         "data": {
          "application/vnd.jupyter.widget-view+json": {
           "model_id": "a9d38c41648e44f8883a39efb93cf0f5",
           "version_major": 2,
           "version_minor": 0
          },
          "text/plain": "VBox(children=(Text(value='', description='链接'), Text(value='dataset.zip', description='文件名'), Button(descript…"
         },
         "metadata": {},
         "output_type": "display_data"
        },
        {
         "name": "stdout",
         "output_type": "stream",
         "text": "请选择要解压的zip文件，点击“解压”按键将zip文件解压，点击“刷新”按键更新zip文件列表\n"
        },
        {
         "data": {
          "application/vnd.jupyter.widget-view+json": {
           "model_id": "c71d421d28724a82a295c97235d6f68d",
           "version_major": 2,
           "version_minor": 0
          },
          "text/plain": "Box(children=(Dropdown(description='zip文件:', options=('phone.zip', 'dataset1.zip', 'dataset.zip', 'dataset (1)…"
         },
         "metadata": {},
         "output_type": "display_data"
        }
       ]
      }
     },
     "455f70c11e5445989d1aabffa657ef26": {
      "model_module": "@jupyter-widgets/controls",
      "model_module_version": "1.5.0",
      "model_name": "DescriptionStyleModel",
      "state": {
       "description_width": ""
      }
     },
     "45b5019925a247cea4801707301bcb46": {
      "model_module": "@jupyter-widgets/controls",
      "model_module_version": "1.5.0",
      "model_name": "IntTextModel",
      "state": {
       "description": "批尺寸",
       "layout": "IPY_MODEL_786a0aba829b4e648dc71581adfc3cb3",
       "step": 1,
       "style": "IPY_MODEL_39dbdb88477544b19b2e7123555536bd",
       "value": 4
      }
     },
     "46923ca122fd49a3a9b75547548b7cc2": {
      "model_module": "@jupyter-widgets/controls",
      "model_module_version": "1.5.0",
      "model_name": "DescriptionStyleModel",
      "state": {
       "description_width": ""
      }
     },
     "48470516bd2044a28a5403377c97df56": {
      "model_module": "@jupyter-widgets/controls",
      "model_module_version": "1.5.0",
      "model_name": "ButtonStyleModel",
      "state": {}
     },
     "489475dab4634264b30c85a3e20aee3a": {
      "model_module": "@jupyter-widgets/controls",
      "model_module_version": "1.5.0",
      "model_name": "CheckboxModel",
      "state": {
       "disabled": false,
       "layout": "IPY_MODEL_f34f26bc847847759604d0dc501db474",
       "style": "IPY_MODEL_d2fcfdf223b847a8a62dfb963c00a042",
       "value": false
      }
     },
     "4999645047734ccb8ce62dc8a4a712fb": {
      "model_module": "@jupyter-widgets/controls",
      "model_module_version": "1.5.0",
      "model_name": "ButtonModel",
      "state": {
       "description": "刷新",
       "layout": "IPY_MODEL_e5e9b38fd26e43d9ae773d6d8541beec",
       "style": "IPY_MODEL_c1042b0af653481db9db76fd3a921bea"
      }
     },
     "4a24c797efb545f4a2a46c35a0399abf": {
      "model_module": "@jupyter-widgets/base",
      "model_module_version": "1.2.0",
      "model_name": "LayoutModel",
      "state": {}
     },
     "4b964d0728cd4d0ca8f4b639fbfa3fb5": {
      "model_module": "@jupyter-widgets/base",
      "model_module_version": "1.2.0",
      "model_name": "LayoutModel",
      "state": {}
     },
     "4c273f3aeba741bd898b49a27f5f5502": {
      "model_module": "@jupyter-widgets/base",
      "model_module_version": "1.2.0",
      "model_name": "LayoutModel",
      "state": {
       "grid_area": "widget035"
      }
     },
     "4d52923022974430b26e85167a9f0334": {
      "model_module": "@jupyter-widgets/base",
      "model_module_version": "1.2.0",
      "model_name": "LayoutModel",
      "state": {}
     },
     "4d8685cd7819427ea689d0e4a8644260": {
      "model_module": "@jupyter-widgets/output",
      "model_module_version": "1.0.0",
      "model_name": "OutputModel",
      "state": {
       "layout": "IPY_MODEL_a3bc269f11fd4e84b639850fff5f38b3",
       "outputs": [
        {
         "name": "stdout",
         "output_type": "stream",
         "text": "page:1\n"
        },
        {
         "data": {
          "application/vnd.jupyter.widget-view+json": {
           "model_id": "2af1d4402e35498ca4c676d3b15204e0",
           "version_major": 2,
           "version_minor": 0
          },
          "text/plain": "GridspecLayout(children=(VBox(children=(Checkbox(value=False, disabled=True), Image(value=b'', height='150', w…"
         },
         "metadata": {},
         "output_type": "display_data"
        }
       ]
      }
     },
     "4e57449953a84b86982fbf975d56b24b": {
      "model_module": "@jupyter-widgets/controls",
      "model_module_version": "1.5.0",
      "model_name": "BoxModel",
      "state": {
       "children": [
        "IPY_MODEL_aeef8da604544eed929b89d836251ecf",
        "IPY_MODEL_b42fd29491ca4fe28c86b8b32f8791f3"
       ],
       "layout": "IPY_MODEL_c4b3ded3df9e416c90a7c490cff9853c"
      }
     },
     "4ee79153fcd143eb8654775dcfdae870": {
      "model_module": "@jupyter-widgets/base",
      "model_module_version": "1.2.0",
      "model_name": "LayoutModel",
      "state": {
       "grid_area": "widget004"
      }
     },
     "4f794af2c75848759a82e33219964555": {
      "model_module": "@jupyter-widgets/controls",
      "model_module_version": "1.5.0",
      "model_name": "DropdownModel",
      "state": {
       "_options_labels": [
        "phone.zip",
        "dataset1.zip",
        "dataset.zip",
        "dataset (1).zip",
        "flower_photos.tgz"
       ],
       "description": "zip文件:",
       "index": 0,
       "layout": "IPY_MODEL_6ffabf6f51874ff387be7a9c797991ac",
       "style": "IPY_MODEL_7ed46a5351674552ac3e2558381ddea5"
      }
     },
     "51e43372263e498c957fee7a49c6c826": {
      "model_module": "@jupyter-widgets/controls",
      "model_module_version": "1.5.0",
      "model_name": "DescriptionStyleModel",
      "state": {
       "description_width": ""
      }
     },
     "51f64dc4a0fe45b09aad9ba0b57d2f9d": {
      "model_module": "@jupyter-widgets/controls",
      "model_module_version": "1.5.0",
      "model_name": "LabelModel",
      "state": {
       "layout": "IPY_MODEL_338d6ca035dd4bf1b876c922d8f88e3e",
       "style": "IPY_MODEL_0b36a012f3164d9295f623fd725936cd"
      }
     },
     "54fe53e3eabb4c4a981d0e2761f0befc": {
      "model_module": "@jupyter-widgets/controls",
      "model_module_version": "1.5.0",
      "model_name": "DropdownModel",
      "state": {
       "_options_labels": [
        "mobilenetv2",
        "efficientnet-lite0",
        "efficientnet-lite1",
        "efficientnet-lite2",
        "efficientnet-lite3",
        "efficientnet-lite4"
       ],
       "description": "训练模型选择",
       "index": 0,
       "layout": "IPY_MODEL_be268ca4ff2447b98dac06d39f921168",
       "style": "IPY_MODEL_7c4c5664908b49d1af9fbdfb3c98588f"
      }
     },
     "55a1ab1facea4944aafbcf9ca29d1766": {
      "model_module": "@jupyter-widgets/controls",
      "model_module_version": "1.5.0",
      "model_name": "LabelModel",
      "state": {
       "layout": "IPY_MODEL_ece7c82974d147d08719a3da5d271a94",
       "style": "IPY_MODEL_04bb059e76cd4c798af5e2ab8dd0eef5",
       "value": "10294487385_92a0676c7d_m.jpg"
      }
     },
     "55ac1e827a8145b2b3fc2896519b4bd6": {
      "model_module": "@jupyter-widgets/base",
      "model_module_version": "1.2.0",
      "model_name": "LayoutModel",
      "state": {}
     },
     "55fc621726a140bb8fd8dc863ce48052": {
      "model_module": "@jupyter-widgets/base",
      "model_module_version": "1.2.0",
      "model_name": "LayoutModel",
      "state": {}
     },
     "579246fc05d449b88b855b0d40ae8799": {
      "model_module": "@jupyter-widgets/controls",
      "model_module_version": "1.5.0",
      "model_name": "DescriptionStyleModel",
      "state": {
       "description_width": ""
      }
     },
     "5900bd82a4e74e7393523f941f30c48d": {
      "model_module": "@jupyter-widgets/base",
      "model_module_version": "1.2.0",
      "model_name": "LayoutModel",
      "state": {}
     },
     "5956f371b0034ff28fbf37e855ffbdbd": {
      "model_module": "@jupyter-widgets/controls",
      "model_module_version": "1.5.0",
      "model_name": "ButtonStyleModel",
      "state": {}
     },
     "5a7d896864fa4527a42ee3fd2c20007f": {
      "buffers": [
       {
        "data": "/9j/4AAQSkZJRgABAQEBLAEsAAD/4gxYSUNDX1BST0ZJTEUAAQEAAAxITGlubwIQAABtbnRyUkdCIFhZWiAHzgACAAkABgAxAABhY3NwTVNGVAAAAABJRUMgc1JHQgAAAAAAAAAAAAAAAAAA9tYAAQAAAADTLUhQICAAAAAAAAAAAAAAAAAAAAAAAAAAAAAAAAAAAAAAAAAAAAAAAAAAAAAAAAAAAAAAABFjcHJ0AAABUAAAADNkZXNjAAABhAAAAGx3dHB0AAAB8AAAABRia3B0AAACBAAAABRyWFlaAAACGAAAABRnWFlaAAACLAAAABRiWFlaAAACQAAAABRkbW5kAAACVAAAAHBkbWRkAAACxAAAAIh2dWVkAAADTAAAAIZ2aWV3AAAD1AAAACRsdW1pAAAD+AAAABRtZWFzAAAEDAAAACR0ZWNoAAAEMAAAAAxyVFJDAAAEPAAACAxnVFJDAAAEPAAACAxiVFJDAAAEPAAACAx0ZXh0AAAAAENvcHlyaWdodCAoYykgMTk5OCBIZXdsZXR0LVBhY2thcmQgQ29tcGFueQAAZGVzYwAAAAAAAAASc1JHQiBJRUM2MTk2Ni0yLjEAAAAAAAAAAAAAABJzUkdCIElFQzYxOTY2LTIuMQAAAAAAAAAAAAAAAAAAAAAAAAAAAAAAAAAAAAAAAAAAAAAAAAAAAAAAAAAAAAAAAAAAWFlaIAAAAAAAAPNRAAEAAAABFsxYWVogAAAAAAAAAAAAAAAAAAAAAFhZWiAAAAAAAABvogAAOPUAAAOQWFlaIAAAAAAAAGKZAAC3hQAAGNpYWVogAAAAAAAAJKAAAA+EAAC2z2Rlc2MAAAAAAAAAFklFQyBodHRwOi8vd3d3LmllYy5jaAAAAAAAAAAAAAAAFklFQyBodHRwOi8vd3d3LmllYy5jaAAAAAAAAAAAAAAAAAAAAAAAAAAAAAAAAAAAAAAAAAAAAAAAAAAAAAAAAAAAAABkZXNjAAAAAAAAAC5JRUMgNjE5NjYtMi4xIERlZmF1bHQgUkdCIGNvbG91ciBzcGFjZSAtIHNSR0IAAAAAAAAAAAAAAC5JRUMgNjE5NjYtMi4xIERlZmF1bHQgUkdCIGNvbG91ciBzcGFjZSAtIHNSR0IAAAAAAAAAAAAAAAAAAAAAAAAAAAAAZGVzYwAAAAAAAAAsUmVmZXJlbmNlIFZpZXdpbmcgQ29uZGl0aW9uIGluIElFQzYxOTY2LTIuMQAAAAAAAAAAAAAALFJlZmVyZW5jZSBWaWV3aW5nIENvbmRpdGlvbiBpbiBJRUM2MTk2Ni0yLjEAAAAAAAAAAAAAAAAAAAAAAAAAAAAAAAAAAHZpZXcAAAAAABOk/gAUXy4AEM8UAAPtzAAEEwsAA1yeAAAAAVhZWiAAAAAAAEwJVgBQAAAAVx/nbWVhcwAAAAAAAAABAAAAAAAAAAAAAAAAAAAAAAAAAo8AAAACc2lnIAAAAABDUlQgY3VydgAAAAAAAAQAAAAABQAKAA8AFAAZAB4AIwAoAC0AMgA3ADsAQABFAEoATwBUAFkAXgBjAGgAbQByAHcAfACBAIYAiwCQAJUAmgCfAKQAqQCuALIAtwC8AMEAxgDLANAA1QDbAOAA5QDrAPAA9gD7AQEBBwENARMBGQEfASUBKwEyATgBPgFFAUwBUgFZAWABZwFuAXUBfAGDAYsBkgGaAaEBqQGxAbkBwQHJAdEB2QHhAekB8gH6AgMCDAIUAh0CJgIvAjgCQQJLAlQCXQJnAnECegKEAo4CmAKiAqwCtgLBAssC1QLgAusC9QMAAwsDFgMhAy0DOANDA08DWgNmA3IDfgOKA5YDogOuA7oDxwPTA+AD7AP5BAYEEwQgBC0EOwRIBFUEYwRxBH4EjASaBKgEtgTEBNME4QTwBP4FDQUcBSsFOgVJBVgFZwV3BYYFlgWmBbUFxQXVBeUF9gYGBhYGJwY3BkgGWQZqBnsGjAadBq8GwAbRBuMG9QcHBxkHKwc9B08HYQd0B4YHmQesB78H0gflB/gICwgfCDIIRghaCG4IggiWCKoIvgjSCOcI+wkQCSUJOglPCWQJeQmPCaQJugnPCeUJ+woRCicKPQpUCmoKgQqYCq4KxQrcCvMLCwsiCzkLUQtpC4ALmAuwC8gL4Qv5DBIMKgxDDFwMdQyODKcMwAzZDPMNDQ0mDUANWg10DY4NqQ3DDd4N+A4TDi4OSQ5kDn8Omw62DtIO7g8JDyUPQQ9eD3oPlg+zD88P7BAJECYQQxBhEH4QmxC5ENcQ9RETETERTxFtEYwRqhHJEegSBxImEkUSZBKEEqMSwxLjEwMTIxNDE2MTgxOkE8UT5RQGFCcUSRRqFIsUrRTOFPAVEhU0FVYVeBWbFb0V4BYDFiYWSRZsFo8WshbWFvoXHRdBF2UXiReuF9IX9xgbGEAYZRiKGK8Y1Rj6GSAZRRlrGZEZtxndGgQaKhpRGncanhrFGuwbFBs7G2MbihuyG9ocAhwqHFIcexyjHMwc9R0eHUcdcB2ZHcMd7B4WHkAeah6UHr4e6R8THz4faR+UH78f6iAVIEEgbCCYIMQg8CEcIUghdSGhIc4h+yInIlUigiKvIt0jCiM4I2YjlCPCI/AkHyRNJHwkqyTaJQklOCVoJZclxyX3JicmVyaHJrcm6CcYJ0kneierJ9woDSg/KHEooijUKQYpOClrKZ0p0CoCKjUqaCqbKs8rAis2K2krnSvRLAUsOSxuLKIs1y0MLUEtdi2rLeEuFi5MLoIuty7uLyQvWi+RL8cv/jA1MGwwpDDbMRIxSjGCMbox8jIqMmMymzLUMw0zRjN/M7gz8TQrNGU0njTYNRM1TTWHNcI1/TY3NnI2rjbpNyQ3YDecN9c4FDhQOIw4yDkFOUI5fzm8Ofk6Njp0OrI67zstO2s7qjvoPCc8ZTykPOM9Ij1hPaE94D4gPmA+oD7gPyE/YT+iP+JAI0BkQKZA50EpQWpBrEHuQjBCckK1QvdDOkN9Q8BEA0RHRIpEzkUSRVVFmkXeRiJGZ0arRvBHNUd7R8BIBUhLSJFI10kdSWNJqUnwSjdKfUrESwxLU0uaS+JMKkxyTLpNAk1KTZNN3E4lTm5Ot08AT0lPk0/dUCdQcVC7UQZRUFGbUeZSMVJ8UsdTE1NfU6pT9lRCVI9U21UoVXVVwlYPVlxWqVb3V0RXklfgWC9YfVjLWRpZaVm4WgdaVlqmWvVbRVuVW+VcNVyGXNZdJ114XcleGl5sXr1fD19hX7NgBWBXYKpg/GFPYaJh9WJJYpxi8GNDY5dj62RAZJRk6WU9ZZJl52Y9ZpJm6Gc9Z5Nn6Wg/aJZo7GlDaZpp8WpIap9q92tPa6dr/2xXbK9tCG1gbbluEm5rbsRvHm94b9FwK3CGcOBxOnGVcfByS3KmcwFzXXO4dBR0cHTMdSh1hXXhdj52m3b4d1Z3s3gReG54zHkqeYl553pGeqV7BHtje8J8IXyBfOF9QX2hfgF+Yn7CfyN/hH/lgEeAqIEKgWuBzYIwgpKC9INXg7qEHYSAhOOFR4Wrhg6GcobXhzuHn4gEiGmIzokziZmJ/opkisqLMIuWi/yMY4zKjTGNmI3/jmaOzo82j56QBpBukNaRP5GokhGSepLjk02TtpQglIqU9JVflcmWNJaflwqXdZfgmEyYuJkkmZCZ/JpomtWbQpuvnByciZz3nWSd0p5Anq6fHZ+Ln/qgaaDYoUehtqImopajBqN2o+akVqTHpTilqaYapoum/adup+CoUqjEqTepqaocqo+rAqt1q+msXKzQrUStuK4trqGvFq+LsACwdbDqsWCx1rJLssKzOLOutCW0nLUTtYq2AbZ5tvC3aLfguFm40blKucK6O7q1uy67p7whvJu9Fb2Pvgq+hL7/v3q/9cBwwOzBZ8Hjwl/C28NYw9TEUcTOxUvFyMZGxsPHQce/yD3IvMk6ybnKOMq3yzbLtsw1zLXNNc21zjbOts83z7jQOdC60TzRvtI/0sHTRNPG1EnUy9VO1dHWVdbY11zX4Nhk2OjZbNnx2nba+9uA3AXcit0Q3ZbeHN6i3ynfr+A24L3hROHM4lPi2+Nj4+vkc+T85YTmDeaW5x/nqegy6LzpRunQ6lvq5etw6/vshu0R7ZzuKO6070DvzPBY8OXxcvH/8ozzGfOn9DT0wvVQ9d72bfb794r4Gfio+Tj5x/pX+uf7d/wH/Jj9Kf26/kv+3P9t////2wBDAAEBAQEBAQEBAQEBAQECAgMCAgICAgQDAwIDBQQFBQUEBAQFBgcGBQUHBgQEBgkGBwgICAgIBQYJCgkICgcICAj/2wBDAQEBAQICAgQCAgQIBQQFCAgICAgICAgICAgICAgICAgICAgICAgICAgICAgICAgICAgICAgICAgICAgICAgICAj/wAARCAFTAfQDAREAAhEBAxEB/8QAHgAAAwADAQEBAQEAAAAAAAAABgcIBAUJAwIBAAr/xABIEAABAwMDAgQDBAkCBAQGAgMBAgMEBQYRABIhBzETIkFRFGFxCDKBkRUjQlKhscHR8BbhJDNi8RdDU4IJJTRykqJjwjWDsv/EABwBAAMBAQEBAQEAAAAAAAAAAAQFBgMCBwEACP/EAEURAAEDAwIDBQYFAwMEAAYBBQECAxEABCESMQVBUQYTImFxMoGRobHwFCNCwdFS4fEVM2IHJHKCQ1OSorLCNGMWJeKD/9oADAMBAAIRAxEAPwD/ABABSvDx8udedFIBpOteK9EvL5yRkHXJbG9Y95nNY8paghSsELPY61ZAmKwK/jQo+QpRHpydN2sZriv6Oype0BIBHz1+ecxX6iqmQ3krG0Aq7AenrpTdPJiDWzaDuKYdMppdSPEbCsdyB21MXd0BsaLb2BVRlFoIdQk7QpXPGBnSN3iMGtJNb6NRHWFApC0jgduD8tBLudYrMuCmhb1JW6tCkpUAeTxnGv1uMjegbhYIg1XVhQn/AIdpOxXYfgNUzLJkKFT4uCEkHzqwLQp7jjbO8EpGPz99NGAEiRWbq1KMjam+KGVNDckEnvx89bqUOVdBCulZ0SjlOClsY49PXXUFW1aJlPpRazTpDbBcbQoZHmH4d9fXWzExWjSiowmgOv1Z6mJKitSEpV+IHyOp67WUnSBRYUoDVyoQTf6FuBlT7ZUcpyCD+GPfSVriWYJMfCtVKgSRmmFQqy5IQja8XGicEA9uO2qm0uEqiDmg+8USetUVZtGFRZStKt6k5OD3H1Hv9NUSVJKJGKHDqgrO1VnalsREUN1TzbYkuJxkgeT+2lN3emdIO1M7a2AGsjPKlZdtMS24/HLKcgh1tWM5I7j66FYeUrA2rRxABk1KV8WxJwqc02soV2wO3GhbuyJAjeuO9jxnakW7SpS3HGpDZEZxWFp/cA/rj89SrjPdq1r2G80TrKhApM9QoU2yqzT6xTVqVDQ424lSTkOtr9c/9JBSfrqP48iAm6ZwN/d09aYW0pJZcyR9z6cj5xVgU6ot3ZaEWTFSt1pbSSkg5yU8kfTGRr0Xg94t5CXAIChseXSlN6oaYG4391IOdbojNSXZDkZhltxKsJJKyM7eR+Kc6T3iA2lQMkjlFY2y1mFYjrNBsBdLoFxMBgBxxa8JO0qJ3J7/AMNIHLx1SwhpJjyGNqOYbbSe8WqY6n72q1rTqjzFFV4cVxhC/C7JwrIQDj89UaA+G9ShjGKNZdSVeHBPX41VFoXpEpkFb8qSnwmUoUVqPKSPQ/xOiXL3u0Ejbp0iuG7bWYUedNWk9VGp8KOtmSUMIJAAIyUkHB/LI0sUQ7mZJ+4pgl0NiE7DypTdSb+TUCoupLdLT5VkjzKwcYHudMkJVbp1OYPKedYXV0H1QQPMj73qLLsulIkSHKEhlDCVlJ7KJI75Og7jia3zCjp9KAShDXRY8/nNaihXe5PcqEKWtSHQAtPJHPY8fhn8dLg88253ajII6UyadZcGoYAryotZ33bISiQwGHEFQ28kqKcH+IGlzfEpdHiMbREfZo9NsAo+H099UVSaqyuO2kyEpKW84I+urFm+SEJlXzpSm31bcqD6hV5KpKAhyPguHIIwdbG7BUYVQugyABRbJrsuNFjsiK0oJQnce2VE9v5/lpmgOIQNK9hzrkOII2z/AHrFh3PJlSUxmYyvDBxwrjv3z7awZfdLhMj51y4UgAAU6qVd7FHTGQ8+gv4Ch659yf4fTS7iqho0TvTrhJSlWpVZty9TYsiGCpSFIwBgc4/z20lsGHAqZmnPE75gojFTBXENV6W48209lazgAcq16FaXq1gAicV57c2sqlJih9q3JTT6W2XAlSvU+nHpoh1CUjUravjKVnwppwWpTUQojbjjxAHOT3J0lfumQCCY/wA/Smtu06NwZotqLkZ6OW8pJ7YOsrPiAKvCcVrdW40yoUu6kw0h4gFrOMnGnYukkATSkW4Gw3rBjFLriUhQI78djrJ+8QPWiGmSa2cqAw6wFBKQc+p/lra2vcZNYOWwJgUuq27HjJcbSUDHqSNELv07TQhtlRpFKWSkPvLVguEq7EYGsTeBRMZr82zCZIzXvGpKQMEHdjKtaoejeuGkQdVDFwUvCs4CQpPf+GdMErOiTS54eMjrSWuSMlCQjlTSecAfeP8AmNZOua8bV9bbFIW6CkJdQSjK1EnHPrwNEhRAE0GpsLx1/aplulSUtuqCAkknvyT9NZgqnxV2lYgedJ16jrUtx5xQKzgq8owPkM6FcdOrIpyMCQrBpaXG03GJCFJUMeYj15PrrEqkVk3qQqQcGlLVsNB3ajKu+fU6ItDJo1SxPhoAksOLWtbu0DGfw9hqgacAECi0LitDKQST/ADTJpVHMrrXFCifnz29NbA0UK+FtqAztyexxrtKq0b3rEUFA8DjWorcRFeQSTyBr9Wxp4BYKQNwxj0OoeOtIVqkYNfhJSeCQDn8NfeWaFUqK8n1DYTnKh3100jNZqVNaFQBWM/eP8tHgkCvgX1rMipXvG0BQP8AHWThrvVR1RHGlLS2tJCyQPrqfv0qiRtRTKhHnTboyYwKN+Bzgkj+uou+UvlRqiIimnTKRFktpUy4CnJHHfSsKBORQK0qThJxR7T7aUtKFA7sDuRnP09fnotNsD7ND98SYNM+3LXLimcNhKwQCEnt/tp3Y2wUJVSe9fIVBFWf01spt1po+AgAfdyPQ6doQEIiaFZbC1yn761U9CtFcRCP1aSkgcYyBxz/AE10EwcU0QxCYNGTlN8FhbZCkpAI45I0IFK3O1aqbSEyKzaPS5DqgE7Xk5HB9tOmANwaVlZCjimZGoyXmSnwglZHHr9daKdFFob6UkOodpvKS6pphGw55Sex0kvbXVmulvBMpA3qWp9g1A1IuNKS26SDhRxkfX6aTo4c0n2jHzpW644TqAz8Ka9o0Z2Mhjx31N4WRwsEjtphbpZTpnPxrVAeyqrLsRKIlPkSESA/tHbAzn6f5202euE6NKN6KtWpPjyKbtA6lP70wcFTieMK43DHOkncLLk7GmwuEBOk7UewaSi5ZcWQGSUO+baOSpI4JHuQNMrdJR7Qk0HcLC8JP9qx7m6YRojzzMhtp2G4CoknjHfIPsRr9c30AOD/AD/is7dhSiWl1EnVi2mYb8mLR/h21qBIV+8Pb+f01CccuA8rQokfz0PlTu3ti2AsJ1D1pH25Za7/AKNVLNuSGmP4QceguHglBH6xrd9QFg/I6E4Pw9bSFN3WW1bHkCM/DnG+9BXbwuDpaMKHuMcx7xtRj0jqUegT5FhSGkAxlhpO4YyodsD24Kfy99YcH4g4i5VbLERy/f4/Iiimmk6Inf7+m9OC7ekzsxiRJjREKjOIKd+PQjKVfLsPy16aq2S+grnMfHy+/Kp26BQ4Ex/ApNx+mMYXBHSuKgOtr3FRHA4+fPfPGkgs9KyCYHSPv41opKSsBftH4RVM0qgRqZS0GQlrw0KQtSlJ4AAx/EgD89fry4SyjAIApu0kqJk5J/akrd1xyaU+sR1GbAlKKQ23yE5V3H1834a894lduOEPW+SeuxH9umKfpKGjocOB8vvbyp69PYSaTBhy69JCIzgS6ygqwWSfKAr5HA4/HT63dRZtTuTGoHkTtHn199CupU+4OXIcpgZoG6zJqNYbaZgvqioAJaW2BtWB9O+fz0ycZTctBbniQdjOR/FLXVlpICI8x/PP31OlORUKLVZVDrlMZXGLaXWX+6VAjjn59vw0pfsri2UlaTraPPmPIj1oW3vW1AtLRCh5/MHmP70xaNTKRKrMSQIgjvkpTgpwFpzz9ex1sbxfhkSQZB/mjWWUEqKcYrawOh9RlXCyKO1JdkR5YWEtpKy6w4juAO6gpv8A/bn104PZ1p8rcWmEmFBUxG4IJ2E4J9Kz/wBSWytBCp3EddiCBuSMiB1o4nWdUaIavDfaZTLZjIG1t1K0M7ufO4k4K/kO38NEL4chCULbUFJjcYG+QAcn/wAtjyrtm+WrVqBSehifImDj0pTwaTJkXBCbUtam0kFQ9z2/lpS0xLhJFdKcMYoxqkl52RHYaWva4pSgMD0JGfwz3+emlySozz2HurVDg8KB6n79KZlHtyLQaI9U6klIfU3vCCOQCPKn8eD+WmjMMphW5yaFUjUSsbDFThdF11KBWWYyAt6U8vcUg5DTfOAfmf7nuRjzrjd0pTxLRz9PKqnhjaQmFiKcdu0h64WWigLcxhKk45J9tVfZq1W8gd4NJ+v9qQ8XdQhZCcijL/Q8mjoclzEpZ8nCcdh7H3PsNXItQPWp5p1SjI2qdOoN6mky3IFNYMmUCGylJ4Cj+8f6DUpxy7Wn8tJkj4D+T8qcW4TONutaen3XcTrGSHVnsQnIASD/AF1APNPqUcyTinzLzSUgximpT6pVVxG/Hbc3nClDvgenOnnCLV5KZWOVBX9yFHSmgu47glokBlkKynAUr5/2H89OVlwJk+zStt0FyN/WvugV6Q66A8pQGOxBGR7D+OkanVAyDinTMEYEUTVi62Y0ZweIkK29grP9e+iWOITvtQ1ykJxEUg6rdJnzfBSoFBURn31t+OJXApQqSJSa3NHjKkYO0jByCedObc/SvjZnxUbIiFhskIO7GNOUTAJoYCJBoLr8VUhaRtCfLgD3OdGpd/LjzoBxolZMUj7ipuVO71FZzkk550Uy35UA44cyanS54KXy4GWl5Cye/bPGu1OaT4sYoAJlIKd5+tI2sW0txZy2kJSM/Un5+wGsVLkZ51s23BwMAUp6zSUxQ4gEJwO3rk+3z1g5BGKLS9AjypFXBTg6+AUFScnHy/HXLivBXds6CRNLOsUdKQ4p5kBXokHWDbikwRTNtQMxS6mQMKUltoKWTxgdj9dOGLjEk0YCEJlRrRP0J7kuYSnPbJ0xb4gnYUQ2/G1alyD4QUNvHJHz0Ym5Bopt0yJrTuo5/ZxoxJpi2BvWtdSnAHl5P563QaIQK8OOMq/hrs1rTqaUMJBBHBzjUU4nnU0pQNfy19+SPTnHOviU1kSNjWtkv4ynj2B0U0g1jqkwKwEOBSs4x/bWykRXxWK3MQAkjKRk5xjnQbtfkqBotp6AoIK0+nGPQf4P4aT3Bjai05AimFRlq3oRuKkjA4/z5amb1PM0VqI3p82jT/HUytlSicDIHr/T30JattuCFUnvLso2qlbboUghCXEpcT7kY405YsDM0muL4SZqgbQswpksZSpAUQCD9ff89NrVpKcHal9ytStjjnVsWHa7UNtoNNJ2EAAfL2GiXEkmabWSUpwOdUTT6OW2QkJBURkZ1gtuDFPUOADyrEfjKcK2g0nx0dxjhQzrMNqORWTxBTWfRkRo5yWi2RwcawfuygRFZ2zI3ozTMipaK1LxtIOffWLd9OaIW0AINDdw0xFYjLLaktrA8qkj5a7WUuI8WxoZ4HVKd6US7UAebL0dpxZO0fq+319e+swvYJJPL0paZmVis2LZ775QhiEhaQ4chPcj076KaBUQSdqwdwIin/RrOmxaItxDLrKlq2lQT2I9dbXDTZACiM+dFW10BJANY9LoEuNJbkywC4FkpcCdv5jQTyghM/WiWCXDt8KrXptUKWw5TpKdjnhtrS5gH1wcj56Sv3y3EnQc0datNtrBWcGmLVEUy7abNgw5CPjWknag8e5yPx13Z3jbiNDnhPKu7lpSCVN+IVz76iWa49U0zkhxTqV+G42lOMKB4J+nH56y/wBPW4orbTqKdz5V8S8kQor0zy6nlWsk2es0hxylSWYdaZWXWd44Uoc4+YPIP46HuLdp5ARJQeR3E9a7WVaSpQk+VaGs9JH11WkdSadBVGDiUplMI52OADI/gOfkDot7hCXgm4SR3yREjaNveOXpQSbsoXBkIPI8j16xzzz9apux337ypX6KjRC4sJCSvbwef9z/AA0z4Xb3JVpcTA+Zr5f3rSk6kqmiOH9nisJlOVydTXgd2clPIAI76oXLRtCTkaqnGr9xa5CSOW1J/rNBmQqTLYh/8I2hRadePGACfu/9XJx/trzztEUlB74wkE+p6DynmeQ9atuEvkZb8RwPTG59KnKNTqdTaRQVygKg8p4FtAHK1cbR/wDaMjn5+uooXyGkpQ3knl7t/QU7/DEp1q2/vOKNp9R/Scas/FKdKPAUllDQ5JGEJCPnn19Pw1s5cOlYChrJmBtP6Y8h61y5oIJCogD3E5kfL4V82xKlVSjba1BUxFj/AKrc/wCXYewGTzuxzj1+XbX3gt29ZpJc8CZiCfp6cj7qyvG0PoCmwdfl/PnvWQ3a1IuXfb7slC6k3ubYWR9xWdyBk9xkfx1Y2fE2Fr7tSTpOfjzHv36Gp9ywWpOkkFQ+4NMDp/0IqdQaTWLrfXZ1sRnklUySydzxB5QwjutR5+XI02veEM2Am98SlbIQcnzPQdaXcN4uu8H/APj+UStQMDqBsVH0wDvintWJU52r0C1untHNKtR/c1PkFOZMxG3AU65+ygE/dHfnPbS24tbu6AfWdKEGQgezH7q2z8KbWy7e2WpKBK1CCvnI29BHIVsqlYdHmRnqWhhkJQjc4SnyBQOCDjvjaOPn+GqS0uFEpxgDf3fvS15CShWc/fSp1qPTUQK+uZAUpxCG3HSojgnkcH0HbXb9sytWqIzy/cVoy84nBIOPTeaw7PsdFYuFguoPhtp7e4Scflx+OgbdICgVdTRrnMp8vlvWZ1JblNFcGFFXLlH7qduEhXYfgO/z41tfW7ixDfPcmvzDqAZWZ6D+aWNr9CajVKm1UaoXlZO9zPJUT/nbS2z7NW6IUsyr30e5xF1R0pwn5/GqjplEoNkIIV4KJgR2xkp47nTsvJbCUDJ5AUrU2CCDv586W15V5yuIdYgpcjtnOVnu4fl7DWBulKwvw++tEtJSJI9PKppkdNZEueKh4C/FSSlAx6n7yj/H+OuHLIOoKVAHpQ6NTRmYSfv4Uz6H04hxYbbslHB5245I7gn6nS1DDbZMiTyo3WP07Vs6hT2m2XW2m0oTnGAOVf7a/B0gaa/bkGkpdtPBkIVsQhGcq4JyB29dZ3TpLPdivzBAc1UFtyJCEOrBSyBkE8+UD0A1OuAzmmTbgKIFL+uvz5yzGjKfcOcHAz+fuedfEWxIkClFzckg5zWdQ7GmyRHlvqDCSonByM49/wCOn9rw0JCkunaBQaVEqSRyGaett0OKxFU8oApGACe2f69tMrVQSsgZjnR6mwEjlWuqsxlLjrbasgDkD+2mL74wg86EQRuNqE5wK20EIAKhjP8ATXbCpGKHebnc70sbgpwWFpJ3ZH7Q4J04ZdmSaUvslJI8qQ9Yt1SQp4tlO8nuPvE+mvtwrUM7Cl7FvpzME0nrmpLrTKw2vaNoJIA5P++smW5EqrNxZSQCrpSArdJefdUXCW205xkf56a4da0CBW7DgWrVMUravRG2lKKEKcfKfL5u2f66AXqIxRLaUpGTSzq9qvTVhtxaG0d8A84/DXAcgSaaMoJjTgChWZb8KAClpJdcA747fjoJy6UcU1YtRq1KM0v6vCHBIyoe33Rzo6yfMTR6mgBS5qTXhFSRkEk8D141S2y9Wa0SgDagmQ094ilKTjk8d9PULEUa0BFapwDOCAR/DRSaJRXhtOPf6Z12VV1NN8EEk9s+mo8DlUkpWJryUtQGRlAH89dgVgpZrVyU5J7lR9dENGvjasxWG3wpPce3++t1bYrZe1EUF3aoBZye/J76XPokYoYHM0XRH0FQ2FQV7Afx0meaI3o1DwJxRpS9y3G1pKwnI5BydILsAAzRReMTVR9N2y8uOh4Z3YOT3Pz0ptGQklQpHfPa4TV12TTm1pZG1BBAOTzkY99UFu5ONW1LnUSZqqLYpjO1neyhKgQe2ccaapVjevgRyNUjazUdtpCShAXjB9tFB6M0wZQBBpuRZERyMGUq2up0K66Cc0e3IGKwH20IdUpJy4O27nP+f318QrcVw+oA1qKkwuJvlMqdS2pO7HPlIHrpXxVA0lYGa3ZSUmZoFRe6TJDIU3uKilSTxn3x/HUYniYS5oWqD0pg4RAUBNH9Aq6JSCwFocGT5T27c4/LT63uUq2O1BncivyY6afUEpUspaVhSQogpxrNx0NKJ1fChlFOoJM0cUkMyoomxHkEoUFHAz+Hy9f4a2t75txOoKJPlXWgpVMTTQg3DHRTZEN4tuyC0Voxxz/g/jod+7UUkDMdRW7TSTB2ilieoEcU6oNvtuRXGt338n5d8aTXHEnEJIWmD5f3re3ShSdY2+FFnTK620iYpmQ08zgkgqxyeT/X+GiWboONkj6fGskskHeRTMsG/qDUrwVTU1BlEnf4JClZIJ7Ej3GgeEdpLdy5Vb6hqxIxInmRy8uta3dgtCAtOI+4qq2bMsCH+lP9YUKI1InILi5hWraMJyPDx2z7/L8NenP9pbi1tCyAFNmTAAknqefkc9Kkj2ctri8S6+SF8pUoADeAJiZ55PWoSbta6ALgcZZbkxvFeQyhxPKEfs5Pbtj89SLNiXEylw6lTI3AnkI5D+afi7ie9Qcc95/zTI6SR6w4r9D3FSkGlPpCHG1DcnPyJ1vaMuWpC1OA+m3wri4ukOo0hBg10J6P9LLPokr41fgJSrlGUjKfkfw01u+PoSwSgT1HIVxwzgSVv6V7/WqJvVyzI9uTExDFQ6GlZIx7fz7681uu1y1q0HHv3/ivTnOzLaLdTgyfIVxY6225Luml3B+jnCWQ4pSEkhITwP7HR3eN3LZKlBJI55qILbzMxJA6c6S/TfojVXZ1MqVekNKgsN+KpG/IbAGQAc8nyj641xw7hFo0e8SvUoDpg8/WuXb25XpStMDJ32+f7UUOdNKpUqyn/SzEWnUKKvM6pvK2Nw0YCjgn9o8dv++9xwY3TRu3V900ImBlcfpSB8zWyb4Nr7hCdbhBO4hIA3PTyHM9BX1cPS2X1Mi/o220opKWCUIaK/1spXbx3PXKuSB6D551paN2t+e5vRgbRskeUc49obj51heqet0FTGZzuPEevl8h0ps9OeiMLoxSVXV1GdRcdxoKUwoqM+ZY+6VZ444OewzznGNOnHLXhzZtrBRKjzUdhz+A8vTNJbO1ubs95dpgcgmSDzEn5ecxW9eq9ydXLkaQ+zJQ02diUHytQUftJHZIx6n+mhLK1XOp055k8/SeRxTe5fBSA3tyxgTzPLyjc1VsS0qPKt+n0Kjx1R1tFr4iapGHJOFFWE+wyO/tp61fko7pYhvkOs9aXLtETrR7Z3Pu6e+iSl9JHKnBmpbjeCylRSCE53cA5zom1v0AwcjHwrhdg6tKiP8AP3NIe4+j8plypsoaDQWjwsAZyN2cD8tNJaUQuaXIcfRKQMj7xWvsfoqaFCn1ic4GiQENjGSgAck+578a00tDPMfCtW1PKbPnO+9KGvUmHBrjqnGFTlKVv3Edh6DPp20lvrsK/wBnFH2AITDok1sJElxhhYZbRCBH3UDkk+5/trEuKIhRn0o86Zxilu98G64+7IkoTgKS46QeMHsNZ/i9BABwk1kGEySd+VADNIduGsMtU9JP7KEJOAkYyVqPoAOc/PXbj6HDpIzRAKkEEZmm9TbIZlCKyykJhoGwL/8AX9zj0HbGt2VgN53FDughUcvvNMFzpciZTw2ykbkpzlI7D5n8NKbi+SlcKFaosnNOpFIa7en8yEtTTTTpAVlZ24Uf9sa/NBL3s4rMFTZAVU9XfSpSVLS3EccAykd8K+ZOt3LJeUp5V9D6N+tKqVSpjSkpLKlOnggJ4HyH00nd4U8Ync1qq7bSMUUWvY701ba3YyQSdxKh6ep00t+HkABWDPrQPeBWY8xRNVaWxAitrKCdoJSnGBk/7abPNBCVGJE867QuTHlWpQJCKd4eC2Mb1YHb/M6U2gUs/wDlXTr2lGpXKh2lUdyet5xSFbFK4+mtoPfGsmG/y81i1uD8IdpbPY451QobjAoJ9ZBEdKBzTnJSXVutYbGR9T66+pUQcUOolQBVSju9lPxLUJCCEjOcDRbphvO5peXNTmkDalDcFKS6l0rZJVjGAe3465ZUQABS28QCTNJqq2yR4qnEpSvGeB9356JUtMSTIoSHIhGKU1at1aXThpZQDyQnKjoZ9GpJBxRLdwAud6XVSoD7/iIYbLaMZO1PJ+p9tAqt85p1b8TTBCN6BKla8aPv+KcUtznyj3+fGl63WWzKRJpwyq4d5xSsuWNEZQtCG9uMkBPf8Todq8cUYGBTdq1T+ozSGq7bhW4EMhpHYH1Oq2yUIyaMQMxFAFRUEYCnORngHONUVsOdGpSRvQ4r6qAzo8UQmvjCfUfx11JrqnCkZHOMev4ajjvUjr618rQAMBIGMgHn310FdaFUQK1jzPbIA49+dEIXWQVWMGOfb1Pz1prgVoTWwYZIUAMEjk8c6wWvFcFRFFNLjlxwAgAnjnSi6egV2gmYp62tR95bC0ko4GAO+oq4fCnIrV8SIG1VBZsBMYtHKUIznAHGuW325gDNAuayPFtVfWdKSwiOpeSnAOcZx8tMWnkqEgVkolO5qorTqba0NkqB9ifb102afTgAVog6j97VQtvKCvCWCcK7jRyHB7NdMJkSOVGEoSIyQtCjuThQ0E6DrEUerKDyrd0x0VJteCsEcJz3Sf3c/wARr8tRCdQoZghdEcCmtTmCxIJ8M8A4yUnsc/5/TWi0gorpJGuAaQN79MZkeouSICXA7nekj1wfT3Go3iHAUr8ScUQm4KFEnajCx6PLW5GekNuBR2pcSeSk5+9/nto3h9iUZI9aw/Ez4hVEzOnLdQpzUkskSGwQkjs4PUfw0ZcaCkCM1qBKxO4oAhU2TaVRkvMtOLj/AHXm8EZ9iB7j/bU8pehR0jeimUKxJmjG4I7sGJTavTVsykOhKkoBwDn0P113euKQvUivunwYNL/qzAciRIVUhMuohT2UkBKclCiCrkaVcf1JUF6SZ8/IRW7Dnhjkf5zXnZFUiUREX4lLbYdfQwtt1OCtKhyeR3Ge+uWrotLQ0QRJjbyr6EAIU50pU3HZsjp31Lq9902sOIfWsLQ0l8jCQeAU5weRjOpTjjHDLZ/vkFCHfOAon15j4iOlG2X41RVKj3fICYA6nFdVumPVSJ1Msq1pchgz23EpbeR3W2CBuB+XYjXoPZviq3W0utkFMavL3eR6fxSbiVunSB5wYwZ61m3TFbsFb8uivs1CkSXSllt4jyjsBu+ue59NFcQu21gO2pjrGQOnpXy0YKJS6NSfmf5PnU93X1BqdPlGRRXWd7YSXWAofq1EZxgfLGo6/wCLqXqGrxjfefhtnrVDb2pbCVIyk7Dp6mmH0w+17ZLlu1G0q9U5jN7lB2tBspLeexBIxtJGN3pzqctO36NZ4c42ZESTt6zPxG4iedGp4OnSX+88WYHQjbzJ8/SkWvrj1PXXJ9IuWbMZppd8Np1TuVutqBIwO6kpwPNjByBnORpDd8JXavlK1Ag5SlO8c87BPTMk486eWvGFODuXQTIiTsT0/ml9Lq16OUC5RHqyn1qSrYVg+ucEEHkcp094RbKebUhKiSdue/rzqZvX1IBjGDzjI8+X3tVL9Den11Temgu2+6qq0rWRGLkyqyV+GlLQTz4SVffOAee2Tydek23BWOEWhe4uof8Aj+pXlg+Ecp+AqVsuNPcTcSnh4nHtmClPTeNRJjAkbSaSt/fa+jV6aek3RmzqdSbKQlRNQlgvyZSs7S+pSuEE7SRgZGRg9teI8S/6i8a4lei3Yhq3ggBIjHnOTPqJr1LhvZrhNmySpJdd3JUZlRGTAxPTcCMYFNG270p3R22P9QVZ9mPOfSA0Ck721EZGSTnJ7n90H3Ora6v0cNtSXDpjeMR1/wD9s/Olg4cH3pUJ6bH0/tQ9S6tf3Wx9q4VQ5j0ISH2FrKj4aEoS0olHoMpeHzGPXOqHspYP3luq6VAEjecpI8JPMZEbZxHOpnj14hq47kgyB9DkDkTtjlOafcC66BaNI+GU9HMlIT4zSQAtw9wXB3Hb7p74z6a0veOhtSmdXiTiDsOX9qMY4QpQDnJQnbfn/fl5UyLQ6w0p8MzBIQtvYN3PCE4B7e/ONKmuOqXOg5+8UwVwlLagFbGqJT1xo9Foq3C4hKXdqu3ITjjA+Y1ybx9StSOcUwtVNNtkkbfH4f3pSVfqYLh3yaZHfdeUpQRgfdHodWHDXnFo0kRFR90EhZWjM0NXzc1St+yYEzxFGTLkutIbGCcISkkn/wDID8Tp3cIAZKkgyI59RNL2FLKkpURn7+zUwUqRVavJeqcxtSkKUopzgBIz3xpawV+0v60xWk7J2FZRVUZjdXnu/q4kZoqPbCRg8/kP5aNbT3jgbB+5oZ1RS2Vq2ilXbNKrF2TafS6Yl91C3Son3PJKj7DQbMOlWjGf3FEOuqRAJzG1UWjptBtamtwwPGkr/WS3sY8XPOwH0SByT9BqvDKGxAyaRFbi8TA6/WPT55rHhVKNHqLERh9CMYHHO0aleIXgBxuacsMzE5FU1TZlPh0vYtpC8oyR3JOPXU3cJUSDNVLOhLcEYpSXWxT6m1KdbS2F9zgDk/PTfhTkEhfupDxRpBgp+zUv3Hb7SXNoS2lJJUo4xx/g09U4I3pYmJxS3TQqe9NWSylwA9gMZP19tfVPo1CMxXK7dIG3nTQpFoRmoocaipO5JCiRkY0Va3YUjUTzxQzrQQs9IpW1egJq0xanG/DjJJShPuB8td3qylXdmvjDaVJ7wYmhesU1iHDdSllOXPLzr4B3ZLh/SK+raSUBrrXrblLhFSG0ls8HgDB0hTxJKVTqzTNu0JxHurGuazVvLQWW0lS/UDt9NVVjxFDqTG9JLxktxq2oBq1sCk0+QduNgyOOQdNWLOVCaX3b4Q2dHKpwmWxKm1KS+62ttnPBPfXy8TqjTQNg3p1a96H6xaBkBLSSGU55O3118aCUpJiuHrZS1gDApbV22YMRDinQj1OSO2u0vDTgUO7ZkKIUcUkLhj05tbimkJcPucAJ0uuLlUbVqywiJCsUjLlq7TAcbbRkY7No9Of2saTvtKUdROPWKe2zzYUEgVN913B4K3UqJSo90p5KuO2l6zOBT+3Tkc6n+vVqetbhbbDaT2K+T39tNLCyRuozTBKowBSkqrzzq1F+QpasHAGcY9sasbRtKRCBRKEgEQaCpWcnAHr307b86ISmsDb8wPnrcmtK+iCOOdfq/U2ilYTgnj6c6j5mokpIzXoE7iSoce5765UrlWTipNa51GVbjg55wdFhVZpVmvtllPGUgfP31w4vGK5LnKtxGaSlxOE7vYAYydBOuEiiGwJmmVbtMRKUFNoCiT3xqV4ndFGDRiUD31RVnUnwg3lCVK4yccp+vv3HfUv+ICleVZFEA8zVI21TGXFtoRtKAexGCB9NMWHETIO9KrlxRMEVQtvwQlTAbbPJGfY6OYUpS4G1YKgJk1Qts0xapDA8NQB4wn149hpxbAKJJGazKilQjaqwsui+My2g+f8ADB/jpoCIzvRFuFAzOKZz1CkJAK20uII2nHpoMFQJI2o910wJO9Y0OnpiSA8y0lxs8KSeAR7H+ntr4FKBkbVm0EwQnemHQWmPjUBaQ7Hc4CzjyH2V8xr53hglBxXKQFL8QzTAnWWieptCWEqQU+UgcpPyPrn+Wu0CZAyK+XD0HwiiWzukS5qiBEPiAYSsJ4UP6H5a6UlLaM7UKha1ufl01J9mCiQxFmYTsSMHsOP8x+A99SN5foKvBVExauxKqQF5t0uoMuJiJbRLaJbcKe5x6n5cDSZ++K4UdhijRa90CJya9qDbjFYgRqPUI7oaKAtpXoTnO3P8Qf76bpSsLOoYjFLxBaEms6RbESfbL9p3CA3KitB6NIKc+XcU54xnBxn66HcKdJbXkY+H9q1SCsAHBmffn60s706dVBm4oYgxvjY0aNDUhLZ8xdW2kk+x5xrF+yKrxbjJ9kkQeX3FcruQbVKlgxj37Ttvmpg+190+uKs0eHc1q/FMT4K9yi2k7kLH3kqx35Hbt+eobtp2TfvkJu229WjPu5kem4NN7DjiLYjUodPniae/2Drrl02yriRdLTFOnxo5LTRVlKVK8ySPVJ5KdvbjjOu+xF4pmwUhftA6Z8jn0Bk7jBnlQ94O8uCQYETnqfs4qoLIqDblRrNKrz6qpSlK8bw1nI45B5+7g8fl8jqysbj8MStncY8o8/2OaHcaU7Daj5g9OZikjc9v0+qTqnUKHJc8Fb6k5UPOzycJPyxjA747camby2auCdI0L+k9DzB5cqYWlypkAEyk/f3z+NT/AHDYE2iuOVlDCvj1eUqAypxBPm2n198fLUjxHhCm0ahhycHkr+DHxxypoHElWon38/Qj5+VFbNKqt5N0yPR0uv1hCQllaR5gMA7VZ/Y+Z7fgdMbThquJM9wjwlOx/p8j5H9I9w5Vld3fcK7zeenP0+8Herv+zb0blth1d902m1aDFCnFT3WsMjjIbCT5VkfvYxjtq97O8Md4U33xd8ImCqNU+WMAcjvsKQ34RxJfcLQFE7x7OeR6md+QzSe+0d1En9YarULFtp12ndM6Y8GH30ZSicptByOOPDSSAAO5HyGkHENfEXl3NxhsHA5qkbnqCf7daMadS02LVg5ODAwI5AdBGKTHRzpXR48quXpLQy2xTyAzGW2PQbt575I3E7T21nw63YY1OhMObDaB/cbDpNHNd4pRz4E79eWfU/SiqoWaOtBgVisuOQLOirdTJC1EBG0/fUT7jBI/aPGsbJht0i7vRIbJ8PKOWOZ6CN6b3pOLe33UMEb43APIefIc+dNpzrZF6fdOOrHTHpHTxO6g0a3Wq/AZSz4nxDLbyUSQsA5Mhth0SfDAOENEHnjRFlxlfErxfBuHKCXHELDZkBKXkDWGVdVLSFJEkQ5pEZpZxNtHDLRPFLo/loUO88JJDbng70RslCtKlGCS3qVAAzzIsm4eolZrKJtWqM2rxZ5JekBR+8SSHBjvz+Y1472f4RxF15L6pVuFBW+d4HUHOYz1qou75lpH4dRA6RkeRJ28h1q/bXtNFtWwZNcmvMvLcaeDRV51YJIRj57T9eflr2W3sWLVBQRKlcvPlU2q4dfIMQAfsfz5RTO6hVlmm0Okz3JSaYxJjR3QsgqcORja237/AO+jlqHdNmDqIwBuYJ58qHMErAIgmJnAJ+v0oe6TXBeN0QLcYgw5FKoz9ScYW5I/+okBCFqKlnsATt8o/E6Y8Nsbh1BWvwDUkBIzuefn6YoG6umQAlOTG+3QfU86pDqtaNRTalhMzJNMgximQ87JmOqSnet08JbT53FBKE4SMdjkjVtdoaatlB1WkqVgRKjAAwNhMbqIApAwXdbehOrwmTMJBKgcny6DJqd7prFKtynlFNalSGVfq0uvICOEjkhAOAMZPJP46RO3BDanW0QBjJknz2AHuFPWrUBwNqV6+XzzQhFuCfUul9XqETekz6imC1hJJcOe3zOAok6A4TduKQ69BOkHbckwBHvPyru/SCpDaVe0oD3JGpRPkMD1qk/s+21HjUr4tTCRFbUELkFP/wBQ4T90E/s8d/XGe2MueCtLSVKWYCfsUsviCvQjJz1+daHrzfkehsyI0N1pUgqUVkK5QPc/M4/ztphxbiqE6kjeK4seHrIQSJTy3qP7Ou+bV6/FllTpQXRjGQkDPfPqTrzpm7XcK7w+yKpnm0twnEHpVUVq8pkCmB4lxIDe1Ged2fU6o0tAQ4dqEunIT3Yydq11o1p2qRXXc+Pu4x3A99BWt2hbnhO1Y3LKktZrXXJRJMhTqihQBIG3tx/mNUjRB8SumKUg9M0JwbNDTy3cOApAJ4PdR4H11kT4QYrsplRFGdXYmUemL8DIAZIAJ7fPRFszqCRNDvXEAyN/s0mGmXXXnXXVqISD35OccayYUnXJPnWxBiEilXfq17mmG1gNJSSee6tbX1x+UdJ3NZES5qHIUNUKvMwG2t6j4quMD6++vNHLtTalHzqxYZSCB5VRtrSYtVaSFlpbhITn2GqHgt4dUp3FDcSt0EQedCl+wqe4pyO2pAbT39s+2vWWLjQ2AdzUEWNSlE7CkZNo8RSFbQgj1x+evhuEEiK6DRCSVUvq1TWWwspTghJxz299E6wBFBOII8QqaLxK1vKQhtGE8Kx3Hyzod9QSNI50mLiyqTy+zU1XM04txaG0tNgZy53I0quXDp0gxRFrbp9aQNyUoyPELrilNYPG48/hpVcEkgJz/NUVqhIMnFTrc0IeK6iO0AR3WP7++hX2giJO9OWbgTIpBXHHcQtaiEnGcE8/lnTXh6kjApqy5qVKuVKGpR5S1kE7h6Y9dWNo6gCa2bMYoVlRXGjhSTkDHbvpu06FbUSmtaEq3ABO05zoma6r92LIByka+FYFfqcewFJKQOMZ+mooKM5qPUcGvRLSsAkHOe2DzrlShMCsNPOtY+2E9xotpfKhO7jFfKVqQ4Od/B99dKRI6V+VG9beA8hx4JAUFd8H6aBfbIE1s0qTCd6ftnwktsId8qiRnj1ydec8bfJURTO0QOdPi2EvJdJTsxwAR350oYRCBJr5dKAJgU7KE4uMSrYRkhWe+P8AP89daLJBAFChKJM0+bXqD6FNnf4hOMBQ/LR9spwYBihXynOuqx6eyHZDrIeYIO4Y2+mqjhxUVaTS55QiIroh05tFiXGYfQAV553Dnv8Anp68sAe6imUajIp1VK1UxoqlFkoVjuRwRjuDqZdWuc02DSCDNJSpU16NLktMtZCjkJ9Ff763s1uQYGKweSjf6VrIjE1iosvspdbGRuSAeR/Xv30faWkLNBXtzLcgZFWzY1IaNPjrcAcZwCU9iM/Xtotb4QSobUEoFQAO9UtbTdChI8MeE2ojzBQxuwP56RcQ4gCnFUPD7FLeDSq6uKTJhPPU/wA5QOUDuSeMairhtRV4f8VQrcTozUfU20plVlyWVLdZL0hsh3sYz2CELUO+xePDV7K2H10dZW2pOmM58/Q/tSS4fKFE8jHl7qqG1rNcRR4wkxSmU2nwwduBg4I/z3+WnL9uVD8vO2aBt3hkrxJrznWd4y2Xag0pEphRbIAwVpUk5H04J+o0L3pbUCckUSElaYTipz+0pMrdgy6pcVnl5quTGI8cqSnehtKQkA7ORnAA+XPvqB7Yfii0r8EYWVGVDc4UYzjSCMgg42p1w5bSSHHcgAaR0ykH35x5719dNOtHT69OlU+07zoUSNdEhJUoNoKg2vaAogYzsyc59Bj56K4J2/ceYTalMmJMCPJWNoOTAMnpXDnAGTqedELJI6dTv18+WRNAVl9FHLWbVT7duSBWP0xM+JWlxwZSyCChI9QnIR39DphY2PC2nE27CtByo85JOTpJB3I2wIgAUvbRfBKnnAFgmMYIAEDlB5medORy2K1YTNRq1SpstMJbSYviAE7QrsrI44BH/wCOntzwt5DX5MLBxA3jy5+gpeL5vWNcpjr5/wCKl+dcsWkXfLjUupJaK/J4SgDuA+8lTZwFo+XcdxjXmvEeLMpuu6clJ+BHmOXqk4PrVTYMuhJSnKcSNwfsbEU8qXR41zwafTpkdcZLxBSFHc1u7Etud0/Q/TVNZoQpAW9Ck8yOnmnkT1HLnWC3VJGlsGenP3HfHnVWdIvs7wW57bsVCmKMCkyZW3zvgHOwf9PzH+2rTh9g0EBR9hOw8z1O5nnNJHgtS1DkcE/sJx6xvTN62rlVKjGwbLbFGhsthDxZ48NJHGT8/Q+/Gg+NJcvHApeyd+kHp6cx1jlRzLibdOlnHQjf79cVI1O6WVCZQWaLAhLDqAG8lHKV4A3q4+93OPTPvoJjhi1go/SMeg5e+uHLlKQSiT/cZ++dY9wdNnqBBo1mUmSmnSFrLr7y/ugA8lXfJWQkAevb10FxCzQpWhatKZiemYEDnJ/mmfD3lIgNjUrfnnr8AN6HuodZi0a1J9pWayld0OeEl5kJB/Q5WCUTX087l7gMIPlSVjd2xqev7q4uFqtLUfnIHijdKJhRT1Wk7n9OY5VUWzbDOl55XgPuBJ6nkg7R+oZON5G+zra8npf1wsuhXRVHzIemyafUnnVqdeal1FJYdcUrk7UlUbdnuW1H1Oojg/A18Lu0OpCnEW6gV6Ukp3gqkYB7sqAzmJgYpzxa4F+043ACnknQCQMgSEgHcagAodCRVOq6Nzemr7lWoNvJk2rKdc/R8VIKn4T+4+JGdz9wMKC0BecKSgHk5A9v47YL7526aUEuavzEgaUhckKcB/odPjAOxUU8hPknZriA7hu1UkrQAO6VklTf6QoRIWgQhzeSNc+LH21FakT4a69cFPmVJK9nwzbmUN8AbBj7ygAOx55HtqBt760SvQHNSp5ddojf1nE16G9w5/TKkwnocH1j+eVOaqUunvQ7KamwmTBNLZRGlykEqyFLBDbYBUpXsAnOMZ1X2jNwhDZZEDxYAlUhRPlAg7kgDaalbxxjU4h4jcQomAMCDPPI8/KjixoM+25lp0yDQkNhyZLe+MqWGnDlBSjwIuSrkqT5nMjBPA76dsFRBdbWEgrSSAdasTIJAKU+4k7+LNBEBSktrbKlaSJIKRiMjVBVnmazut0OfUKtZ7spRkvRqdsQpfm86lKAUB6DnPHtptfMqbYCBvJ+vOgrZ0KuQpWwSD7yT8qlPqLAm3BMp1v0dpQcUfDRu9k4G449M4PzJ0guyNPdnYRH1NOkuqMuDJVJqlJnTSnQKP036Y0KmoQqDGL02R3U48tICgB7nnJPbONOrRtbVoi2P6yD5wJ/nNI7jxP60mdAI8iVGTPuAHkKK+oVRjdPbegUa2gh+Whspb28hKifO6fcnsPl9ddXTyQ0EtbivwGlRC5z8TXPq9qBX7lYqlTuF4woaXNhG7zPOHkJyewCck/LHqdTbrCNa13CgQJxt6CnwuVlCW2AQTFZ9jW/T4cuG22yHdo3uK52o4zgHH00DbBKgA0MSKKu2SkqUdyK/uotfbn1Fqjod/VkJY2p/ZBOOcdzr7xO/SgaSNpPurpq0KlCRvinR0RiNlK4TzYDachO4chIIH5cjUzbvlt4qTtTV21S60J3+uapKt2vCfSX/JsA3HjHpjXoVvxAKZSkmol60IWVUuG4DTj6UEcKdKxz6DAT/U6yS/4j0ED+a/BECPf8aB+pK0NplU5vIQylPinHbjJ/Ifz08RKSlKdykml7iwoydpqfXJQDZTuLfOVH1GfQanO9KSSob040BStIpBXrVS/WFR0LCUJ4OB978dJ+P8TCQhtJg71pZW5MzScuCoSjMisQFqDhVsSB6nOMnSK4WhbZ1cvrW794UOAJ3Pwiqms1ydQqMxKfKyoI3Hzfe49NXHZvg4S0PrS/ifEBEjoKRt+dSHUSVR0ubnFKJVhXCfrqrvrvQYG9S3fg4HL61qqbcK3YXiuFS1HBHzOknC+IlbhHIU3ebBRHM14znxJjuOElQI4zp43xJJJHKg3rUx4aQN3UqSW1BlsFSgckn00V+LC1YNJri2KBB2qXa/TJLLvghIC+59c9zoe/bOn1r9YvpJBI2pK3bDeDT6FrcSADkAaWqZKCIzTVLgUDyqerggoLa/ES4RngE4ydLVA95MU/tyFRU8V6OFyXkNM5OTzzx9dNLZYTzpxbEkajQcuhOrSs+F/Dt/mNNhxBIxNFIWTuKDalQXFFaikhIOM6d21+Nq0SFbkUIP0vZnKDwfrpyi7mvpFalbZScFGDj20WnOZr6FDpTlSyMAfs+/t8saiNeakSkCv5QG1JT5VY5GfvDOvoOaxKsYrVOJKjyVd/xz/L56LTg4oNWK+W44V5ecgYxknJ10pwg1gU9KJKPSkyH0p2jkfQ6V3t4UJmtEIAE1TVtW+GmGUNlxOAE8nBP+c68tv70uOaetOLZAAydqfFtURXjtoBxng88E/P+GjGAnTE7UtuFqC5HWqItmz3JSG1Bp30yAM8e50+tOGheZpNd8QCEwN6oSgdNJBQlTDWUcfT040zTwz41h3smAMVUvTKwXUPtF1opIVlOf2T7fPTm0s0NiTX1lxbhk9a6J9PaKIEdg/rG0gA+4Ogr0kezTqzgc6ckusRG4pakDe3j7xGQPqDpQq4UVCRNMe7ABjagt+jUKpuIfhOMtO5ytKex+fy+mmbNyeZxSi5YKgEprfMdJk1D4WVFf8AERnynHb19Px03t2mtQVzpc4tZRpGaNqnTK3bdMbTFbUpSRtK05OePb66W8SaKyIP80ytXS21POKWsXqJUZE92imSqHK8NRbDq+N3ptUcAZ9j29DqdatA4opUY+lMTfaUiM8/P3Vv27hrbMgwbhhu5771J/r2I0YOEOtiYnp0rIcTbUYGD8Kd9g2NGfP6UbbwggkNkdiecfTj+GiVWQSklG9ch1K1al7TVLWjYC6i9HeYY2w+F7Vfex65HqkHj5ZGe2uSgNpC1GPKtWmi6YSmQKE+u9pO2xQqjW2EoROS34YB4IIOcH8zzqG45xJChoQc1T2nD1oXreTjPxqB6TXYHUuddttVtlDs8hgxkkYU4goBUnH7wzx75+mgOD3fe94yrr9QRB+Jg86yvk6TOxj+P4HWuc4oVydOeq8mA4X5MOZLT8C6o4SvOElv2B5Ix68HXmPD+BuWXF5SfA6oEH6g+e4nmIpk9xQOW6gR40g+vkRyjr0qkOuEarRqvbdzWfJbCKdHQktlGQkL5I3JIUgghJ8pH3dVXaPh7j7gvbdRBTgjBHUykgjfMxON6WtOJZSElIMAcyCPQgjzxnzqzrAvyq3Z04oqqvEC5SkB19KsuEeUgDPfH3++e2razuLhLaW1wVAdOe2Oh32PoKButLg1DInnBx95653qQ+qtoWHXLkDkhiJTKuhaVl1DnhnYTyT+PuPbSji3GrVwab+ITkFQmOonBHxjqKxa4UoHVaghUx4T848qefSS149WqMODAq61slKUNhTgcQQfUkfIdzz8+dMeFP2TygtKkx5Ejz2OYHvHpRDyLpBCDOoiBIO2x9593lXSJFcpVl0KFQ6ShE+SAlsEHBUonHHvnnA9hnVU5epXDdvhPxk78uu55AYrJtksziSOh2j47UTWdZFMuh1xDCm1S9+JskYKfEVj9Xkd1DHYdsfLOm/DnmltgkjRyMzJ5xO4HM/2oZy3OshMhXPH1+oqgKH0BtijQZLLAD0xaSVncPKe5P1+X5/NW/2ntW3u4SBn5+nX1qhtOx76my6pUk/L+PfXOTrf08uSl3DVv0HAM2s5UmGop/VxFejp77lp/Z4IB5xwNCX/AAnvpU2rSDgk8gcQBvJ5nkKUs3i2FFC0yobAYkjaTtE8jU8WT0zidPLsave5Ks7UatVEri1KJHaBR4zgG8OuKJJBVtdCU8jce2kaLe1tyl+0BcdSQCqRBxEwkZkROYkHemls7dPpLDxShs5Agk+YJOMEmCATEUX330qbjUs3lbFovSJfxO8090pYbEwHLT7xSNykkgEuLKj5Tjk5DLigXcMaXFJC0iIUrwhChEpRISOhAEwMnnWdh3bDwcCCoEgzEqK09VGd/XT5TRVerUGqquNF8dQqXRbfuWnNVKChp9IVDeDaPifDCM7g24lDnfADjozznSZ7ifDUIYvnll4vJ7tYGQtaAQdJEJSVJyDPtIEYmtEWd8ou29qgIU0qUKJiErIKdQkSASQY3CzkRUJ9QJFE6PzJ1OsKwK3edwtOICavVFliMlQ5K2mG9y1gnBClKGU+nOpHjFw+2g/6DbNoSoAhSjqKknIIggDHmT1iDVNYhhaB/qb6gpJ9kAoQCN53MzO/THWm5L6p1yr0HpeipSZVDmVC3m5jngHwSlZecDjO4ebb5eBnsOdfbG7u12VsjiCTqXrChJgLSrkNvSZxXy5atkvum3iE6YI30kHnvjrO9W90Tsj9IybJjxmVSW/gVSMnkoUpW7cT64AH8Ner8B0qQ3ACSTnkD5jl199RF8hffQslRAgH47/L1psdUei1QlSW5DFPW4yllLAI9EjGfz4H56urmzQ6gBJ2/ep4hTTx1JMQM+lTTRumcdu8mVvBoykZeeOeGkJJVj5aQuW7aXe6V7/Qb0xZU6vI+/SgW/uojFuqnzafMCavOcKEOozmJESDlSR+8spUB8gT6aRceugkltvfbpGcxR3DmNYStWEmT8iR8RHnHrU/yr0uGuTqVT40eRJmSTuL0jISw335B7AJGT9NTKUXOjHM8z6cqZD8ONvLr60DXW9Lrs1uG0gJpEbcGfFJBcOcqdUPdR9/TGjHbdalaenlM4rVp0hIVHxMVsbdpctDyVuPhCNilFeFblqPHA9OP5a/MMBIAPWs3ZUsqn0931pL3bAmyLipCIKJG9+e2hS+EhKNw9zn07fhpZ2pS3+FcyARGSf4B/b1ppwtSy42CDueRNVj04djUadW2nHo5kR3EtrAd3c7h6D6dv56ETapS6G0mfDOB5USbhRQHYzqiNtpNN2uXy3Fj+CktrCkZyBjAHrn+WmwWUIEcsH1pKUJVj4elBdCuBuZV/CXyptvxnee6UpK1f21mzcqWUIG6jHxrFxhKULdI9kTv0FY5pbtTtCu3tV/+RJmkYz+yElZH4YA1dcNZVcXb8foAT8wPp86kuIKFvbtTkqJPvgn61I1TkSW2HnCoKX55DivRKQOw/EgalL4hby0p2UogeQ/wKo2gUtAncCT8qlauVxPxhluqytbhCQe5PPYflrzDjnENTylA4mBTVhUISDvFEfT+1HK/VkVCY2pSUHcgegGe/1zqg4O0XVCduX70jdTrVqUaoG9ZyafTHILAQNjXYYHI9P469f4aEtNJANTnFXysqjlUR1Wnrk1F2Q4DuU5knJ/Ifw0i4ld6tbpOwigLBmFCRvW5U14jjEBgYSAApWeEj20Gy93FtA9o03aQXHcbCi5mGhzbHQrdjjv3OvqHoASN6cJROTXpPtRD0cqUyHHlcZPcf5xp/w6dQUaDu2UqTU63ZYjcRxx5vapWMEn051Utt95g8qjnh3CoQcfe1SjedES2mTvSpA3EbccnjQ1zaqCoAxWls/KPGck1O9x2v47biQNqOTzznSGCpZCRVHbPaUeLltSlkWTHKSosp3k5JOP4e+sFphRp2hw6QVUNVK122UFDTRSnGOw1uGBp1GiUXBmBSyuSiNsoLRQAo/eJ0VbpWgazRqLgFUdKT1Up6NywDtQOBnvjT61uCN621kb5zQW/EbLhwXPwOnaH1AYrsoBzTRDXlAwQMdwO/8AHtqU15qaO1eTzICRjygcA4PAOum1msFJ2ArTvNp8TkpSnOQc6LSvGKCdQSK3tPhBXhkISEkE8c40Bc3ET1r62zAE0yrYpCVyWdqUnn2H+e+pbit6dJmuLkFI0irEs63YryGkHBUAPT5e2pJhKCrVB/zRKlKS2BtTtoFtIjPJWpoPNFfp3+o/hpywJgAZNLH3layVHAq2+l1rxEx2w4MZ4Tk8+nGre3UggClyUEKJqwLctOn+CEoKMgjdkcfPjTEqSoDSKMFuQI5037ft2JDcbU2lLRz2xrtx0ER0rruiDKRVCUF5pDTcdnzqCeVAeml7qyoE8qLaQUYNay6KiuDteSguNHuN3+c6RrgKgUc2JTJ50pJF1yokxzY74IzvCgfTsefy1mlKf1mvjimxypyWT1WqFEqscPyFSIydqgMjOPXjsdE2r8KMcvpXL6DIB8v71XMup0u7YbM2kiM+tbe9TQWU7z34I4z7g6LXcqWNQGR7x/aufw8A6RjpO1Tbcz1tsVR52dTHkuYKHfMMg+xGPl89Ti+N93KVgCPM0R/pyV+dHnTq+reeZRT58ZVWpSOEokYWpv8A+1WMgfLRdn2o0p1Ig+U9KGuOEoUdLgkCqrs26bCmymYNKk/o8hwISFpBQpXsTnj5HtotntQ074liD5Ry+/5rj/SUtQlJ+Mx8arm3K7Q0W60t9DUcSm98aQ3x8HJyR3HZK054PGfrpDxfjDiUagdSSAVD5nFWHBbNiNPsqmEn/lMDPQj51Df2lb7rtyxxAoDrb6wrw0vpUQ34uPKhzH3NwJwo+U++vP3uGG7X3jSiEnn0PnG49PhTp/jPcgtvCSnltMHYE7EiYB+NQgqqQLHu6n0OtQItOuec0yZDm8gPLSfKkLA8gTwQTgZPGdai+DN0LOSRvq0nSrzVvHQeVJE26HWw+RCiMCRI3x/PU9aK4NoWl1ButEapGM7Wo74W9Hcxh0pBwpSQQULyMbk+VXuDp/wriTK3ihUd4BuYM8s4g77j0OaVcQ4etaArdMgzPod+Wd5+Na961lJvCqU2fRIsmlyZCkFwuPgoSAE4cHiEYwnG4DjPI9ddWzLiHiSE6Tn2UyPkCRsOsVo5pWiVKM+asGccwY+YO00/+llsss12u0j9EOR2A4A2UyVkBAHoCO2dx9e504sW1FRWoJPuIx/9RzS9TQCi0gkA5GR6ckikT9qTo9TJk+PRWLenyajJjTXVuNP4UoMsuPJQOP2i3t+WT66Vcf4Qu6V+ESwhQhW4O5GPiYkYkCOda9+i3AcLhBJExEwIPl5zvBo06bdIX7BtmDOZtqa1OLGEh2Sc4IyrlQ8oOO/oAflpsz2bXbtBlltKRsAB0/vvzJgVz+LCilyVFR3M48oPp15UVTIfUSjO016rzH6K9OSVQojJ3TC2rBPgNkEh5wDG8jaw2QeVqSkcL4App0MJUVPHdCSRudlEeymf9w+0ojQmAFLGzPFkrZLukNtDZSsk+aRMqO+gRpHtqOUpNYWLNuWxqfDm3mmnW9OLZUxSwS03ACsYDhH3T2JSSXVqICigZy44pbqsQF3i+8WYGoAFA/4p5KI2CU+AZJK4g58Nu/xB1MN6G9wCYWfMiJA6qV4owEp3FgULqjSZFufpGOtdRfQ1whpBHrg8DsCfT56QotWCS9pJV54+uB6bVbt9oHUtdxIA5hPX3T/eo/6sX25LpUmsVRqk0OnrUS47KlFKU5PADbX3zjjBVjJ1o/xAKZJdUCr/AIp1k+mQMDckGN4pI1bLW4UNAyTmVaAB54JHpj1rm3fnWAsNOwbSk12cqSospnIjJhtMvjO1Ta1pUopKvIpSRwDkHjUNxfizqPA40psKwSsqEjrpTEgGDuAcjnVPZ8GBAdC0qIyNCQvxRtKlEZEjYkGDFJ+2etV83JFjVq4KTcM9+JJNIuKmvvuKStPO1XJJJx5gVH7yVjUfw38eoEd0PxNudtwpM8hkQoYnxeIA7HNc83aL8JcJbdG5wQrcdAD0iIVFURXLMh17onR5Vvj49y3K07Po7x5HwbyCsx3Ej9khT7RHukDXoVqw3d8PeZaGklSXEiMoWJOAdoUMidlYxUFd6rbiDT73i1JUhRnC0/8AIczB/wDqTiKVCKhHValFcpdVTUqfHaKWxKXl5MUL2pSonkqaUS0Vfuhs+up3ht22bbSz4DKjp0mEndxAG2D40gHCSQBint3auouJcJOEgqkSeSFHrIhJP9QHWnmzRbarlo9OZFWejtPtRXm2HNwO0pfXlIV7YV8+5zqo4dxJsWQbXlOtXUZMHYzv67VO39k4LkxhRA6DAJB2MR8a6ndAKfbNv0e3al47SILdNS0h1Z2qwSOPmO/Py1WWd22LVEYiTHrilXDrdHflU+HryqiV3datZp01hMuCpxAVghwEYPIz+Y/hrLhPaBKr1SSoaeXlG9UvFOGp/BpIHiyD6zUb3Ja9uUqBd11TpCI0AJKMN93CSAEg9sk7R+B16Q3eMqJeUZSkZjyyZ+Xzry42JSkoGFKMZPXGOk1AVx0OI6uXU3YTU9+QoK4SdrTQAAQgHHASAB7/AFOoe4dS+tTwxPX+fvNPA2GwEKGB0P35e6tXJo86C2WWqKtE14lb6wySGWiOG8j1Pc65TbvaZRGY5jlX5DzQJDi8D1+dKC5rYuFxmWtbyqWwpYSFrCY6UJ743KKeO3Og71pKdXerCcc1ftmjWHlFSUt59Ek1+0ukwhQHAbwpjBRuSFMuh5Ss+2zfz+Ol/DlWsd02dQz7KT/AHwoq8bfCgVED1gfufnX9a/2aTedzUiu1Orz2qEwv4lbsvc2HEpGcpST2+Zxo+47M2lyiHUEExvB/fA8poRfFrhKy4lYIE+Ll5xjJpoV+R06tGDPgWc147apjIefHCXFEngr7qJ54HHz014respDiG0eykieUg/z7qGsLFyUScSTnqQeXLFKevu1CRIcZMzLzyxuSB9wE8Ix21KXYSoFREFQ+4pq2nSQDmK9ukjNTqv8ArW4lKywXxSYZ/wDUWs+cg+oAA/AaxtGEt3ywfYYGo+uIHrMfYodyHbcA7umBH9O5PpH1FVB1hpbVpdJKJb7Te0oKfEA/aUR5h9MnnXpvAmyzYOvHK1iT7zP0AqF44oO3Vu2D4Uk/CIHzmudl9NJg0J191zwPHT4SUg4KwOT/ABI/LUDILKnT9k/4qkungFhAO/39akBNGduG54jLSQWkckD9k59/XtryTiLHfupbG0z7q2be8ZWfSrBtmjsW7FZb2ICsDOO6le34Y16pwmyQ0gGdvsCgLh3SAgb0CXi+6pqY84VFSkYyT7k8n+B1SfjQTq9aUXLESKSDsF1a0yFEJabBUVZzjPr9edTbqyuGt5M+4VklCk+IdPrWPCYdZS5JLSm1Hhvck5+uP68a0cdPeAr9kD7xR1ugpRIGTR7bcApQHnipTxGcnk4x/DtrSzVrXrNOSiEZ3o3WhgoLbZDiz3J5AH+euq63UlIlXuoNxSidIoOuK2W34i3Fsgkc5Vzzqo4aoqOrap7iDCYk5qNrzsFU+UtLbSilJKyQSMn0Gj7s+GOtTSbVS3AT+nPvpAXfZbEdJZ8FPiJ5wMgD5fTSxu3CEEjnim/falBKslOcSP8ANI+oW4427t2BKT6k5/hpbdMynwCn1jcqUSVGRS8r1ORHCso4QO+ec/119ZtwU6TTQvjeanm5Y6XXHHV5GAeT6/241ssKmOlFt7SDSQrTTaMYSM89+cjX1hWZFMm3YE0u3mVlwnaT9E/76oULEVr3wG4potMjjnIGdSK3DSIivR2OVJO4E9865S7Brgp5UPToyml7wOOBkA/TTO3ckRS24bIVNElEY8UJwsIJTnIUR+OlV+5HKuUEqECnhY9LK5LAC0k/XuNQ3F7nUYrt4bEb1dfTq2fHUwXEkpKcDB7ceutOHtBQFCXLqjv/AIqoqJY3iLacaBxkfeHb56e2tsASuY8qWvJUTM1TVo0MxGGFIBOQE7TnP5++nQ3xitG0T4qelFkSYi0DygEDBI5/LWynCBFHJWZnrTVpkp2ShA2+GnI85VjH0/hr6hRJhZFaPAA4p9Www6wwV5D2MgndkjXN4YbkVxbyTBrRXK25LjvFaXcqVwOcD6+2gW20gaVUTdOE7UgLvp8luG6qM5h1sK2jP3k+2l101I3rsOKCcCl3a90zYdRgRZhcQoL25XkA544+nH4a7sFEEIAgkb0K+snc7GrBsO7a5R5MZyAte5HJQo5S5z2I/MZ0eFrZJI6V8U6lacSIOKecBiwevzMimuGLSrtRuZU34m1wj1OB3T8+NL2F29y3+cB1Mj9/dRrq1IcHdylw4GRnGcfvWpe6JyukiKrV34cl+mojlYeSFKAwO3PHPy9tK+MW34a2LiEgjlAAOfma1tHVrcDbyjPnt/FSX/4+xqBU1SKOtvxVOlS0BXCiO/fgHGRryO57RFPhagkb8o9eYq0Z4chahOx94NUZ0++17VbsWihPOliOkAIcSvypVkZStIxg+xzj56N4Bxj8eC4FagDHmPLO3rEGvvELbufykeBW8EYNUPTbusa15MaPIq/6RmvOJadaWopVCS59/Kf2m8lK04B2LJIICiDbI4rbBxNqyjcxnrt4VCBMnapn8CvuzcOqIjlMgeo3jnMY+Nf3UPoXMYq9Grz9PjVJCSltXiIz8Nk5SsH1TnHlOMAn20xu+zTjD4WwqBsrnB6evzigfx4caAdGo4I5H1nmPLrSWk/Z+uqF1ji1i2jUo8p1txaEZJSpaiD5SPTk57g47aCtf+nqlPqdZEEjeDByJJ5e/wB+a2e7Td24lCyQZ5xvBxyNPLprZPVNuvT272t+nxITanA3LmvNx1HJOCkE5WMewB799OuH8FXbg/iLhKfL2z/9oJHorA68qCXxdTqhDKlDqPCBjfxETP8AxB9OdWT0s6VUVNQhKenKkSACUlhpWCjI43HGQFYHb1xpyy5a2ydUFUDc4H30mtmLV15SQcZxGfnT3u/pbaMWXEri6TDm1dCVpYQvBUcoIPA7DCuToVjtm08tSLYAHnz8vjVBxDsYWwl9/PID3ZgelSredMvKNKFVWKW/4LiXG6c8gIiMoBwHpavYHG1oHzEAfdBBEuluNjve/IWP1GNKJH6R+pfTfT7R2FKnm9atK2tTZ3TtqE/qPJMxIxq9nnFDlt20y5SLxr1KuyVd3VUT1x59XkoG+PtWAWYqCMISASSock4wEgcm8HesBauW9qCkydSlHxrVjKlchySPeTyrNy2uu9F08rUREBKfAgc4EZV1JMA4AFet43RNf6RVauX2zSIdap892NQm39qXZC0KwlzCsJ3khRzt4BJ5xyj4rxwWVmpu8eAWvCZIBA6T5RvuNuYprw2ycu19623Og4xM9fcaVh6pyLTsN2dUY8Oat9SH3y5MCUNskAeInfjKAVZyBz35zqZuL5dvbq0rTqwTIMkYJxkzGwxiPWn9rwsOrCSlRGdoiduoEYjnSAubqfV6nSKlGjVOkUajrBLMmKy3IwSpGXGXFhXlSFEr2gFIG4E4OJ1vi7qU96XVBCseAlGo+UQSQM6SfENtqdXfBEBzugykqERrAVBMwCFEpyfZIG+DFc2+tfTzqDbtQfr8SuV2qk8uuvTHX0qSeykOEk7FZHbgEj0I1M8X7CpdR3/DSACAf6gZ5jMnzG/ParTgHaZJULS63yBiNtxthQ+zNBtndaq3QpH+pZs2psSoaUxLjhKAzKh8JTLbPZSkcbj3yBn7x1KcOu7tnStZUHWBGmSUuN8wOaVp3AxjT0NP7rhjKlkCA258l+Y2hXXkr1rop0U6wLg1iHbdXn0qqWFcIRTUS1sgtMyHDujPkjHkcPlJ9Crntr0XhfHXLZ5F+w5LCoCv/FWAY/4n2huCCneoTjHABdNrtlJHejKeUlO4n/l9YpY331VgdHeodSsS8Oj1rXVaM1bzkFUeW7Akpf2kLaQ6N6EqKQoDy4UUpB9MG9ruM8V4Pfh627txh0xC0DTrGU6inSYPI7id4kUp4VwPh3FLGHVOIeQJGhedBiYSqRjmJiQIyAaJLv8AtT9JennRmjXR036N1+u0hmS6zFlV6ohUhpSkhZUUgqAwo7cehToO47dXf+kuX3D7ZtkBQCk5MK2VncQfuK+NdjmF3aLa7fW+YwowkGMgwIwR5biK39s/ad6nX1TqZIfTTqdBkwKc6mHFWoBsELUrJPcDA0Hwvi1zc2TNy4oFSwkRtkrA6z5551reWTbV0WwPCmPoTgbZx505bL6pXFJ6h1WnMvyEwviT4bbajjaAO4+Z2DHz+WnXDAtV6VEYAQOcnwgn6YFD8QASwZO+o+Q8RiRz38opp9X+sES2qpbXTyvSEfo7w0yJ7ys7VyXPuA+2ASfqoa9E45xN2xZQfefTn8+XSpHh3Dm7pZZWJHI+ZEx7hj40Oy6DU0Q2riprv6bowJEJgYUlSiPvYH7I5/LRfD1M3ae9tzBPIH9jillyty3ci4EgSJP7+n1oDleHHaEytPVVhSlha97zgCyeDxnjn0+mujYKVKlshRH/ABg49K+niiQkJDpCR1OPjj61+wOhznVp8KXQ0M24FArekjB47kk8n17af2nCXiPY0JjPn8R9cUsfuW3R+XC84IkAfPf0pupsv7O3SKmzkhMquVNrHlaHiNoX7D8fbOtBfWNsdLTaSuOUD5/uK6VauuZcWrSDzEgf48599JmkXmepFauip0uTVUUiDTlpRHcbHhoKyEoS22OXHDjsc8Y7aRs3Sru8bQpooAJO+MeQ+U+u1MbxkMWziu8C5GkbEiYAjaAOcb7b0sKrY8SNPmf6nuWTSqdTVsOCOWhIkvOBCs7WW1Eg5WB5toznS27s7dxwtqmVgkpBk5VOdo2o4vut+NAEJJAJBz4YMdTnYxSzYuM1O5qpBpcJUTYlS1Klv+NMXxtSC2nyMZyPLyr58Z1PXPEEi5DaQE48yqB15D/FFizX3ZnOTnYAzGIjaqi6XWy0i7LUsanJS/TqQ18dUXQPK5KXyoK9/QY0ahsqZS0B+Y8rUryAz/JoXCXFEDwtDSPNR9r37Dyimf8AaSYfkU6NFjIU4oYCQE9yfl9Tr1tSR+G0jmK8+unNN0kdK5ddYIMmStimM+ItltPh45O4jv8Ax15xxSzUiz7o4UYn38qam47y41Dbl7pzQfaVspoaVVSUhsvEZyRgJ/zH+Z1FWvCAlUkeIYpo05p8R2rcQ7gdq9ZUiOVORmhtTwfMT/300d4kHHQw3mN/WvjTaoLyhvsK2VYtqXObWvwypR5KscD5e2dWFuwYlWKTPgkQNzFaxqym2IrEcMB2SseVOMqWc/PsPcn213w+0MkhOTtjNdONpAhXpQ9U+ms9BEp1ZAKsBIz6fP2/znR7vA+9BDuPr9+tDJfKFAjI6e/nWvqCYdFjpbU+MJ+9tz5j8vVX111b8NbYRgZru4vCpYlWB0rIoEtEpQccSpJ7kqzj6a+tHUfKtEvAZBorqcJb8UlaQhjH3lnGR9NVdkoTArB5HhkikFdkFlpbjqACdpGew/AaNWqUnypcEnvM7VOVw0NmUt5amySR3IySP6fXQBeUMV9DaZKutI+4KAwx8R+qBAURu99DOIVWrKkoSY3qar0iNMIWgjwycq7ZwM6+qWRkUzYQdQUdgP5qUrpLLq1oZIKR/wDt/TQ7jwT4Sc05bSrcUnKlBdeJIB48xJ/lrFtxIJpmhRCI50MuUxxKyA1t+RzxoxNyIwa+LdCjNHLcMryNgSe4OpxT0Deh1Ik4FZhgEJAKeQSMeusvxGa4LcRQ/MhYynbhB5PB9vX30xYfpe+K3VAhFp1ppeMDKff8M6A4jcagVChGU6VAGqZ6f0pBmsoOBnscYIP+Y1A3D2tzPKubgqJ0irz6fUx6Mtg7yhAx5T2X9fnp9w7Qn2hNAOr5DerFtCLFcDeVA47J54/21TsaSJFcAziqXtelU+UhLUgNoKgMEHBHH++njakqGc12hEDBpsItBnwEux3sKSAORkn6Y0JdJSDO1Ftg6YOa0Kqp+h3fAeZd8PIwpAyMaEbWvXBFaqISkyadFqXBshJW0reg4zjnj+mjblsbb1xbqAMJ51mXFVEuJAQ8QlSchJ9BpWpKiYrZ1wFQJpPXCxMn0uQ2WPHcQrcNv3x9PfvoW8tllIjetGnAVFJ2NKK25qHKkqnVKOmUyT4eFI86DkZyPl7jRfDFlSoIz9/vSZ96DpcyPvNdBrX6eSXKXGqVOcEpj4dOMjJBII5H5e2mXFbUrSQnea54dcHBOQBNfNj0WBaNzVFyuyjSlLHgxF7Ep/WE+Yqc4I7gd/Q6ljctobDbsiTuTA0xAHxz605TalbmswQAcDfVvM+QqnOpfWDp1086dW7046h3VDq1Tq5w0SdroaSkEqKk8A45z2PGlvaHtXY/iW+GJIVzMkcse0DjfHOmnDrB5FqXH1TqJggH3A+fXcVx1+0P0GotZnzapZtUaRKwo+IwdjxHcBaeyvTt399QHaXsYzffmoBCx13+PMT19aMaddtiAjwyD5pP8efMedRZQbu6idIqwo3JSZz9JwcTY6VFXhg4JWk+n8Rg6hLTgt/w24QVoJkj4Ty8p60wf7SMuNK77wwDk5gATM/Z99dB4/UiJVb0+GZmx3GZEmJIa53IDvhtK24P3Vc5I4zyDr0DhHEgeKd20RqDhI81JVseihH7UNxBAXZl05QtG/QKSMemat28/t2VajdQKhatWtOj25Zr1T8aqvpcckPS5JQG0Obl8NNJHAbQMAqUonOur7thxIXQRcqCWQVaUoTpGpR8Sl81LPM7AbVt/plkhpakJlaiNalEnCRCQkYCUjJhJBJMmapmhfaOgKcoZlR0pb2qcbW0tSA40nA3YHHHAP1zzzqlPH7pCgpzxCJzmOW8wD0xQzVg2QlIBSZIxGRv0kT6msWh/aA6fVeLcVSkyZri0OL8QRmTIWgbgD5Up3HGR2Bx3Og+HdtA4nS2gqWTAAMSeg1ESfSvtzwQpCnHFaUcz0HmRt6mq+sTqJEoqaTWY7bciI8wlDSlEANqVlSAsD7pICle+EemmvE7xTzZSFchMcsT8IzOwx1Fb8EKWnQ5pmNpxJ5ecnp/kbysdaaKKTcFVp04T6ilCy6sYLr5T5ihpOQAnH0A4Gc51L2qUNSsYIyBtO2Z925nyqyveJF1OndRABMbdAkT8vWTvXGv7THXj7QNRrUq2qRTGYtDbqclLziGlrQzEDSSC0rgPqUlZKnu/O1ACQSqR7Q8N45dOf8AbKCmwTJgZB0wlAyEjyMLUfEdwK54ZxOyZEOiCY9RvKlmJJ8x4RsnrSdXfHXGNXLQ6jUur3KxLuSiQHafQG0BllUtCFRZTr6DhIQl6I66payAlKxkgDT5vshxdakcQhzvVISDOEtR4VKUQNI2CtiTMJBJApc9xvhyJbQsFCVKCRPiXPiTpAySJ045jMZpg9ZqTffUW6ujCJkFF0TBRIr6qxUZBFHemLUrxUwYoG6ZI2tLWpSkhrZtUQRuKqi47FXj7zdypEBsD81aFKckROlEaWht+a6UkFQThWkULZdpLJtKm+9lS/8A4aVpSnxTCivUCuY9hvUTB0yCa10S9KRPuWbal2ruN+LKV+gplRqEVUQJlrQnw1IaWCotqy2kKJAwQQlPACu9WbNZ79pSW9iVGSQoe1gxGYmScZIIIqrDYuWO9t3UKUg7IyBB9kk5ncbJE8ozSvqa7j6e9NGLJuBESRUv9V1OTSvHSVePGjIa2vsrBCm1BTwSdihgjnPOk9zwRyzt1MaoQ4pUbEFKYIBEZKTjrzkYp1ZXdvfXGvTPdoAVEggk5T6HeDIjPStHYHVpu71/6FkUVlhS9y/0a2XHkMZyFSIaDlaoZ3YfjpJcjZ8ZAW1vS2p7P8TuhdfhXEjvFmPCICzvKASR3w3U1gPJktQ5KF6douCJZaLwWVIAnWSAQMwFqER0beOJht6JSusa+Oj9Nj3H49iuwbmjR0oDjaHULfCXEEkEJ8kqM6kkNvtEhxKdw3EHFpf21rc6V2y0oXGoSfCqDp1NLOCjVKShyFIVLatJxS3hfFn0pU3eg5KkkhORAEocSJLbiQQVASmCFJ8MEr+3KFUemU5NkXAai30srAU3Sqg4hW6gyCrIacX6BDm1SVD59s6mh2eXZrU6y3qtFyHEDxaCYCv/AEVvEYUJ2k07VxFN4lLalp/EIgoJPtjofMjB3ncTsLF6jdPZ/wBozpPEShEeJ1faf+GQ8TtbbqzASUuFWPK24B4hI+ZwcauOG8KZv7FzhN+qQQEa/I5ac9xiTuJPlXnfE3vwV4L+1TtKtJxsYcRnHMwORzUbuPQuo3SPrLZFGC/0LTWE1GmNOM7HEvNb0SnSgZKS+4TI2k+UOJT+zqKsuGvOP3XCHvaUjSR1dR+uOqpBxygDaqe5fYaZZv2iCnVqBH9JMFM/8P705ekFJfRbllyou4+NSAEpA7FEdfr8jjQnZWw02VoCQCkgH/8AL5kV1xUBF8sbjf3SB+9VJ9mQoXBunqdV2UiAxUJL6luK/wCesOENtg+xwkn5DT7sVbrLzzz2QlR650wkR6xSLtKW+7aQ3usZ8p8Xyk0rLpu2lX5dMxN5rK6Q+8p1FRJwFZUSASB5exV9MfLTC84o4u4K1ALbn1jyI6cpGwGaDa4an8OIOlUap/fzO2POnX0as7q0xW3qi5WYtLsYJBp65JAbLQ58yeMHHp6ce2nll2Y1uh9hzQ1yHMHr5jy360gueNq0lp5A1fIg8uu2TjfbFWcxf3Tij+Aqr06Ncc1tAUZHgAtJWSACBjkA5OcY+Z1dN8ZXbjQ3KxPPny9c/Cpx6wZcOt0CRny949PfQ7cF93R1AaMKzWLer9LcaDnwjSvhy22exV2yCMYz3/n3/qq7lQ0PFv8A8wdPr1+RrN22KEFBaDmf0bjyIkCaS9y23RLVpE2rXl04XDQAlwppsh5S31DsgPk+Ek8cq5CfmeNFscHvnB+WEPgz7KRt/wDkfh8dqCf4rZNEodWpg4B1KUN95k6fQAkzz5gBpN/z7csK75LVu2tSYztTEOJBpKn3HER0lIS27KWvcoqKwokYz6g8YmU3T5ubhxKtKUNghISBEp1nfPkf4p6plpTTDZSdS1QValHVB0gEzsIMR6nnStqypcqj1mLCpVBtWMupIXJXBY2LkLAOfEeJK1gYx3Gce2l1xdPqK0PKgFIBAAG5B5CevPmaLtLZkd2plMq1EySTy3yfKlB0kpsdmt1yqMICoTM0eM+sAeIUBSzx7FWPy1CqsS5xBwCTAAHTJ/tT63vUN2qYiMmfQbe8muhHQxlppkSS2hFTqT/xLpX9/aVEgH6gZ/LVrZPBbynlbeynyAgfOkDyCltLSRIEk+pk1Rl6WlSq1ThIZLUipbMJxk5OCQfwyT+WvTLO7aKNCz7v71E8Rs16taDmI/v984rmRf8A05LFWmuvx1pUgEjcMhI+Z0m41a+ILInVQ3C3mlgmcJx5ffWpuvWIsNpp7ClbhgeGk9vTJPqf5ag+Kt902Up9qqNJLqwJx+1FvTvp88wyiRIhiDvG5pK2yXHU+pA74/6jhI9ydLeCcPemVeEHn1+/80Y46w2kacn+afkfplUKiyC6hcaIkBSlqGPL789h6a9FtrFSx4aRu3Czg4pg0B2wOndFm1qTSIUycwvct+Unf8YnHLYzkgH/AAeumPDULQ+puPCRv/Sf7bz6UPfu27bHeuALg+JKshYIgpjzMRiYmouump1KuOSjT6Y3RaYVqU01twlAJzgDue/Gc8emnnHeOKvrpVytQJMTHOBEnzO9S3Z3hf4Gybs2gdKBAnkOnzj0FIqo0WJAU/MrFQfWvnY22Nyvr8v4DSM24K9ZFO9IQnxq3rFoFcglZRHSlISOAPOofUjgfnpMh8d9BECfWmLL6Up6zRZV6hIMVCUEtZ9VDn8NUtis6Suubl1RISNqV9SjB5shwgrIzzyTrYOmSetZLbISCaW9ahxo0V0hKXHT3JHvrtAIVJoZxPgjeptvYMpaUsISgA/mffXBcJwTXDqpggVIF6sJeMlKAVKVk5x/DWDlwkATypjYoUCR1qbK1bq1LdWUgDBOT6HQighwzTll5aRJ86X06kIitqWpst44yRkD6DWTlvGKPYvJGaW89bfxKyAF59VeutmkkDFdl3zo/RESAFbASPT5aii8dq2eHOtkiEk424XznGOdDqfOxxWaU5zvWjk0wLyQhI/rjTBq7I3oJ1ua2dAp36xSVI4H3fL/AJnQnErrw4NLwIJJqlensHbOabUg7eDkeh+fy1IpdBWVUO66Q5AHnXQ/pfRWpHhJXh3cAkcfx1a8JZ1twOdKXiQ7npVZUa2XYUdtxLIBA4IGm5C0yOtFNMhKR0rdoqL8N5pCwUgnk9sH5axS6IM1o4YiBM03LV6gvISiE/IQ4gEbFqPf5E+mjmXiuMyRWrT6BhQpmyIX6dS0+1FUys9i2QQT/XOiGWiFws7Vo8od2CmjW3aYuN+rkMJ8TPBI27k6OJmADQ7S0+1W+q0CluyENPiQw6CSArsBjtk6EcKidWmYr8rxCNVZtGp9JW07S6tSzUIC1lSJDBCX2gcceyhx8vx12hRUjSsTH38a4CAlfeJME/fw9ay6H9nZutXAxVbbqLNbiZBWypKfGQP+ts4V8sjTKwaZnU3gxS3iBfUcp1egHzyPiDXTPp50kYt23o8p5CUqbaHG3hQA9j/LSrtFxUNAqSI3p/2Y4ApbYCjMeu31NSn1mo9HrTVRjFhtDJUpAU2PugAklSe4HPftrzwXiXCFuxiTt02xtTu4tVIKkInpP8elcX/tX9P7vlViv3VS3XqxQGKUluB4bhUrdtwdhHr27a817VdkFlLl23B1qmI3BI+md6Y23ElB5LbmWkJAGZyDn486mLp39pm/elVQ6f03qBFqdy2xVbfp1QRKfTl+C6GzGkNq/ew7GVkDnzAkHOnd3xQ8Ou3AlWppRCoJzC0pXKZ6FRTBgeE5BxSLhNwp+1bKzKoKYP8AwWtE+pCAffNdO40zpx1Zse3a1QUUiqxFuSGVErSC0vIO3AOUnGeDx8vTVjw/iDN4G3kGUkCOohWcHI/is37BCm1hsTEyOmByoO6i/ZxltdSJFy2Q85T3X5kRUhhJ+8UobAWj0JAGPmPmNBDssyviAuRjxlRHoZBHQiPhQ1w+4GF9yYVpAPpAHP8Az51t6tRpnU2/Lmp1aiJhzG3AwDgjx3MKKCfQHCT9QfkrQLXBDcrc/E4JOP2PpGJHXyimTvEQSe76Z85/fy6TVWWDYE1qyLhoddnux1xoiqZFeWSlfirQVKwe5ISO49dP7/hjLVqtKhhcjecDf94rHht4448EavYjPUnOOsCJ8z0qNOi8i56R1JYnTIa61Dp12NPQGlKO2Y4l3elCvQpASST2HqD6+Qdjuz9yzfB5Y1AOEp1chklR3wAcc5IjqK284ok2ykoMDOrzIIAT5meW3Wu0vXbqh0Yt3pD+lej0CTGfnLYZnwyy5Hfp9PaU42htK1kpDa5O5BeQCkpTjnOvXe3fbNp6wCbZtQUTrcCggDMpbkpJJQI1QdJ2wMGl3Z7s4lt8upODCU5WSIyojVjVJKdQn1qYehXWGl9Xnqla1QiVa3qmVJpjs6JHDkIMvIcSkN7lZKASpJVz91J5ySfOOy3EFcR1FxtWgGCoYkEbgRsM4/an/FECzKdKgFmIGSPSZ369KaMzohT7Jp0G6L86kXLQ5640V2UqlTvho9QcYaLSlfD5eWsbENq2ttbuRk57VD/A+EMDvlo71wAZCyFYESUtFJMbeNWkHnQNvfcSdVpBCEcwUgo3nBckJmJ8I1HpW+i9WaRcvT267koN4Ui0LXtGTIj1Z+pFuW8x48TxofxrQ86fFkN7Ex0BT61qSnw287wfwzj7Fxw528deLbbKoAQpRkkAAJVC0uuJO6ELIRMuOJSNJ0u+AvtXjVqlkOLeG6khIAydRggtoUB/uKT4jhCFkiIvX9r1/qHQLXgSEXJPp5gznY65cdymrrSGHy0+JDLUtSEoWHWn2mcrxsXvUtZQUz3DePLu2kPd0e7VqKS4EKIg41EJQCogkGAEJMaRBJNunswLZwthSQtJ8XdlQAkT4QpK4AIgkypQMkiNIRnTLr79nu9LduwXX036opgTFuvzqUnNUqBjDtKpKgpDsptIG8hkl1ractlI3g7s/wBqkPtECzblwxoSQEPTIKU6xp7wx7BUkqPsFROmvnHOzdygha7s6Ux+YqfyzyDhSZSJOFkFuYJKCYNYdReiVM+0r9n3oX1c6J9UqR1ApsGHV5NNlsR1oqEhlU9SFzlQ17XFKKmFNPNEYdDJUg7kg6rBwzhPE7Vu0bcUy+FL0tOAJdTECJUqNSSClJKtKx4VkGCJccU4twO9cfuWgtshIWpBJbJncwCdJETCSpByNSdQqPab0wuOzf8AVN4V2kzrYuagsOyqY9FcXviVx+O7FhyIrgG7YVPLfSshJSWtqtqgRqfvOxb9vqF43rBHIGDGAoJORBIKhugjc4NWbHbK0vENptHISpUKnT4QCFKQvJBCgI5pUFYxsh3uq9Cpt+SumlywJTFZprqYLZhpaZRX3cI+IVBQooYQp6QHlLpzim2nlhL0V6HKK0vyrPHvwrv4XiGTg94s6QtWkArcWdXduAAJNzpcadbhu/aWlKbto297POqQniNmSEECUpBWpCQSUJCR4nWwD4Qki4YMm3W62o2wY8DqRXLLp5uOkVCFfHSiU8qHKeef3MMv7iDGn/ENkwpaCkjw5zSORw8jkaboacYdW/YrKFte22QpK2kq/rbQVuBsj2XWfxLRTnu4hSg7txD4Ra8QQCXB4CNKkO9S0s6W3FcynUw8M+2ZSLL+zx1zsWoRpdQqcaDCfqstVAaahBcZQbZbT8Q85HUXGg7HS4w0VMukKTIWRwgjTnhXaVskvJIc/SD4czko7xuEOAjKCUI9JiJ/i3ZhxB0oKkj2uZAOyTpWA42qfaBKsbmiFfQuDbvVxd3WuhaqNckeWiqbmUtMwwUZQ64MnlwEHAxwU9y4AKviVgw++jizMhxBAVkTpAgEwNxjfkBUxwy9cYaVw55I7tUwP/6hPKeShPlImYFDVuWhPsSDT0KhOuxo0aZHYKRuKwp3YBtHO4BR/MaR3nBQ0VKZykKJ85I/eflTqz4i2W0lwnVoz1MH5wfoKK7miXIza9rdDbFheFXasEiQDlIipVyp1w+i8E8e20d9fE8PWhjS34VOGPSTv8cj0HWhrm5SX4GdHzgGc9Nkn1MZpg0jpxZPSyiLptzUj9OSy4HWFSUjYXwkeVAyNyQUk5OB6Z4xp7Y8IRwhsIQAQUgE8uQP8nIEmDU7d3JvuoCSSJnqTmJ2GBvMTWLa1Y6q3NU5LlNpLC6Gtt1pDchHhRkEAkDcQMcjBIAHrg99duWL6nUuatGY9xHQxMSOmNgYoZq6b0q8HeHGR1BEjUfZxIjJnnVCW9aNiPzm3nJ6K1UFILhhhZXBQdoytTmMkZUkcnHoM4OGFo+wUpU6mV81J26mQeeDttHXFBqt3dSkIVjI0nfMiJ852PrzraVuxaop0SX4LSoKkAsQog8j59FOOY2pT24AKyBwQOQ5eQl5GoGQOn98ge7NApUUK2IOfvaDQNUqb1JU2mNGrVah7jtcZZUSjbkAIwvKQgAkbcBIGeNJnODYUoAhXIpJTyxBEHG4o1F9q/KWZBGxAUPgQRzrS1tmLGtFMm5rfteryWpBeHw6DEdUtKtu9Xw//MKlpTgFBHB9saOsVXYS8wXe9TkaVgOYAkwSAsQCEyF0subW0LiFhHc53bWUCVTgpyhWZV7PxpA3ZRYJt9qdVGrho8JdQQhqNI8IbjjHGdi153cko45590D2lxD630BKozCzGc4SdRB98U9Y1IW0htZU3OJTBgJP6hCVeZCRmcCgevrh0exbXhUmGpioVqYW21hQKleI5gkemdoVz6AHSq1CUsXN0ADpMCesaU++TX67Ue+YtZiUifSST98qoSwfjGbrgSBLeYp7bLjvhpJwEJAbQPrwT9Tr6bUIaYbT7RWkH0QNSifVRA90V2FHW86vYJgf+Szy9Ej510c6UN0i4RJacdQ454QKld9qM9h7ZP599B3HaNIu0tjYyKpLHs5rt1PHMfH7/ip1+0P03L86UqlMgqcyVL+6lsY7nHfXpjb6HGkqnbavKeJ2amnlJRscn9/jURx+m0elScQqY3UKknGZktOW2j6+G32J+auPrqdfszr1ER6jFFtPgpCP80U27CoFHqiUT5LlXq6zuWkBSsnPdajwcdh6DsAO2snrVtqFOyT0ii7a4CvCkbfzVCy6Uur05thhlLKT5lA/dSPT6nT3hd8lSCBgmsb+3USJ5fKpK6ruRErYiELdYjKK22Ut5yvH31Z4+mfy07daKGy0f1bxz8p+vuqZUpLriXdwiYB5EiCfXp5VJtSnVCpzHUthTLffBG5QH17Dn1xpQs57tOBRzJJlStzSC6sR/wBFxEKmvuuyHlZDfICU9x8uc6IuWoYU6dxt/NKb8/mIQTzn79a01pOJSww4W0xeAoJJ5I+moDhbyiVHkTVWW0pISd4rOuG6f17cZsOIRtGCR31ZouO7t5oFV1qdIHKsBt5S2zIACypPc5x+Wh7K47zJBkUYsLkzS1ul91YdJWvGew4A06W4SJNAhBJjrU23YwZTi0NKUsc7ldwD66FefCRH6q7Sg6pO1T5c1K8FKy4224QCQM/x+X10KpkiFTvvRbTsJnnypB3GURwrKErc5AwPu/hrkvAKhIxTFoEiVYNT7dE0oSfEUlSseUD/AG/roltBUdSsV9cuyAEpE9KRlSkRHJbi3pBLnqQT/TTNtJIwK1JUY1b09mFjaNx2kj5jXmSx0pws1tmBg+YEIPI+R99COeVc92CayEw0PuJTwvJB7cE6xL5SJ2oRwAUx7dtpLqY7imwVgZ7c6l+J8TIJAoYJBAJp3W7bympUVxpsraGEnJPb8NYcGuJX4jvQHEWpEp5V0R6MW3IkhlbY2t8DsT/3167ZNBtAJ51PWpU4oxmKvehUHEAJkMELxwfT/bRS1hQgVSIZ0JM70tL2oiWs+AsBw8BSuNvGlV0kq8PWsVpAMilxTKdWYq1OhpDqBznJIP1/PXbVs83lG31oAOAqzVa9KavIcDMOTFdaCcEA8gdvu/2OqhhtTqZPOszdJbEHb5cqs2nW69MjDc20+eDuAHm+o9DrN1hWmZyKMWoHxDY0oL4iVOEpxTDD7eDtKCk889xnOlH4Z4LgGCaILjITnlXx08q1RemxY1Sp5itZ2qccWFAj04OmrPeJMuLEbf5pbcONqwgGfgKu206LbtMVErDzMJx5pSVBTJwR9Mkfz1u/ehoQM1u1Za4cPI0xrr6+w6dShFpxbkjll5CkncjKeCod8cd8Ea894rdXDvgA1A/Xpj+9XNlfMIEJMRHPz3NQZI6l2dfjd2JU5VrZq0R4R1LC/FjZUraV8nIwSkHkfeGlaGbd621RpJVp32jyyBPoM+tDvXSkORq5TBGDJjfeB796S3Uay60qyoDVHdZueKh5xp16nt+Irwz5klbScqx+B799c37b5KC1KpA6TjyO5jpNBpYSlo4AAOSJIHvExnrUoXR0gtK4bQhPVei/E1GmTHAhDTO8pQ4oLIUysBQTuOSAPU6+OcOSssrU14x4f6DE7woQd4EelJ3FNaHErV4TJ6jIE5SZG0/HrXtRPs1OUC3X69ZV2OWrLRWzWPCBU224HGEtqStpfocJ7cg9vXR6uyLLAYKdSC3qEwdiqYxIPl5YpcX1OB51pwHWQoZGPBpjkc+8inbE6mdWKP1pYos22I1atNMiOlUhCs+MnwUkq2nBTzwPfQvDmr8XrinIDUq0zMkefIEk+QA3o+6u/AkLaJPh8SYI2EzzgbdZ2kVYdGtamdSXU1ei0hyFWW5zZebW1tcQooGBn9oYUfXP8Rqy4YwtzQCnwyecjzjlH0pfcOJUhRSrxR0MjfcHPv3q56X0YZrlZgUqZTnJMP4cKdbQnu/txuPsccfXT9XDdTiiEyIgfz60QwApSUE4+8dalmn/AGX6raV+XjW3oDjcGO+4mkRFpIQhaylIdUT7dz/0g4741E/6CWNa14UvHkkHeB1gH1wOdMGH1rdDZPhQceZkR0nkI9an9+goR1NqVdu+cTYyG0USbTQpIQaaseGhL7ijsRsSgyiBlXiJGMA5MMUMtPfjbsgazpyYGYlO2pekQAANyCYFUTbjjgNszJCRJAgnSOZPspBPilR5USdQb8t37Osqm9EoEmK/fjrLMuo0620ZU1GeUUQ0vy+6FPJLbmxKgopOM+Y6z7R8SLN6jglolT5BSCEgobClR4TEAhO5AEYyDBplwxDYZN9eFLZgnfUspzkE5BVyyCAcRgVtOtlOpNO6JXZ/4pVa67Gt+n1FNSqsG3lpcrdx0pwjY20pw7o8V191KPGdwgIa3eGrISfvaIWNtZu2/EUd+lghZYQrTM+yXSMpSZJUEy5p9kpOQ47PC5ubtLliQ0twaQ6sa9PNRbBHiPJM+AmZkYMCdPvtAVTqZJ6l9L6JbVvWH09ataTLtW0KTuXEgOw5DUxS1ur/AFkuc74QLstzzuBG0bEJS2PNuD9sb7jN66bspPgKW0JSENthHiS20gYQjH/ko+JalKM16Rf9mLThFs07bgk94C4tR1OLKhpK3FnKjyAgJSnwpSkACtg+6/b3Sm4naDIi1CnUdch1mLKZD7S40yMh9rBPITubxhJBB/hVWql2tq4q1JASCoBOQdQkeHnkRBER5V06w09eoDqRKgROxnUBvv7PnUf2NTaPEt+7YFctytdOqYiIKm2w7Jdl05bzYV+tix1LRMju7gkhyMsLBwQoEax4HfoWhxF/bpbUtOQmJXuPGwvUhQzz0jECCQab8Qtnm1hds6V6RgnBTHR1IB25FKxuCCKtHrxa1zPV37PDvSvq7PszrRb9iRIEStU+t+HKlOOOKffTOjrCVSUKdkOFToSXkqJK2pW5Wy34y3wq+tmrXiLiUqAlKiVIdQRAGlSlnUkbd2XEqH/w3sd2uK7PLu7VT7jDGtpWFIASWzlUwlIlByTISWlbKbb/ANwXVY/2urmiWr00tP7VHSlk9Yf9PTK/VpdGgIWHmmBiO40yVeHJkvtLZWphtxO8uENkrTsTRcHvOOcNaaYuFfiGtg5IAMeyA7ASF4gFwJBMJWUHNR3Guz3Bru4durBXcnA0qmRMaypMlwNgkg6QspjUApOTNFy9CvsufaAtlqsMVKM9bVTS6adUGAt8U8+Jtc4ID5CCSHGHUJeZ7LSBhWtLfjfC+IBf4lkEgkKTGlSVDJGgmW3P1aZ0rHiaKk0wR/qnD190HNKkgQVSUqB2lxI0uNnZLgnIEkKMUCWx9kqoUCuRp9sdWqFXbocKafBryfBlOSo4ThMWsR3SG6lFQAOHVIkMpB2u4SE61teA8Ha0M27y9DX+2J0PMbz3DmlWgGZLLiFsKkwlE6q5vOP8QeCyphCdfiWn/cZcP9S0AoIWQMPNKQ4D7YXkUWD7DVbq9VZ6g9PIFNsyRSX0xLao9FlSH6JdSEKddLjsVYS9TwqTIdlv7fEASS0F4Ukh1e9mbPiStV2UuLI8LqE904TupLrWotOBR/U2UTCSNKgRU7bdq7yySW2iQ3PjQ6S6Akjwlt4DvEgYGl1CgJM4g1c3Q+o1u40OdMr5RImVtpxD0yrFsJZrs0EKMtjb2YLgUEoIGB5sAKAC60tLmwWLe7OpJxq2mMSQRIUnGDuPdHN/c216gPMp0GMIMHSNwEqEhQO4Uk49nIEmy6d9neuR5VYFSpy3aM5teaX4fKHgctrB7D90/I/LOrBvh6EPBwEaVCCJ5HnnMpOU9OVTrtw8pOcKSZBjn/B5/HcVJ1zdP7sh1KoVF+ImhPLeXtlSVFpTaQo+dR7nOMAe3tknWXFezpTqDsBO0T+848tqx4bxpLgBTueZxz5g5nmRBzQjcdchNRKRVHafIv8ArMbc0qdUkLagxVb1ELEdAK3FZSpKdo/dxxzpY1buBstMJKiCd8mPDMSBIyI9TtBo595gOd48qJA6gc4xOMA5J5ZnArxiRepl/Kp9XXbNxVdhEOWEh9kw2ZY2q2lTaFANRwSMqKgVeUZzkpHa4bcLdR35A0rB8REhPhkQdufMxPWK4u7xgIUbcFcpxpSrSTJ6QCRvOxMU9rDtKo0qeup1ObAemvRIzb6RIbTCgOtgbkR2EAA/dTyRtSCEgKxnX1m1QUtuuLSpaUqSogmMkkGBiYMHzBPOuHFuJWtpKSE6tSQYBEiCDk8/jvyrodYtmQZ1EQUNQnlKRuW6QTk+qgVd/rouw4jb651yTTYcHcUj2duf8UjupcKmQVF8stvKck+ChgObUlYVtAwMHJOR30xu+JtoSsR7MZOeh222IpG5w8hSVAxqkwPvyqLep1y3HItefSbFjLU9wUN0eNkhrtuUUDgFXiHcojjnPOuEOuuBxI2yOgBHtZMDy9xoQhttaCswMbAyQR0EnbpnPnUL1miOVelU6NXr4p0STHnLkS41MdFTmuLKfIyXUq+GbcUraAC4sjByng4irVq3Ul1pbk6tMlPJIUkqlRgAYjGr2hzp3d/iFLZU2iD4h4jklQKRCckxIVkpwDTzumxXKO9YkFNCkxodvUrzS52SpUhSQClBISgqAJyUpJzkA6OsbYtcLQyU6A6oOHVk8ykSYMnnj4GgbhIXxQvatWhJQI2iYJjI5SJMx5VhRX58KNUK0HDFpiEhPiKOBtSOefXAB/MnQVzbKdVoSMtpif8AkrJ9cyfPFGsqQw0nvMlR1R5DA+gGfOhzo/8AbXjW5U6sl2ShiL46gFKWdzg7Due3Hb215Fxm4CeJuMpVARAnrG/xNX3Cr0I4ehTntrE9IJ8vLbNOWT9rqJejzj0crhtgkKW8QkFP73PYfXVpZdplHwHYc9vv5VD3LCnPGmMzIP3zrSM9Vo90VFVNhCCI6k7DKSsEj04AJI/ztqkR2mSI0uBXUH4xSj/SS6dOgpnmMj5cqzqPa7cWWluI/wCK6rJckvA42bu/Oj7zuFE3CRM7HfMZ3nA2oWzZeIDUjwjPIb8v3qtbfpFMeoTUaNIQ4lSfO6O7h/t/PXzgt6df5ZmnN/w9PdAK/wA/fSpH6tWTUzNlQqbFW6Fkk7E8Ac9z3/w69ODQcaC5ya8teWpDqmiNs9efxqeapQqVYtJl1GqsoaeQkqK5Az5/QJQe/pgaAa4c4twKVt95rRzirTTaoMkeXPkB1n/MVzg6k3FUbxrkhwuEpUpRQdnmxn19NTfaziJCe5YB0jE5r5wm3Lp7x8gqOY6eW8Yousy2Z8plBQENNIThx5XIR9fn8tSvCrFwQiIJzVVo1eI1p6zS6fGqriUrVJeCsDeMY+Z/t6as+JWSEoSDv9aWWoAcKk5NfWGy2pJXvUR90fsj5/noa2KU8s00bmPEaXF3xWw0pKXCpawcenAOnbJQU6iMUrugudINTncTrFPbcUBvPOO5xzoV1I1SBmvgeASNRqZbqqKnXluOkobAOCM8/PQSlr0nMk1q2U6tZ25VN911V4qWiGhQJSdyzk4+v5jRLbQSmDvNb/iAVyowmp4r0N+Sd5cJUVYAB4+n00Ut0o3zRlqdQlOBQO7aLyikqHOPn76+J4qRMCju6KQAKb0NpQx7YyMkZxqCeVTUzRDGQgBICySfQ/X0GlrijO1dNYrZQIy2nUuDwzn0x/nvoW4eCkwaH7pQmnZai0hSEOhCDng+moTiiM4zXz/bHi51VVi0ATlsDaCc84H+f10x4LanWMb70rungEHVyrpb0dtg0+HGS40EqHOAMA/hr05y6VIEQf4obg9joSZ9RVKzHUxIOMqQ4EjGMaAdu4zVKpA0xzpOy6q1UJb0eQpLhBwFqIPH46PsXi6kFXKkV2hKFZNG1vUZgt7G4zLzKhykhJC/xGqDQvSAoiKCSlBmBmnvZ9oMocbeiNttqyeAe399MELAAIPuxQi06gUkYqxLZaRHgtiY4Aoj1OAo+x9joe5eRGiaOZbKhr5ViVmg0u6EvQUuJQ8gFW3I8QD3AHdPv7d9ZNd0uO85fL18qLdSqPy4FTpd86ndN5Lnx7DDYV5Cp4Anvx8hnHfS5+/S2otjfeP5NcN2pXkpn7+/Wvm3+t8i6rekMRYa4pjP7CplWVKTkA88enI/212Hl3AZWsg6wRA25j5fWsXSEIeQn9OZ90jHxoCn38n4m+aU3WnVVGHVRHZDo5YKU4Cgvgjun11I2Z7+3ZUiQSVSRPWDGOoOaeXP5TrqVKEDTgxzEj4ihaZMqUMyLpm0WPVawZKYkyTEIaekggAKd2kJcCkZTlQB7ZPGjnVGEgp1BUyME9d8Hod6CCoStUwobQSJ6YMjaRsK3kdTap9Rt2Mw7U6O/ThKj+GsoktOIIIQplYwpSTwS2fTQYY1JcQM6SCAUnM79QdhgjnWqJ1p0gglJEgiZG2OtF3Tqt06rMVEVWs3XJa8IKVCkoLjjKgQP+VISVDGR2UfTX1otNNHw6Tg7qT7hq1D4Cv34tT6krcVIMjKRPqYz76MrgrsW67fkxWV1GlU7aQEyYZbUopCTlSEr9Np9u+vxuAHApzB3gQfppE5rN2y7xMJGCCJIj4Agn4b86IbPo9OmX3IbfnvSo62kqa8VpQbUoNJACd6Vjnkd9NLDi7YUsAkHMe1Jk9Asj5Urc4a4CFahHomPZjGAarToRAMW5AyhMNltdWU4osbSkIQ2AQoEDGSnsBxqh7OXCVqSpIxBJM7yehGfOs1tEOaJBJI25AD5V19sOmUCHTnq+hENqQsFa92MAd/76edoOJqtmQpvFXPZzhjTrhcWM1Jn2w7sqEWx5CLXm0O3axLSG0TZKQpLSCcZSkcqUSoJA45OvK+OcUW4hKHnO7CskjJjl/J2gUy4uwGypTCQojadvPYZxj1I51wUr/TzppVHaD156u9Vrw6yWLa1ej02i2rR6e6KfdlxLSp4haTgSG0bW3HTyhLTLSCrLnmU2TNlZob41bW637hepFvr0wkD2ngk7aCZ1kiVlIAOkRB8SS/ek8Ou7lKWG1ILyUD21GVJYJ0gAEAa0pJ/LnURrJrG6gfaAuO7LHuW5+hXTmMer1JmKblXNXYPxtSexnfJhp2+El5AXhCyFEJCtpG0aVcT4pxi84cbfhoLOnEAeNaTvCzlOrcxk9c1XcNZ4Y3dF64AdVPtKyMbEACDpBgSCAJjakx0At7qNe9SqMnqvLranbpt6p2XctQrjyQ5NKsvQpKlOHcpaQoJ4HHgntjUz2R4B3OlF5DYUhTagVAqIUZBwSTAkZzgeUV/EuKOq/MQSdJCgSISB745gbYqZrLFtfZt6223VL1rFVrFz2/WVRKpCgRC3FLJ3MPoW+8MqSWnXFeVJHbB1J29nacC4jpGtxxszMBCYkZ3KiI32GYr0Fy7d4nYqBhCVDMeIyOhwJB9RVY9UGq10+srrxalrQhQhTKTHjePGSXHz8NL2trLxyUgxZCFggJA2nHcHXp/aRl1FpdIYhOlP6cYkEGZk+EnmeVTPZ99lx63W4AZI3ztA9MyCMVB3R5Kqp1MoEaqyDMRUXxAkOyCVqUlSgrzEnJPk/HOvA+x913fE0pOQowfft6yYr2TjDqFWiidgP7fvTX+1/Yca++tHTWiVBDrVGajutVF1ISlxmGzh6WUY+6oNIdCcHO7b769k7Rud5esMn2RqnyAgnO2B1qM7Lu91ZOvtnxnr/Udv8A7sn31qIv2r+qdt259o6s1ifGumg4LlMt2r7n4EFpqbHp58DGFx/EkSnQktqAxBPlPqfw+8ctXHXrVZQVAyBlMJgCUE6SMgTAVE5xWPFODW7pt0OJBUgjxDC86lSFDyEwZEqoi6TfbQ6N3IHotcj25YlcmtpTUGK7FWhmW8BjemoRShLmPNtW6ht0BW0lWTne37WlRAuwU4gqCQ6kjppw4kTnSe8SncKG9LrrsatB/wC3VqAJUAFFsg8yAPy5OxKQnUMKTFdcrYsK2LvRSbqixplqx6zTnKjVahSZCqjBpkVx4fFiO2+yp0vSXnW4zDKSorS4EpIDgI9P4fftXjCX1lJMwpaPy8gCCU6ykFaAlUzmVEjE15Re271qtdpqV4MpCwFnTJ3UEyQkhQMgRpAHQPtqu0KxKyuvQavIpkeLEbjsxWm3H2qPCQrY3BbwgBbm8lUhweZSwtOcBWi1XlqoAsggj0nG4yreRncHIBpUG35hRmfInB/VhORHsnzCiMgCj+mdw9FjXaTVpVcjVGoTFIcjxUNBUkqUcZ2pyo8gpz7gg60vO1LTqNISorjKfTBO5257wNsV212fVbqH4ghInpGYkDYEkj2ZGfUV0Fl3nb9Nq1NpdXq1LhqqKPDp8R1aQp4gdkpPdXvjnUUq5u2b1u7cJDS8DoD0Pn8/fivR3E2btsq3QBrAmOZ845ikTffTWm3hc1q3PcFVp0G2mJjkOsNqQ2FtpIyh5t0uAowBjaELKye6cYPvSO6dsVifzm1JIlUBSDggjSTjJBCkx0NeIO2byb9CyYZWlSTjKVAyFBWoCDtpKVTuCNjzyvW3pSXqmaVe93sxGlyVNNQqShDTGFNrQpxwA5IQCCOQSpWcgYKTjfDLZy6cFulwoKseL9JTA6HdIM+nWseF3t02wjv3U69OYRGZMnBPJUHpEg1PFVptES9Rald3XyjOxVtVItQag8+01OX4S0uPLbUd8vYkKBUpQQPNhQACdSY4Kx3qFqDgUl1Mflk+KEwJTPrJ3kCqB7iriUuJLjehTfilyIEqk+IzB5RATkztVG9MbcYl0enSKRWaa9aEhhoMOr8UAr2oOfEUhKD95pIwEpxjaM51lZ8OQlPep1IGQQpBTg6hMGDGCYIxJHMVy9dkr0nSozIKVA7RIkSJOqfP2tpiybb6kU+m0g0qDcLNXk5LeKdEekhAIz5nEjwxgcfe9tDf6U00onUo8oCf3JAgRvJp8zxdfdBICdus8ugBPnypI9R6jS5sR1xdVp0CoLy1HfqiS+hh9aSVOiMyrCtrZUrCyQNyVHHGnrTtswQtYJII6KMzCAI8IOoFWZB09KmLlDr4OnAIzMpEASroo4MYjJmM1ItyVGwr1oFViVm6b4u+30oCGqZCXGpkbYgAJShhlMjBUEgnKUK8x4HoLY8Tte+7sS4UDTK1YJ/q0pAGSTHjE4xXF9ZXKGQvDZJ1QlEEbkCVyTiAfCYPPaMWxH+ntp0xpm0emEK2JUaZtWHJipDiXlITnDigpwqShW0Hen7+7GFABcOJqR3iEtIRgHwz1OnV4sz7WTB6bSY7ZIUEHvFOAFW8RvJjwgbjSISDA58l/Pu6dXa/U61JjU2E5JlKjpCGlKcUEnGVOuqWs+33gOOw1leXCi6EpgaOYCRIA5wJPv8ASumbYFtUfrxBJPPO5gDy2oO+0Xc6Ilqy7fpzoaiQ4X/Fq3DC3lDhAx7Z/PHtppbP93aIK/aWSszyA2n1PywKAvj31y6ArwoAQBiPPzgfuTvFc17UtlLE79M1DdGZ+8tKu+CeDj1JzwPz1/Pp4Z31ybpfM8/v5VcO3QbR3SsRTVrlt1m94sY034ih0g8oaQrD8vA7nHIzjg9/bHfVPd2pfZLaPCnrsQQfjUhcJUp3VnTvHM/fzHlW9pFgosyAmo16TMhtMgKDPxBShsem7B5J/dHJ9hoGy7LtMpKlmEjckkYzJ8h8zRTl0lOkqMZwBn4Abn3wKaiuoV2urt6l0ZMltKwlZZQ0XHFAngkk4zjnHz0+tStViVW0gEmIG4HrsOnM881zc3f/AHiUr6DG8H9z123q6umHUeo0mKy3dU2NHJGC2FpUVK9uOOP76p+DWrjBS4vy+H39axveKJUnu18vmevpTHrnUihvt4hMQ3X1Jx4ilgKA9OeQNeiMcbbSiRsKnX7UrVqT7VQj1UuSPVKm6mfQ3p8TdkLR4awo9s4V9NH3N8XGwWCCekxA94qWbt0BxRfTzO4meROD9ilvRumtFuJxFUm2+/DhAEjewlJUMfL00odeuXBoKSD6g/CmzFizpD+CIPKBWdWLehsxHoFIgfBQ0pIW4EgD6Jx3+umiGw2oQJP386+hEowYT8J/tUyTrRirqi22WXi0FZKthGfxPPOseLJE7Sa+cNsSPCk4Fb8WQgtbkM5UB5sevy0FaIbVAimy7dSQFGlbetseG04p2PtHYcd/pp6zbAjIpJeJkyDUl3lbi5Cnh8PlIzhIGP8AD8tZutmACMUrca1KOkzU0XPYsuQ5hLC208pIT6/M/PQn4dIExXdu4pSwEzG3l/mkxWrAljLYYcCTkbjhOeO/GsQ0gbUzSszpVn4ftSkqdpR6WFPSfByCTjIJ7Z+udZrZC1QaI7/SBAwaUdSnQmZRQHQoAfsFIA+Wtu7QMV13jpyedbqNDdwkBIUMd/bXmLr43q5I5AUUwaK67tKkEjtjHb59tJ379I2r8lIBzRDCoZcWEq3rPy0suL8JGK+OLAE027YtmUpbRbadTk+UbchQ+Z/PU6u4LzmlByMzQNypJTqPPFXz0goDUNUVl1Cd4woHsU/nr0fgjmpEkVNvsaV6U8810Tth+DT4DTpUlCdoBB/Z40zvHAnJqg4aQEydqAeoPVWiUdhxMmXHQrbjJIGPl+WoXinFWkHSpQmmbTkHOcfCp2oPVOn1mpIFOwolZBWV8Zz39j/vp5wQJeVhQ9JpDecUCU+zVGQ6+9ThFfTL8NskeUEkE/TVG2e7c0zNcvPp06oxVR9KamitTGFRxOLgKRkggH3xqiYSnRrIpY5dlR0pzV1AxGKL4TjKGnQn76uM8aS3l/JkmKc2tsdOk1Lt1X/OoNXbZS+8AlW5tbayH2CDkFJHcfPXFq86TAkx971s+ygDI+/rTHg1CgdYKNDp0qqt0G7ggpiTw0lSZQPdJCgUknHLZBB5KeeNPU2veHU0SkjcA++Rn5fCl7621pCH4PQkYP8A5Tiehpu9MOkVUtW2Kgi7en3T6bNS+UCVFpyIgmtkDDmY+zn8AeNO+MX9yhlpa16jpPtAKgjzImDvFIuE8Ct0KuGi0ETpEpJTqBESQDGNht8DNAiqb0m/1fUJUjo8xCkVBwOynodRkKDz/lSVFKlnbkIT2BHGpHhnFFd2AWWwkZACI/5Hn508vLBvUpZcXKoB8U5A07EYwB9edfdapfR12sTE06DT2W2HVIfZkrAUFDk48QpBwSOc+uNL08baUmUpSAdsbcp9k9DtR9xwySErUTHLGZEjdQn40ha+5aNr1VpybMokVIcEunyXaW94bb6sAKDjLqwQexH0P1yYul4DQJ5SAlQM77R1xisFWyANdyUAbidaYOwzkRtM7UH1usdT6pc9Cftml9PK7bL7hYk+NHlJU0onBKVrxj9k/eHbWSOF8RW7Ac0txspAB8v1dfLnWVzxW2GdKVK2MLWfI/px8ao3p708vquBmPeNI6XriJdy+4rxPGPdK+UlRHcdyO+ndhZAI1uPSEjaJHv5cuRpe8+patCWgCTBMkfUmfWB+9P2iwejlAuNLIt5dZq4YCfFCXHGSAADj/p4xk5499fmOJNhSvw7IPmUiD7zn4fCvymklSdaicYEn6fzVR2LeVHpsOUqp0e2bVYeQ98Kf+anIAO8rAyRnkgfu849GLfaE27JFw4Eg9NhnlMn44B5UYwyHFSEAHO/xk7e/OwivnqR1Tu6pUKZbNoyXKe58O0wzKkHwwsqIBkFKeA35ioAZylA99SfaW9cu3NCvA3I3MkJ6+aomAOcbU8s7pTaNDZlREYxJjnvAJjntPOg+HVonVVLtszzNkUtpv4Gnznz4glMIRsW6rsULX+sB7nzHH3dK7EN30rKYQfZ8kjABnmQMkefWtXbt1JCEmT18+v35eVTJ1k6MSLoaoUHpfd7NBtqjQXKfRYbFRYbRDDq9z75SrJU84QE78ZCUp9tSXaNCLp4vIfCBpCQJI0oHIAjmcmTNNeHBDSA0lBMSYwZUrcmDvyHkBU7Wz0pldNZap9eveq1aQpAZRHjVIus792ElW3HGeCACSkkDJI0HYFhjxIWVk49okffPFFBTqzJ8AHURtzjoPMcz1ip8ndNXuk3UBu6o8CXVnqnJ8SDFW4XWqTNZUVFhRJJW+dzzaRnY2l1KlbyNqMmuEtWV0q4tEiXdziEkZ8Ijc58ZgJkhMmCH4uPxDGl4QEDbmoYEE9OQG6vCTAwVD9vuwV1+lWp1gokdbsKqRjTqw+EZU/IQNqHVe25CmlH/wC8c6/dv7Rx21avmdhg9SNwSd4A92c7VQdhrvQ6q1cHteIdNox7h8cU+qKl3qr03t+8mlxnot2W5BtmsIKcrFQbYW1xzgb2y0v3/UkcYzqp4MRdWDbpVukIVtJ3E+/IiMRU9fd7a3qmQMA6gqNowfkUk+Qrnj0BpMyR1Xocp6E6iRS25c91JRkB1hhzbx6/rCjXh3ZLhq/9X0LTlvWT6pB/eK9R4/xQHhq3En2kzv1ST986sL7QkCJa1bvG6JTrdQlMSZ8NtaVYSWmnBMfySRgLVCjNAezi/ofUu0JQ0ovJ8UEj3RqJ+WnnvikvALkuH8PpwCo+/UUJPwKjn4Vztr/Ty8at026g0u1rYuS7v/mtvWigU+E7JUtUFiRNmuKKEkBHxckqKlHG5YBJI1+tODcQXbLKWyAkJEnwgasqJUqBEp3J59KoL7jFii6bbcWkKUVKGZJ5AQJJOmOXKtJ0H+xD1D6k9QqXSbpYtq27eipFTq8eZWWvin4aFY8Hwo5dcbLywGd6gCkKcUAot4JPBOzAeWEuvo54QS4fiiUj0Kp8qB492sFs2Sy0or5ahoHr4oVA3JCSMV1Cvjrp03sGbc/2OOmFw165+u9dnqm/pG3GEQUpu9UYNtU1iU8SmPNlM7aUyEBSafugsIUH0vOi5Y4rw5q7HDniAh4BClnAaM/luHTKtLajDhEBLKnFZ015+rh9+u0HFXQSLcaggAkrbGXfCYBOkd62gg6lNhJkrzNXRy/Llqyqd0Gsa3zTbMlMOVKt3GxMfnott1KlMIfVKdJ8SOp5uRHCUAKdDBeQkh4ACNWFzZ3S7QM91pUUupSIKSkwTMnxoUIIJOopUBsCWvG3WXmRdpd1LgFsqJhaVeKDjwpWkhQViNQTgjHXf7OnT+ifYktaqxlu1e5r4mePIl12rPGRJipcIU4wlaiSXykIWmOjJAIKtpeSFN3bFuyT31ngOHy9qABvzWnCfMImYzCHihvlkLEFAgwDOkE8v+KjknqoyOTe64faGdi9OKZd9HpcSrdWbVqbMalHxyENSHWkuOtJUvAVuacStok4cI2A7hjWqLZdzw162dVCQlLgUZASdRLaif0pUUlClf8Aw14VCfEMbYIZ4ow5BKgpbZAySkAd6AIJUUEhUCVFELExFQz0I/8AiG9UbJ6lno/9oOqP1i2bhfUaZcTjCW5LC3iVtJcSQBsCgW+ACDgHsdRaO0d7we8F44srtnokH2kg+FQmNkKjefCdzvVyrs1ZcSsS1bwH258QMyfaBPPxD5yNq6CUf7UNoVN+Yxctw2tTUsy24qXnkr3IW4FJT4hCSknKQOQU89xr1Fvj3cqIJUttA1ezJABGZBkbjYkjMpFeaq4IXkBRSAVSM4kxMGfCTg/0kjrXpNu275cONclly7du+EmPNYRJiVmLFVuTv2I/WslxJztH3glJJ44OXTDv4lwi3uY0rGpKi6IECSQkwRM4IBiORqevGO4MXFrqVo8JT3Wc7AOAKEiDvGcHBoZrHU24Ya6q3NlWs9MbcaaeMuvBxWUtgqWp1zgK3oV7dicDSDTcNqBdUArSmcOQZOQSQSRpwPrimLi2nFEMjUNStPiTIgYMBUAzkjYe+h6zLtu2tuUxqvqp6mylyU+uDc0R3e0glSVJS2lR2uEDaAAUqJBwMaQh4LV3ZebUlagAZVOnGo+yDKRhSZkwlQk02umHGEqcDDjcAmCExq5CdahBJBQTyKgYgVHPW7qLa9n1aZNvO7rgQwFOQIyWqi9LU6teFzH0IaiKxyUsJyoeQp5TtxovtIGrf/uFNSlJnAcP5igQkfpP5baZmfbH/KaX8FLjye6Q6E6t5KPYRzgA+2sydsEwcRW/6G9T+ltEmUCqfC3nNZq6lvUVqago8RkIyqe8lThDcZAyU7kBS8BQAQAVx1pxi2UE36LU6SoJAMgrVvABUSEjdRJ2BG0kUtzZPK1Wrr4kJJJAGAcZgDxHZIAmTPlVQQ2qM1NhMUS2Y7MF1bspnx2ZEl11OfvuKW7guLUt1ajjk/TV7c3xfUbltI/MUPEEpyYkmSDgnSE9EiOQiQatCz+Q6T4EjGpWBOBuMgTPVRJ3mvWJak6lhqQINKoq29zxDcFlsRUkbipXBUVnPCc8E5PPANW2+7q8WSABsnc7mAMAcucUGgtthISnAkmZPuEk5+nrUOdU3rh6g3nGtmM3PlREOlbbIVkuKIyXFg4SMJHc8JBJJ0k7WAlsMNKJ1Eee0gCPPMDrRnA1BUuLTECPjmfdjNZLFmUimhiHHjR6tU0jEiYTmPHGcFLJI83qC73V2SEpPmSt2BYSNi5y2IT6H9S+p2TsM5rV0l5YUsHTv0n16DymTzxivSdLFDcdZt2kTK7c6xhKGmwAwPdxR8rafYE7j8uxLVwojS66MxicT6eXn8BS9fFkpWUsjUfLl7/2+NY9MsudXKlAk9Q7hpUaQFhYpzaw6vaMcZHAJ9+c/LS5fCisTdLkHYDYfKTjqa5YDi1SYT1G5PzgfOnPLqNs21+kJVGoKI7rSNokP4Urdg9s+X58Z7fPVzbtJSG20iQB+/1pW68kFx4GMnJOfvn+9R9e/WKWirIh0x+TKqBBcLp4AB59f2ec4AHppb2k4n3KMiSowANsbmeg5xvQHDioqKEZ0jxE8+cevl7qEB18uGI6IJelyFJUGnXGhuLjihkMoB7rI5z2SPMeMAxiuKXLJBwoDxGP0pmNRG5k4QjdZ2hIUUvPxIJKQIUcAHmQMpHQAGVK5YHtKSC97FuVM1aaxcEN8vEgojspUSk+gCfU+5PJ0+sL926SCoFA/wCXL1VsSefLoIr8pKEJJWJ9J+QOw8qoGJOVX3UJcYeo0ZIADD20LX81AHj6arWeJltPdJ+O/wAPKhDw7WoOcuQ2rXXRTJhiOsxkoUgjaMJ76eWT+ApJmg7xKv1YpKM2zVESNvwiVLzncfT89frhayormibdRKQEiaL49DTFj4cj+K+fZPbQbS3CuTtTBRTp86SnUGhuvFf6lKRjk7eAeT/bVTZKKkRUlfMjvMbVI12UQpU4oICQfU8E/wCY1262r30IGEwFLwDU+XBDDZdCQta/2cEenuO+lTrUSo8q3YUBhFIS7lxmUOlaAp7GQgAcntyT/TQCQoHO1GI0KMp3+VR5eIlulai6wyjHrhWP7a7feGdOK3sbcgDvDPXFTHVmGxOeC3G3V+p2pP8ATXSCoiZo1D4SIAqkIFLLikIS0SPQ9teCXF4BmavVIwQKYlLoccJAdKgrbyABqZu+IK5Vy2yck0d0u2G3loU20SkgDn10tDzrhoS5WkYHOn5alCQ0G2EMLUs/LgHT6wtwozEAUqeJSPWqjsqIzTm2nVhSlE4HYYP9tWli7pIQBQAaxrVmqAjXDGZiJjrwRxnTd25SYUqABRKHNI0o51gVXonbXU6kSZD7iVuEHlKhwfw/kdZXvZe1eRJQD0POfWsGSpyVBZBGOvypP2n9k+oUSsF2BImGMle/ChyefljOiuHcOtrRYQQSKU3dncviERjnn6CPrV/2Z0j+KpLMd1subQAQ4ncoED0J9frqxesgmFJOKztyI0q3TvNUH07txdtOOJ/RS9zYwSUZzpJxi/c7ohAwaccJtUKeBUazuo3USdTIpa8NaQQAkbScHtqHBeVJ3P3tVutTSACcedK+wLpiXdIkU+sQkKqJJU0xJb3IcP8A/GRyFf8ATn399XHCe8LWpGFp3HP3VNX2gr0uCUnny99Oy3KnQ7ace/1DadOSELAQ800s5Hcb0DJSdMWeJutmDkUC/YNLH9J5bn5TFdEOkfUqzbloSaYthcuKlvAy2rKR81EZOP4aqHeJB5P5qcEZofh9qhmWkHb19+5phf8Ahz09Wl6QaCX0rBASQBjJBGOOOefx0vvH2WUaUozy+4oxvh4cJyYPn1qBvtLXl0W6PwZ0+v8AT1+S2p1RU4ewUCTnP1OdeWcX7XtWSQS1pSPjGegmjnOFIMlwySeZO/uNQzbn2q+llxuJotBpVHomF7oBdwUoc/d7+up60/6pW9y6G21w4dgZz5DOSOQienSgXeEoQCIAT15T5k7TTysf7QVQvKXV7QfppTcTOfDRBp6SHAO/nUME9iCNNLHtRdXaVIQhYUk5JBAPoSnPnBoc90h3ulqEnASN/OR9zTeo9xXZJ3Mz6a7SVuoUCZDiFPBacDlIwlOR+8QSffW7nElnDihqiYH0k49wk10gdBE49/1z1rLcm3H+koy2qlTmkfBupUluSElCgk8uPAbs8fdbRxzlWk11x3UpSQvBHOY+AyfP2RRLNuSUqKc/fMxA+JohpYks2vWJ1Vq8A0uMHPjFvRyqNMJ82FNnJdSnBKUcKUrGSM41lccURb2Zu3SQkYGASrPIcyScThOeea+pQpxRZSQSOeYHP4QPU+Qoite84NSocOnznn6CH2i8wzOUt9EdtavKvx05W2spAVtUFJTnCVAcHNjjLbjXcOjuyQCQJKUzmAfaB2k5En3Vq0Vf7qM+uDvAPTzjl504KfEctuiuU95pbTEpCQl1opO1B7FCkHasHjKkHknOMk6dOa2WNB9lWZ3HuIwREdD1FctupQrIj9vXz68prSoteZVpChIpMeqhK9y3AvwioH9pDn3VDA5BwR3IOlTfC3HElTqQUeex9D+2/lMU1avdCgGwZHT7g/t6UB3PTrMbQqmsW7PrclQUhDzcsspYyPMlJwFJHfcvyqKQeUgq0puFstDu7dsHlKiRjmOWOsxPPpT+zuFP/wC4uB5AGf2npggchU/1mgIrVv1O2FilU6iSGyw9U2WFOEkDDZhJUVOOBHDa1cFY2klKRg8WCu+bVbOmEEQYEFQ6AbgJMRPSVdA3V+SsOgaikyJMgesbmMEAERtsTXnQem9Kvy0bl6Q3NDYR8cyiN+ud3mLUmkKCCtX3U/EMbSEp8qS3tyVJJ1TWGhSV2VzGlXhO8T+kzidWxiACSBtXd0klYuWjkZHvyQN45KT1IzBxSc+z5YtSsiDc/Syr0tuoz6HVm6jDbU4ptZU0srQUlI5ylyQkj1zg6VdnwqzDnDh+k4mdj4h7woH38qb8cCLsN8QT74+B9xBPuInatvbPSGg2/wBXuoEeHa1sJYebnvxH1JdePgyChxGdzu3GFjjbjjXD9+GeKOKaSlOuVSEifFvvPOfUedIFNuKsO7K1HTqESI2MezG4IrbfaFpc+lyvBhN0WhsOVSU86/HpkYOLbDxdeUpZbKgPDaKPQ+YnPbBHaDi14htKUOqQFH9JCTAGdgNgOZr9wttvvFKUjVk+1JGT0JI+VcmPtWUbqdXrb6VWE9Xrzu25JKHa/NgOzX3VyJ9Qd/UsBoq28NIZSlOMAqJ9TqA4it50W1svxvOEqjKjKj4QJkggdOU+c+k8B4khtx24ACEABIgBOOuImT1zkZM086vezH/w3+h1L6XW67SKt1tqrbc+4nUqKmY9Qdb3fBMlJyktN4KnAf1baUY/WzCW/TFuDhFoEI/3DknfO0Hr98jSNDQ41eLecjukmEj4GSZnEjHM6SelLLo59k6mXjbJ+07RHbr6W2g7DeqkyqSULdlWswSrxqjSloy5InvDcmHtALHiLlrI2R9zDgXAE8T/AO8daKHVggoHiCzzKEkbqzCTIkeE4g/OJ9ojwtf4NB7xCIg7FMRAWqdJSDGo4P8AXCSVVZrfVq06NZ8f7Qdp9ObsttmouPz6FakyMae9UKulLjTFZqbSMiPT5SW2/glPlR3pnqajlEDeqqXxD8VbC4uEkqt4CwSCtSEgJaeVmVE6e6dKgr87QpS5dERzfBU21x/pra0d27Okj2UzCnWUYypsK7xASUgMkIQAEKkHpn2g4/VzqzWvs+zZP6Zuvp60mt0utIcU1GcrkVsq/RrpWSoKW+S4VKUQl1Xgc/BoUpIm6QbxnhvEFAMPhC3FZ/LJUlerP6cjnKQEYgq0sLqxWxZOcYsRqcRqARM94mCiJEZBBCsQoalYihywOpE/qnbaulnVKqSbXtC7XIVKpUB1KG1x6kIi2KlSy8cFUyNLg/FRA5nKFoQD/wARtVpZ8Zc4a+u9uhhMofST4Eu94tKgr+hi7YeQoGdLazqEd0VUNxPs6zdJVbWivEmXG1geItaW1svJG6nLZxGlwCCpKVpMhQnn1136X39Rm5thXPUzQ7rpM1Uii1pTpZhOPbxhJcXw1Gk7UutrUQGH0hK9qHHFIw4x2atbBblq8CuwekpcIJUjHhWtKQSSBLV0hIJKQHmwVICV0PBe0dzfpZv20xdAAOtJghXMhsmJIVLluSRqlbK4UpOlvz71uuRY1S6y0xp2iX1EoLrFepU5shtus05xp5fixlnyObW3VbuFbHAckY13wThLl4lnhr8fikBbOoFKtaHW1LYVOUOIcUG1IWJSrV4FGhb/AIowws3iFBds4pDg30iF906CIBBSFqKkkAiClQBQYqjpR9qOFV6p0nfoNVqVoyK5VvBaSiY6uNOMlhD/AJM7gCFKWMdgUnjjUyntWXLMP3qYdKmwVCfaw2oGDgahOY33iinuy5ZcXbtqOlCXISdoT4wRO3hUM5G8RmrBX9pis0bpbMuXqTQlVyO4XiVOIZmeIlTqkIGUJSFcZz7BOr1riV7buXC0KKkNqUBCiTCYGJ6mIBzmvP3uFsPFltxGhS0pJkJIlQnlg+oxWt6G/aN6I1a1av1Tplr2dGdjPopENceKqA4y+6rcW1AOfd8oXkDHfnuNTHDO3jF646u4A024KlBaUggnAIMDfbeYBkbUx4x2IctVoaawXYEpKxIGSD4iMchg5Eb01a030T6iNxlXBYFXRKhFcZvFQCYji0De6oIWcuNIUoAhXClbEkYJArme0fetqbfaQoEgk5AlcEAkbHTBV0Enc1OucEcacBt3FoITgYPhQCARMzmQmeZzIBAmS7JzFFqE1FW6ddRGpcvah1YcElyLDCtzbSlpHLjpw6sDv+rB+9tC7i7ziSXbdgLbghOlWycalwdtQGhI5IBAxFHWRSQEOuFKxGrUN1bhOJ9mZz+sgnIIrqZ0DolIvWj27HbhVz9Nx0Fl5DrqVqhcfcXg4L2MAjnZk+oOMOA8SaDfcuI0kEECYgdTPrgecmuOL2Clv94lWqZEgefzPU/Pejnqf0bl21SJLESPL+KkpUgOqCcMpPda1f07+wzr1Zu0aWnvwmee+5GBmoS7K2f+3WY1YmNhOef3yqEK70tqtFpklNJQzSqU6S1NqtQAS/MQDkISgHKWs5wjPJxuJOBpE/wtRUtxs+M7neJ3Cf3O/urdF7GkLTCcdBMbapPwHxk0rnrhsi3mjCYmyK5W/VTQ8RxB9doHkSfTPO32zzpKhjujkZ8x9Bt95natLniKXgEhWodE7e88/uI3oCrTl8VxpmLZ9vIozbigVuur3Ok+55/jkaHW8kpUR7fU5NYrL4hLKdKfh9/eaz7O6MVum1FFZuCpmXUAkeGhbmQhZ9cDgfPQrvDw4Ap04GY6/f0omyQtlBUNz9/Gtn1Mag06koFZrrPwzaShLSTvLqzzjvnHqTjgcDvqotgltspnG5+Y889PjSC9QVlKlZPIbzH7Dc1MEay7fnQqpWnnqw8VqHjyCggZVkpbbBxucPcJzgDkkJGdSjamry6USmYHQgJSOZ8j5CTsAa1NsbS3BBUVKONpUTO3mOpMDc1n0SxKRb3gTaPZ/wARXSghhDjqnUw0klSlLIHClHKlLxuWcegSByi1adHeaPADI2ClHYHERiANwhIgc51suHBjES6RBklSUpBJjPIkk7StZkydtJcVevGEt1o1uJTJZ/8AKQ4kSXT+40y3vU0n082CfVQHGh7xTx8CnAgbTkgDyABUT1Uf/UAZps27oyMk8sAn6AegOOZO1PPofbt51GUxPrDtQQlQ8viAgAe4J4P+c6kWXblR1KnSTjz8/vbnVWxaJMlMHr5ffxqz69RHaZShIdG5sIB5Hpj39det9mXFLTBOTUhx1ru1zyqZLkvelQHfCWy20eRtAyo/h/XVM7IGR8aXWwC8hUGl/N6lNNBSh2GRhKtxx89DN+LYQKZpKQqDmguqdQKZUQUuFCPdOe2i2Lst+GsnrVB2NJm56xRZSXMORVO4Plyec+ny0yTep05MTSV+0STjJqPL5Da1SkIkhCADgIcHH0xoW8uk6QQrFKrTh+icVFN3+O28+wHHXUcgHByflpNcxGpJzRlihSBoUMcqnevU558qw0pRycA8Dv8Ame2h0r0+E4pmhtaonaktOt2cqS4pLYQPoRo1CRFal2CQZqn6VFQCgqyse+e301/NF28RgV6ABzpo0dmGS3kJHPPz1J3biwa+hINMakCEFJS00XDkcgYH46LsrtPsxtS67tyI604KNKigNBBU2fXB5Jz241S2t8gqhJHpQzzJSMDlTmok1lBb2lvCe+B936fnqiZvUg6k0uKE86379dcS66GG1KUrgHGRgaJYu1qTpTtXxehKtR3orsioV519CYoehx1nkNOYJ+eDqr4RaKWgJWqIzHSljl2NcpHrV59KnpEWEUPHx31DP6wc59jn1+XGqK74UlUaTtRFnf6QQob1XfTqiOJeekKix1Nuq3OJHfP4cZ7dtO2gpLQSozApaGwp8rRid6Y1w0+OiFJVHYMVwAny47499TF82FpIVVCyQkynlXPm/oFxzK+uOiRObhbyMFOQk9uNBcN4SyoySQfdXHEOKP8Asjb72plWb07D7MOQth9a8DurBSfpkn/tp6bVKV45Z+FAJu1qRkAzy9fKqpg0On1Wlx4Newtzw/CElA/WhI/f/eA+etr1DKzLh5bitLZ1QTCUyAaovo70kZorCZNPnGpQngdiuwAx2ySPnps7bflFKeYrOzCivXqkE/YqhpM6HbVLVDqlZgRB5QhSiVqPywB+HGozivEW0r7txyCPf61VWY0N64+P0qM+qEHpxd9QdTXVSbwgr3KVGbaQAE+pAWdyvyyNRh7QWbLggFzG6iB9M/zQ14wtxZBMDmAJ+tTqz9nPoQqaudZfSa0E1hxe5pyqPuupOP3Up2pB9cHXDfEQtWqzabbX1CAVeuo0mPBrcg94VLB6qMemnajhrp/csphiJUanDtKU06PDFLits+IkfsjAKiePfB9xqf4hbXDygq5fWojkDk+4f2mmDZQEFCEhIHl++9H0/pjVJ0Zp6iqlvVOMUuPLaPiP4OO6OVICgD2GD2KtYu2FxdA/hgSpG4Tk+cj2oz008iaJQlLaQpRmeZGP4n3zXxR+l0UuQJswxHUKWppLKWEFxwO5R5lJ+4ATyeT3AGew9rZgKQXTKjgJ9TMk8hHIZPWK+ua1lSkAaZmfljznny6VurmtCVV4SqY+4yiKh5pKGEJ2tsJ3Y2hPp8yc9tB8Rtl3Md8qfEPLHQDYDyrdDfhKUADlH3zr3jW1ARvU4iKlncUoUFYylIwkE+wCefprd1aQCSRzPuH8VwiyUrSAMHE15UWvVWIp2oqlqg0BJUptrcCZXuQgggAkeowf46z4HeOtk3S1aWxkefn/AB1ou7ttae6Cdj9Pv086P6Xebt2ZhKoaG6WDlbkXb4bAA5VIjq+4jv5knB9ADxqot+0SrwHWn8obkQIHVSTj3DnQyrLu1BKRnlzB9MyBWXUKFArUJTKGYNdpGza9NYSpKQO/6wHLiU5A8mSDjn2BSWEvJhshbQ5x05lO8+kgeddJUppUqBSsztJnyB+vM9eVTdfdCatOSuo0+TXRUFJIblPtJW26jGPDbcSobWjnBCRkg4JA41OcSZTbq1NTB/Udj093l8ao+GvOuHSsT0G0Up41zty3Pj4DaoUyGgMvxG+PAZzygAYKmwrC23O6FgJPfn9YXwfhM+JP0O4A6Hfyp8QWMKGPoOn8f0nypo3TSJM2Lb/XKkKbTPY8KHcZZAAW0ojwZoH7pVtUfZQcSdVN1w5TjaL1HtpgK809fXEevrWNjfpRrYUMH5H6R/ccq+601EidQem9ZjtIbj1akSqY5sVkJktKQUoJ99i8Z7kJGlnFeFKU+xcRKYKT9R+9fWXAlh1r9QH/AOMfsUzQB11p4uvqc1Q/Eix7eQ1IemvhYSGoQdLklavYbGQ0M/8Ara07QWAuLpKJhOZ9Dv8A/aPnQthcrQgrAOpRJx0JP06+dTraEOiUW4a59pW+FNUm6qkc2lHlM727dpiyWGqi6lQJVKfx4UNgAlSlKc+6Ma74NwpDVyvitxuYSjlpTsCecq+h6mKxu7tbwTbsDCdzvkzn0EwnqqTskxLt2dGWZ160nrZ9o+wpN+V+qNzn7A6WJmJQ/VGGFkO1StPqKUR6a0sBciQ6pLSlJDWXNi0IJueFPd9+NuvHBIQ35Dmo7dJmYHpigteIoLX4S0WWwY1uZmT+lIHiUo52jmSUyKZFv9Xaj1Gudm9J17rbFJgJlMXPT2nY9GVnDMl6m05YCkQG0JMRh91KVywlam2mEOOKGrbvfwXDqIEhQwUqERA6IyArCjJ84KvOHi1aU3bgSo6dBgyN4UY/V7SgPAkASFGCRW2eoNpX1XupV01e2o1H6k3qv9BVelpqiUtVSjxnlfDTKXJdSpkVSJhEllteG3H21p8qHVgsrLtGlF6HF6FKRrbQVE92+hX+4w8UmUl0SCseysIXBKABPcd4GVWqbNtSw2nS54YDjboyHmpjUE51NknW0pbaYCopLX/9k7qJ00qXXeguq8OrXhWKrXKZV2UPGRV6Ip1hMKZGjo/XjxDLfWor2BpxJSpaSN2qPtF2dQ3N7bKKmHkJCSoSoBNuQ424MjvEuEJWBhQGtPhIFLey/azU2m2dSG3bdStYmEyXlFC0KO7a0yW8E/pKdQILSs6B0w6t9Nb7tK8J8a6+slNis3DVGWfBekzZMNPhmuRUo3RUS0NOKTIaaLytuHN4OSia7M3bX4j/AEW4/MW6gtJBI/OQIUlpSjI71uPylEqKk4JMKBbdorR21LfFLaWmW3NQPiAZK/Co6U6V9wsqBVOkA/pwg0GxetkTr9T6tYPWakUyoXXQ20MVqTGKlyG6a6nESuR3lHdMhLBaTI3ZUkkOAjK0jfgt2/bODh0lxuCpr/8AqspnUEEypNyxCpbPtpBHtIVOvE7S3AVxC2/KKiUOTBDbh5OpA0925ghxEASlUKSUkJ+2BG6e9TV9Fr/p71Xs6qsJi06oFCTKpqkNlAjl0DbKirjKcQ2F5UkJQELSkhIzu1ucHeZurU67YmQOSSpWtK2j+gKcgqROnUsq0hepR6Np/q7LyH092+o+PJOslISQ4nkpSIAcTClQNWoBMbDpb0XqFnzenFtNvRa/Hsy+2kNPNqP62IlTgQFp+8hwIfSk++Ac4OkPaThyVPXtvawELW26kbQlSkuaT02xGCDg4prZcWU9b27r+HFIUgnqShSCoE7g+Gec7wZrc3/1QrNhfZ1hs7VS2lCEgMuElP6yTMVg5yN20IAGtuL3TzJv1sq0kqfiNhL+n6JMcs5rPh9i1cXNqy4mUpQ1MGNmZ+ORTfYn27attdK6HJZj0l6g0NV03PtaC/8AipKgGIvhnIcUVbEhGeVBXYJ4lOCrQvgrFvdQk3C1PLVlIQy3MKnIhUiQQJCgBmvvFkFN8+60dSWwGkiclxZk9JKYMH1M8620G4qVFpgdbeqFNJkNbaA66t1lc4pK2oSNpO4N7y88BypxzB78MBf27qjdXCS1qyrlq1EkJMGA48fEqNkADaJAu2HGwGBCggwnyKRE9SlsQkTuo5yTTtsq8K7aMSXOVds2XUpTymp0p9fipYdx+sYhFSSlcgHhx4fqmM45VhKtkXybabx9ehwb4JSnbBCd1xlKIwPEsgZoV+3U7Fs2CUnY+Ek7znECZlXM4TJk11w+xrU4tuRGa1VTHodKlBsQmXjtA8oz4YVhS8krUXCAVE59gBra+Vd/98ZQjmST4iVEk5AJJkCQAMAAACt7Vtm3X3WFHlygQAAPIAGB8ZJmrs6n1Kn1e3XFplxZTxHiIAUnGe4GT69te6dkuId41LpgERvy5fGoHtiwE/7RBUkzPpXIPrHbXVG4Xpvw6m6nThy1HbcbbQg57kJ5Jx6k/LT+/bDh0Mrgcxq3+U152ht5ELebC4iDGB5xMT57n0qSx0o6tS5TaYcG2aDSd4D8l8pDaOeQV7huPyAUo+2oa+4c/pJRGr1Bx74inbF2oqHspHpH8/LNVN0w6LuvpDUqrO3BKJAKwoRYyT/0tpO9f/uKB/0nU6+koV4lyfgPlBJ8hA9af2dr32w2+P7jbrtTBrfRqLDmvKeqjSFITyhCS5hRPolIIHsBp/a2YUElzc5+FLrlHdgpBwMbTU1XX0dodZq+6ps3hKgMp/8AKabaB5zhO4jGeeedOLtslAaQmZk5PzqeQ2laytyYHQD4SevpQ5UoNo0RDBatGMhbA8OGzPmlbcfJ5WUpG0qOMlXJPvoFVm20CyEwjc7kqMcz06CSBR6XSpQcPtHAkiEj0A+OJPWlhX6/TZTryq7UYiY3JREiMlYWfkgHbz+8rn5axeulKAEgDbA+W37xXVvbo/Uc+/nzyY/+2gv/AFainxjFt2h/ogbt63djbaj8yUDP4Aj66FCMqJGT7vlv86ZMAIA0iAOp+sQKaXSjqIiZUMyagJkgL8yyvcEn/wC45GflydSN4VJc0TVbZJStufuTVh1qrw6nbahGfaU/s4UOSk+4/PVZ2WfS27pX6fvU92ntyW/CK5r9R22afImlCFF0lWXXD89eq3A1gK3rzmw0Nju9v81I9er0yMt1QmOKSCSSOABnnnUtevkHwH3U3Z1JMqxSln3rPdddZitPr93eefn/AA0Cu4PkT986LVcBRKeXzrUPy6nKQoPuSTng8Zz9SdfWnVE9KxdEp8QB9aCarTUv7kvLQ4ewATzj10y78xNDITjxDalvVbZp5DheQ6lJGceH3+mum15mK+rBODtSorNsUwFQQtaWxyco/wB/46+qSFGYzXTLoQdPKOdKKfbVO+JWRLZSPYp1sYGIrv8AE80GBXjT0EFBSkuAY5zx3Hvr+Y7g9cV6dp6UZ0/wkqT460oJyClByR37/PSO6KiPDX4pNH0SShtKWmHVNJ7eXvjU84FSZodaM4FMWgrfW42ErdW4ThPsT7n+On3BlgqCYNJb3vNJcqjbZihtCQtThwnBWscnPqdXdm4kSaVraWABM04KYxTE7A4pgZxkBPfVRYXCBI51mu1O9OCiQ4IU2mM2gbfMolPKR7g6orR9RJKq/KtgEeEZp8W7VF0+N4kZ5x5pODhWCPw02cu9IlGazbYkkzFPC3euC7eby8wVtpxu2jdj05xr8eKrCc5B+VcNMJB8Jz9a2FS+0tQ6r/wAfajlXGSrdk/T1GgX3A6IBEUQi7QgSoQa1ya/aVZLPxppsWQcYcWMpUf7a0Zf0GU4rdbQcAmaoOzKg2YiW47tEkbMYVGO4447JPOmTl2VQZ9cUIi1KZSBim0lgOQ1LZStbwCijDYGTj5986BudQkGuW1DT4dxRnbt8yrVo48UuFaDnYQEkg/4NL+Jdoe6SBy+tfbBDh8I3n0+dA169QYfUOTTqKxUf0dVlblJbSSVEg+31weNedXV2zfPFKFQsA7ffKni3tKUh3bp1qMr3tK+rSqDVTq02bcEdvJaRThvcx7K5ASOPQ7vlryXtFbXHD3PxBCnyP0piPeTH/2/A1+dWtadK/COXX099Z9sdY6u6kw0pcorLZwpKFKW4s+ylKAOfwGg+E9tH3k+MaAOQmPfsQfdWZ0k+Hpvif71QVl305NU9Was58bSYx8/kw465+y2P3iT9frr0bhHE1JSbhYn+meZ5/CglHWoJJlI36jmB76bMWr1O5Z7FWtiopgXc352jGkFt1tWM48YHnH/AKYO30Pto0tuuuC4slaXR/SY+BBGo+R8PPJotT5X7W/z+H6QeZGfOnJat+XPOl0uB1FtegXi94bK3HpcNMaYpaS6sqZlNBJWoBCP1a+QeeQdegcM4tcrWlu+Ql8AA+JI1SEySFYJyYMnBoND+rcaSTyMcz0xiP5phzad0zlsrlGn1W3XQsOSGXVOLDCkpKiF+YKAG7Pf202uOGcGWCktFBzMAnbG0/e9GIvVjxBRxvPx3pe0mzaDXK3EdVKosmguNuoYQJkhtx79WVFJQsbewBJBOBjSu37KWq1KXCVo0qj2xPlklO5AJHzr8jirhgBUSR05520g7ZGdudLD/QlXmpjz65blao0VsDwo8CoMSy8kYHA2JJV+yB6ZAGNTr/ZMwl64QYEQEKkDlMEDrvyHlRzXFyJS3I33Akj4/IVtW4VOguKilFZokdo7m46oqtpxxuccRncrv3yRzhIGuXeFNoBEFOnYRKR6kb+dZp4ipagSPX7z8Kz0S1uliRCnNR5LZ3NqhubUJ9eUEj8+dALt1LWFpXCxsUmPl9etNGnU6YIkdK0lx3G5FgvtXDaCq1AKSFrgoG5XzU0QUK+vB+ejGr+6b8Nw13gPNOCf2PvFFBpCssuaY5Hb+1SBddlWVcVUFT6XdQqZbt4thRYgSm1x3HDjltyK7kFKs4KULIIz5fXQA4Tw95c26y06NpSUkfHwkcsaaprO4uUgyA4jqCCfdPSeqvSmz0TvSHEq6OmvUugGh1CU05GlwiomNUG1Y8XwHFYyk5B2KwpCgFDOSTf8JW9bKS1eJwee4I/vzHvB2pFfWiXPHb75Gnnz28wBsQCN4ImnxUugtwJpNo2tH8KTNplzNSqW/wA5kU9xpSPEz7pSWyfmNP3uAHR3TeRIKeeOn9+dKhxJZILvtAaVHr4SAff4J8weVJm7elqG7i6h3fdMaO7Z0iSaexClOGOmrsspOI6nP2GFuJCnl+jbZAypYGsnuBDvVP8ALb7j/J9K0TxBCme7TgmZM/pAiJ5TuT0xgmpqvqmzpNx066rupkqsXL8cJFIorzfgSKrU1I8ND8pkcwo6UgIaYH/FBhIQlLAWsrBfY1HSoCU/X1/b40ZZDUnUkQJJJjyMkJOxIwJykbA5Cpj+0bdUCZR7golDplx9dKrVJ7Ca/TabuTFqX6jKE1megANU1l2NlMJpSQUhCFGKjc2VPEXVhnwIKydJIBKUk+yZUYBAgYn35pzwGyIfHi7veIyoDcCBKgZnMY8jmkL02Xdd60evLu2fBdpzbRkVH/T6GhT1KQtAbZVVXC3TUBCUBIbYdkFASkbRt26QcLbeIUm6I2VthMQBE52gjE+tUfFX0JbWGQdQEAH2hvskZBJySopxmtBQqHbdtC6610Papl4xo9UlrmUKlrWmZEleKsrcXUpQ+JKd+7aKcxFB4w4e52evmA67+DgOAnUkY1GIyT4lDYDTEGRSILeU20i/kNwNKzJTzjCYQhXUqKuomujcfqBbPVHpVM6OdUYc6RZBfat5Rp7ympFJnNJ3mQ26rctWXPGStLxWHAyCobjuFJwDtEuzbUw82FtaQHGzOlXeAEkZ1JWkmEqBChscVLcY4IH7hL7LhbdErbcSQFAIITGxSpCxGpEQROJzXJj7QX2Uev3Qy8aV1+6HXBIvagxKgiqUKv0c7lxCgnalSBkDCcoW2RtUlSgchRGp3jf/AEzYvkqvODOlxuACgmHEFMEEGQSQQFIUnMgEQRNW/Au3/dRw7jDQCyIJ0y24kyDIMiCMKRJ3PKtmul0nrMuB1t6JtudK+qlHbFafoTEMvNUnxleHKMaKAXHqQ66HmpMIBaozh3thTaiNNrPiquNg2vFQW70+LUkhBdcbH+82DCU3afCVolKblBSYDhEzbjK+Cud5aKDlp/tjVKghtUFLTqsqUwoT3LpBLJlCz3aVQynqDS+sViss0mHGoddgONOtw23g6aBN4UhDDwP66CtQKmljPlJSdqkkaNs3xdod4dfwFEeMJEA5jvmwcpJPtoICkKkKG1a2aEW627m1nuh7JJBUBuG1qBIUE/8AwnNSkqGASJFP3odZqa7cDlyzoS6fInIhiWwnyL/STQ8J3I9QkJClH/rbHdel7Vi7rQm4T+Y0nuleelcog8wUkkcgjOxFGXtw0pCkMwpK1KWkjlrTK/Q6xkYkq8qQ87pLJ6gq+zdY1ZRHRS5FUXW6qkJJ2wKfHCi0T+0pbjiUD0JJ1j2s4KtVreWqFZeuO5SeYSpxxxa/cnPqRQ3Zzjyw7avEaVhguEYiQ20hKfPxK38jQ5e8mfVriumS5ujoYmLmSX9m9ImISUN7U9llhBKG052+K4tZ4TpX2hskNXfcIgISEgzsEJJKEH/iD4ynmrSKL4S+o2QfSfFkjrqVAUoTjVA0JJwPGo+EGtz0ypzqpUOOqlz6pXHogbpdPjrVuZZWSSfGPmaQtRKnZRw6+oqS0APOmBs+JOodS4oKVvpA9oqmCvOAVD2nCClAASkKIiqC54dqQtIgAAA7kBI2G8xueSnDKiUg6qtS0uk9F6fy6FV7yqFtTr1WpOVS8RqJbjSfuMst/wDnrRknakbUk5J3EqLSy7F6kfj+Lwpc+BAEIQJnJySZyZlSjKjnNTTvaBSv+0scJ5qOZP8A+0AcoQAAACKyOqP2k4tsdVLHsS1boVetZqc5pmTW1YWllvGD8KynyhCQe4BOqXttx6z4fYtPsEPOqgBI9lIJGwB5Z9Y9KT9meGP3l0WnSUJkyokSYEmMSAcDAwcDaaoK1ftB3PEuKtUDqLcsegUxt39W1MO+W43ztdaZb3OAcYyoJSRznvhgbpyxuEJSZSpIidlx7YCd5AIUIjpvil6lJuWipeFalCBGFe0mckEKEjODEijVE9u6w7WOmdxPSJKcl5yoo3ttDPohs+Ej3ypSvoNWLPEra6gI1a+ROx88Z/8AqI9KlF2TrIC0EBB5dPI7x7p9a3sePdhjJqV2TKHNiEEuS4zCpGEfuIWlIClY52pUcZ5xjOtB+KUMOagPIGNt+noJVsINYKKBCnEb7kYn0H74HnTLsjqFQmJPwVtMZWeACkPvuegG1AO3P7oz8ydKTdpCwhCST1jPrpjw59T506tl6UwCPT73+Q8udMV6Z8U2tye9ToTqxlbSxtdz2A2JyoD6gfx1QWyST+arTGMiD8P3rJ5Z0zvOcZGaTl30eLLDxcq8hrjgolFvHHokpP0wdPUlCo1HHkSKn7lCowqD55/apUuKzbfQ87IVU2w6VDc+p1pbivkCpSQP46DfSySVAT8/2rJCHAcET9fn+9I267biU2O5I/SMdlnPKn5SEkj5bSflrJNohxJKDmOf+K3LrrMd4nHl/c1HfUC73IQfiw4Lb8cqwFbsNuen/wByvpoC4bQyPy/GrnmB8evpX4XincLBSJ5jf4T7ppI2/wBYLsgV1rKlxogWQGmWyAPl8tecceW7MjYdB9z76p+BXZKiD6Z+4roh066xfGU+OxJfQXiB5PEGfy7nR/Z+81CTg+fOmHE24GkZPWa+b7bg15hbxRuPKiDwefYa9h4ZxEFOlQrz++4YUq18qmWr9PYEouvLWW2xyUuYP8v565ebbcVlMV2m0UhM6iR6Uvqnadu08qAkkOZ9MJGPTBOhDZtJSZrTuiTCKH5UOghhSAEqVnAJUDjWLV00nCdq6esSpB1HJoFn0aA4VutupQTkk+mPTjRYuEuCI2oRFqsTBzSwrOGj+rLLi+xOU8fLWykgCAaxbYKonelnWGEPpPjxWwnO4gJHI1n3igTAxX1VkTsaUkyDFD6tsdCB7Zz666UuTJrpiyWEDTgUlospakpBU4RjAzka/mt1kTXrqQIzRFAmIZCVOOOAdjjufbSt9gkwK4CDE0dUioRgQVOqbbAycp1O3tqvkJoVxtZMJp02tXKSyyXlOLSkjKQEgH/vrO04im38JSQrry+PSg12wXJG3KnDQrqgOOoRuVuByrJ7DHHYfL+Wqiw40hUECYoJ1lRmTBpgNXU0X2zEUtCkjAIA5/PnTi24s53mpFZOsI0lINMugXo8tbaJMlaHONgByoY+XpqgteMnKjg+VCIbAhOTTdo/UIMqYiPvMk4JCicbh8z+GqS24uHCTGRy6/fSs4DXhVso7n7616T7saTMQtbobiLPnTuA5Pqkg8fQ6wTxBBUUnAPI/wA860uAGwCBMUwKf0njXIwiq0YuvlXnWhCs7vmCBwdMTZpCYUmRHL9qFcYQ6oLaVBn7miyndLb3hNBEB6YqIFA4eR5gfYfPjXAsX0NhvV4eUxP360Q06lRIThXyqiem9tz6LIRIqjsiBJSQS8F7N/0Hvpm08hoAEx+/p/as1MqcJK+W1X704rMOuU9bMByPPLQ/5riRgj1II9dMV3Zca7wCB8/8V2LUtnQrffahvqOYFFp8lbsF5talZ3NKKtvPfH468p7VX6UgIiDn3cqKatSlBV99akmr0qny3rdnxbgdYeVPx+sOxS1Hsn0P+dtebjhoduWVtrjCsbTj+1EuqUWZGRIpa3vX+rdpTYZoVUpNapS+FxpigRwPRYGR/nfUnxl/jlncgNqS40d0q39yhn+PMYox9KdMgZ8oj+fnRBYt3pq1RjQbhshpqY4cLVHd3hA9Vcp5HOqbgPFW34FwxoVBmMiPUjM+YzSh5K5wjUZ5R8edPYyentxPxrcoC5EWmwnsrMdwJLzp4USOyh6e3fT1q4srpYDJACcADHy2NfHbUoBSpKhzk8z61SPT/p7b8KeqdTakhAWpPhsLSApI44O04z29ONehcB4cyynwmVfx5UG9b61lWqByBGfjzq+rctm3F0mn1WtxfITlWATyrcgD5kgnVjf8StrRCVOokmNuqvuaseBdnF3xAB2P0Bz+1BHX2Ralm0yRIehypaBlSD4Dig0pRAGHGxvScHsk6F7QcXaSidJI9PPrv8KE4jwpLCihWT8f2P02qN6BdlNnIuWu2zVgzMEFxiMlxfgeG4oqJ86QlZH6k8utuKII576S2XFUkKeZkKMDO8AyRyMTGMzO9JVMGZUcZOOpG856c/pRLVZN2x7juKrQoMeZAElLgAKmHXWHFJBSh1BU2tSSC2UrQn7qVcZKtEOPPh5xSPEJ9CQSdiOfIztXS2RhRx9jHPYjyrftqrAaem0x9TbrW4rYmxS0taR3AU2cLPJGdvmHPfOSX1vJQVtmNPIiJ+H3HU1y22nX/H1rQTqg2QrxaDArMN1IcYW0404VJPbAyFZBBB+adIry4Tq8TaVg5BlMn4wZFMrdGJSSD6fczShuWpUZhRkqty74ElDSnG/h25aSk78AAIUcnJ7f00E2tmJDKgQOWr+aYttvhX+5z9OU9Kn+94TV0yIcmp25edbakOLQ2VwpSnWikpHC1tkjG4HOf5aZN24Xp71B984+Jpy3cEBUmT6T/wDp98qoro7bUaZW4lLqkqr1KgNIQ6hmsxkyRD24VlLytrrfIAHJwB7HGq7hyQkACQnzMpHxpLerCiBg+7PU5OfTl5V15oqKNYNkW+KbQn7oWSpllwEufCNkEhKVHnbyQCewxrrtb2pu+Fso/wBOY7wlWegB5486pOyXZu2vAo3LumBiTk+U1F/2w6l+gqNTbptmlXLJSwUvMO06npk/AgkFXhpWtCULODl0kqAGEbScmiN27c2iXEoIUQCQMH0z9/Soy7abYuCArwjY5j5Y95+VcGPtDvzi3Ua1br1KuKZVmXGYCrjqsyBHZinKJDq24cN8YJPhhJc2q3PqVygbpjiCNSNXszjxJUY9yTOARyx7pqn4Q8jVkygeKUqQAZgDKhHUnUTjTtMUnKa59oLqV0YqVvQof2db9qNHfR8HTYlWjVmMwhtw7A2ie5+rUEuYB8NOCkYAwBqXtk3DjbzTD7RKdhsBschYwN+YgRFUbztml1LrjbkYk7noMtKzg9PdWx6X/Z06nUe8L9vrrD036sUeGmghtVXekuVaC+6HErEWO7hTjCiEKKk/dbbClD9gK+8N7O3a7nv3GtSSlUqQsLGYjEmDHIEjntXHGO0dn3Bt2HY1AwlaCk4nMECR81GMzSVtrovfdK6ut1hinMQqGLifkPPOr/RyDGD6nnUbJfhqUgtoWMJ3cYOeM6877Qdkb5zixLfgStY3BTAVEwlQ8UJJ2ma+8L7TWqLNOg6wlBGDqnTMZHOQJmMnpVh9Ibgkyquhd0Rahd0ypwZfxSYTSlPwZD2SyFPLCDPQHnUIbWEhQKigu+YBVrZ374ukvlOoaiSmMBPiICVc0wEwM6TGYgmeuLNpy2/CpIQRphUQCZAUSnOg6SrWR7QE6SoQNNftP+0V9mGs3ZeHSij0vrP9n+LVnaJXKNT2HpEaK6y2hRWwChLxSUOpdK9qsBfKtozqk4hwHiFvcm64Wv8ANQEFaCInWkqiFfqkKBEkpUlQAIzQ1n2gs7u3btuLjQHNRQ5MhUL05UkmMxB8IIKeZivOXRegfVx6361ChXV0A6iME1CmKER5owZygC4pmQgbi2QlCVtqB+4hQVlGjU8dteKWxZ4zblHeEasfqA8KhzStIMYJCgSlQiIFb4VcW1yVcNuNSkjTpKgCEnJSTspBJlMjUhQkESZaVA6EV+TWaZUJSqHTLlSFO1CtQ0JEKpRAAXZDyBjaMA5UjhSiMjevcS3LNbraQHO+UfYWfb9FnchIyonxhImSEgDC2ukWylFtBaR+pHIf+I28R9kewSRACiTVm2r0JdvOupq1OhT6TTywwhtlWd7aGHAspUEnHiuAlSyOC4s8kEaM7jv0NtJ/SCnVGTqzrPUyDHRAQkdKGVclJWpJ8RUlUHIwI0ekbxuqVbk0mr/6WVHppNrtUp1t/G1SFBZtygNFJUqTOdV4zpbHfwm9wJPr4QyedMLvhSe8S64Pymwp1c7FSvChA8yAkHoCaSs8V0o7hs/mr0tJPRKZUpU/8RJHIqCQTnEexujbMJpuJUalDekpcPxbwiuzkRXSTvWmO0lRlPA7uw8NJ9VagLrhFw6tb7ydTpOop5ZIOZ3jEIAOInaKuv8AXbRlKGwqG0wBkTgcjkSYyqCN4BrKqse/+jUdk9OLEnW/JmBbwu29HmIj0zI2qcjsrJS0McbyXXccBTY40luOCu2zX4lhsr1H2lkBIVn9M5I3EmANkit3uNO3S+4fWEiArQJ2PMk5IJG+JIyqpvuuk1u5m03JeV9U3qNWpzrjfgtVtxMWDHaUncgJhsy33NyyRgbeEd051NcRtHb1C3bx/WR4AlOoJBKdRUdKSfCNMR1nYVpZ3Nu08hLaZEalHUiY1EBIAKtyFTtskEnVg1Xat/Vy/ZNUsWg9RItrvxvFpqLVoTVHzHAShLEipzVLlhwKKgtAZQAR2IKScFWDjlvbt2KCEBASQgBKgtCZXJX4gFEAoMQpCwQSQoDli+DTryrhY1FyQTIBQpX5akxEp0zqlUhxKwUgxVO2d04+0bOr0CbW+mHTe1LEcDO6sXVVm5sp9WPMElwEuuBQP/JZJJx2GmDPBuPJaaFu0kISIUXFlRSZG6leEiIxEkbHopRcWDrjiHirJxohJIIJGkJzIMwYieQE1dKem9BqdcolwUrqS7V7hgsBhyE9lqNgckohOLSlSsftEbPUtHHHpCLG3ubVu0uHB3iTI0ylJJ+BUByHhIwJIwZXv7li4cumQAFiFAjJjG0wCeZhQO4Eya9o/VWwWqothysreuZaVNuyo8R+U0zgYCC8ptqIkDGNoIA7fVvdXDVq5ouwVFJhIg4HXwiBPu60oswLhPeWywNQnBkE7fqIBiI/vW1pfUB6uVFFHYj0Kv095RCn2Z6EuuJH7zUIJaCe3CnD886HvOOhI/IXrnEK3E9CmZjnJo214eVEh1OkCcgiMdQAPlO9OiBYsKRSHJ1LpSaIFZKUg4Tx+0AAk44J5UfTRNhctur0rRBGMc+v3NbvWK0Nd42rfr8un0qfr1olYSXlCptSVISRtbUFlPpgJ5GfzOnSrVKYTPu2/ep5xx0gqMx1wflUjXzW37bgVSrTqtAiw4qkolSZsN5EeCpX3QtxKMLdJIAaRk88+2iLXhbz7/dtIUVwVBI6DJKjshA6qgq5DaUXE+NW9o2H33Epb1JRqUM6jgJSMFaiTy8I5nciM7u6q2pPlPhm7aJUEjnxQpxg/PyKKsf520huePtNISlS4J3BED3TBOOoHpzpzbWneLU4BicQVHA67pB9J9aSFavOz5odVIqLS2yCN6agjn32gg59RzpC9x+29iQQPOPjmaYm0xMxPn/KanSt37aD8n4entux45JyX1oUVH14QR7aS8U4tboBCBA6/f70ZZJ1GSon78o+lHFs9Wf0EhhdMYkJ7DcG1ZUPlxoCyUG/Zzz2508cWVEajApy0HrZNrwS28J4Ss4ALe06orfjTreCDA8/pQbjCVwnmc/5ovqE9yZGcVHSoSCDhSj2OPUf521W2XEVLA1jBoC5tikENnNTReMi7jJlOSIynWd2E7V+n0/DWl7eLHgZg0pat1DUt6Qo4HSlG3XbkUtSGllLe4kgI5+n176RPLQFbQr4/Ojk3TikQokjyFaKtXzPhFMZ/cHlDttOU/x00bLoR3h2FCBbZX3cwT95oJFzvy1rC9qwOygR/n/bWauJLKgIokWiQjBFaaq3AA2oIcUVjPBAx/nY6PTe7CN6zSyY1E7Uj6vcaW5qw9I3LIByAOdN20ahMxQDjmk5NAMF4k5BGMHudfzg+ivV0SDit5GcTlJ3kk/noF5BjFcgnlW+jyErWjcdzaSMg9jj1Olq2yJjevhk4phUysR9vivOYZQPKOPzOpu6slAwkZNY6dQjlRXDuj4NBLCdyu5Kuw+ugUWzqDAMCu0NAqk70V2/e0uRvQH20rUcEIGMce/r+GiVXDrXhUTHwr5+GClHANU305ptRqXhKcbUhKjyc8n8B+GrrhJU4gAiOfpSd5gpcCsYIp3SbMlLS0GfGeeB8mxJyCPYaeW9s44IZkketdXqUkpUuP3pxW107qVcjxotYi+CzjG57nj5+/f199UtvwbvPG/hQ86GUpZGgCR8KsPpHY6rZ8OIxU1hhShjz8Nn68gjPqdVVtp0BoGIGCaTXViUKKgZPQVTkxur03YlNJbqKjj9alTYSr5kp7/TSm6vHErKCB9+lGNtEpk/fvrxdtO8bqjoVIttD8VBy0MKSkHPcgHn+muV2dySHCmVdZ2+dFIfbKYgj3b++nZ06p920CZFh1G32ktuAp3pORnHlyccjITknPfThq5f0KQtPigwPMCenMSB5xQQGlweGBO+dppqXDbsOu0l1NRhoaccQSpOewI7ak+J2AdG0/vTltAIk/e9TTffTelmHTghC8syUug4SfMMY9R7D56m7jgaEvoVpjTketZuvKLWmcdcemam7qR00pkuahsrkpfAUrY226rGVcDDZH89QfG+xlvcKCFTjpP7EcvOmCL4aQ4rB+/I1o4tpsWRS3ERVVNVTmDYX3Hwx4CPUgEuKPOfnkazTwJm1ZLDQMq3M5j4n3ZrBKiVd6vKjjkIx8/hW2tmLadvL+OqlRLz+0hplKnZDp45x4iyP/1540dw2xt7fwoT4ukznlzJ/vWdw8hPtrxHmfhsKrPpd8VDmxKnUKTKpTb36yLHlu75EkYyCGgAlCcZOTnXpHAG1MqIxPTp753HOBjrSW9uUKIcyAdp3I8hy9Sa6f8ATi87fFvy/wDUEplhiIz4qy4Rtb8oUfl7HXrI/AuWpcuo8PP6ftTLg3GHGSdKoHP4ZpI1zrFAuJmuUKclK2z4ZIRkKShaNwV29BtJ9j31B3HGW3UG3VyMen9uU8udcq4itapPOPv3UmXaHPjss/BPuzoS21SVqX5cpW4nClq+6QEMnzE/tfPS1yyU22AiYETnqZz7gBmuG75YknIP02n6mfOhl1tiPHaqMGbUDXae6FF5tRDam3FbVJKeCoBSeScffOB66EdUnSFtk6kwD0g4Pzn4zX03EyFevWtexfN3WtMQ/BuqpTaOtxa22JoLqUJCvMnKgrkHj3xjQrHFL21XLbx0EzBzj3zXTl60pI1J+FHBqls39CUqo0m2TVXC47HkNumKl9ZxuDje5ICyR3yAcZz66pC7bX6PzUJKzsdpPMESM/KhkXmg6kKgffKkje1Fr1MYkiJ0tVOaMYpDyKy60zkOJUG1KUoFBIUVYJ7DgkYJR3Fs4wkxbJ0gblRA3559/wAKdW10lcKLhGfLp1ilLRaf1DqTMkybZ6Q9O7VLh21ypz1z2ocwJCU+ZwrQoqSdhab3OeZKgk7da2Dr8a3e7ZaP6hJzyidz5Jkx03pklxhShGpah5/YAohsqM7Hq650mqXZcD6Vr2VC5I6KXFAShRJptDTw22EtOrM2oE4QhbgY4Tmh4e+kLI8RI/U5E/8AqgeFA5gmVEdK1fSCmEgAHZI5E7aidyM7ykQTpq5m/tTUOw7bt+n1KVOgUhqQiFUJC3CVoWuTGjJLhVyAHpYDhP3dpT+zqj/1pu3aJV7I390fuQTS4MOrXoTiD58yn5Cc9INfl/dQpsBlFdpFYMRp6K/JWHipyO63FcAkodRjIdZ3jO0bilSFYI7Nb1a0w4wYJkA+Y/SfdkdQcUut3JlDnISZOPM/+p9qMgQrYEVDfU69qddFNuGdJ6OU7qxV4SG5ooZeZiVFuGpO4OU2QvCJLeCdqkOICjx3ONJxxZboU2kAkiQknwq/8VQQCTvIEHemBsiw5KhhJAKhGpIJyYE6gJnGCM5NTx9nvrp9lfrBcF8dOpvTqr2u+aNOmVqjXTbsiR8CxGGXnH+H/uFbaQMpUtbiEpBLiQU3Be1tu/ffg1NqQ7kFKk4AgnPiIiOqdts054vwV5tkXXeJWiY1DBmZEEZJmRvMjaKbHTHqH9htu/qK7YdUq3T6iUOlzKVBgWpWKzHbgRVErcedgLjBp6UpeHHFqJO9KUAlDaAOkcb4Ou4bZSymW9RwlaFZA1GAQJ8okAQIFLLm0v1NrW44rSvw5KVjAOnSVJKgABvOZJiSa8utvUv7F15Ver3pIoXWmoXlFiyIZqZrbtATcnxbqgp3AbdKkJ8RbYkFlrASQlSznHHHO2PCXVw8lRW0CtKySkmUpRpkHUpKZScpUEqJUDqkUss+EXKCpbK4S4QlScFIhSl6tKgQkkyMFJUmAREEGFkdbaXZNuPXT0g6cdI6HVojMdqnO1SqyKhKQ5hRSA+7JCQrxAwSoI3KO84JwAPwji1uWwGwlKUjBJKo25qUDMYnByPSunkupIUdSio+Q+ASDjfG0DzoUunr91euqBATSKdbfR1X6UfmCXRbYmO0+Y+EoZcVOcG1MZ0ELwUqLRSpX3Ur8jpztBd3CHPxAClqKdbiAFKKgJlUKMpOuZTBmTEk1m3Y27ZAbRCAFQhU6QCcaZSAD4YKVHaMwBSNuKtVu/IcCjX8xTIdyLcPiSGLSV8FIBVlKlNJkSHWiSQQ4zvbXkfqxnWib24S2Q85rHUBIkeY1DUMZIKVDoa+t2jCSFMICeWlWoR10kgx6KCp31QaefSOz5NCSLVtK5OmVzQG3i7cCWHno7xUjhKAhQCQEZGVAeZw9wEoGsGmE264S5peVG4jw7kfPOSQAE4E0U/eqdSFLRKE+yQZ8Q9NgOQjOTJ8Ndi+gFBgsJYcrEejRpyWAoxEykvLZKR+ra3ADPGVKz6kDsNNLZ8JCCSB0npuPTUfkBRlpaJU4on9v7YHnkn0rY9dqDTbks0zm7epkKoJK2PGQyNyUn7wR2xnGCc8++qLspxa4ukOJeTGk8/46ilPbPg1u0ttTA9rGOh3EjYHn6ZxXLJpdo9IJVYkXPS1XTBqsV2M9CkVBUZHh58hSGGyE4IPf0xg8aALAtbscQREtk43kGAZE/UEbzSq4Qm6tl2NzkOCBKtI6jKUjbyIPrUldSa/aVxzaA/JtKyLfpEBgQoiJ1WkP+CzuJO0qaBPcnGccDUvx7iDCme5YbSlAUVRmJPw2/en1hw+5S7qdJUrSlOCT4U53AB3mlBf/XHo3ZcKnw5XUG2jKj+I2timWpWasrKnFEqSpxxmPwMck8n5Y1J33aKztW1pUuFTqACSf0pSBIgcuvu3JaNcMvLp0LkZAGSrYFUmFrA3JjB9egrbH27LBXJqVKsGkdU5rEOMXjLmxqfTEpG9KCW47YdQ0fMTlfir/wCrI1Ksf9RrUPBtpClqhROAkeETsFGfVR57cqPuezLqGtbiwIIHKQIUTEAgTp5Gc7netPaP2pHep1ywqTOtt6VNdcK2qnVqpJqz8XOM5Dqg34SgOUIQNuAoDggol/8AVBL96q2S0V61aYmYI8KVJHsyFGIEBQJBMhJoUcAAtu+UvLadRJ/UAJKSYnPI8lctJNe1W+0P1KokeILNdXArFUluuxWo2QlqOlX3tjKUAqV5RuJ8qQeR6P8AtR2s/Bd+tlOtYWGmwAYUoDxKgZMJEpTG6wYqf4fwtwlpEBMp7xZJ2BwkHkJM6jOyYE0bUvqsvqC6ljqpQKHW600wlaq7AdDbsJKccqU+lxt1I3AZ2jPZJPBKThf/AFCv1KRZ3SE3Ez4D+mN4cCoGkDUoklKdiZBg/iPZdkg3CFdwokSpIEK5CW1Agk7CIV0iqX6L9SLGor1MapnUinxaEl0ME1+M1TXai7k58N9GGl7eAG8jHdRyeO19rbZxLirN4oCVeJa8tAmIbSoAFPMyoFSt8JAFMuHcJLK0/iUhUgQlJCVwJlRScLUfI4wAFGSesjVy0y4Lai/o9uLJUtoKRhSVIUPkpORj6E6vuyHGX3Me0DsQZE+RBI8627W2VuJUyYjcHBE+REj4VHXUyvUq0n5D1QYhzaqo4YZUztYaJH3lqVkn6AJJx3GvYhbzDjxhIyQk5MHaeU8zBjlnNeIXLkHu0RrViSMAdfM9BMTv0qRaym97tA2VCsJhNhZZZWtCIrKSc4Q0EpQB/hOl7t6haj3cAEg+GRn13n1rVNotyNZKyBA1AKxMwAQAB5CBSxq/Tm1ZbAfuykWlWpDpO5pFHiOq548xUnk9+xGtEXzpwpeE+ZP1CvnNYp4FYqGhbIlXRAGT6EZ9KnDqH0p6L0SNLnV6mWDb7KlkJemJjxlLcAyUJZbUrkA5IIPoSNfXbVFwnWpsFKRmUiEg85gEzGNpzivzVva2iw2pQQpwkJGvKyBkBMmIBJMDGDuKVVFpH2dFvFqn1iynnFDzGNBS878wHXSAPqkDUMl/hyFpIUnVynTHw2+tWLbKVIKQPDziZx5nPzrbVii9I/hnCwqn+GhOStb7aVH04A1SWqbFQCUwSfcKHUnGonbfr6UCRY/T1uV8VEbpy3EkJCkSM7f441jc21oV92AlQ3iRWtu54NaCZNflduenU9IDEdakEZGx0ED58nnOi0NspSVISIHQ1ksqLmlKvpQdLuan1YBl6mKI4BUFfz0Gm40gkIBn418UC6qOQihqow6WUlxgMMLxxgdvz1whtCiJEV8WgoTCedKiq2o5UnVyXW2X2yMDy42/LRalk+BvIFBi1Bc1r3NAk6zXIu8sAtoAJyTx3/tnXHdA+0mCeldpKkKIPsjrSNvNC4DD21CEISRlZ43DHfI02s7KCBzod+8KgAeRFSBWa1PVUHzHC3W8/e2lWT+B04UGgYVvWCGHFgKECfU0bx3s5TkOdhz21/OLrXPavV1KjArexFg7QpQB4wc/56aXvJrNJE5rbpfycJACO/B+X8tBFuvrhBOK2KarjY3nyJ8yleh/j9Py0ObQ71wDAivd6sqeLbKVLUCc+Y8Dn0HvrNNjplRrTQmBVA9IqWiXNbecUHnFEZGM4x7DQbFulx6FDH3mi1tlQ6V1L6WWfSimN43w7Lm0ZKiAANXPC7RhoSqD6mkNwhRMzkftVg0uhWjTIzRdlgvkZwwCTn2J7fjp2eKMtKKUfLahmWAoZHxrU1W4UNOFqmUlWAk/rZK8nv3CQcaSucfeKiEpA+e9ULFpgBW1bqya/VAHXJkhK8p/aTgA/Ifho+3v3FNwvNC3TSQvUnanlbU6suyG24qHPBJysJBSEj0OR6/20XaLcUdA2qeu2katQ3NUPTa7JpKI7Lk+qzApOFtJeVtbPuOcDGnTdwdXdpVI9Tig3EADWoTVCWfRai+wibNmLkBeFNK35SR7Ant9dNVWTiBCznrWjKgrI2rNuw1eMyFQnQ5/6rQ+8PdSR68dx7++kd3ZuFWsHHMdPd0O9Hm8Snw/D4ftt8KXNepc+TTo8h1SHFp8+A394gcfXS3iQUn80bxQbaSpIQNqkPqDUKxRKTUblp4myag3mM9HBIDSyf1fc/cOSMkZBTjnjXnvaG+WyypduNU46eIefLGfOjLZfh1rGU8j/STuQPOR5H3VJ9p9LuqXUaS7Wq/WKpCglRUpCHVBSyf2Uj7x9sAa884b2ev7lAuL1wieSSQD5at/hQLzxUSAIH3yqten/T2ldP3I85NGNw1xS9kcSCVNIWP3sZ4HBPqTxq94TaIswE26ZcI9o8s8hy339o9aXvTOtz2eQ+9/LpzmrAsq36mhMy5a0+qoXA6FN+M6kDcsZO0J7NtJ4G0dyACTzr0nhbRaa1R4zjPruY+gihVFbiyTy+49BTUu+q/oTp+/BjOIVPcSW3Uq8yVkjkKHcjk5+o1x244qGLFLTZyTGf3plaIKWzPOknczMyI5adyUxxVPguIQ3kZK3nUoSjw0D1JwfOcDGc551EcU71u6ZuAdLawI6kkxt+5xGc18SsBnSj2hz9AKcsWtibDqioi5iaeHvBLKTgAIGCpJHrwOPbtquVxdt5lbiCSidvIdK+pJEiIrMk0aFVmQpp2LNWUqacKHAiQkHB5R2UAR2PsORojukvNgohXIwYI6T1rpyQZHL96FVWHMeM2I+3NVAWouBZbGWCOcrbVgpzxkgqT650KeDuBRQQdJPTbnnmPpXOlSpBOPhWxsPp1SL16rHo7TKtLg1k08yYsz4NSY3xqEB5DG9RBCyN3nAKQU45zqn7P9k/xVybYuBKtMpjmRB57Rk+7pRDdqFaeqp57RgSBWBWKTS6Gh6Ety36G88l2Ep2qh6YmK6HUlxlUcIDRbSo7sbVFAKeRnGkfEktMY1JRqkSrUqDIJERED3xNFM2ZCtJElPupF7qNIunfUHJtyXdAguLFUmp8WLREADxEQowHhoSkq2gpQsuK2hIBUkmatrpH4xSAS64kZWRgf+IOABsnBJxtinAR+SF+yk8hsfWPsdK19Tmy6XSK7ck+lO1GrUxpMqTTnnS65WJzi8QoDr2SXn3HmEOS3MkFEVxCNrbLO+havyhBdcElAnTPtEnwonmZys+RAwBWlu0oKSlPPmeg3MDPkI5TEGKjr7XFTc6Z9DK/CfqTlUqDMq36A7NUrJmT3Zc6qS3/UELcpgcPyeRjII0B2p4n+A4O4XjPsJJzlS1Sf/wAFe6Kd9nXA9xFtAwmFH3AESfeB8arG5eo6bqhTKA/UHqNLrM6NJpk5UhUdujXQlltyEFlWA23IaeRFccI8ry2lHISMeiWnEkuN6H8JUEgnkkkApV5QTCj0PlUsq0cbcS40PEkqI5SQSkg+SgI+B5VPlnqu6nXzadNRaVdvHptXJKGE0qEpTFb6d191wNqZpzaAd7DjhJeiLIahqLhdLTOFlc4zcJdLqUawTDrf6goY1tx+omJSMkkLT4SrS1t3rUICJ0iCW1TsDuhXLTMjOAoBIElMn/USDbz13W101tNx26YolMO1K6baKTLuCc04tKY04tZX8Iwlx0IbeT4G4F/LSlIDRHF0d0BbIlR3JB8QKVSEYk6Qd4BSrciNJr9w98AF9w6QBzEJIjfOAogEZhQ/Scmkax9lodC7/qNcrVQiVO2ZbUtUaZGjl5nYskhDMcnMxwbuXiUQW+MvPk+HpHedmgxeC7JltSlR0GobEDKjPJJ0j9ShtRLHG+8t/wAKUwpIBzzjE6j7IgASZUT7I51LXUG5ItX6oXKkwEwIan2X/Ecd+IkzCplH62TIPLrhBxhIQ0hOEtoSO/jfbLiJVxDQE+HSgziSQkiTHTYJEJSNgTJNZw7hoFopSzJ1KHOBk7Dz5kyTzOwp3dUqZ4PT+36WlpDra1GY+gpBB2IISD8/O4rn94au0Nq/BaEfqIHu9r6xPWBUU8yj8QVKOEgxnHSf2+NS7Ctuv/oWqU2nQ6rHENcIhMTc0reoLcf27CDje6En326V8EZXCkwRKdfTxLUVfEJUkH0p0yGtaVlQyY3GIEfCUn40HOVbrp0xgrqtMuusUy9atIRAtyBUbkZjtwG3VbC+lhbiluvuKyhtDaFFPKsZKdPmxcW6HL1aiAkeAE+Eq2KzMSESIA9pR99PrVph4pt95yrBMJ6bQCrfVPhGRkiLP+yvPuu767EsZvqZX+p9fpyJcuqztwjUia+laWn3TISlDzsCEHPDQ4EsoekKcUC5jalhbM3pcTb3C1LecUZSDMKCSQxJP6Z1vwMK0pKhABT8UFuUC4bQlDKQBJ9oJJgudAVkaG5JlMkCJNdWOnvXCl0G8KjRqG9IVS6OyhP6UfZLaq5LU4lhxUVk/dipdcZjh8/811L6W8hpS1X3+mNWndsqIUsArWoeyjSkKCEknxKSghSzkI7xoGVqIEIxxBdwVuJGkakpSNiorUUgxsApchOJX3bigA2kEte/+tdGvmv1+0H5SHUQZrkFpkuFtFSkojpdchoORlexSXCQDhJBPJGq126DRQyo6ApLalK/pLhOmfNZSpI9FYIBlaVd9qdBCykuACTkN+2Y3hMzI5iNzUI9QKnddJcdqVbk1adQXwoxqrS0tuSYoP3WHYzgLTiUpGAkbVYTgDPJQ8QCjC2kS2MFEwUQIOk5jO84kzmZplw9CGylpSzrONQE65z+Yn2Fq6EBKlDCdiKmusUmZW/Fcty1enPWaqKSlxym0TxKLWYbJTu3vwXCoqeUOzSOySVKwChJkH1Key24layJS24NC1SSCdYJToAB0q8PeK9nwAqL1La0ABTZ7sSStqVJkRjTlQO5XpStKY0zqJ0pSdeHQF2c0m72K708qytzb9OqsNG1tY4KSpI3E/Ipzqb4lxJlhIRxNhbKkkDIkb4yd55Zz5VpaNOPybC4S6kyYCtup3xHOUiOdFtLm/ZZVBnLiwLHrK3kIS6IdZjwnVAL8qVJeUkZPcc8kY1ja8Q4ItRcaLeqFDPhMeGcjkTAM1ldWF0kBt1Kkgkc07wrcFQ5T86bnTG0Ps/3B8TV6D0nvehUMMLYVU4lYiy0PEgpW20hh1wqdwT7BPOccaL4Mzw9y5Su1ZSVoVJUFphKgQRq65MpEEkwcgZUcTWpLKu8UoIIiInUIOBEjcZJIxjrSwvm5vshwrgh2iq1er7VwSSmmNQETktLfSk8JUExV+UckjdtGCTnGdE9r7fg9gwRdNrARMEapOs5iAfb9dSsAmMUl4dxxy6uA006O8XkplGNAyT4NkAbnCYkRznu+ftafYBsSoLsugdGOpPVuptSil6ObyLcd55J2gOlhILigchLacgA8kKUQJ/ivBuAcLYXbXVsrUQAtOpSYAyUlWNKAdxuVDaADSy37T3PEXEu2qlOIBOlWpOknaQAPEogbgFKUmJ1FQDjsTqraFyyk3pN+yp0hsKFHaBYcqtRcmzG2/2UKUsKbitjHASFL7hKFEkaz4NfWvEtDVjw9CGEDwFWYH/BBgQZ8S1qSJgqJ2oh5nuCp+7V+Z6mSeilRKdvZQlSuQTGxLP/APiQJs+sxYVcrVmU2hjDDbUJsmRIyrhtptS1qQ2nsMkrV3Vs+4KbjXHkWQ7u20ISmSqM6RAwkY1E5KiUo3hCMFRX8N4wtbgN4vUpUAAA6ldSZKoAGAJVgAqUDgW/aXVCxuqdBjXDHdjNSnEhWVqSEIJHYqxkK+Wm3ZPtlbcQYCgCUkSFDp5jcfeKecU4UULDiSAeh5eXSl/dVk3DdclbUKtplIUcIhwjsR+LmCT+Wrl26ZAAQQB1GSffUomwuFmSSueUgAR5czUo9R+h/UOEpxL1Jq0lZGwQ4DzgTg9vGeyTjt5Uc/Ma3dsEd3I8Cd5/X7uQ9SJ6Cg0POFwh1JUTggghHvO59AY86ke8vsz1ypJE6633YwYT4bcUgpYio5OxKRjn1PuRk50ge4C9cpLQlDe+kKJJP9SiTKj5n0B5UW0q0YX3pI1wEyYTAH6RAgD/AIjc7igylfZ3pdFmKqjleprW9GxlhxxQ8ReQCQD/AE99TLnZRtSk6lFKUHJzHlzNVNu8pJUEFJUoYHPzOB9k0DdR+lPwMZSZFzCCycKw1FU7vV7eueT9NUrfCCGyts7g89h1oC4uEpcCFLzyEbn3kT8anCTZT0EITTavPqZQvc45IjoaQrvnATk+2M/PUs9Yo0KEkqOwj+RPn603tXyFhZwlO87nfYZ3MCZ2FLWp1O6JlUVuajmEjHKCeOMds/5nX2+t+4bRbNwSd/3r7bvlZVcLGTtimtZ06W2wlcmOppeCDg5Hz76W2ylJc0aZHWiFqBAM5g0wX2zIbQDuZUrnA4z9P46sLRQ06jzpHcrlWkcq+nlzIraUNjegDlPt8x7d9MLdpUHuzmsFrGCrlQZVqs22y74gUXD8/X6/ho5hBcV4hEVjcrIgCpgvydGmMvo3KLhJ3DGOPb8/XTsDSZP2aXtMF0QDB5/frUrVaAyqYouR2gccZUR6n21yHFHP7U8Q2hKQFdK+4shOPOofP014K63NW5WCKJochJ7qSO2Tj+mlbzZrpJmtuxvdSdqQQPy/LQS4TvWzbZVWY1TJrqkkNFPqFK9/prFV22NzWqbVRIAFfL8ZyMtawRnsB78a/IeChFEMWJUc03umd1CAWzlKHt2NylYI+fHfQ7lidY0EgnmKetWaSDqAArpb0XvJuSuOZszxiSB5l5Hb2P000srUoOkzSDio0mdj5eldGrb/AENUIsdxltKXRjhBxye+ffTv/TgDKRE1PazEdKI3rQZl/rEq2rOONvP4+2uU8LBXANEm5WEyQKNqPYSIqGwp5ptskKJWkDHzI02RZpmCqAKEcfUG4SM/v/FbOvOyIDCaXbsplKAAC64g5B9ce5+f5aCdUpSoQYHKsHFeAzuaZPSO3qvImtyZsxalY3LVj7317/w1W8JtEoTqmkNw8pWDyq9aE8qn04Nun/hSAcBO3HuQNP1u+HQratbUwn799HNuWaK/ITJcWl6PwW3AO49j/nHpjWVy0llHeqH39/Ci7O2VcO92k4Nbq97Ojw6StiMqMhSUlOxKtuCfYkcfT3z21FXd6y/IR7uk1U3XAnWECI2qLZdmyEVKoF+2nJLTzZaeckugteHkEZCcDIUAdTRtliW3EQDzORPIj750iW2kK7zcjHuMSD/Gc5oebtuRALrDRiPtKylTURvwmgD2QVnkjnnHHvqWuHVNnRGs7dBXblpjVt15/wCTRZbNA+HqxDLUZMxtrdJk92qe3+6k+qiP5j5aYcKcAcUAYAjUroOg8/p6ml97aq8JIzyHTzPnTMTckNtbi4wbjxY22KztPK3VDjI98blE+gHzGng7Ra3AW8JnSn1/sM1kbTR4TuBJ99eV1SIa3KXGLLcl5prKtwyhLmAeU9ifXB4986SdtuIIC0pRkpHuB9OvxFFWiAAArNaCXUH3orLj3xDraGUvPnPLqd2ByfUKxj8u2pl/iDhQHHCdKRJ6mcDfmDtRKtJUEx5+6a1sX49huI2iSFAFTqlI8qTk4GB9Bz8+NKl3j1v3SSrAGo+cnFfG9CkyBmiWLJlu7G2paFKUAVtFI8RJz+yf8OrbhXEFqGgL9oAxz9xoRZEgHetwa5cTqgtisVBDmNp8NwpSnA5yDx9c/jprccVvVGWVkHy5R9K+60nEVnM3TKiXnROrLKoyuoFKdQt6roSUuyylJQ2l5OdroCFFIyBxyeM6aHtXcJWm9QQp5rdfnEbc5BgfGiG7lQAbBlIMx09Ok86W9cuGrV2VVnqm8JsmS4t5wqAcS44pRVkp9ypSgcc+Ye2pm34ncXKFIdzJ9d/L5H1minXwXO9O5Mn37/Cvqi01MFh91EWRGunLbLcZlwKdlTCva00lw5LamVnwkqVkJkF5wnEI6e8Js9LRxDqcRzJmAJMxpOM/q1HZuu3iSsRt58tpx54PoaTE5UisXL0ztOG4xJa/SXxMaTDSQxPkKQkLeYPJLQYabZZzyGnYufMVaSoWpx5i0GZVII2J5qEcgMJ8imck02QQlDjqhsNvoDzkkVLH20o66pBgzaGGpIptcq1Y+E2BYXIbLVJiykp7FppFJlPgc+aSjOdxBH/6qXjqrQqtPEttal6f6tADSVR0SQ4qMycHzO7HNaHCp3AgJnyMKOfPAPSgf7NVRj3TZFo2le0R6vUeqU6NSokFRUZdYq0JSo5jsnuvxogp7+4eZRZdCQpQKgZ/077Rm7smlP5SpJQR1IKjAB3lCo9QY2xv2j4clp5aG9p1COQIAPvCkkj+9dS7ns2rW1aVwV92Wp/rjNiohX7Pt1pMqVGbKQ24qiRXf+GS7KSppFUlKUUKCFbUur1/QjLCmmtZ/wD5CRBIknSAqFAc3gkpTywPFPPz53u9Zb3bUc+SiAJ2/wBo5K85JMZJjm71brtf6D2Dc1zfZ2otsnqnRYDLdw0OJMXUKbEhL4RIfkLSlytR9uW0LcwzHXlBaSvEhyXvU9y2p21H54BUkDEiTBJG4/qbHsnfUMpaawCO+9gQFE+LHImd0k7K3VOYI0qaHSD7XVq9TLRsu6eo1B+EqctaI00wjuiIkBI/WMtr80RZScYaU0Bkpye2pvs/2r/HWabl+ARAMYHUYyMbSMiKacR4Klt0NNmJOBuDM89x9OR6Vruqf2f+jXU7qVCdsTqDbtu3FUXI5REmK/RrsnATlIQ/shyiRgAsPNuHnyuev7td2P4XxBSXw53ayIBOBuTBPsHf9RCtvFyr5wPjF3bAsxrTvBwQRjynb9JI/wCNB3X7o11estmCzdtm3RDpKw5mpxobr8IpU7ggvISQhQQclK9pGO3rrXjHZe8YtyQklPigjIGIExJGP886EtuL26nClXhJ04ViYkmCYB2236gVG4psR+HXHp9RKIhbXOqZS8MttqUpzwyB90kFIx6fhpPZ8NWl2E7md+QyBI5QMk8sU/ZvkwFAdJgDOdvf0oeoNtwazXUdQarGULjkU5S2vDKGDb9L8MhbxdUQll1xohCVEgNNqUskFYxnZN/jHGn2wZThobnwknXHRIlSZO4K1QEpNUV/fhpLjUxOVmeZgBHvMJwJJ8ImCKu2XVXPs/WtRfs/9Ok0i1urNcpLdevqsIj+E3Y9vNo8SNBQFJ3NkNkuuFad7beDsD0lKUen9meHI4fZt8USjvL28lFo2cw0qdTyid9asIUqEKJceUe6aTq8q4rxIcQ4iuxeVotLQBVwoDJXs3boGwITlxI1KA7tn23FlO8sliCnqv09tukJrjcaMwz1GuuTUTvkssKjPx7egvI3eRSWHnZxj5KviKitaipQUodcUQBwppLSu8VfHSlUEA2ts53lw6JyBdXSVeIwVtMtoASAlIzsHVP8SeU8Aj8IPEkQf+5ukhptuRuba1ISOSFOqVJytS6+0Xf1z03rPNo9PqS6dU5U5ciilgqUINSarU6NHUhsZ3LdKYoWcEuF1IxjaAb/ANQXWWWQ5cK0sHUhw7GO6tFhZP8AUC6dIJ8KUhI5z1/04uHnVqQ2AXQQ4kTPiLl4CkSI0nugDiCpZJmRFQUnrDSGLWpd21xuNHoVaPwldZb2S2LNqyM+My62kkPpDgUsAH9UMhBWtGEorK7ukMquLtBNwzCHmuZnZ2D/AFo0nuiIKv8Ac0lQSXF9bsLX3FsqLZ1OtpZmIme76wgyCsHUBpUgiCqoY6vdIX1385UbMq9ToN1Sdk+mSokhUpVQ3ebxWVDme0rOd6FfFIJIUlwg6n+13C7biITflf8AuCEuAgZGBGrwg8iy5pAxoWnAP3gXGnrJKrEJhbRy2ckCJOAMjmHWwVjPeJVlVL8faC66OYtDq/0wsrrlBbWpuM5XqOieiQ2PKvwZzm1xopIVnc4CnB3AYxqKRx3tJwoqsnQX2gQBgqSTjwqbWCUKyMEI/wCJODWr6+EcRULlKR3kTOEqHLUFpwUjPjyJnVBkUFT7g+w1XjWIU3oNSKNcSkMuzzQ6i5JpG5DmUoKQWHHCFHnZvRwR+s0Ndcf4OXAzxa3Sl8hYIaIBQMe0TCQuB7KHNScyoHFCN2twtoLsHSWwpJHeatKtxgjff2lNEbwFDNPCybF6eP8AT6fdlEpKSJU1KIrVOuJpD62WklLbTcac1B8FAU6f1TZIyM5OnvZVvg948/c2YSlpKAgSVojPeKASoFIUopTKtaiucqmaRceXestst3CVKXqUowQ7uAkEkBCojUEp0DTnEESlq/8A6tsChyjatR6rW5eNXWttuVPi14xKbDJBUlp+MZjCFr4SV7vu5xwc6LdYRbvvcSCFgow2MrQFwUlag0shRSJKIAznTIqbfW85bt2LTiSpYlwkrQSiQru0FxCoClQFSQSmRMUQdMYFz0SA7Xrr6qWxWCRhtX6QbCkLH/lsJkRELwM+Z1XHOMHONT3ZtjiD7y1XdzqSN9RXAHIkLEqcVuEzgeIkCZZ8QtrZhADTQKz7OnRywYgJIbGxP6j4U4kgKvnqJ146hVZds2LefTOjUthK1vLVU6P4EBvbhTrxdScrx3Ucn66fce7RXLP/AGHClhThIwFgrUeRVgTHJPyG1S7Vku4Uq5eKUISCSs6AEp5gZhI6qzPKQCaSNXu6VYTpNsmzOsF3IbUqVcVQkW8mIzgZKYraR4rn1OAewBzpK4k26R/qdyi4uMDukqQlpBn9SlHJB3gACJVFdfjw2rvOGW4Q1El5aZUsRP5aESszO6imdkpMitlZHUn7R1crFvz6zNl0+nLB+FpUWKFynwecRoiEobZT2ytzA+RxqdHHuL3TawyoNMpUJOA0SMYCPE6ehSSnooTVFZtttXDYXKnlJMJCQXIMHnCWxO86T5SK6XWT1BvdiG2bsUOnLRIbDRkh6W7juHHO27nlKfKPw16/wQXSG9ZaKQADqXAO3QeAA8gmTtJk1q/cByO+ISo4hJnY5k4JjEkwPKjC6us/UBEdluyp7FUpqU+Z4pQ++r6JV37enOrW1umA1oSqXPMx8zPzpe+L4Od4k+DqMn4enzodtbqZd1wypNPuajx34QVlxUmM2ndjkr2lB83tg6SvXlw24Eo9pWMyPdO0e6nKChxtRuBAB5gEdZ9fTnW9NvUC9ag5Wl0ipUstjYwiO6hshHzTtOO2fQc+mqF14yLNWEiJPInyI+FLG2oUbsCVK6HZPKQRv1qQ+vFOitvphpqVaiMMqOA7CDzaj8y0Djj1OqNVilu2UlIJJ6ETHoaTnii1XKe8UAEzAKSQfekYxjNRXca5K4bsBFXtR51Y2nctSCBngALQCf4c6hQU2y5JIHLV/fFVbyFvoCAEmYnSr6fTlU2VG3bhanNqh0hl5AOFqbKcLGe455HsdT/FD3iVLC0qJ6YPptRtmghQC0LSBjMH34mmnQ6FU1stMGnvtLPKyUZwflgfLSzhwdCQ4U5PKub5SHCEpOxzTMRbm3AShGxIAxj++qa1ZVoSmM0KpKBJIrS16nsssrSk7AOFJwPMfrqosbUxp2JpNdugGRtFIG63o60rU4UJdCSEp44GPXGj0WwQIOwoJMlQIyamC5Y7z+91pISSSTntn3/prK5Gow3Ta1SlACnN6Q1VhPrlqO44x+9jHJ99bJ8HhNGJTrAUNqGW5aUAHKh64HOvElMEmqwrAHrW3iT0FaTnynuFfz0I/bEDNdIOwpoUSbDDIVhOcevPOpHiDC9VUVghBTq50Yt1WEts+ZCjtP8A3zpGu0cmnSW0gZoRqU1AUQkhS8kgBXb5f589ObRgxNcNEBWOVaWjVFbcoJbSoKzgj8dW3CbFSlCRNbqUFAoq4+kNySmTDc3lsg4OBnGPXH4nWPEbFbbhUmhOI2qVAavd8K6ddK73kOpYSt0Kb2jzEAfjp1wtS1iFDNRNxYBKyAfT31f1lyFVj4UNNpdJIGee+NOlWkbb0oudexPlTzctmoqiKWqCkpA4wCdKbxjEkVwhxR8NLhNDWuokN0d1b27vuP8APQdghuQAmsXw4rMwaqKw6cuHEaxCZbHfO8kH6n+nfVeyoJAJFLEtRicU7Yk9yUpLDSH3UpAKi2yVgfj6a3BKlSdutE60pTpFPW0K7TqTGcalSW4owFclOR6fdBzpheFty37twxy+NHcMfLTutIrAva6luxFCLDYebWrBddPB4PseD+eoNzhrdrAQJmcn75VQ3naBy4SANqnOupU4X5L84OMJGSpRJbR64Uj5d8jGk942otqWVSE8/wC3Kk6nQF9OtLmLSp9fqEJtgPN1t4f8ClxeWPD9XVDGABgkJ79ye2pJvg7t24AklLkTk4Cf6ukn5c5oh7iiESiJHLzPT7391EFTnwqQaZZVBk/pGa8orDivvVOQnJU8s/sx0EE5/awccDOhOKcQZS8jhdmYOmfXq4r/AIjkOfrQ6bhWVnJJ5czyA8vL31qbfeiPV8RUtPSqTS21ynJDyClU2SfMp5SPRJIASD2ATpJwDizarh15CD3bA8M7kmZUrzVk+Uxyoa6UsQ2o7yT9/KhefcL9SluTZEhbaFSy4fNwMg/wzqT4vxVb2lbnNR+efqfhXEnIFeM26Y8eRTqfKlOEyW/h95PlBJ8v/wC2NCcR4lOi1Oe8Gn3zj518TtqViK1qb5YTImQXVqZiMpK33ATmPjI/mCMfPRTF2H3+4PsCM8k42P1rp1kgQfP5ffxr+pd1VGa7IixtkVxCvED7qv1QbxkqCu2AMH8+x41V2du+tcgaFJ67AdaBbQonTueXv/jrz8qcdLvSLWaa44ytP6LIHxL7gIdK+wI9weMJP1OMa9DF8h5nwewdzzn7/vWzDKpwJVvWPPlimLcnyHGEW0hPhyFLOG/DXnI45cd4BASCTjHAHCpxhxpeqPyxg9IP1P18sU2YtgoCD4un1+FCFp1Q1G8DSrcYclpQ14rL6wCqSs7tmc8BI2OOqQnkoZUCTkDWvZ22X+MU0yDAEg9enpGSR0FNLhltLSVKMmfdA3/j303YNlVW9IVYt+1K3bTN11imOU2gU6TNU1JmRyHWXpjSggo3OEOMNFakbkuSXASXydejo7Lv3Ta12xSC4kpSCYJ3ClDEZ2TkTKjuqaAbvUtLQFAlQPz3A/f5cqjbp/d1YhdaryqVBjlaKFQpsyjQ30gNPOMsLVDKkdkFb7TCz2UArae2Neb9mkvM8XUpA8LSFFI5HSJT6SoDzjFP+LLQ5ZaTGpRn4/5qZLrfidRupMuJYLqqhHo+LbosKQohNQiRB8MX94yVtuqaW+oHK1qdPuTpRxBlNzelTCo7nwAGfFpwoz0KtRM7zRdo6ptnS5+rxHqJ2Ec4EYqoKP00R0fZnUuyJMeT103Kq7tRbZjvO2s+qMErjQw6C0xPlxd0fxDkRGENgJWoq23/AA7goswSzi6UQradBjBA21ESEDZIMwTikN5xJ1YJWfykyDBiQTMExsDBJOQMJnNbOw+vFCraqSLeqkOTHeS7TXpER1xtFPKSPGgMOcO7Nywr4zIdV4jbjZSFHc/4B2tZVltUlJKTz0q5pPWZ39kg+HrS+64aoKKANx6GOvkOg3BgmhxNpUi1LzpFFjuOQJ88yjQX4yGm/wBNbhveajpA8JFRSlWX6cU+BObPjx0pK1sDbiADb4WkkazIM7q3AnEOj9KtnU/8gqs7cKLcBMpQDIjZJ3xzbkiU/pOwCSKmmF0mo9s35cHTmjwWbaqFRWmr0qmtFQplWWHNyl0l1Zywsgu5p7xO1QIacPDCUy+HMtXa9A0F6T0QpUzgfoUeYwkkyNNOGVLU0EJ8XdjB3UAcf+yQYj9Q56swsr6iXHTOs3Tp+jVKr0bwCtipR2XFtpfQyp7ch5o8KKS1gpWkkH00s7R2TwdYQhRSUqAIGPCTpIPyNF2L4GokAhQO2R/V+8H0NU/Yn2rOq1l3tMt6niNV6dDjIW40045Fdz4Q8qVtnCcqUR93Ax21S2fHrm3ebaQcEAn3gq/ge+lAtGylwjABPPEDHwjPlRv1Iurp71+JixLrtSxajBcTKrFP6m2jDrFAqSinc2x+l0oMmEEgl3BOFJwP1YVkVd1xJF0n8KuUPKg+yFpKcykgiU6yI1CSAkkJVS0WjjCxcJhSeeqUrkxCgsR7AzpVAJKQpQG/9UumszobR6f1G6g/Z0tmkuMzzVKIW5cz9FvhjapusyyHpcZ9SnnGnYcJAW2nal93eQy2rVns80u2cduGkuMKCUjROh8EBapIV4bQJASoYU+pIQdLaFFXF1xVxLzbSCW3EyfHEtZKAU6gdT5M+KSG0KkSpcBGdMKbYPXnqzVac7C6h0u0i+bgvmr1GrxpQrCmleOWJjpYQ4pKQlatgV+0tSsrKVhJxXiFzxa/Fs3qVe3UNlQgaUmEhKdtCSSIAG4E4SlNG8PZteE2ir5zSi2YSpYSU/0grU4c+JZE5JO0c1qofpvWz/xR6hVW+LfojdqUGtIn3CtEggqQ0pxltuVOfThKSWYL6Uk4bZabS0gd99hx522d4qrhtl4w2o2yCndQYAtxpE+FpLtwAhON1uueIyFHBLd+1sWb66IaUs9+oKJ8KnAu4UlR/U4UsDWryS2gaUgEU+1/dlAqF9Ko3T2iPW7cMOJWGqzXm31mXUZEyJBrzC4h3f8ADRVBqSD2dd82SlBKDteLQ/wm11nvLl4sOBe6UNusXNiAjqsOW7cux4VEBoBQ7wjcJZSxxN0qGllvU1o1ZUti6t31Ff8AxLd2ohucgS5qkJTo7Y6j06249PlV1qMuxLqUil1xgp2s0uptoSQ7jslChsVu7hCif/LI14dwriy7a3RxYGVNgNvAZ1IVhK4O5jB6qBAyQa9a4zwcXFwrh05JU40TtqHtIzyMkHyIOQDXlXrmqHRamooNz2qnqz9n1+olhymSFrRLtqeVc+BIQQuM4CARghKwAUntovir73DUP3nDvGyqC80fElSVRpcA2KSDhQwJzGwQNNM3amrW6TpXs0sSFAgZSVTIUkgwkwqBzggtRfVqxahbUiB8XPvix5zIZqEKuJMiQhIAwl+UG3H39oAT/wAQh5KQM+XGi+E9pWGk9/YEoIkaDKilJ2AJOsDOEoVGfZNTvG+Bhybe/GtJIMyBKhGZCSkqxlSxqHJW1T7RugP2WLneuW66HcV5UimpcTHTAjoZnQZrpwr/AJjTjjiUoISVAIZBGRtRqK4h2b4DxW51IT3RQNS+6KTvgtkADSojmGwU4MqJmtrZ3iFjblIc7zUYT3kyI8WuZVqH/FSzJz4cAua8uhHUiidDIFVtVuXelHWy6VS6G2ma1FS46SVustLU8wkIOBuaSgbcbtWfY/susWr6uFnvAlSlJSkBKoCUpSkIUQYTEnTrO5Mkmk3a7iWhTTVz+WFBCSoyUASVKJWlJAKpMFZTM7japQ6QQ6hTa5V7oLk6hpYUmGyiA+7CedUkf8tQSUke5P8ADXkPBbC4c4mUvSAwIJgpMnxfExnbEVUruEi3LxAUl04HI4AAPKIEyOW1GnUDqzeN0GU1Mu/9HWzDPhzqlOabluuEdmIwcSVKx2xkgd+STr0LjHaW7S2bGxVCgJUpZ1IbTzUrVgqPmc7nAAMYq0YUrvrj2Jg6RC3VDZKNJHhGwjYRkSo0iCq4Or0Z6zOmXTyhotYkh1TkXY7LVnl6S62pKd3qE4IHbBxrytHbBXeqseDtd86rLjqkwVnoNOnQgjO4UrkAMFk5wBy6QFXA7toHwoCpCY/UsmQpfuKU7CTmnz07+zVZPT9gVW6ahFnVRAClP7BtQsDlLST2543nn2A1U9kP+k+hzv8AiULMez+lE5zzV5bDlWnEOLsoIDBzOD+onyn2ROJMmNo3rPrXXW2uncsC126NEqm4kOEeIsn2UrlRJz8vrq54/wAa4bw9srcMlPszAjzA5D3EnlAzSnh3erOlqBqydMke851HzJA9ambrt1yrXUidTvEpz6xGaKgzFK221rVjK1JGMkgAZOeCffU9x/8A6wrXwxNm2MuGSoTJCdgCYIEmcZOOWK4T2NS7fJunRAbB0gYSCsjUopGCogAajsJA3on6BzuvdYrNOg0SEBR1OJCmnAo7E++cY/POongvGuKE/wDaohBP6pPwAyD5mrpFglKtSldBiuxwnWJZdtQot+zIK6/JTtW2oBKlHPYDIzr+nOydldBg3d9hKY3Igf8At18udR3Gru2LwtGyJVyGZz0+vKlJdL66hTZL9orSyg58NpKt20e5B8wHbVRY39q4vS0eXoT/AOM4PuPupLcWly2O8cIE9RgDrI5+WwqDrwm1ymTVGrsylFLhTvIJBxnvn/bQ3GnXiDiR0g4+/SnHClFspTlM9czHnzpG3jcNDqe1T9GjSX/Ram9yvwOcj8NS540A0Wyfnj4Gi1cKDjve92NRG4woDlkRQJBtiRIcMiJNZZUvs0trGwfkP+2p9y/Q8qQAlI8t8elMEcOfaRpCiVHmT/O9UfZNlTXIyC8YqxtwokEHHyIOurN8F3UAN67ctiEbzHUVsKxayachxxaEAAE/9temWduHIUKkrl3uicVN13x/GcUlHATwDgDH++noaCRikTepxcq5VOd0MRW9/jhb7nI8x7fh6dtDLbKcr2phbqSpQSMzip8uH9eVNlktoyQB79xjOg13ISPBTm3swsjXSwkx1JdKUNkJHujPrpM68pSpp41ZykaamtUsISrCtucAfXUGGdqKcVzNf0WYkOpUVpPoM9z+GvjrEp2rthYKpo/ptU8NvBXkduT/AA/j/HU1d2ZNUFg+EGDtRBGrJO5BJdT3Bz+f1zjS5yx5imy7sBMnNfL8gzHBGYSPHUryeb7xz6a7YtyiCc0tc4i2AZxTYsnpZeFVcad/QEssEjK0ncc/PnOrfhTCkwFpI6R/O1E2/E2SQsK29fnVzdOejFShBl6SmTDX5T+sBOM/Lgfno95lK1bwfSjnL7vRqjAz/jf310E6YdOW24rcpyoOSC2c8J9fY64Nv3JB3mk1ypbyTpgRXRTo+xDiJY3PNgoIwCB5j886YLutI1Gply1Uo6U/c1Vy6xDUw22lDqyTgEfTSm4u0uGBvQ6mFNmDWEKA7WAS298M1nPBJJ+WskWDjh1KwPKhnFAyE70Rs/C2tCDi3AsgZ2rOc4/hou4ukWyZUaCTak70OwrsiV+TIYp0iS3JQrBC0ksqPvvH3T9dJ7a/78ywqD0NFrtA34VjHOP3NNZlw0emNOPrEwqUnBaOQVd+PkMZ0fePFvQlXx/fFfW0jSTj/JrZ3lcMuPQIC46mlHcjaFnCTnjH/fSntBxVbK0jz68o3r6wiWwBvB+NDNJlUquJTOiuP1R5JQyiKx3mOrztaH7wJye2AkE+2hbdpKx3jQ1qVhKTsoxOfIDKjyoR9+DCzGnJ6if5OB1zXjdLkm34Eyll+LLvKot7n4rZ2t7MYDaP/wCEEAY4LhGOEjzTfaV1xLZs7Y63jlXXl8hyHxr4gKQrW7g7AcojYfueZx7NAUuQ3RYDVJkSBIueQgmpSycOMoOCmMCO3ABXj/pSOAcyXEVlpKLUGVkDvFf1HcJneE7nkVeSRRKNtZ3BwOYH8n6R1r1vCMenXTanSFJUiq1tfxLiTwpiEk+VRx+8rt7jS3tZwJzg9g3bwS48da/IfpB9RX2yKHiXiQAcD0HP3mfdFIRdxR59NlOR3ckqS4kA5Pcdvz0ub4KX2NI5kfX7FfSgeJR+4rR9UqwzCvO3qDHPitRKS5Ol7D95RAwAfcnI1txLs+fx6A2MNAk/+R2/f4ijkMoKUIPMSfSgiuvXVcaoLcTwKdElt/G3DNLnhsw3043hS1fdRt2uZ5J34A8p03d4QGydUJSrxKPKf1J9xnHMRWncLdOhA8e3w2PoBv5g863MC+1ykNUG3bfqDFjRdpivt/q5Lik8/EuJWcNtE5V+sI75xntozxQvHu0JKWhhJ5/D+nz+VNrfs4G0Sdhv5nefj8a8G+tcey6vAr1SU3etvvKMafGp5KoMRlwhKlN4G985AORgZGMq1QcPcTbOgvplpeCBsmdj1OflnlQF2pOiWoKhmOZ8h7ueM4508adEu6sPQotfnIkW7KTmlTG21OGRGV5gylhsZaISfUJA4OdXLXDFH8p3blzBHlvv8omkJuYIW2ZCtj8eXIjzjBI3p52t00esC0jOmpdYjkypL8yW8kvtRHkFJThJ8NgqKWUZJJbbEpQJUpALu04T+FaBiDnJ3g+kwTgeQCjjFdm4ccEHrIA5Rk+UAyQOpFaWk9T7do1fY6g0y4HK/wBUEyI9MjXVGQuLBaiu7nPgmIil7JKG0ePseeSkpwhAyNuTLfiJGlwK1OoPhVskTyj9W/MYgYJzWqXSQEnCZB8+fvgwfXnikZ0LtuRW6F116h3JSUUmRGqSIiagy54jU1bcpSktqSceGsuJbQs4QUp3ZRyDpXwC0BL77iYOczII1HHv6cuYrZ98KaSE9MZ9JjnETM7Drz1lXsukfZEturTpEeM/1edilihNMvIWlBS2CqWlw+UMtIwsuKwhJOVZAAUJbdn0cPlxaJcEQBmSdoj4n54o5Tqn1BpJjqeg3kbyB8AYwefMu4PtX1JUyJb1cnVikQ4zu9NcjIWpc6Rv3lb24bnGSsBW5f6xwpClhICG0ebXna1wL7m4JRz7wZk7HfdPImBPRIiqxjgKSgKA/wDU/wAZkx/7dZOz2oj1Pr9Qi3HQk/A024Ql1cqnDxY8OoJ4LiUp7EFSyUH77ThSDuSkhyGm1L/FNKjvBkjKSRzEExz33BiaWv2LjZ/DnBTsT0/foaqi3bntm7qPU+hnVqA1X6tI2GREiqU4pJT5mZEWSkZS8kqDiFoztKs8hS0KrbK9QtCrLiABCsEHmNwQeRxIIyDkZ3F/DFCw8zKSDudwdtuY5HqMbGjFdjXPT1QrG+0zVLck0USkizL6qDvgz7gOwExpcJsKeE5tsgOLIAIwSXUqSo0Frwq4abLN4dbIjQ4qAc/pWNyoRgpBkCZiaxurtor122HOaEyRjcpOwBwIUZ/TFeHVLpVTkVWjzbgpdxV6THLEWJdjgSFhlSShKH4zSsyGhkgOLX4yc4G8J8LRnFOHoDA70lWgSCBtG3UqAxgxsdjusavIcSW/DKsjecGZ/pM9AZx7XJOt9MalQrz6l3TUIsSPS1vpECUhQcjSYrQILiHRwpIUVZBwpJG1QSeNLbnhp/FBSMgJABHUb/yQcgb0VZvAtKSoSVHbnnbHOTIEY6UYudOVWvawq14yYVEWgJq6xObSpNKCj4iJElogpVKUNqmYygraA286CAy0t7wvhuts3LqArvstoOy0xGtyM9wNgN7ggoTDIcUvDjbk/wDbtr0lBhxwHxAjJbbOYd/qWAQyD4fzinu07J64V2n2uxdDF5GzuirXxanGq++uYmtFt1WFJjOKK3XidywpBThS1KUsklR2tr+6unVptXSolULcJhBwkmT7IEnCUjkAkAAAYXdvb27KEutpQkJBQgASACQAAMggDBJgbkkkyONdX6RVPs/3dd9WplwdOrQuJh6jWullCZFRqIe3tyJKw5tWFFgSkhxbikpS83tQsjkrsZx5tm8e4ywR3VtkrUnCnhAb0J3IS4QtKUkAlnxLAOcu0/ZpVy03wp1JK3YBSDs2cuajtJbAQowo/nqCUqIJpAVNMSZ1EsHp0lqHRun8WoGnTW0qyiP4NqVtSn5DhAU6tC5O4rXwgoO1KNIOD3QsfwrVskq1LsJBgrWHeIsukKO2UsjwpATk6tRg1QdprD8VbXLrigFd1fkR7KSm2DAKfRTi/EfFmJAxRjVLSlJ6g1yVcJV479tWtNUtQyA5CgOUmQR6Y8KU8cj0Y9dc/jjbtcPbQZbQw42Dgg9zfKv0R5ltKon/AOYK1ftA8q/uGkkLN0pcbYubNpjP/wD0SiehBoDsiJBrkJy0nptDdqklaYlSoT8lMd+XtUQ27Cde2spmtLJKUrWEuAqQSNxGvOnH0WV48hJTCSpMKnS43JGknlICVJVukgHEZt+LW7joQ8hKtJAWFJAUptZE6tO6kgEpWncgkZBkMeHbd8WBW4MTqAhuFSJEL4Okvz2ltRrypqSUojSkOD9Qpo+REpeCwf1TgcbCFJJQzdW3duoUUW6VEIdIktqOVsrQJ7wTkpTKUE96glClIVPXPErV8vNhAU+oAra1YPJLqVGACYjkpwp0rCHUBdJbqX01enSp9b6UiqQVwnEiqUxhpSn6E4pPlaktDcQ2eyXRubV3BGpjthwZNyD+BHdXAAUWwdRgYCkkHxoPUSnyHIXhd+lqBcq1MkkBZwJ/pUN0r2EGCetfNJoFeqFoyol/2c7GqiHC6qbsLDqxtxuLgwon6lf0Gp/ssniTzLib9mZiFHcgbGfiCZ8tNb8ZatEaF2ywANx0nfB6+k+dVPQU3fT+n9uuWbc9XbkNRYzUbxXdy1LKMJG85B7juAdW3Y5Aa4Z3bajpQFkkmdlKO/8AI91K+0CFG6Mp8SyBjH6Egzv9edHl49XK3Z1KjUPqbQLY6istxQqoO1Js+OFqH3WXgSpKz244xyRqttOJ39rZIfula1rJMKEpCRtjqTERmBHKpjiFjZPOLQ2mEpESkwST7REDJPsgHlnnSHqXTLpf1OpVNvSq2jV+nVtMkpjUKSCsSh+8ytpaCB3OVN5PqdTbtrY8fYXboZLSQdSlydK4zEyCN+qjI2rkcPuLF5t19WrEIb0+JA9Mj1Pg8wYrLa6mWf01pMmgUCkt0CnFJSxBYQlTr3oFLV6Dtxk6M4YxwbgjZLEISN1Hc4/SDnOZJMnyFY3lxeXaO5cyDsgbDzUf1Hp05VLdx1/qpeMWpIjQ5CEqUpLaUggJTk4G49uPQAaScb7T3t3dKTYp0tCIPM4nfYH0260JYcOKbYF86nOYzAz0Odtpxzihewvs5y5LyareFSCMHxVNN+ZQVkkDPvrzOz/6e33Eny7eLOZnqeWT+wqnF+xZspAGiBNWX00+zxS6pKbfdpvwUNR3LccRucUnPzwBr1m27IW7CwhuCQNIJgmOf3P8UDbXLqkagCEmSScZ9N+f3FWDWJ1h9BbIkyoFOipnlo7CnBOcZypXrjvr1nsp2VYQrvHQAB1yf4E8hU9x/tA6233bYKiZiNusk9AM53rk1XrzuPqreky46o4+mHvIaLytx8PPAA7AfTUh/wBQ+2Ll6+nh1mT3LZMRtq5kDnHnNOOyHZ5mzZVfviHXANXUjkJ6DoIpx2zdVdp4ZixpC5jQ8qGXlFXhgfuqzuT29Dj5aH4drYSG0q8I5bgn0P7RTRSw4SFDKvkPv5Uw511Q5rPh16EO2VeOCfydAzj/AO4au7PiCwgIUfj4h7s6k+4mgxZIEqGPSY+BwfdBqf7vtKx6kt6oMQWi5kqBbUlOfy8qv4a34kwzcwF4PnnnvrEEeihX6zUWQXEjf+kyD/6E49xg0vreo0GNPIXUitvdw2vAI/IEHXnfEuG90v8ALVA+/lVLZ3SHEysSR986suyqVARDbGxCuMn0xojhyMyM19vSkJIjIpc9UIoT4i0rR4Qz64zr2bgrALQjc15HxV2HdZ2E1D13y1tOvpawjnufQe2mLiQnbNA2qStUbA8qmW5pDKnXPEKlKxuJCjj6f9tKLl8lA1VQ2SUlWkDbNIG4qo2htQSttoDnj8f7aTPvEAiqG0ZCzSTnVdsSVhUvcfkrOlAuFf1RT9i1KUwkVNT05SwpKXM8DHJGl6LeNxSJ52a9IzjgW0CdwODnPz7a4eQkA1i0siIotp09tOA8vAAA4PfjnSa6YJ9mmLF3B8RxW5cqkJpKlMFLjhBwQScnn2/DQAs3FHxYrd28A2OPWsKDXpsefGfbY/Voc3HB5Vz8/wAdH/gWt1ZoVIUseEwa6S9C+udDjtRY8qjVlJACSrxULAOPYY/LRzN0wR3aCQR98v4q14Zw51yYgg+Z8+UfvvXTmxuo1t1hmIy68lllYGDIYVkZ+nGhjx1sLKC4JB5g+/lFZv2LqUSUEDyzVv8ATuDZlRjMtpq9LUVpAIaWE/kMaYru++EjSfh+1TS0lsmAoH31WNj2hbFOQl1idEca753g5J+mun3GwB3pGKXJfIPhmmJU7qtqgsBCnkuEccJznSN/i9shQ1Kn0FaJ4c8eVLKp9e6TF3MwMJ28blHscew0que1qED8vcV9PD1+ycDnSmmfaBVXpaqSt/alStuAjgj2JIzjSBrjKL9zSo5HXb5US4gsI69OtOa0Z0GXDQphyPGUPK3sXuwo/tbTjVTbcPISHE4KsCOXX40mdWNRQsz15V91O+apSqnDYhyVyWG1bUFKsEqPclJ76Et33TdBG6Bj+8da1fCUsFznOKp+oBuq0a24ggiVUZIQnaQQRnurgEgc+nJ4A5IBpuMcGbfdDIGfp58p9MfCgGHylpKzuaxEQaV0uiVGtUipJmXfLjqj08SUhxuGFHC5BCOCpZG3IOMIS2k7ErWufctxwxhTVoQXnABJzpT06Eqyoke0TPspQD0GdTxfdOBJA6q64zAiI5RA8RWaXzFWk/oyoyqk5Er9Ub/WvyN4Upbx7Mgn3xzj0BxgDSG4SUMd4Uysfq6n13xv1rUW+telR8PP0/vt8qD+msOq3xdUGizG5xYckqclqcTu2NDKlq/LIAHqQNfuyXBBcvpLoJQjxK64zHmVGBS/iJUod2g5UYHvxPlpANbzqvWF3NdlXbkIktMjbEZjkcMso8iUJ9kgDHsffnW3FrT8fcLdeyVH3jy9PKm/+2AhsQE49wAFZPS37N0ys1Mp+DWIkhJWgtkgd/VPIH4Y0x4Z2VS0NMQBG21dtNLJhImZH9sUV3b9nGNbVw3VclZdajSJTLERpL42JbaQNx5JxydvrzjS24skNBS5yT/j4e+nSeHqDgJGmAkDpiZPv3pA3fRGqNSJ1MYoL0igoHxTsyY6liIHk5KJDqycrxyNvsc9wMSHELRx2UviEjadp5Ty+fnypkxds2wSW4k7mRkTkdTG4xUwJt1292JtRkXJVbxocZPiGHSYaocBatwGEPvhDbhBIyoB09vXvjbWbahqkqA5Db44B880svuLKcMnbzx7+Z9DEzTJsW0qnQpqEWfYdTo8l47CuSh2QiSvHYIShsqAB/aLaO5IOqDhigk92wjflyPoB/ikC1nUVKOk7+ETn4/v61WnS+wqauVKpd63KxOt1aBJqNHeqDC48FtshRcHgANtHjGwFwkkDgnOvSeAWgnQ6qEDJEgQOfsn9yTMeVKlJSkQmPEciZnp6H0mOtULd9BpHXCPJp0qtut2m04EU2nQB4KIyUowEuKVnc4RyTs44A7Z1ScTtvxaCCqE8gOXrPP3SKOtSCrfA69fPnz99JGodAavCthqn29bDVPajuFlDshv4lxwEBBWHXQoDCQeUJBz2I51MpYQAEpE59enmByoxNspI1JxG3TmNzOBJOM0XdXOq9jfZ36L06odSlwYcurVdciPFnOYRIdYaShJlEhSnAFrDhASoA7Mjy6d3t7b2NiFXSgnWefOPXz9aNtOFPXLpTboJ0/LpIG+PhjnXF68LZ6t9fbjq92WLW61Nps1wSa1RKy0tuJXQnlLjc1tS2ilsDLaYjoUjAKmVnjUFfcRuLolNqqZHsmYI8iDCRzlJORkcqs+HcJatQDdSkj9SSFCYO8AEEZAJED+qaxK30IR05jSZnVS4aFHprSQ65T5IMurR0kA4FOhhT76Rn/nOKjN4xu2qykL/wD+33ilTl0PyxzOCPIgBS1GdoQMc00z/wBXbKi1b+10TCvjkJQPer0rHtHrT0goUGZa9m9OOoUm3HnCtyrXAUUikNugY3JjRiQEHgKRvKlYBUVnGmPC2uHW8s2+pQx7KNCBHnlQ6EmFGc0vuLG4Kgt9aUuRhM63Ck/8T8uQ5UXxvtRTYsBdrwLotm25cIYhs23TUQ4jKASTHLmDIKfMVJV5BncCcKBS5suJsNI7pGhBExpyfTUok5P/ABwdiKzVwFTg70hRB31Hr0TsCNjk45TVb9BOqD94Uyp2LfUGJc9vVZsIfYbkHwn1IypCzyVtupOVId8xSr1KFLSaLh/FCFHvDqCsHMg485PpvHI1L8VsCE+HZJERgpI2PSfh511C6RdG5cy1hBizVXDQm0FpoykAKU2PutvJJ8riThJIJB7gkY07YQhCShJls9dx/wASPLl5eVBtWzr4BI8QOen7bnetTc/SaH0ut5+Y9TKfUNso1NdLkYXHD4OUyORlbjYSCgj7p8yt6UhBMb4MkBa3RIX+gwUq8l/8eZSMrPhJCdUrnXFpQlMxpmTJChMg6DyVGNWQgEkAqgjmF1uuODelIfqNsRqzd7sVTrppwbLrkTzkreDKin4zKtylSTkk5K0j1T3l7+KWsrWSsmVDcqOBJIjVgQAmAkYGkACmlnbBjQCnwACCBCUpzgJmE+qpkmRJmud112/1RvC87Wtyn2vQ4cpm3oxTNqcpuTLZlSGXX+B/y2/DXKaOUoO0NnHbUw/fOdxaKSzqClKcKVCEx3hSkaAYyltO8+1mad2DSFLu0uL0QAgEHxeFsEkrJ3C3FQQBsIO1HfVLpZXf/Evod0wXdVuf6Ps+DGerZly1OSJU5UdUqQV7QStzwGUIyTnhR/a054pwW5/0Sy4O2fzrpYcWokCUrcDbQA6ZWoAQApU8gAo4bxplXE7zjT5GhhKkoABISUJ7x07GSVQnOdIAnNZNgWNT6qmfXK/XZVZkSp1SlSEs05TbZ8aky2HEEuqBKMTVensNZtDveLqumVBIDtutMA+ENLccQAdtkjI6SKc8UTo4ciwcTP5DiFTzLimUHfqqcHeqpvTp1IVdFPrsGiVx9dLqv6MqYluBqO6w9DY3KI2q3NOBUlBSDwvf23J0HeWGnhzDTZOppthaYiYKdPmMBtCVdQpMnKqHsr8LuX3HTCXlPpJJOFpeUodIMrK0xsEmICQDqkfZ8tpd3yJrdn25OjTH1yXJUmI64GAR4imzHBAUrKioLWMLTghPcBDxXg9o+sOhAJVAjUYkDTJgyrUE4gAbgmjbLjtwyx3SnCAic58Q5b4BAIChMg9Jo4vHrBavTKiQqTCoMWoUefN2SG6lTpMluSpCdviJ2trMdeDhLqUqIHBSpOUkh5+24ZbuP4MQk4lJG8aE7pHKIKTsZpIm2cvH223DBMkR7QnchRBzzhUhUAKocg1rqJPcj1q0blpNy2CUqcYVT47MOpUgFI2svJaSlKkp5G0p8Nf7rZ7LW+LJeKbnh6UpQYlEeJHXSqAqCchWnOApO5rM2S2dTV6sqcGy/wBKpzlI8oBBMiPCTQXVugX+pm2btMNNAuNx0qWjLnwlQyc7khwkxnj6tqJQf2VDgayv7YcTKnn1HUD4VHY8hrTkAiMLTg80isbWLIANJgRlEZGf0n9QP9JzjB2FXT0h+zfCdsGk3XdCJdJYYIZiRSClbjw8qU7fU57J9dMOyPAHLpLrKIS22TrJ6bnI5ZBkbzvR3GH221NOOk6nCEoHmYSPfn1weQqWuqFhUCzLpqdUu6WitSWXl/CQEZUjcD950flqx45wJVwpK3zoZCUkjnkTEeX0qK4fxRLA0ohboKgOYBBjV69JqVL1qd7Xa+4xDZTQGFnal5xBylB9EAkAfLUrf8R/L7m0bhA26DzNGC1dVJec8StyZKsxQ/Y/QOgxKlHrctNXumruKypThO0n5+gHbUWjsYy9c/ir5ZW4D6x5AfttRlvctMoDbAgKzvv6+fnvTxuqx/BgtNzqpSrQpaElSy0crxnuScD8tejMcMUlqGUAE/1CT7h7I99JrwJUoJdXpH/HHz3OaDYXUXo707bCKGzIu+5XcIEh9ZUAfcH2+Q0oLthbEuXr+rTymfpgfWmLSXEju7VqCrmR88mfSmraVw1GsOKq9ZltR4raPGWykFtCB3GRwABoy343+LUE2qNCFGBG8eu5JrU8LW0S5cOalJEknb4bR7qjnrTe1f6nXBIp9JkLRSELMdoYzlAzk4B9T6e2mnartQLNpPDrZXj/AFeWNp8qT8L4I7eOKunEwlR0pE50idxPPcxygcqFRa0yEzEhs+DuAy95eU/7f31C8MYU1bKfI/MO3odz7qr3m1OPhlJ8CRPvHL40/OlXTurVeWmdKbCWwcJ4+8P7a0XdgFLSDgZ99HWVg5BedG5+/jW96uWrItyC841HCM9u/HyHvjXsnZxlL7YJzioTjd2u2OjqcfflzrnHdtUuBqUpEAmOvccJbOMfX3+ug+L2ndhSk4J3jnXXD7xbkaiJ/itFQrxqMSewqtyUOvjyIJ751CX9s+oSv2aqmeIpbgTJNXHYVyyH4CFh5RSQMBJ4GjeEoC1DSZru7c8Gk7+teN4OOT23EOIUUE+2Neq8Pd0Jioy+tw4o6qka8qNucfWhsnvzj7vyP8dMVrGmKQBterGKkS+6VUT4iUukJI9TpfcBOTTbh6VhWknfn9RUe3NSZ7q1pU+tI5ON3I1P8RQCN6suGLBAnFKmTa61OkmQtR9we/P10iNvOxqjbfTpEVOzLyv+pQxxzjGjloqFUsgmaJIbpKQlO9ODgYH8zpa8iTmsg+QIrbMBKyCcg54J9PfnQLhNcsrJMVskOoSlA5x7Y78dhzoZSSc1pqUoaa2kZCH3UKQrco98jv8AP/PnoV5RSkzTKxkKiqH6WvIgT28oUprchWCNIl3hTmrvht7oQoJNdYukVTp0qPEAKdhSPJkAn6aSu2jilSc0Rc8WJXANXrZT1PS00oMhSv8Ap9T7Z0daW5SAAN6XvXk5nNVjZ9ztw2koJSjI5A4weByTp+9bhbck7VPJf/M8ND9/Xi24w8hDniNgZPPp6/01HX1uYMYFNE3MmFZ+96RqazHeafC3kKaUCpJHP4D6aGTw8qTCxtt76xU+lPiBxzrb0e2ZLMtqqOsurU5hRJHmabOOeO5+X0Gn/D+Bttq8ZgfqI3Hl60pvL6EzEn9I6nrTWrtyxKHRyzDrEBiW4gJZTIStpSEkHJOAefnn1+miOIXKkg6CAT5xA98VkwjHj3mTjc/OlRDl3yKlSPg7mtiPHcc8VHxNwMDLafMpQaWrf2x6dtccIcuzeN96PCM7gnTsDgzk/wB6HvktoYKUKgnrjbPMe+um939UJti9OrUch0yNeFQkJaZWw3JQ21Kynlch4kKLHPDDWN+fOrbkKveN8YLVyGQ3uegMRzVMaj0T7I3IJiVHD2VLtEuqWFKAHkDO8HkI3O52wKH6XdybzYVKrdLEatPp8R15DiQGgRgJ4JAOAOBwkYAx6J7zhrLwgKIPU75zv16nrRLbhAhSfhsBsNvgBsBTOoHTaiuQywh1hpQBUnDu7JI53cd8AfhjQ6uBoDUTtWtu0kH1pkWnRrb6UWpcd0Oq8WW/mKz8MhS1FX/SkD3x8ht09TcW/D+GkzBcwI+E/X5V1b2ylPKIkx5c8H48vdUsoqLly3U7V6XatysQ21BlL7y1JQ4oH13KAJ5PAzqXtLlsKlO2Op+/caLeClKkpIA/8R+/7V0e6Mypbtuyo1LVGiV5xsJazg7OMeXOff8AzGnvGra6uLKLL2p8pqg7H8RYYuyu4Agj9/iPd9K3vVCHHfoTUa7XKfKqbSc7C6UlWfXIHz0hb4CQ3N3JV0kfxTftRxxLij3IA+P1mucl41ymWdVZE9ro/REuMIU6mqPurfSlocktlCNxI9UDkd+wOJ+54rbWpVLREbkk7dcDOTyHykiCWp7CkpAnmEjzkTMjGd/TMUC2H9oZN03rDoXwUMTJe5iITEwrfglIUoqUVAkAYJIx7aN4J2jRcOqShI1QSJB3HI0scvVA+Ik9ff6mTX1M64XnPfeZrNg0ALC1IJqMgRNnPIShKt+Mj9300xZ4yHRqcZ3HmPlNcPJdSrSogwecUzqbe0OdSI9q27aFu16sSimXVVU9yQ42wE/cb8U8AA88nGfTTu0vGQO6baknODJHQe76+laJBVnBjyOOpmeew99PzpJQKPSK5TqrWvCoD5dBMVqaqQXzn7pSeB/QaesW3h1Tp8ief35UYwUBaS4M+Un3fZq0nJ96/wCs5iKpNoabEcihMONtHiNLI+8fU851C8O4bxwcTIcTDJ2/v5/Zr27inFOCjh4S1/u/QVzT+2V03myahSq3TabS51TgRVx48yTSEVN+O2VFxwspdUUNkrVk7UZUQDngapO03AwVIW4AspGCoFQ8yAMfH+K834bxN1slLMp1GTpCZIwPaMqx0TGPOuJt/XTU0TX6enq1Wp1XfLUdMKbAAL7ilYSw2zIU403lRAAQwokqAAJI1FG4W0NKLhAA/TED0AlKR8PcacstoeJlsnMT4pxvJUlZPy8yBmvGT1UuPprSKSmQvojUriS649MfqFyioikpBUn4aOuUhxIVyfFWyltoHDTYO1ai1cv3GEzcNgr2IU6gFIHI+yJOfCPZG/iJCd7HhrTxP4WQkCRCSJJnIwogRjHtb+zpB3lP6w9AOoEBU/qFH6cRau0QEOU5U2cx2yrbvQlps5P3Uqxn21s1xuwuGvzSlIEY1yBj/iCB8dqaI4HfWij3AVBzzHxmD8iOeKZlk0B6947NQsD7Kl4XhS0PpZNYrUin0inKY2kh5D61vHaCnBA8wyNEWibO4WEWzLj5xGhAj1ClLiBzOmecUqv37xCfzVoQkzkrB9BhIEnyJjn51ZaV3dKukc6mSbgpdjSbmXI+HRTLdW5UW2nQQko+IcUG1FJWAopQACQO51WfgGmEd5dJDWn9JUVHPkmBJ3A3gzGQakXLtTrhbCgsxPhAAA2kqMQOUkDOBMGu1HRC9zX+ndFnO0j/AEuXUlbcd4JCynAX5kjA3YURj0IPtr9ZG4fSXLURnEjB8yOexA6bmnVpdMtI7u5EHpOfj9z0pTdSOtnTi7WEwIsmm16QhxSC0XcPNqScBSU98ZBG4diPTVKwhDbamXjqUMKznP39Knbi5F2tLzSZBEjEY228q59dVaxa9caNJptEpcSqPqAbfRhol0uYBUBjKsnIWkjJPOlbzNu0jvQOuR5fe+9ctl11ZT1gZ9feRHuHlQRRbZQ/fdXup22qJJqLlTTTmJKEMcxWQ22t4q7qUSENjnKivn30ruLArPdqRqLSEpGN1aStQnlCdUncY5gUU3dhCfEoJSokkiDAUrSk5AG8LiYhJNTfcF61qbVeqd+rsKIl11EhbTsidAaS6Z0gRWElw7sFMFtSjlPO/HOdUPHbhr/WiEJUpNulRBCY/wD47fdiJUI1vrUpMwABk8qUcHt3FcEabeCQp9SNQ1AwHV98sHGSloIQcSqOZzX5alzdTnrdfqNL/wBMW9SP0fWZTzlLYVOf8kVSWwiQtDUZCitJGVKAwFEHy6nuBJD980y22mVOoSSo6oGkhR0NhRJGuAM+KBurFF2gdTbsOvLWSENg7aASXUKypagIgSf+MnBAptV6pN1m6utd7SKpVL3p01mDJ/RwqCDAQqRTosxtlTqSGG21AOlW+RuDQAx+tRnZa37j/Te9WpJ/BtSlI8YguMKOlMr1KcbKASEAK7xYMtkhQ2pq2ReNAAFN3cALVke2Vz4sEJQ4lYCQs5aQRkgfdVqL6bKtuuXtfAatiXGeYl02A6ssuNtkr8VSm0p3OhCgApKUpCh5OCTqa4S9dLtwu1AbhemARlJAhBIJASnxYClwACVFVMeJWjTVyvWgqVpCpI9kjBIBzKzBOqCeYAxUuXxezAt+iyqDRruNIfkKLT36XRFQ80oANlKlJWpSSAOAT655B0iu+I2xtXFWiitAIggchgnUrAzviZ6Vs3bXCH0B4BCoMicyYMYjlEYIIzmZp0dKpEyl06n1adbtbiMKWClbkpxSVgntuWgKVx34xpTw+3DoLrckjnMn3kAQfTGK0v1uN+F3E9fpByfSui/RefRb8qSoky3BHgBI3ocVvbWB7fL5YxqtaSlS0stzmQehjcep60stj3hK3BjzMn1q54q4RTFo0ePA/Q0YeQgA+CsA4KT249jrX/Srxh8WdsD3SiNQnl98tqsnOJWjtsXVx3iRg/L3Y51ym+1UxQ6DVanUGKA9VnC4pwyW0bwff14+mvV+McLQ40lTytRjb06jy8pr+fWuKG3fW0yhSUyTqGxnz6fWuXF0ddo9vuPON24+Xkq8rakcq9uTnk68n4nf2tuDqMR5EfM4Hxp83eu4KUEk7Zkx6b0ISvtf3W1SFuU22XKW74oSHFtchOO4Iz8tTNt2+tkaoYUTGJ2mi7s3atMKCZOesfOkNfHVC6OoUBpc2o1B51fmDf3iFE8AD07+g1FdpP8AqBfXbCu7OgGZAwIH3vTax4OjUnGog7nO/wB/2pu9MbWj/Ew3ZD6pi2zwpYOSc4/pnSLs72dXoSHyVKMEzyMAx7pirFV+knUjYSAfLkfWM+VM7qf1IiUKkuWpRHG3ai/hMg7hgj0TnP1Ovd0vtcJtfxS8rI8I8yOfkKi37oXbncj2ZBV5xy/egCxKSlsmc6lSnSNwGchR55157wxh27f7x85OT5zvVat9DLZCPajFbKfWmlVwwuErUQpa1J+6Pw9OMareMrLYSRvsB0FK7F9ClltONpPnV/8ARGZRRTo4ffabCUge5Jx2/jqTsW1hU++rl19GiTiMV5deIUSpwSmER4JRlJT6D31752RUEtQN68j7TPS4SNulc37ptOJCU+4sRws5PnOPn+GnN5b94rUrag7ZwISQkAGpkqceLHq7r7rEOa+SOyuB/bUbx5IUQgGAMQKcWJSkSMk86oexLgCmmEFggYwMHIH4/wCeuk/DSlJhIgGmdwmczJPOm29Mjy2klaUhRGO3f/Ma9Cs3fDikb8zPOlNdFPhv+IpQbbznBP8AbTwHFKHDmfWpTvij059TjToCCcpVtxzkfPQjyYGdq/NrJWJqX7ktKmFLqgpnI7ZTknU3cWoK5J3p9bXagBGw2pKTaBAQ+pIMMfUd9JnFBJiafWzmpAJ+lc147qlj7xUe/tg6buIipxxZImiGNI2BJJARwCM8Y0udbmhC6QmDyojjr34SVA7ex+vy99KnURmvqSVK01um4jksBCAFLxjIHYaBU+EZO1MktA4PKimj21VhJC22so9c+n9dLLvibJTE5pkwgg6hmKpKxrPnBxtRS4vJB2EYUP8A7ffvpW1brUSpY+HWmzV5gkCNt/p61cvTKHUaa8wy4QGjhOD95P1H19dPbOzStJhI+NcPugHSdjV+WLW3/wBU34yUFsZPIwfnnRqGEwVgfcUO++B4AadEe7ZkRJdLpdbwMkH7udDrKUoztQK3FhcpNDdZueXUWysnYCcfL66kLoCI5E0xZd1J8xTe6A9JaleMmXKnAIgNjxEFecE+/wAhjVdwfhBRa986PEDt0HI+vSkt3c6nilBhEfPp/NP+7ahatkNOUl6MiRWEI/VxyOw/fXjkfId8fnpZxG/bjS3y5fuevpyoq3tnQZVk9fLpUk1iE3WKs7LqMuWsrO4kJO0n0A7gD5fxOoa5fSVHXk/U02Fr4REj0rRyaHa79QQXRLCmtqRlORnPrkfx0Bwlu1c4g2Zg6kj51+4kVIYWpeyQT8BVSfaEcpTFF6bUJa5CFNQxJTgKykYCR27Dvqn7T8USriOqciTz5mlNhbhNi2lW0Dp0rx6aV9Sn6fGYMnw3UBJURhWff6Z0+sLkLSQOVKboJ1J88V0C6R1B9EqJEcYW+4ohCW1Jycq4GdP7FKnx3YEk4rpp1LSgeVV/clBgVOiMRPCaMdCchAHCsZA//sf/AHa+8a4eCUoHsp2H0qst1lTSiNzUnXCwqiVIU+nR2JVX2FSUrH6qMAMgY9T/ANI4HrnU66+tB7tAlQHw9P7VN3SQFedGPSGt1ykVWt1epPy1PMRVLdU7whlIAIAHYdx799WPZ24cabU4r/FKG3QXdUbA1qLtvl2tR62azMcfmwnkqfSVZw04B5T/APlpNxF3vUBx07Eg/t8NvnX5N0oyFCSI+BjHvBqTZ3Uir2bcMqiVyE85Cb/4inNIcQZlUZ7ja2vypGMp8RzbnBCQ4eNTCb5CSUXST4eokkbY5/tFcpWptUM5HLMTz5Y9JHpXnbkOxb0rNNesum3nYNbMpLoiwY7SBLcSreEKcBW8E8ZIQAkAHuDrvhVpbhaTYq0kcinfO05iilvKWfzEwVSMGP8A7d9vOPIU47j6XWZUK3Urvq9IlVyRIc8Q0eEtDMZyUrlTjzmQtxBOVBA9c5I09c4BbtrU8oEycIT1OTJPLpA2roPKKZ3PXH3t8eZrBdn3BT23YdItmUks7AYUOLtaZ3HaAAkAd+5Hb31wri5aSUtIyOQHM7T8K/JtVGCrJ+9v3prdL2K9HrjL9wQXJE9GVOuqiqCYo+8W21ADKsYyfQn1wdUnAypawt5Mq35iB+/30r82AmQPf/b3bn3c6crt2VKXcM6UlFP2eIwkmTVExR4QThSGw6oBbgyCEJ8xwcA6pAtTjpKEqUB0IgDrmPU86/B4TyzG/ocY55x6Up6lfDFx1Ct2zdc6hQK5TQ5J8RFYQ6t+KD5XXGw2SEYUnJxuB4541it3vgW3RpI5lST/AHE8jHrmusjw7nqAduuRBjmNwcgxNTN1b6VdIqwW3rqqP+n7jXGWfi6fEckuxmFpO4NOBpCgtSVFKnEgrbSop4K1KTO8U4HbKV3qlhK9xO4/5YGD/Sf0nxe1EP8Ah/ELgQjSVD5HyncjqJg8wRNQj1C+zx9nykzYrD1C6t3ouUxmnxmJ8KnxZjCRlKorjfieI2AOdik7QDnBB1C3fYjh0gLdWY2CUgY5ZVJI6aQZ61ecM7VcQRgJSlIySpQPvhI6/PlNJKt1uZ06pQpP2demXT206mVBl6QYy5tQKzyrxqhUMpaHoCkNp5B5GNEcO4fY2SD/AKbbJWud1y6vP/EQlO2+nbnFa8Tv33oVxG4UE9EhLYgDeValH0EHlFHdu9KPtD9T6TTm/tA126i/Wqftp9tprJJbVvS6wuTMQUNRWz4e0NR0rkOJcJywj9caexv+LXbAcecLTB2SkAKVylKUDQhMiO8cJn2UIcUCUxPF0cOTc/kNpW7IJWpWpIAGxU4Spa4JPdtpxu4pIhKn70b6f0ubcK7Z6Q2tF6k3JTC0JlbaiH9C0JCBkBG0bEMt+bYk5W4clKeSo7O2jLTotVjXcEQGkknTJzqMkmSfGtRyrcrVFd2z6nmAtA0sg+2oDJMZCeZjrKtP/wAtEJHSSiX/AHFS12+LfbqtfhCpqjIIISh8kEb1PnyKSpJ3BLe4DtvzqlNwWEqTOpaDkAc4OOYSJMZlWcgEQJrWV92pv2VKEEn9JMT1MxJwBERM1Ef2goabD6o1RqpyEwLRmvrmUWqtHwlU6eVpbDa1ZHlcWpJPI8x3E9zoHtOyW3kvbJUPEehA3Prgeo2qh7PvywWUEFQUSgbEZ8Q/9YJIPI0FUO7xdN0U1NzRWKvdkGIZavh1fDzitndsLrSsIe8xHPlJyNCN3AeKGXVQCqPOJB+mJGY3ma2u7Yo1uIHjSmY5g5A5kHO84HI4zuIt1UG3KApiDeiaDVpUVyBGTUg5BcZ/WeGt5RKVNFS3VS3d2e8RAHGqTht0WnTfLEkKOJwV4Wd4JAJYR5JUsc4qYvrUOITZowhSQTuCEnU2mIBA/LD6xnKlIOwBoIpth1K47anSKJ1upFEalVRp51p6ssle7wHFtsIUgObcNmNztBABVjsDPMtXCi+oAElKEz4fCnWIUJMEqLayJwoqM4qlubpCHWjzSVnTJgnTmYnCS5B2jSBzxqX+itWvB2l0O5ep3Ta6aZChVWRUHag/MmtMocgOtE+AEgeClKwNpUDsx3Wvk3hQv2nrdpsEqU80QlLgT7KtQSCkSTk+Ij2tTihpAAT8ZVahq4fdACUNkaimZJKZJChuSE+EbyhE86ZLthrq162NXXl1GRZNPtOisxv0lOgxokNbUZDT6kQo6VNodc2IcURkZUhsK2tpwvubHTwaw4Xa7NhzVoSUNqIuHSlZ1K1qSlBCWwqSltEqHeOOT3bXpPEeI3l0CFOrxqVrWAppGpvUBAOvUtSkka3FqVlITBy/Z9Nutio2vWRb1dqK32HzTWEOyWmGUApQ24txITtSkhSkhPmURk4zpHxYJbQphHgbUjShIV4yAcnwadOuValEkhOE9QyswVFt+coUSpUQnUQCIkEnSQAnIEwTTPV0qtykUl74+Cpt5sIUHG2m0COrOcb1ZVgZ4QCB7Aax4bwRCG4IgRsAIAgbA4SMCYAxE0HdcTUp7Wk+IHeefzJMdSaRNffcuytP23bblWZpFOSXKjWJMc+BAQB6FRCVLVnCQc/TRL10lOixtfzHl/pAMD/kqJEAZihGmSsqu7saG05JJHuAzuapGxupto2HR6bTIjjsGqVNOyFIkOZkTD6uHPZIyT/sNNeBstWiV3b6+80YKjgTA8KR1nlWN5eKeeTaNp7srExGYG6lbDAO0AetOuJ1bES26lT6fN8cMJUFuFe4uKOSRn1HH8tV/CbvS7Ln+4rJztsB/f30kv3lfhilHspwOp50hqlXZF4pRGS2zVWpICVpIyojJB3E8ZAPP01xdcW0yreCY645fWKDas1K/K5K39Y3/moo6qdDaVFqkWZviQRMUsIKHSpBI9FpGdoHB3Yx89IOO8ID7S3VJ8KYnqAf+PMYyQCdpoO3IRcIbHtLSVJ5hURMK5ROxx0qV6/0Rq7E2Y1EMEsKQRtWkbVn5LbOD9dQt52YhxL6Yg84wfemD6yJ65o9K3FAoBgD4j3Hz93ma87Y6UViEyahXqOy42zynapLgUR93zDkcgd9JLXsmpbobcSO7HQ6hH18oplacSUhon9R9xkj4ekUawoUSkQpcx2G7BZbaJWsD7uAfb8dVNjYoU9KE+Ik1ubsNtEnwpTU0NtUq57pW/8AGrKt6lL3nnk/Psf7aQdqn0PXYSDMQAPIc6/cGbT3WrkJn1J51ZFo2ZCZpq5jsmOhtLXlyOMnPp7dtPOA8ETKUpO5knyo+8vValvGMiAOlTRfUpUWsus0SI2/LC9pXv8AKk59/U6adq7FppMrGpQ2HP8AtQHC7tTjhSzAB3Pv2AG9OnpFeMmkrbZnzXHgkZcB+6D9fx1J8OsnQoBwQs8ht6VSruglMpMinpdF8N1GEUxVJCduAkpGTr2LgehtEc6iOIpUpYUdjURdSXqhNElKAsNHOQDwBp5cXZAmgkWpIlWak+o0p6JIccLalrJ43ZwB8x9NeccRbQ6orXj96pWVrRhOaYdp19yGEtCI8jacglJA+WlFkpDTkTTC4ekYG1OmnV9biAVKSDj9rj/PTVqxdkRil8TMmlve10KZSrcpLaeec9tUbL8I2mpx+FOjlB6VK9y3dHdUtCyVuYO0p/30j4hfaSdW1N7RgLgpHizFIO5btYQhYCkNqH7x4I0guX5USmfWnDCEmArlSSnXG45IK0vMkEfskY0AbzSYkU+btZEpMVznYfScJJyr6c/5x31duN868/W8CK3keUQABtPOc9/ppe4xQxc5UUUuWFq8NRTnPJPrj0+ulN2zAkV3bu+KKblvKaKm1FxOO4z6/wBuNRfFAYiKetkKFUDasumtvITIKG1Ej1HI1O8PYQp38ynjaikYqkbfi099DDtL3rXwrJ4z/vq7s7NCNtq31pWgAGqWs5l51tpC0BCsgggHKvxP+2NNjZg+x8KWuOKBIX8etU7bUJ+FER4iCEqPA9R9ddXCkphtW9ZtJJlRpuUyBNlNIS0S4knbjtu+ep+7QpfgTXYbSIUo4FPe1+llJKWaxdtUi0Wkt4WrxD9498D1UrtwNBi1Zt5efMx948/pX511awG0mJj1piP9VTEYTQ+mcR2j0trAXLdSA8/t9Qn9n15P8NAXHaJ1xR7v/b+8+v05V8btkJJCsK6+n7fWsGRSUXLERPdZU7OSMqc7qUf+onk6U3qATrTzou3fCU92SMUvKzQplEhlbwcyolQOO3tz+WoziWppMHeizdJAKjgfe1aSBbsqs1KgU2L47sh6SzuKBkuAqGfpz7667NWKlcTYVmEmT7hP7Uu4xeBVk6iRKhHxMVYV69Ebz6udRW26RElx6LT4zEJUhQwglCfNj07qPOdULPZq74hfrebBSgnfyGOfKaFub5LbSWgJ0iKsHpD0Z6TdKLfrBvJyJWbjUAuKXnAdhxzs+mO+vaeGdm7O2sdL5lwTOfh8KSIeQh5RX0Gmdgee371+Q7mpEC4mhQmY8KC4slpxORk/tK+g8x/Dk40JYXqGllLYAHX6/LHvrq6dBhQP+ac9L6m0qWAw0AuU5lLSCcnHp2+WulcQadBCdzRCeIgKAVvS4ud9ECWYlPSzIrMt3c84BkMN8E4+ft+GkobbYcCAAScnyFcXCllJAPiNZ9T+HlWfUnqYBCiz1pZQt0kLWG+4x7Hk8dyBpu+j/twEbKIPuG9BpcQpKyBEiPPp896WjlKfkXLcFKjNuMT50BDyFKwpaHAnKMJ7JGFDOMkfLjU9coUVPNNe0PEPXf6Hfz91chRUpPeY1ADHLED6HHlS5u3puxWZNl1iTR/0lcD0NSJSVKSEx1NEeI686o7UIT5ipxZwAOAokDU9xLheu7SttJK1gHz2gk9AIySYFHIVDCQ4IIkHbkZ+55cq0F0dULVsdS6ZQHoNabbZLD8hknxp+e4XII3NsZHDKACR9/vtG15xy3slFAAJiDG58ydkjyjUedfEsrcBjA85j+T1gGPPlWvs/qjDvOiIo9QjJkwXPEiOR4CQn4bCiULbVklIA2oIJxlxJOCdG2vERe2wC5SlWMbggmM8xA5xX0JUlR2JB6YM+W2J5ct63ERVSsx6HQIdx1OXVailaI8t0PONRmggq8VYSlaUAbMkKKcEEaMsEP2h0OOalkYkmPdMn54rlTwKRoT6eXr0H3tRkb5asexKrc0tc6G0xGKmXKmkpelEJJSS2PuJJBdVkk9gTkgaomLwtNqeJmNydpHT5+4Gh2kEQBjaOpn+cH3xyqcOqt6VSjV2nIqNSS9WolJhV91IJ8Rv/imNoWMffLe9RA7b9IL/AIopC0qVvhXzA+h/tTi3sdaTB5fPBjz2+dbXqxVahRZX/i/bCl/6rt+cqAhG1RS+h1O5pbgHK2ghbiNn7S0tjPBGvvGeJ9wr8ejJRhQnBxseo5kdRFOuC8F79fczpO4PMQdx0gY8x12ofd6hsV+hyYcDplRbroxlpk3FSHao/FfiOkd4bhUU+KFBSticKcIJRvII103xX8S14W1L1HICoUkRkiYwJk+IR6wC4VYJtVylwJVySUghXpgmTyEEDfY4FLeu49VZlTpHQK2enHWuwIiUG4rZlUfZcVJfCxtkSHpU0RkBA27nVp52guK7JBwsrZKUobbDyTMFKnFOTzHdpBIkZMFMgb6ZoN15atbhdUhaYMHQEAK2OsgDO0iROACYn9Y6v3NXboetjpP01vrqhVaK8KfU6vWqRGodJtZSnBiTGFXbSiWMpwqTGmhQ2lbMZKQlWmyHOGB02xKLp1IJLTSA9pjH5qiuZEY9tlJwXFbBILe7WkPyWGlbLccKCqJnQlKCoDnkNukEnSmRJrXodG/SNFkXZd/UKsdRqm8pl6jURtdMamuNpWva9KcSiqNQnPDLjmFtuPgBIUhsnccb3Sjvbh1KdhDYS4uSfZacUlSQs5HeJZWECQ0tROsDiyLg1NtkBPi/MJQIGAXEJVKkaiCG1uJ1EDvEbopT9f7s6mRumbNiKueuXH1Mvhxik06lW0stUiyaSt1CZBYjNbfDDjgWPGLanVJbAWvhSlD3Pae64fw92+tkC3ACktNtgn8xQILrixKnFJBELdUYJITzAMteB2l9cpYfUXoALjjm5QD4GUIPhQhShlCAPCmTkiTPqp1mtToJA6B2OxAq0qLT65Q5UrwSEuNsOOrisuLJI8iVJAURyEnOvotm7Lgs3ThzAKsqUdKkk75JOCTM5JoW5d/F8U0MICtM7eECQpKT03SYHptRx9oeS711sTqtT3YUWHcCE/6jpVOABMVLSAiTGz+0d6nQfbJPbGnnF3mr5K2G0wlSIE5OoSdR/wDYDHQ+VfeFrcs3TdrUFKC+8MbBJhJSJz7B1T1BqOrLflSaBMuGal1dYiUhinU9xb6WnKohSQooDiiNsgABoZIS4VoGQrG7zLs8pTjjesR3YJ1HlOCD5JyfcKte1CUtFejOsjHnO6ek4GcH13ZcaoTbli29HrL6o7LDCF1KHU4S3HYbCElKmkqBCi6pQkEJPJLpyAASHCbpbzAbQkajIAMiMkqUSAcAnz9kJEmlHcIYeJkqIEmIyYEBIJA2AnkJKjG1Mul2lQXaVTUN2mwioTnpslttphWUJdcQgrUQW1FS0sDJz90ADAAGsW0sttOOIEArx1UUISkHblqISM6Y5qknl68cDwacMqSkA8olSlEDyJgnqZJOYAzDotpu3TGtegU+kyaYy+6/Pd+PlxXKrLDToCQpe5C2W9xIG4AqJVyEow0E260IE96tSJIVJQnWg6EgpwVaQXDvACNtUzNxD6HHjBbQlWkERqVBGs5zAkNyPDKlZJTpYcCzX7iqtPpVPtibRaTChU5sSZNUcajlRiIBcUSgl0oLadqEAqJGfcj8+tlNuzbNBSl6VKUAU4l96ApRASlOQSSMzCdWBX1C3TdPvvaUAuLSnBJICG/EBMnJUAdpGVDNPS2olvWbBVTLKhyfEz/xlSkul2RNcP3juPOM9h6Z9TzpRctN2zhcWe8uDurkkf0pECBEZwTzjYNmbg3DaUpTpZTskc+Uk8z9Mxg5Y6aQ3UaWf0y/4DLru4uKXlQ47AeoAyf76+W6n7lpfJOPnXLndMmR/f8AxSGu5MGHb9UrFQQxT7Chuf8Ay2AASatIJ/5rw7rIA4SfKPoNH8NsUqdXa2h0tD/dcmCojAQD+lMnJGTy3FLru6ASh24GpyR3aI8KZ/URkKX01eFIBURAzN9OpdQ6l3nHviqyFtNw2hHYjgeRpBRuPHYbUgDj9701N31wb8M2Vv4WWiFAARJkpGOWNW+ee9NLJtq013LitTrgKVE8hufgTHmTPSmfSqtNodNplOYeS78QsneTkL4CufzP5afsvFvvVKG5j46j+1K3ocS2kcwSff8A2olt+ROt6rQ5MZDj9KqTfmQFKBaV2IB9MEY/D563fulEi7A2VkeuD/PvoC2RI7g/rSCDHTf6VO/UVus1q40UK4Gn6QiDIUqmPNuKSGkKIIUHAPKT+929CNH9puNqQ33KT+U4ATPX3ZEHYjI86S8N4OHdL7sB5olKSJwkkbSeYAnlX9TbAqtPkPSq24ubTwc/FNjDoHutKcDPrlJwfY6QIbdeIWlWrG5iffGFeShBJ3zTRNuG0/mjnjqB5fuDPQVl1S5qnFaiN2g9RrrjbyleUoDyffgDlXcYODputplhlSlASNh59JP71wh551aQ2oLRzO8e6tddN60t2jogVekRmpyyEOIkR9m0+oJz/XX7hl8dJU6mFATHP0mvt6hMANmM+WI+9jSmjUzpvLmuFVvwipOT+qyjKueNxH9dLrnh9utWpSACee+/rXbKo8Kcx08OfdXtcNWteCw1GhUqS0UjaoLmqSlY9B6aeWFqw2zCFGeUch7+tCv3Di1jYDmDP1qRrxuSVR35TtHtqNUFqJUFtTlAJyex/aP4H00Hx1tsfmLSYHKRPrO1Y2rz6CUNBMn9UmPQAZz60GWdW7ydqL8mTS1U9la94bK1K2D2yrv+OoVXFHV3I7lspAEZO/nNPrSyLTcvLkzO0QOn+c9afC7nuCVCbaLIBTjCiCnn2Odei8IuVISQRvQ12jUoKRE9aHa7Aq89lC3JbbCCPvpBz68HTVu4eKSdIrI2ZBjVigFdhAuIlO1lx8DkEDA76TPcNW8dQVM0xQ8lEGsplMWmp8JYQ7tOAT37+mvjPDVMkqIrJy9Q4SkmvR2fGQ0oIX4KseUjGmbBbUfEKFfcMYNJS9ZvxAWkYUfcdj/bTRCk6d+VAKEuT1qZriKEeOPFQ2o8gYH+DUzep1KOKobVwJEVOV2NJdLqSecnjGcaWOr0A6tqbMNBW1JCay+h9SQHR78fPSn8KlR1GqG3uUhACt6iuO75MglKgOPbXrLqM15A4qfWttHkJylRV7+gJGhHEVzqratSw3nwypJx39dBrYBwa/JNMq06wFSG25DaynjBPYfhqW4zYwklFNWH4GdqsKxaTErJZS6gFJHYD+vfH01501aFSyonan1leJBgGR0/mrN6edPZynGDEC0NdsFX4dj31cWNwpsDUZH3vXbq1PQAIH3+1WvaNiuBTCnGlKkjHmKeR9cdtMGH0pVqSrNauhShpKdvsbYFUbRbVTBjJceKXVkeckZI+g1jdv5ztXbLAAGd6Y9vVOkQkpEeGXZOMDxB5UEfxP8ALWK1ADwHNCHUMKoukNzaw6h2U6qT7E8gD2SOw1C8WUVKlZk1+Q6kGU1vqBa5TKQ+gJJP8dIbOUqI5GsH7nVuKetMtRbbKCweAnd27HVKy2pI8qyCQsbxXtK6cVi7ZCWY1EkTWUDCl8IbHuSo+n01k7wVV0qEpMfD/NaKdhOncj732+dM2zbL6d9PnWa1Wa6xW61T8OimU/aWkr9EKd/aOdVFjw61sJdUoLV7OkbiaVaO+gKOxnHs45E856Ct/WeqN33C43Fpq4to0FscNRU5Wo+6le/z5+utHuM3LioZ/LRtyJ/iuVsqKfEcDkMD47ml5KupilyR4ZeqElzyrfey4tXzyrsPppA5xFCJSrxKPM5P36V+U0QdScViUSp1aYuWSoKWQpvcpXDaSPN27Dbke/J7aWW/EXFJIAyce7EitgyJnfempR3HLcYNanLLkvhMZkqxkkdyPQAYOnjVwbVJdcHiOI+/nWCWisHSaOLInpuuvRGzMZ8aQ58M06s4/WEckn2A45zp9wFpV66Y3Vz9N66LoSAgn/J+4pmQKVJuq6axTqQfBsKiNIgu1BwYjNqGCvzngrOBx7DnHbTO0bdv7laEj8pBAk7Yif2r8oNoVCDhI/vWpeuezX7iVSbGlNy5ji5LJlpTtOW/KoIUcKKBxuCeO2CeNFKTbB1RtiFEjJHQ9T08/iTWDi0qxykjz93T0qWeu94u1umxbPtV+A7RXC+9JfbdS2qa7uHHh/sMIcSvaMkrWN68HYExHaMuONBi3EJjcR4uYjMwOhwoiZ5UeyElcHGcg4j5RvHv361youq767SKwuhVluoRpRX4aYy0FC1KJwAE/tA+44PGvHWVLLnclP8AM9IpisQrUox98qr7pqYHTSzn5t1PfDw2X25FRkeHvJU+ttoMII52tLTFWtQ4yo59tewdnuHJtWEoJgkxJ2lUQJ2yRAnmfOldxiVnYZO045Cc4BlUc8cqd0JdfSiqMrW6q923EPO/DveGV7l+JGpJeB3/AKwJbkOJGCGtoOPEJNMytQSFxC+fMx6bT05wSYzX78Odak7jGPPBCTzg4KuREJJyaTvVquu1a4rJ6auzptwfF1SPFeX45W/WHy8jxPP2THStbbZc9fDUEblZ2T/aC+C3kWiyckA9ZnZPpgE7AbySBT7hfDClJcBnSJn15ny6cyTyGaC6lNkdQ+rt/S3JcVxueqo0ll5KT4SUJaW20EgknYCy2RyT299SHGOIKeunG07kFI+EDPuq74VwpKbdLhyNzI64iNumOVHNb6pRrXNXrsipSGrbSiHT3yFpUuVDdbGFAJ5LiH/HaKvupcIWf+XhVPw1+QVuGG/CCVAAZAIUd4MzjrzAkgO5aaUru2xJyd87kFMDJGBJ6bCSJlet9IOpFu3/AEubctzV6xrAk1HFvNQGF1Cs3NGDaHVeDABKnl7SA+8/sba2KKlx2ghwfbOyvVPqQ053LQKQVrJhZOEgABS3FnIQ20hSplLaCQo0PxDiNp+GCe7LrpBOlIEjSJJKlKShtKRlS1rSke0tewNB23d/Tbqxdv6Ft/pXdz9EoTjVarV5ofFHs6C8nyJXVKnyzW5bP3kpCVsJXvSy84o+Jr0GytbZi4VY8PdUq8dkLaYGpxSRmLhxJhlPMspc1QJdOtOkSd8i4eZF9xFKAwiNDjxmFKwCy3ALihsh1baVKmGUFCtRs2n1+pXfa9Lp9L6m0eoCS2v4W5rtgfEyKitSkrLdIisOJbix1NNuFKI6wsKKVElWEaOd4mpbfdobbeWk+bTKDsAhKQFLUOa3NazHIHIFxw9DD5XcqWkgSQYU6oEyQtS8oSTAShEIH/IxCBuW+7ftK8LYodWuO96BDr63KWmM618ZIlpUwpSlSm3223oaihJeS2VJWVHO1ROdTbjjailxDiStZCUkhKtaidIDekghOo+1pOIlWMvDw8htZUz4W/ErSogIA8Sid0qUEyCSowPZAJipO+zHBp/2iftbW/NXfPQ26qVTmnr6pCqLUJkCeIIYLbSTT6mwyoNKQYyCWXHA27GIUEndjjivA37q8YTbFJZ1hIKX0LMJyZRqS7kAqUQ1pJOSafIuPwnDlm47zvdJ1a2yhJJzIWkLbwopCQVzA6g1k/aet7qBc/ULqHVbmsy/4EZuIpqmNv0l/wAItNKQ+0GX9qmVo3R1HcF8lZ99H9t+KMruE2LhDYSlQhQKVHUOioJJI/jrSXsxwwpZN4zDhUQSQoKgCBgpJ8I3HUk1T1l3Khq5bEvyb4cyjssR26m3t2qWy+VNvlwH9kpeYVntuSc9wSNYX2pht1I9nxyNzIBgR5b1om3S28tCjO09MSg/H+fOlR1R6YU6l1+5Ojzym1Q3Kz8Mjy5SlkL8RKwD/wCWEqY57eX5a24vZpt1PFrKHBIA6LAMfIz7pxQ9g8p3Q28fE2YJ5+CROeogg86cVn2G1fFep1FkokORY4Q1Fmbsv+C2lKR46if1u7YkBRO9IAAUUjbqdvFdyylnVJECep5n0GY9Z3pjbNqW8XOZOojEDoPX+rr54q8qb0gZett6S6oNhMZUVD6eFeGSSogegO4jI13w+8DS0t7lJJB8zz9R9a4vuEKdQXVHBwR5e/kanWq9J6BRHVvTIkZ+OnKAlSigLGcYUAdxSfUZAV2Jxxp43ZkHWFH1GD8cxPUZ6ETU+65KO7IGPQj4HHxx5UFP3g3PuRiiUKN8Q20wlC3WkYYZbQNobaSMJQk45Ixn+Oury5RbhFqgRyCRsCZMkc1eZkgYJ5UA2JW46o7+IqO55DJ5SMDboI32Ee9KXQ4cyRIealFtS/EfQN7aFBAV4aVdirB79hrUcKSt6HMKMY6TOT6xtvWZv/yToykc+pxt6Tk7CvFm95N3xpVTdliHRWI2eFY3JWsICUDHKleZO88ck840vS+p91DDOANRnkNKcqPUpkEJHOBjNFOrDbZcdGSQB5yZA9DGTvGwMipOv/qfUrpvNUeCtz/T8VYjRmFHCXs8FYIxsKsYSk5wkD1J0J2gvvwrCLC3JhIlXOT09E/qV+pZJgCBXHCG3Hn1XNwfEskJ5YgSfIriSB7KQlOYNU5FVAtzp5MwWRVpkeQvfkJUynLbeOO5786I7LWraFKvHBMEAD0QTJ95mtO0NypYFrMYn/6lgEfAVjQorDi6eqY2UtRlx1leOCgjbzoBsKVaRuojV6kGT9+dMnikP6iYEge6DHzqjOm1jCqQKvTnmgqQxJ+IiKI/5jZ5OPrjP10Uh5P4hbYyFJkesfxiK7tbAuNJP6kqn3GjjqJ0QpdcpbDhZ8CU2jey4EdiOSlRx+WibUm8Z0LxPyP9634jYotnQU7j5x1qE7jrybRqT1slDqW1BQSSN7asegPoPl250O80vhoTrO/37qVsaL3UgHIod6YfZ/p98301ddIkz7dqSfO+hsqDbyfmk8KH541G9puNm/0InStOxGD7+RHlVD2T7FssXGtI8Ktwf25z51RfXHpLbMejhFw0lsTEN5D7SeSB64Hp9Py1Q9lrt0gMXAwfh/ag+23DrdpXetZI36jyI51zuR0/NIlSJ1DqLU6PuP6vfgD6pPrjVO5w1JdPdGB0qKtyUpKp1ee3y/vSwvOoT9jseoQvFSByEDAPyKT3007pSU6dI92/8UMp5JHj8XrUwVWr0+FNWGWnI/OSgAIJOfn/ANtS182kHUDpncwdveYr5bXSdekDblP8dKz09Q6dR07lrbz7nBUfpgDWrNw0iCoj1xRgulAS2n6k/frWNJ6stvsveFHdU6ngeX734k6Yo45aBYSnPoD9itSbgoKoj1+zQqer0yUlbLcf7p8wX+ycn0Hp/npr4ntA22sgA+lcm2fWkEKA+Nb+JX6xXGCqNKZS0eSgHCs/XHI19a4/qJQ2gA+db/6cVJ1OLNaSYmppccU+84oD2UR/30Wbp5R070Mu2SmVcqEpdYcYdUn4hQUnslR1s6EpSJxNDNJKjIoAuK4QlK2nVgrI4z2Py19Dp0Ak4rVLkLgVP9wT/HeWiQDtJJST2OlV08qN8U7trdOrUKUVZhsPpWqMsNOjPlxpY5CzpJinDDkGTStlMvNvKSsLB7+XA/roZTahgU4aKSnNc8I7oxnAJA+udevvJryxaZNbdl0AYICcc9+300Cts71lzrbwx4y07SSc8A6DeOkZrtpvUadVlWrPqMhkttONRyckjn8M99QfHeMNtJM5NN0WOqEp+/fXQ/o5ajsT4XdFW5yNy1Hg/T+2o214o0uO8GPSjUcJWFAjJ510d6ftQkBiN4QZdOAcjt9Rp5aOMuqhB2pm1YuoHiG9WDbSaJTobSnVoW5jk7hnTNSB7INPLWz8OpwVmVOsxXUeDFmKad2/s8f56a/d2rUedZvFAGN686HIKXmy4tKufXnOtLkEpgikjigDiqItVtpxtBGFJwOD3OpW6slL3FAFYBGmm3CpCF+E8Bt9OBxjGlKeDEKlIr5p61Q9gxUtsNE0xqXIQQQt4lSR8gkcasmO7ZbCgiTvmh7W3Utekzj5VpOrSrwqDKYYlzvg1KwI8b9Wyf8A2pxn8c6k+JcYfdX3eqB0GMVSv8LCUBaxI++VI2n2+9DeSKk/IemEpPgJPkZT7qPbPfjWTLmiCozShdstRhAiaMqncsCnxEtpZCXtu3zqJwP7+300XccQSU+GuE2at1GKDFOrrIdmOB6JESN5U6DtIHsR3HB7aRuWqnc1ottAiipV52p0+ojVSut8RnHTiHFRtG/HIWpKjyc4OScdhjT21YYt0Bb6oPIcv5pTcr8O2KEJ3U+NeSDLh3PTmS8oNNJcZe3pT+ylKGkOZyTgZI3E8aEubVdytJDiJXt4wD6BJIV8Aa7VcpSlStKvCJPhJ89wI9OflVU2tCidM7YjXDKtet3lcuPhYUX4lKWgVDLz7rbClLbQkJKQCorJyNqc69FtbRnhbAddStRIwNJA+IkiepKZ5CKAYKnyIKdUxhQO/tYx7I6TBiYoX6TdVLt6mXDe8+6o9Wp1DpjSyxAciLgwqe0FAJZYY4SknZzwVqzklROseC8ZcvrdawQWknCU4AzjG55ZMnfyrRVrF1+YghRHMctoGwBP9zS3lV+qUOsWG9GpsyIiRWZTM3CAjDCwpakqwfvKKjlOcJGQcqUohfYK7txpEEAoIJiNtvT4428xspkqIdTycn3GCfrkkZOdoFc4rh+0GaAq4W+osaqQoMeuyYaK2ypRfpgDq0oceB++0AEAqIyEnkqAymQ4V2gaeSjvT3ThwFGNClAkaVzATqjfAyNWfFRt3ZuMIUvQVoSRIE60pIkKTGTHQZ30yPCa/sm3qLPtundSepUCO7Sm2kSYT0dtK1NFY8jrSEj/AJzoOUBI+75yAMZt2eEMrWl66RoKZgnl1zk42gkgGBgyKx/EktSyZBgwNzOx5SVCCDAkSrIiWvbnTWp1q6onVWQpp6nx4LrNDoQT4jEKMtIS6/IT2eABRnPmcXsQByrZp+GWoqcWPyogJ31GQSVDbeDqyEgAASaJS2QpKkH8wZH/ABiRHXbl+o5PlrBcKaa1WqtDMms1GCH4tClzJJdL6VKBdluDs7K3FQUrGO4TkIIGabopl1QlQ9IJ/qIHliBtia7bbSsBCMIO0kz57nffJ3OrGKnxNRa/1xZPUmnw1SxAm1Gozgo7kqkMQ3pSVAk8IKo449APQHGpV5A/FtvxqAn3RJj54+WKsLR//t1MTG3qc8/X586XtDj1CnW3RXHJMmPLW405JlpVtUlRcSrCTggOLWNoPOAgqIPYxHCGnbm4UpJjOfIAyfjsB51bcSdTa2iW1ZKhMe7AmqJti3oci8atfV4NVak0p+dLpqY6Y7KXZFPkP+Iwy2n/AMtpt1tWwAJ3lKcBed2vWrOybcVqMBsSMpMATPhG0jYmDzBVmB5w7cFptLaleI5MHJJjBjedwPTA9qnjR7Vnil1iJ1sl0+g0lhfwyKeZ6i9LpqXMtNVCqFKVOOoVlSIUZtCFNOBCgvaHNVNq05eeFtJSpAicd4UnBUAPy2EK9kmVrcAyonCUR0WsF9QUpRGlOdEg4Qc6nlJMlAhKW5wlMSqHftY9cqtNkWtSujlgtdSIzbxRS6lV4vi0uglPpBt8+QywcAuTfEcSfNsAG7S3tHxW24bYizSnvW1bNoOm3UAR4nVg97cDo3KW5xpIxVL2a4NcX1z+KcWWFJmT/wDHSDjSjGi3B5qaBUY9sKJqLLtva5emD1wVXqNd1cvjrZLSF1BuoSjJaoRPLaXWleRTqTtWGcJTvDfGxBCo657TXSWhc8UchJTLbPsI0cjpRASg9ERqEISo6lqFXY8Ls33xbcMbCWkKIUse0VfqAUZJXuCpRJRJUfHpjof9hbq5H+1VcLb/AFLuZ6HU4tKmyqlTqu38ZTrgqDLQDSmtyVCNKcUQtYGEvp3KSN6XBovsrxT/AF25ZbWsSTKwqAfAJJSRnVgJAKoQFHSBFJO1XAxwdh0sghKgQ2QCcqnwkc4yoEAzpGrM01+i9vWf0asDrPcbNq2hZF1rku2/Q7iLbbMGQiYpLqG4u1ppHhOttF4pKdyVNuZJ2Emh7JcMtG+MPPNtBTjCVKCRlKASEiYVnUspG4JI3JmJvj3GHlWzLD7xh9QSSqQpRTK1R08KVHGwyYwDyPrlZ619OOparroU2pWFZMycVyI1Lq8hhCnt2PDUltQbcQAQUqwcg886A4t214q28tLbyw1t4lyIH/FUjO5iMmrXg/Z3hVxbpTcNI7wSfYGD/wCQgmAYGdq6K0G9Z0ig2/dF3Sma1R1ofotXcXtLiIshKG0uLUkAqKSllWTyNgOeNfWeJyA8oCEHViNoIOB5Rj30nf4a2Fd0mYMj3kyD9T602vtLW/fdCn9Mb7q9MkvzjSl2xUKithSG5FShlO9aFEZVuadZyvABUlWMgafF1LvD2TplTKiFbwAsBTQJ2nSCSBMSJM4qbYC0cQdQqfzUiARupolDpHOCVI33gkCJrK+z9eqJUxXxDyvgyoNeKR/zCO4GPTg6n7lBLmlO/PbE06bcSgTtJHqT/Hymulc299ltMYbaDDSCUoUPKgkf/se3HYa04dwgpBM+tbcX44HNhkCB5Vyh65dYakK28msTJtIttT6UJbQndLqfOMMtD9j3WcJHue2mPEeIdy0UsqCAMFZwlJP6UxJUryTJ6wM1N21uFKSp4FSlbIET5KUdgPNUdEg189NeoUy9qNERBorVnWy25mY+pYG1OFJSlxzH6x1R4S2BkknygAnS/hvEWVOFvh4KnCfaVGrSCNSjmEIA3JMHAyTXXE7VYZDl3CUnASJ3IOlIESpR9/XAFD12XZToIXT6cxTobkUpYZbknKo4yQNkYblFaic73ADk5wNUV0Gm0KEakZVvpSo76lKOVDcQnwxjMRU80nvXASSFYGMkdABsnbcnVOYTWvr99tQOlMyXT35lfqTlYdivOFzw23pKG8DCsFag0l5054y5s9EjQnAzpNy68RKUIlKQMJJ1BsmAAVqSgqAB0tgpjxGs+LLWpVqloEJUXMnnHgW4dzCU6kokglTmo8oiFu5KvJu6HSnHW1JU94jfgoKWo4z6juVem45PpnUDxniCkKhQgLjEkqPUrUTJztsByA5tbBouL3nJydh5ACABGPqTVuXfdc1FKoFAQJL8VmhNyHZASSkOfHpSoFztu5HGcn21XcPWtvhraZ/McW/gHICWUq25D1ihL58q4m4kA92lFuBIwSp10QD1kZG9E0vq/CpSW6EqQw5KfprmxJTwpTeDj8s9tfbE900yp0galafjMfSiLu+BW6lMggT8CJz6Har8+zR1Cp9es+n1WS42ZEcbHCTwUHkH+Wp7hBL7ikxlJkenOrZF6htvvAZBEfuKcfUXqZTKHFRNaUh6jveRZTz4avkdem2tilpH4lvYbipXi/FSuEEYP8ZqFOoVttVl9+4qNsmwifEUhAAWlJ9Unnnt/XQXE2276FNEHy5H7+tJ7ZS7UyqYPMbxH1mmt0QajRmmimoFhP3nHQ2lKkj90pOQFfP668zuuEEuQlOSY548/OvSOEcd7lIKlGIk7Z8vLz+VFnWuTBqVFdiylKdjkcOBXnR/f699ekdluDrZSQszUL2x4o3crASCBXL677IuCirkVa2pX6TiZJy0shaR8/Q4/wAGnNywVkrTuPvf9jU2wFNoIBnbbf4VP9z3PmLIhXPQlTjk+ZPlWg47gj/DoMXBbV+YkwceX1oskFskifQwanyVZFIrS351vV9hcseb4KUNjiPpn0+epy7sWLxelhWkjkef7/CiLQONiVHUTyiCPfkEUrLjhyKUv4apUxtrJI3KT5VH2Srt+Wh3+GOtJlSRWCLtBVC8dJB+VaJiCzMbUG4WxxQOQEnA/Lt66UNNhKgdOaaqPeJhJ3rZQbGIcbksKbwSCpOMKA0WmzU6ZGD97UU3CURuKZVPpbNMY3geET3SpPr/AH084fw0KVqUII50NcvhuQDIrV1SS4+lxKkodR2CgcYGqJKSjAzS0DWJ2pU12nPPocUy4lKu+dwyP851k6kLEV+cQEHUmklXkS0kpWFhYHBIzuGllwhaBpoq3SlZ1c6UtXw7vKgkOAZIIx6/7aBKtXgXTFpwggg0savPbiZ8fc0k5IUBnH+Z1kq0O42FHoeSDnnQJIqTRdJb3uoPqlIOikrbIwRRCCQMVzTYeUrYlB3H5Dv/AG16itA51IKbTRpR6LNqC2wlobCcD10jvr9DXOvjdnryKf1n9PFuLYU+xuBIO0j/AD5a85432mABCTT+14PKRirMsOxEtKZAb8NKcY8vA/DXjPFeMlxck4qwt+BY0gVa1jw/gEMNIjAgDG8dz9PYaytb3WJSKfW3Z9W01UdtqjxmUuuRFowByAP56e2zqgJSYmnzPAScGDFDd5dSZFvsuOJKktp7ADB+g1R2N2eUyaLuuDtpT4RSgtjrlU67U3GGFvoaCsEqQeD/AF1XJbUhIKlff7V57xThpbUEpqs7LuKVJUy87NcyeMnPy4x6dtfWUKWk+IVMXjBSoCIirJsarOFltan1IHBB9CMfy18ctSgZoTugolQp+UO6AgtIcUFpyOVdudfWbdKlfxWa24GoVW3Ti4KU6iO3vQlxX3k4GNM7jh8oCRtWvDn0oXqVvTLuyFBei+K0pLLWzzEAAn6H01DvcLJWU8qsr64Spsdalut1m26aFtNIU7JChgKVtwc+/qfbXR4S2IMz6VGuXKlAmM0nLo6h27RGVVKr05DbLWVJKU7vTvz6n31j3Nu1K3VfXFZLC1QDz+9q1tF61WDJpMG778Wug2+p4t0eCvKHau6B3Qk/sDuVHjjPsC+b4e0lsPk+g8+WOvQctzypQq8bWRqJ0kmMe1G8f8QdzsTIFS11rQvqBW3LnRVnaqlfnQ20SWo7Y7IT7JGfqe5OvGO1XArp5/v3VTpnngffx609aW0pvSiSo/ZxyFajojXJ9SvtmBT6tPpkOA2H5jrT5aKVrIaaaQo8JccWoJSR5sAkcBWqXsa+8ouhtZICc55kbDpgHPIUr4jbtpdQmPECDtjeBJ6kkY6TRM91Nj1iZedcTPSzaNJhN0alqjpKkIbUMuOtDI4KWyRyCUlrJySdUI42+4286p1SElQCSCdgNUwDncAV9tuHsJWG0oCtCCMgczE7cxJMRMjypi/Zy6iXNROkd53NSa7VExlvSVwYbsj4hTceMUpU64VZSpa3VHKsYGFJTgI0+4Zxu6a4Ql648QMnxZJHiAk75KCd/SllnwthV64lvASmAEmIgCZGxMnOPKIoT6K/aAj3z/o9q/6RSkv0y5QsSYizBId+GW6FFLY2EnYcgjHfRvZ7iVvfoZeZQpsw4CEklOMHwrnGZgHHWh3EONpUh5QVC0ZI08iQZRAk6CMpggU9emnRWj9Sbw6hudTYq6t08hSEvuKqsZCkyXzhbTSXWsKWOylDBO3A7rGlFp2etr1pSX9OlJkkJKPcQZBMwZHpVEbl1tyJJCsQYVPTIgkeRz8RVP2padPrtUXVZTMWN0wiJ2Q4eQt2U+V4Chx3KgUhABSCkJQAG1HVE1bfiSUrH5SYg8zGIMGDPIbziTNZL0N/mJI1GTHmTJORjqTJHIAacCl4yat1Cuab0+tS4ZtmISFuVuqQyCIkNsZUhIGd4SDtON6VLWlpKsLUp3m4W9HdWZjkZiABnPTEkzHMAE+KtmdOtRu0GDMRIJP79AMgnoNwG6ZL91VhumOUl6hWzDWyxR51PdDgYabG0Nym08knuVgYKis4wcaW3SkqWENjRG0+yr3iYPy3E4o6zbIRqJ1AxtuIj3n13G/OmrZvQCqSqPXlRaaAxOp9QYU00NzaVPRHWd7eOwVvSflkjjU7xJfcsOt9UqiesU+4fbqfcSU/1Jk8onf31mK6AQ7YiMXfd0Npim01pBiNy1BtkPDBXJeSeTg52pSCfU4wMDdkOCqVaJAEp3OME+vID3zt1o7tZxHVdLdX6DyHpz9MDmelJ2d1rhRao9TekNj1bqBdEorjvXLNYW3CpqyCUltIKRtDmwlSTvKd2Vntq0vOI2Nuotuq713+hPspI2kwY9dxyA3qZYsrl0d42nQ3zWr2jPtacgecDBgSpQiJfn2x1IuCu0vqf136kUe0qrTipBZlqMlLsVRwY7EFGEoO5bjaigDLbg3KPhZ0J/qvF75PeQGmhkpUdLYHJRMklf6ZJUrCc700Z4bw20c0oBccUAApPiWd8HASEbq0gaRnFF1Zu+zbCcplWt+JNgVyuQ0Ox7ml5cdebbJbCpe5IaiuIISyiQhtbiihLjhKNqjw87atq71xYWtXsg5bURiQgHSCPZKlqKVqOnSPETuGbpw92lJQhJlUYUOcKVuUneEhJSmCVElJEZ9Q6LYaJiv9Q2HBgQ07pKn6lKLkl5S8kvAbkIeC92Q7hQVkqCju1K8ZsGr55ffJW64T4lEmdQ3CgmFSOuqByEAVW8P4gqzt0aFobQBCUpCUwOiZkCfKPPM0unLi6k/o5+J9n+RUkLcLClJYbXHLbTZJDbaoxSEncU4cHmSoDn344Q9/pgJ4cUqIIwkEERnIgkmc5E8pia4vrJviOb0FAg+1IJkAHxTGQDEERkiMGuxdwvXvcf2XukHSLq3LuO4rhQ7KLjwaTLVFVFitMLx4aPCAS8/IZyoJJ8Hk516NwnibquCKtrkpbUtSPAEpQSQlThJSkBSikLQSrkScjavO+I2SW+Ki4Z1FtCVeJSirdSUAalGN0LEAZCZzklP0npjXbKhIj3xLtqr2a4UpaamPNIkMnBwpMcbnTgd+Mj56Vo4dcONy40S2I8UaU+9S9M+750xPFrNRBDo1nASPEZ9wKU+877bwWD0gsWW89dNjRlw7jt6qUt1+G8qMUNsONnc0MqwVBWACcDt20JbspbuQ0oApXKcEnBEEk7TBjHLnRV1K7fvBKSmMmJkGQIG3nzzT/i27c/W2x6xZNUk1I1OXFYoYfkPKcMGbGCjT5CSo+VDo8eMsjgKWCc6q+FdonnmE8PeWShqURyTrIOsDaQvSCrcgATAqYveEobuDdMJhTulU7E6QQlJnMFOpMbSrVEk0l7JttFhojMusr+OYAaajJG5bJSQFZ9Ae4+oydKLbhq0eB/w6Z+P7xTG5v23QC1sQIjeOU+u8U8k3fVpMQNkNU6OUlCHHcK2DPpnjI06adOkpQnVzz+/vpYW0pVrWYFRX1Lj9PqdeEaqVuty6xKfcHxMhtBc2H1yBknjsB3OB9EPaLh7i0hy7cAUMATAEn5DcmBgDmYFMODX7LBKGUkpOTAzMcvOMSTvvia/FTa3dKqbS7Eak29aUZ9ZjMthCVqChnxHnBj9aSE524CR5RwMlabtm3aNrYjUCUlS9OVkYwnZKAZ0Ayf1KOo4+G0cU4HrswQCEp5IByU6t1E/rUIBOAkJApYVDpVVodRuF+o1ahQozrrDyUJdUtZIyTkJHrxrpxF28+pxYMKREqPOc7+Ux/FJEpZaCUJjCsBInGwGBGTyFFF12nT6R0pTayZ9WqS6fIaekIp7B3Jkvl4uEqCFE4KWkYA42HtppwC3Ddu8t1aUl4Fw8yEhSEo5jZBKvMq2xSzizmp5stoUpCFBschIQVKVgEnUuRyEJGd6VdlWzNZROr9AsZUWWhtW2RVWwChZGOPiFjHPP3NTdha27rwKkre0zuFwYHklKZP8A5H1pwu9LbeskNFWN06snl4lH/wC2a9erkOu069bjlXJcK6i3DoBaESKhb629lRYWS2CW46cAn9vIAPfjNJdfj3LOxtoQ02oPqKZAlS7QafA0FrVBSoiRuQJzUWpds1e3t+dbq0m3TIHJN0sKhbqkIAlaAdMxB8pwenm247hfkVCUH00+el9pJQC4Yq/KpLh+76qyBnHHfUxdJdfcDTSvBpSpJjSdSSSfDKo6CTJnMVWcOeTol5PiC1AxJ8KoEaiBMHeBE1eVt3RSOmrUijsvJZhOAsLBUQE55Sv8Dj8CdWvC+Gptli7SMGDHUEbfOhbi/wBaO6VgiR7xWqi9VpQRcFGuOQ6qAMIcC1eZsZ4dA/jpm5dKRdFDfiQofERiP39aCbWg24LvhKSAT+8eR/es627wlWvcjtvVlLZhrAcZW15kSGlDh1sfukEbh6aRuktFLreW1iQfqD/yTsRsdxinzCgSppYhSDBT58j6KEFJ9xyKblbkf6QpZuSivJdo0k84O7wye6VDTu2tEvn8Uj9O/P5ffOld64piGp8Ktv4oQp3UCNcdPaQorS+VFJQtWce40QjiI8SZ22rNNsVpQSn3715v9OfjfEq1Le+EkEZWlJwFc98axVeqWuEnI+lHI4alKNRG/Spr6ldPoFQadFXpIZmhPDrKNu75n0037pCk6XYM0jdGlUgffrXN2+7fXFky2Ke98YkKUnC/KofQ99IeL8MTbuBTapVyB6Vgl4PpIIOk/fPl61M1ytVoK8Cpz6rHbQrKAtzKTj2+Wo/iF/chJbIKQef8GjrW0ZSoEq1lPI52++Vby1Z621IQh/4tJ7FJwU++TpFw9xYUCVSAdudPXnAoQExj3U8KTUGfhy26ohQ5G/k+vrr0LhxIWJ50A+4hbZHMVp6zcsdBU0GQtXOdpwPwOdUi3ggdaWhwKO9KOt3ZIZUShbrQx33YP0I9tCruzpwINfZGrG1A8m+GUthpakIXnlY5J9c6HD0klRkmu/xCjgYAoLq1XiSmy624HU4PHz9s+/OsFLKpBNEp3HlSPuGqNlTjiwpGBjJHb/bWK0DYUzt3BzFJOvVqMEuNuOBzueTnX0g7ijEpQMbn9qUkmsIS6oNulKMnAHI7/TS95hGqTTa3USjap+tTp/IlKbW8hQBII41WcY7RpQCBU8xwtxZlWKqazenaGiyEsJBz3I4Hz515DxztMTMmquz4QI8NVRaVhBKWdyAlJ9MZ15fe8RcfJ0VbWHBzAqk7ZtNLQaS20AnGTxrK1sSfbnpiq214UlIiKoG26RHjhouJwAc8DVJaWiWz4aPbsgn2RTWYlRWWT4ikhQGAP6aYKEiTRLTagZAqdOqcpiZHeDKk7Twknj89OuGrGsCuX2CE5pTWNEYgvIACVKz5sDHJ9/z1WvPoXEGKkr2yxJq3bCXAbVFcd3KJGQnIzn+etbNaJAmaieLsFJIAxzqxrXqcNuO2UsAEcEk8D++m7iUqqUHtSnFHCq48yElvahRyQO/HvodAPIV8fSEgCaNLP6iS6XUGEB9bwKsEk+UfT3084Y8FHut+dIr1BCdSTmq4l9S0zbdTtdC1FvCiccH/ADOl/FLRAJii7a/cUgEnaoVvvqCiNLkpL6gd+Gwonk55wfr/AD1NOJMgjJHKtypspM4oLm3VbNMpzNW6lvNzZzhDkC394Knh3Dkk8htvjsfMfQH0GvLJlAQ7cjO4T5g4PTHU7HzFCpeCgUAz5dfXoPLc+maQ19Vy0Op1eZuOv1GN+lWkBqMkHa3BaB4bZSPuJ+Xcnk5POo7iPZ5Vy+LxS4WJjOADyAmM++ZmjkXTJSW1pxj18vQDkNgKI6Lftt0GB+iH3I0iM6kgrW8Dx7nHb6HTksILfdPiDHWPv61ki5QhWtogjyExj60Y16oSenfTUO2hVnKJU6268phpCgtTri0JD8lzxEK/5TDiYyE9g5NkEctKzlxJg8Ptk2yEpUonZSUr66jkfqPgA6BYzNfGW2X3lvJUpIIiUlaTkQBIgiBJOZlaTjSI1UWo1tPTqNS1Ui06rV577K3mqjQIq2lrcwvCsNo4S2lvJGO59tZ3NrapskN/hWlTukFxsSRKv9taCIjPLG0UZZtva1EPupM7khWOWHErBx1HXam3Zl0MW/a3UqLGti34dAo1Ih05pNNipipfUplT7qglQdQN7sh1WMEeYg5xps7c2CbB1tDJQ2hWgDVrwlKRgKTq/UrBWckmaCYsrlNwVOO6iUTtpyVLnKFAbJT+kTFef2dOkr/VqHcLlKk1a24jYTWZM9dNp0mLTWWozyXH1+FHaWUALGcAqUQlI5OheEWVv+HBtu7ToJPiZ0wCEzKkurHLCilPSiHrd5ayt/VCgn2XlmNIWD4VIE4VsFGcbHfo7CiyKxBt1qmuPUPpfR4jC/FqNH+HeqsgIwp1zCVfrl4AOwfq0qCUgrOU2yVIuHCm2SgsDJMqE9YJAieQkx6wKDXLKAXCsO8h4ScdYnxYydgNhzpa9ZrhuWcyxTqLW7Et2npjpVEZmQHEbWykbn3Alra35QENtjASgFRJGEqzv13CW9FoyiOX5hE+cSMchz35E6ibcW5VNwtXInwpI6gbH+OczBC9kyqP0os561Lq6gUGj9RpqWZtTNNooU+xAwFx4iEKVkLTv8VZUPvrSCMsDQ6Le4YtQ88W2lqyqVLVA3BE9TCjnoOor6l5pbpQgFSRtCUgmPQcthjr0BrddMqq1X2/iIsm50UWKvZ+kKuxEjJWTzsaSUbzx37/AMtd8NYS+PylJc6lLagB5yVAH30Pd3CmkwQpHqoSfIDQSPdHrXUGwLrhWxZ0emW7HX4jgLrjnl8RXkJAyewz6e2huNcAcJC2RrwRt5ch8qqOz3aBtlvu1jEjnHxO/nQ91nhwLuplMq1Zp0GbL8BTaktJD5aXj/09wB7fPTC14C4m1SHk6ARkZj36aF4lxFDlyXWoJ5bE+7VAk/GoJct+RVpSqOxeNGYbbVtWiXQ32VAHIDaltu4T6fsg9tCLToaAZDfucUjHppig2EkujvNZV/4A58zM/IV43Z9mOPcLz1YVTOkV1TCN7y6hWZjaVvAYP6oqCcHAOOeVK49dTnEeHOuklxpTg6JuEAe6AlW+cKEbxVdZXJab/KWE8pLRO/UnUMbbHHOgC9unUV22ZrVdoH2fZbDBWpxVXnSRFQ5sCEubd4JTtTt28JIQjjyAaNTwZd43oXZrX0SHykCOWoRCfQg49rc0od4umzUVC5CAMk90CTneDOfMiZMxyqQLvelXGzRKE91g6EKtuM0WGoVu0OCuRTAklRdgSZDCG2SFDzJcWppXZSRwoHs9mnwlNrccNtRGAVlTzg6AD88rAH6FaQOSkkk0hTxxi5Ublq+uTqmQlRZSqJ/UktFB5akpJJMlJgVs+jEB56v/AKfHX+/+q9r24wqrVBHjRCz4rQHgxXIkWPISfEkKZaCkydix4nhq8u0HHhjzbibG4dt22z7fdWts0EtiVOEnvVOoPdpjSbdJBUkZJMNU3YLJuLK0cDisI7126cKlqISiAsNNKGsyValeEE45Or7SHUq5qPVZdsMU65rgmUCgxqOJLLUhRbn7C9McafddWpThkSJA3BtK0/d3eUHTziPa1lllltStKiC6tIyAt06wFJS2214E6AAW1DCTpBFA8H7NlwuvJGpClBCVGBLbaQgZKlO+NWtRPeidRyoGTz3tO6eoIu34uHGq9LS6+NjdTnIC3iTknwEKcWfxwo+uom+47duKlQccHMqSpI9ZWCSBvgJHSri14RbpBQdKVeRQT8EQPrtXdn7ITdzXJJDtz2uiAEIKy4Wwla0jsCnAPPuffQquIJWJYT4hsYMdZ5fCKH/AtpdSHDg/HyxsPOCasiKq2JdZrVvxbeRR4jrJS3LbAQSDg5SrGdyFhJ+qdKeAX4b4olABhe/od/hvTbtJY26+GakkahtnP2alT7QtuQqTVmblCZNNFWCnpBioG0T2zsfTkjjKgHP/APYNez8QtFBAuSRq9lU58Q2MeYg/GvHGnwl0s6TB8WNskyJ9ZgHqMVLM67umNPisio12Z8SeFCYQCOfVJ4I4x+XtpQ3YrcSVd6D6Y+lHOXKQANIA86WdwVvpZcLTs6kViBUXSrJK1YSVDnYdqScjuD8tLb/s8k4dI8tvhJIj4Vvb8VIOpvnvv8YEfWsSBc1s2+pqa3VrdjxVefCIheIGB/6isD640tRw8D9I85Uf/wBAPrFdO3KVEQqfRI//AGUr6V+XB1FowXUZsO5qiqalKlx2o6mmBznHDYGdvm45Gcaa2yGO9SXA3pwfYBnyJUZiYnykc6Q8Ubd7stpK5Mj2yIHONATmMDMDfcCkfc3VKjQLBr8mnxZkzf8ADKUiQ449uO9YJJcPJG7Oe/OvnD+KtocdeccJUErJgxPiRPsgb8gCABQXFrYBLaUNDSVDcAgeBce1q29Jpe2f1ZnihMFQRTmZC07tqUtnlWMHaB2yM/MakbftKhxLz+mYCt5Ow6qKjTNFuoBptZ9ojyIk9EwJpWdYbqu+6+utXt6lzh+hkRqzTJSkNgKQ8EyFAlRHIyhH5DGnHaztE5bXPC7dtPjLlupUZhDgbTEYEaVmMHHIVA2Vgu7a4k6gjQEPBIiPG04pRMjxe0gDcAESN6YNmT6VY9aakyZRkyZjAalkr3BKFgDcR7J4VpFwbh67dq2unlGUpiOoEzj76VccSuWi7cW7YytRk7xMRms2/OplSpwgSp88Pv7lQX2/3nEHaFfiMH8e+q/inEk/hlKSIQ0RH/iqFJg++PdSVoqbfShSpUsGf/IYPzB8vjRZbV6o6hUdPhyGn7ngtpbU2HcfExvRRz3KQMHPbAz30o4VxdLqPw5wUyU9SJyn1nb18hTh1BMO7ke1nbofIQOfMRzpo2Re7dfeRa1bWtblKZXJok9OVF2Mn7zXuVJ5IB7o4/Z0xlLccMdHhcOM+y5kxPIHcRgKkV0m4ClG/wD/AJaZ9W9tuZHPcxHMCm611Ik0t2M1O8ORbclP/EMJIV5SRh5v34J/iDp2h5xltQZHiGDyBjcHzB5cqwGkOpSsykiT1B5H0I58xRxRrfpLc6HU6ROTPoEhRcjPo7c8lCvY+300DxFjU2Hm9jE+R9OQ69DTHhS4IBOBMHqP5qqG26bCoiJRcQVhrkpxyf5a+cKtC4QeVOby4ShBmpF6h1uHNlPxxIbGMgKOCM/PHIP8NXzLQS2BsKgF3Cy6o/Oozv8AtlFRaeLSmW5gBKVggc/h30Ld2iFiFpkffOiUu6x4FZ32x7x95qHb9t2uMvOR51LTKQOArwwcj6ex78ag+K2SmgSkynp99K5RqWsBadJ6/wAetBVq2ZUVuh9Db0Zs9kd0/wC2ohvu1uaIKD6Y/tVRbWTqUaidQj7+FOV22XGKfu/5SsDgcAjV/wAFZWqCvcUr4i0lIlOxpJ3NBfaUpTG5SgeCMbiP7adqtyAdW9JXCJGkYpOVsyiVh9exfz7Y+f8AHS9YWBtA60WlCZwc0oKuXfHIXICEHng/P+eg3lriQJrVsIWrOKF5dfixVLadfAdxkAkZI9M6xt2CACowKPXchSjGaVt0XEhbLvhOt7gnlRxz8vppu0mCFb1+bkyBipgr1cfS44EK8ROOfbH9Nc3EOK6Uys0FI60GLqpWrcXwk+oIGufwnlTRCZEhUVW9pWJt8ILbSc+h149xLjK3SUoq8tuCqA8qpa2LRZbS1hocc8gcf5zqYVw91xUuH51T23CykQafNCoLTCWgpCEjHtotjhyUbCqG3tIECmdAXGhAfcBwTgY40cm2xINNWGoxWyXdceOAEuICe3HOuXjpTNEts8yK1Mi8lbiEKQkEnknsPXOlL14qCEitNCU5pQ3dWi8V73wQefvc6O4XrXvg/f7VjdLAFYNovKU40W2NuTkqI7jOrm1tFEAqqD4xfATAqy+nUZwht5SOOM8Zx9NVFjYBrzNeZ8QvC4SDuap+HPVFhBxSz5BuAyM/7fXTYnSNRFJcFMcxWpavx4yiVDypJASo8H/bX1t5BEq2pa7qUYFNCj3TFeaZecZU24opAAV/mNE27SNYKTv5Vg+lZSUkTVGUKvRX6OWN7idwOCv00VfseEEnaKwtlgEpIikre6Fw3HZ9ObhIqoJ8KQpsOKZP7yEnyhX/AFEHHpqSvWik6kgTHP7zRySCnSr7P3986h6/YVUhuy57cpcuS6ouurW4Qtaj3Uonufn+GoDiDbqXCpeR6zRTSG2kSn59fXnUzR5N1SawtMY+F5zgeVR7YHGedTzTtwNQA1JnAg/OP8UrcCVLBAg+v061UHSbpyazMhVe6bioFvU5hxKpHiofkuOc+UfDtNnekkAlJUMpChkZyKjgXAnnFpuDpQgHdS0490qVjJA05iBvX527QhvSAVKjYIJn1JKUxyJ1SJ2xVjxKTaV4XD8TLqNz1OjsluHDjORGI6xEQpSgHXHHlrU64px151YaAU6+6QMYAqHODou1l5x9HklCXFRAgCV9wIAA6zkyZrC2vXmQGm7dUZkrcQnJMkkNpfMkzzHIVcNudB6JX7bpsmRa8ypOJSqSsyJKsLUs88NIZycZwAoAD3GNYcSsrJpYClKXG8aUT8nt+cK57jnR8FavrhvW02lI9FKj4qRkYjwx5Vu6Z0/l0SlXp8PYdjxFzn0f8yA0UrwCCXFO7vKAOSpRwPYDWIFm7bFtq216lEwpTipnfdZ6cgkeVdixubd5RW+QAB7KUJIAkYhAM55knpTV6UdV+kFFoVVonUo1yg0ekOOVWPUqXRWy1cymWQVMMtIUgtBhaSGy4EtqDuVLDhUlPsHYqy4R/podZum7ZaSpL6IUjWiUaS3CVd6MqQpuSrUEr06SDUT2h4hft3xaet3HmylKmlDSshQCpSvUpPdkQFIcICCCpJUFCDEHW3qzX7xmf6olSqjHor0+VIoFtolExoLClqCN5JBcZbACNxyXlBQ4Rvz5hxTtBdlQUy4pLIJCBgKOTGoiJI2URucDmapLPhzABDjaS6cqjYek7DeB/wCxiYpe2/dTNRpkO/KtGN1yaVOS21TUq8ZVcqqiFtNOqOQptv8A+oeJ42pQ3geOnHxtCpF3dlRSBkGcnkmJG5ydoQDviu0ugju7UZmBpAGJ3mM7/EzyNbCFbFaplxG/b4+HlXpNfVJRTgQ7LlOqOf1pycd8knOPnrkcMDjir67SQFddzOwAifjNZru1tJDFsrI6YHvJzHn8Jp62lSZrTqblr7hkSgseBFQoqajAnytoSfvqKlAbvX8sOLV3ISTDY2H8/wBvQSSKELChKzClc/XoJ3zzOeeBTvrl23BTKxAt2nyVyHmorsic4MbQ4pGAjPy7cfy0we4v3XhiVftuJ5T6Y6VoxwhbpBCsSJPXI29CfrNHsK9p60AZbdW4PAU04SckDIxj1ODz7nTBXFQPbEjn67f49a0RZqPv/cTH1HupgUZinyIkGuRo0SXWlLKGdzaXH2EAFK0eIoHCvNwlQOcZGNL7q1bKVPlIJMxjfG+kQCR5iZ60bbvKCkxMg9fiJyR6bcxXxUI0BujuqYaEiOg7VuFAC2FdtrqP2TwPkdeP8R4SpI1EBSesYnbPQzyr12w4yylsJTgkezzn+PMVzq6xXnTqNX5FOnUe3a5TZQLK0PxjkJxxhSCO3capeE2jSGtDyBtnSSPpI+XlXlvGb11dwVpWcnnCse8VGzlWitVGvU6h9OLBjlQAQ6mmOyFSE5CxkOur5KkpPAA7emgHmeGW6i33BJGPE6syDvCRpHwBJ65pza/6i8rvS+QN8IbTkCNwJJyck4qg+n1Y6mU20KNXHqJS6Kyp4XRIdfLEFpLDLgZpkVSlpIWX3S87sH7EhlXGqLsu20bcli0xcEpKW0SRbsqCnlHOA46C2nYksyMGse0jYFyQ++QWQAlS1kf9w8g+Lz7hkhZIB8TpSZIIqZLvpnTSqxrgq/U3rJ1O6uM+Zt91qeuJAnOEhKwyltsOPlamysqSQBuVzjnTXih4xd3TjnEuIJtlEkrQyG092TMhTkqIIJICQZgAQTXLTtizaNN8OsQpEAJLgcKlCRpgKUCQABkpgxOoCmj9mK1ZPU6sLc6O9KbT6ZWtABZfuBxovOxyRjYhSyoF3GTgEkHGTzqPSeFG6/CcMZcuXxEqdUopEfqM5gziY8xT5f4tq1LvEHUsp2KWwB6AKGOuETOJVXWGw7wo/TGC7bdoVF2rSIrpaqs6S5vWVJGSFH357fPXqHDeEqtv/wCWrW8rpgD0HT/Feb3fElPrItk6EAxnc42J2mOXLnRF1R6ruItCZV6QGo06MlT6QnguIT97J0+tLG2TPdpE9fgaWXfEHlJC1eseW30zScgdfWLpsR9y4d0oPRH6i2nYHFtyYSUCUjb6qVEcQ8AOSYy8eus7Z9u7BYWBBJSJzK0grR6FSdaQZyQKyu3DaDvtcjwqMckK8KzM5CVaVHpnage++ntjdWbOWtTdMrkZ+NvYmxFJ8RrPZW4YJHPy1K3XB21tahgeU8/h/Ip7+KWPCrePft15+lc3XugNa6aVyQ9bl7U+bFdWkPRp6VNBw5OB4g4BHzHf115w52d4hbud40daeYnlPxEU4N+ySEFQBAETicc9xFb+qdKb3CYdSftyVIgKCnUKh4fQ2r9rapGcfTGCD+Oh+JtOL0pdBTJ5yI+/n6VtZOJROxgcs/Tp9K09KpDyKi2y7FkKiFBACkFLjK/Tg84OPwIwdLbaEuhCvEKK4gjWAobGs+6enspdGkRmGS7GdHJSk+UZCwce2M/TOqdlsltYH6gR8f8AFSV6zKgDyMj3T/NIBduVFio0m2WIxS2uWyVudggl0en5amr62/D2r6QMqCp8sRXduou3TKUDCSn5GZpkTnrf/wDEMyD+plVKsPocyoZw8Vo5x7+Jq97RNtsLReubsBgA8vyu7yCd/ZPlUpYW6XbJywGA8l+QOXehwnaP6vWaOTbNoUyixapNjB+ovRmmxkgJOBtOSc54B01PB23HlqXs2VgRmTqwOnzo5xaEgFIErgmfTOBzpNO9RLRvCPV4zNOgypEVz4STgAqBA8jmMftJA592zpZeM2TKzZE+JAyMHwmTkZmMj4bRQFpxFV0gXOmNRgEiDPLnzwflQ9ReuFBs1xE2HZ/6QnxwQtTCwhTyCcKQoEDKTjsfUDU/bM8PYGpRUCkykiMemJyD9zW44u6DCGwoECeU88yYMfUCnxanWbpnctIqD0S1naEt9SZdMmtP4UxICs4xjKDuBBTzg+4I1SWN1wu9Ul4LUULBCpBEEY+MwR1wetbIvH0oU0hoJWlQ0QreTOegO0cj4ZOKPqJ1AsG6aM5UFtGNMps5EWqRFBTaqal7ckPo2/fYcWACnslR9ONNmjrcdtS5qWlHeY/WEx4h0IT7Q3jO1ZC6b7pl8NwhSi0ZHslQJSkgbhSk6U5ABG+wPtZnV1vp9cTtrmno/QMh3GDKU6l1rPDjBPHBOCO4x6aY8SLdoTcIJUFiYxp8/f5TmseE3Lj3/bOAI355MbEGP2GcE1Whvd+ZS5EKPURLhOoK4zueQD+yv2I/ztpvYqQlQfaHgX7oNb3K3XGS0s5GKiS+7guO26lLkONl5pJJUlPIKfmP6jTu+cC4gUgsmzboIXn9vXzpVNdVYcl5xt9SGMnJbX7/AEP9NJhxBM6U+10NNG3ED2sdCK85VZptTUMOp8Q5y25gg/QnXNy2y4mI0+tGMXLiVAKMz98q2dPoFLk4fYZRFkd1gDhXz0iXwtJOlQ2p206BlNDN4QW40R1LbgA+uAfw0+4bw8pGKT8XdCkwcVJt1T4qC4lQbaWMjK18fmMaJetonWKQIuU6fCanW5ayEF4AR3FjJ8qgQr250uuWABnatmn1KpD3HUpim3C1HStZzg7gMc6TKUkkggxTNltQEoOan24KlLD7qVDC8nKge/8AnOslA6cimbKUzjIpV1itugnepwnB2lRzjXxrXEKM0aAkeVLqo1Bp7fgKyPf/AD66LaZM5o23XAxyoLdWFLJS2tQ7e+naE4yYrvURyrsnQbcYjpbC2QMAfnr+fU2A3G1f0SzZiBjambBajw0oKiB9dbNWh50yRbjkKz3LljRRwU8cca0LaU+EHJopCABND0y9AdwS7twPf+mglo0yRW2oATQ0/eSASS/nj09NCuWyVetZF8zitU7exWpSGnATnHJ12jh3iwNqBcvdIrFMxyqPNgKU4cA/L8vz1R8M4aEK1E0kv+JTTns5k+LHQ4necjPzGrWzaQs+tec8Yv8AQcVXVv1mHT48bwyklPPA03UUI5TUa6/rIKTzrMkXXKmPeSR4TJ4AJ764DhVg7UvdeMyOdbeFPUSHFs7wB6HvrFCgVZGK1UmEzMmnNalUivrjeLHdGFDjHIHvqgtWmlrlJpa46pKCojFVXQBDXBWpG0NpGMY7+uNZXTUCuxnIoWvOkMzYSn2UHaEHaoZ5Ocak753QrJpqwzrbAI+5qF+oUiQ2URGae5JAJxlHtqI4ndNlcROK/OIUlASMCaWFsdPqpPmqnqpVPhqUrcAtYCiPpnSq14bPiCSkeZNCqceWAZBPpn5VU1o27ApqGxVXyX0jO1pvOPnlR1XWVkkDcgjqSaxLav1Ee4VXnS4U2bKipYosswgvC5Dzm1A7ZIA76f2lsypQGr4D6ms1l1CMJ+P7D0rqF06u6jGnGNDTH+GSChCj22gYz+GNBcY4W4petOSateynHG2AWhiPpWN1Ik0SoW87BdkoAccy6kcAgDsce5513a8KV+HCDz932KB47xJC3e8bGPifWua/Vt9NtrkTghmVAUy40pwjAZQUKSEpB4CBkHHYY0ufATKXhMiBnAyDHx/vSlsH/cSqMzPP1qOJ1StG6HGoE+q1yrzJKkstx4r6iXj2CRg8jAwPQAegGgb5hy48BcKOQAOegE71y0thPi06yfLBnO23nmnzR630q6GCk2p+nFTL3Ww4iHCjLLiIKXFhbqhjncpZBWvudqEjhAApOH8KRw9lKHHBImEkiSSZJPVXmfZEJycAC4vg88WkSdXMdBsOgTuf+XiIxMuayzbtHbZr1YhTJ1eqEnw4oeVtW+SMlRyfK2kcn5Z+uj2GQ6e9WueWJMTyH3E1yglv8tAyTzMbbk9P8RvRaepkWFDkXTEpp/QsNxxuC64oEzpPYLSnsEjJI9hz3OtA+ylcqMhPTYnoM5zgGRmTyFady6oSgQTtO/mT0x4iOkJ5k0tLNvK47sqVxVmXUJLr0mUxGKs+GhRwpSlY9uT39MDSFHElPOLWcCSB6R139KftWKQlIyTKdzz1Tt8z506XJa6NElVv4kuToSlupQFZ8QIcUo+XuQEnOPYH20YhSivEkDfpvHzwPf5UE5CEEnGCfPA1Y64kx5Uyjf7FhrhXy+0t+w5rJenNJOXAgDJfSP3kEgn/AKc+2ndssIV3bh8B/VyE7H05HzBpbdHQfxEctuZA3jz2InMEV539e9Tq1LT1AsKa/XKW02H0CGoJdksdipr0K0/ttrBBx6a74nbfhVqxA/UdwfUTCgZxEEbg0E3d/ikJfaVqA9kZGecc0kbKBEAggiporjlo9QzAuCot0Gh1TPiMiepbjEocDK4bf65Bycktpdb7ngA6SvcFQ/8Am2aVFImZPdt+Y7yMeij5axTNHFFt+C5jG2ka3J80ZB6yk7fpgUsrqj3rCuGmUhv9IQaNKStwyITDIjvRUAlZhIY/UrWcBtJWpZC1oJCQDhFcPBp5Nm22hp04JUgwgf8AzCTqddSgAqhJShcBICioVSsJHdKvSpTiRsnX7SpgIxpQ3qJAUSklCZXqASakHrP1Nqt012XSqG5Auu40SDVHpdRkKVSKK4yVbBGaIAeajoBAWr9VhKNqFkJVrTtL2m7tz8AgKcB0IRbIUEJShEBKH1pPiUdOpxCDAXqU65ugfeC8ES2n8QdKAErK3lJl1allRcW2leGwok6FrCl6ClCG0jJZP2X/ALHF39SqHXa71iq950LpnJdhS1T5TpZq1zstBR2R2jzDir37QoAHaTjJOdRfZ61v+OrUm1WA1GkvBI7pHilQYTstQ/8AmkGTkbCKHtHd2dilC3UErgENhX5i+Se+WcpB3icCAJmrw6o9a7Z6F2pDsXpxQaVbPw8bw4NPhow3TmQON59XVHHJySTznOvbeH2PCez9iA2mEE4nKnFc1KJ69Tt5mvMb29veKPHUoakjJ/S2nfSkbTyE5nJxilu1c8jpj0SeqlXlPLr0lSpst1Ryt2QtQP57lKP4DXPBbhdwl6/uTlUz0CUiSB5TCfcetZXTCWWm7VByPjrXn4gAUYUzqfHrVq2hUV7n2VskzEDkeGpSgvPuMKz9AdascUQ7a96DhRJ841fxPwra4YLTgG+kRHnH81P9pXix0y6o1Kwpgbn0aSVVig+Oc5djFRU1nnJLbjyPmh3BznQb0N3IQVHJABGCFJ8SSPMYjykbUPbLkGyIBSZKZyNKzoWn0zMbiOVfdaq1Z6HGau3pDs62EhyRAgrUtLgZCspbQscp2hQC898cZ50iveJqtv8AuEn8oycbjGqE8io7AHATk9C+sOHKdSq3gBYOygSMYzGQkHpCirHKax7O+010+6lOPU2sppsWpp8rjNRSAEpJ+6kp+8M+vz0LZ9qeHcQdLTatSt4HhVGNxkK91acQ4Tc2jKHCAEED2sp9xwQT0MxTNjWhQJkTxLFuiRZM1Z8RpMSoPfDuKHIAHYYPPCu2m6re6aV/27h6QSk46aVc/T0ikJ/CqAK0aYzzMeik8vX5UQWdL6u0uRIbr0mJfdDSspJcisTnEnPrlO8J9c8Ht31PXT7vfH8dboMCZ0kEe9BGflTi1YSG0i3dVpPLXM+uqdjjceVXZZPSyyLsoCZlZo0KC6tG4pZy0UfRByPfjGlabxl5UNogHof2M/WqpPAwWe+cO/l/H8VIfXDpV0+tuvwVU2n11pJcK1LbkspSnHORlsHGfnq0b4Gyu11KcIJIgd2FfPXPyrzXi144zcKbabAEGTrIO3Lwn5kVE0XprYLNQRU5UqqMy23A825JeQtTbiSCknz+/Pb00DxnsuL51ffLUtKicEEYJJgAGI9TWFheItkpWAEFOd5zHUpkn4Vq79olFqr9OXGuAJb2FwpS75So5ydo4AJzx6ae3rFyLXSkkKJk8h8N/XmedLBb2yn0rnwgY3yPOfr7qm+wqBZsDqdL2VZr4FxpbM0FXAG7IUefRXr6AnXnXF+Bu23EGn0q8XOOaTEj34PqPOieDXVo4lYmUAHJjBGZ2H2a0nUH/wAM7cuRLsqus05tbimXW1OgJHOPOB24I5+h9Tp12g7KFABanBnlkeh38/Kllvx2yS6O+XAMjYmCORgQD686+ZNIsOg0WfVqRcoqlHktqMiF8QNjg78bQVJVwOR+6OOBoDhPZ11p/vWyQDmPDvB6noYn7G/Hb+yNuda9aCM4JxIOwE4IB23Arxs+9+nlMqzl32xe1TFVMdMWsxpHnTKjKwP1yCClf3QCRjOAeDpg3wt1xxm5aeAfY1FKSpEwQQUnrA25cjyoWy4pYt94UpOh0p1+FUEiIUQdtgFERsFYzTVvWRZ0ZDN22/XZzNMe2PvwTIymPghJUCfvN5IwruOyvc1DVg7d2wXarEpEERIPOUjPL3j0r5xG/tLV4OOGAohUlQAEkJ8WRiSM7GYImKrGwL9i1i2okmlLaddabCVubzyR6qB187Lrb7ruyTP3NU/EHNSu+SABsczmaGL7uiJO2oqAjsLUCnygKbX9Pb8Mau0qCmyFbip/TofhZwfhUd3/AA4MaQ46SIyFnKXEnII1PcRtUuJComOdfie7UUk7/c0sIdYqlOeSqNLVIbT+yTu4/HPt31NuOOA92oymtGUlCpb3qhLVu92TGSmUlTbyR6HAP4Z004VeydPI06mQVnBEVrL1uhBiOJcUlxR5IUcE6u7NA01N8UuinfNSNeFZhKQ+pPsThXPb66HdSFqIJigC5oTIGKkO+rijRVyVpSqM5yoHb5Rj3xpU9bpI8VbWz0KMc6niq9QXFIUkLju99wB0pVaBMyaoWHVrSBEUoK5eLshRwGm8gnKiM9++vyw3lISZo1lleDNLeqVfxh4nxCCcg8fT+OvzTKtUEYpgjSB5igOoVYpKi26Ck44GDnnTu2s+orUOTtQq7VyVklRJ02TZ4rrQFZMzXeF2sxYKQEKQCB3I/rrwJbQGK/qtKYoan3mEE4dwOxydDLA5V2lcGgSoXu2njxuTz9dDm2kSP8Vyp0bCgWpX6lBAU+T3Pftr60ykk6RQy7gRQs7fTsleC6dueSnvrRNpESmlT95RjbtWXOdRuJSjgjPc/PTe3skDlU7f8WSnw09KW6w0Gi1y5+6O5+p0c2zGKmrvipOAfWm1b0pbAC3loabPJCPUHnv66esOADOKkLt7WcGSaZbNzZ/VoUUp28jP8/5a4Q6FTNAlBnw1u4NdaddQXHASCB3/AIaKS1yFLyqTTFplxsPFqOypeVEAkevv/bRLCRqivjyvDjeqNtF7xRHUnYVFXbvn2405skwoRzoZxRKCFVZVsQFfooIWEpCgOSfXjQt6NScUQggCDTdottRJcDw5LTZbSPX/AD/ONSXEmEzJp1wt5caR986mbqrRLTpsnwhDEt3cRhvjv7kdtSSm2Vq0HfypvdsqT4gJ9cf5pTUMU6G4DT6dCQv8CR+OmdswkGUpk/GlDylDZUfKt5PrtCp62y/8LMqHfw0DcAr2x6n66JLQ1Qse6hS+AJRv1rfxeqioe1oupce7qJOEoH0HGnDLzaEwBH0oB9RKySc07rX6tT2aKuQ0+pt0pJR/18cH2+enDl0gIgZAzFDNoJk/qVQlB+0BXHKpIEyW5IZWjdyfTPH9dfDfIeBaWI2IoVrW2StBJoln3FAvSiOmaw29GdRk4P3eOQdKeJ8MacTCzHTmDTGzvFIEgT1G0elD1F6NWv0ws+ffztNQLwqzpbpbLnHhtAHlI7pClckgdk49tJrDs4zaJNwQZnE/z57dRk7AUa5fKX4UAZ/bfbMZzHtQE8zQFaPRyPbUqrdTr3hrqVYcKABj9Y+tX3GWz+yOP/akE+2hbHguu4VfXXtnY8gOg9D7zknJrv8AGpQ0W2wT16kn+enIY2FMysy5FRqUZtuOl2pvJbirbSDsZ3AYjI9R6FavbA9caevLSk6UdMeQPP1Iz5J8zWLBOYjBzzk9PRJgD+pUnNaHrpeLdONHsuiyUJpsJopfCBnL2cuEn65HHsedJ+0LoZbQykDqf39Onuo2wQVKKiZT9Z6fU152RPeh2/THYERcl+RU0uuc5VsO9OQP6DnWFo2Ethauv1Bpit8pMADUY+Sk016aiazOqtUqLr8+qtMO1JDO07QEq86QPmhWM/PTu0fKleIeEmPcYpTdMaYP6wJ9NJUI+BpWtdUYdXqM3orMmGlfHthyjS5aVBllZTlpalnA2nJbUM8gnTu3W04k2jSgt9MlKZgqnce8QRjCh51O3bkqHejQ0qPEZhPNKj75BE5SVcxFKKwepd0fZTuV5+rxqjPt15TzM6kSXCstvNqCHPCGcAg8ZHC0lC/U6m+H9rwwO54koqtxMKjKM58ymTBT+kgxgkUYx2bLDy7mzSEvKAlE4UQIGdgqBAVELTpKpwQ5+ufTSg3r03f+0F0PnC5enkp1BqcZhP6+2Z5Tna62PMhJ9FdvUHGsO03DbixDdy2uWFiWnAqRHQKn5ctiKoOAX9pdNuBIlaFAONkZSSJEg8iNlZCuRip26fdfrxpVOl9Pm0/pyHLbQzIi1WP8YitZwPBLYO5KdxwhCCVk4JUThKV3Bu2rPcd1fJD2gElRPd6Ruru1JOpBH6niQo9Epwom57OOuvhdqsoUTgI8erfT3iVCF+SAAhPKVeOqwpvRnoz0uYb6t9V6fTum1YkR0LcpVZdNUpdKWh0rIZIBdeeJQ0VNOh1ljaQpa1DYk/gP/S5rirxetwoskQGnilpQSqJU66NKdCk4Q2Qy84knUEoPiR8f/wCo5sW0svEapnvGUqcBIJw00dRlJyp0d60gjwAqEp1/Ur7RF6xG2Y1Ppk6NR31JfFSjuJqCXsjPivSmipBcKdhQgEBIPYdtWnEe09pwwJtnWylZHh1oLaSAYHdiNCWhmNJOrEdaR8I4O7xBJcbdBSCJCVBSgVDJcKoWXTO6gAnoTFTeh+nXzf8ASokxT7lOhn9M1dx0nc4rJLbRzzkkFWPp76g7+5VxK5TCpU4dU8koHPoE4P8A9JNWq7ZNu0GkiEIgR1JHXck4M+dfP247+/0f0ss+kyJKWarWHUyENBQBKErB4HfGTjPy1RdoXl23Z24fSITGmf8Ayz6TBGOW9Tlo8lziLbJVLiwV5O4TgGOmPoOdfX2T3pl0W/d9KqUh92ZEKlIZJ5Lalrzt+qFEfhqV7H8bdeWpKzhJUQI2ySB6QYHpVFxzh6U6wnfw885SPnNGHUDpquY8zXpxhtXLRiZdG8V39UVgYBc/eJAxjt2JBxjVVf8AD13WloaghMHG6tIMZGQn+qMlJI6VKpfDCg4mO8zp8pOcHcnl0MHlW0Zrsrqj04FXbKHL0ghxEuM4QfFI+Q7Z5HHbI+Wgbwm5tTKIjlERG38U7sVQsOoPWfPaffzPp1NRCens2qyJtSo8Bll0LWJEXIDsZWThQH5HAPz9ca8Dv+Cr/F/ibdBB1H1G335xXprF3NmGXCFGPdzx97c6zum11Xvb9YZpkGsVV+UHeW21bkpAPdaewAH0+mvQOHdqrlhIafcmcAFIM+7fPUbc681d4ShwlxtPnIMR79orqt05vlyE1Sq/WmoFXK9ocWlAQpPuAU8a9CsLtT0KWnSI2B+9qW3B7sagZnckD+1XDC6/WGqleBtVDWEAkbgQPnzqiR2cs1Qo7+lfV9o3kICE/Wpq6wyrVvlp5yPU21OKByA4pk5x9FDT/wDBBDelkx6QfrUrc3IddUpxJ85kfSfca593x0eqMtz4enza8yp1XiKS24xISGxzkbVgn649dSd8m6QkqQopOwltY+YBH8Vqm1ZcwUzzMKScehg786m7qjD/ANBtwIxmzKlWJTnw8doRlt7SQfMSVcYGlJact7Vd3dvJCE53Mk8k7bk/KsOIOxcotGW1FS8TGE4kqJnYD5xUuSKUKI1WS2iRGdeSQ6taiQlKvQk9yc/TUK688u8F84pfeZ0iTA3Hy5UWLW3btTatpSEDfAEzG569Z/ek51RvGFXJNNZQGZzjcdLLrpGFvEDgnPcgcZ+Q9tBcbuWzw9Fu6olyfeBO3THIedfWC8u7U6gAII+KuRj0o06fXolVOapa0ODnalRCSD7/AC9eD9R7anezTjLYU2o+mOuwP1nrTu8cdXBj58q/OoUqg0iM2qO6hlx1KuQNpHHmB49Rjg9/w16Exw1tKDeIhKhucCD5fcHapO/v06xbLzjHoKzrD6g0C/bMqlr1ZLLlUpLKlsqUoFa2jxkHGe3B+SfXW/Zi/RbP/gEqgOGRBiD0x0PyVGRWPFUpubNVw+2CtofqEnSYBiRtzPoDVDfZ5vlq3ZCqLNlJEJwbUFTnoc8fwOiuGKVa3spMoJkHofPyO1PrPQu30qMY+yKcPUeoFDLzCX/Fb++ys9iPQ/Me4162+6lI1zg0mvmtY0807Hr/AGqfhd8a4aZLpVRwJbZKVDOdpB4I+R1Pm77p0t8jmOtcW74ubcFWFjBjypZxUVal1Xa4EyIa1fq3MeZIz6kd/r/PUpxAFpzvE5T0pxYtkqCFQD9afVMnsGACFJQvHI7Ef37ao+CJSc863u1y3jnSsvmtONQnUuJStAUcKHcf4NWtsohRzipfiMhv31HV2Xw6wpxsrDzQOO2T+X+HjQ92kgzyNZW10TgCPOpqu29qfNC0vtqbIBAUFDkZ/wBtAS3BE70waQ6lYlEjqP3qXrnuGnl1wNONhWfTgj07DS9yzUTjI61Q2i0LykZFKmqVdkhQS6SvvgH30da2azk0eSlJxS7nVN/crDiiknsBqlt7RNc5JzQ0/PfwlW7PJ4PHP9NNUWyaJaaBNalyc7u5wfn/AIdFBhPSjwE867K1m9EpKv1xGSQdfzGUEGRt1r+l1OYpV1a9zuUfEwnnHPbX1FqpapIodb4iJpeVK9VEAeKFfPPr/bTFjgxOTS9+9CcUDz7uUTy534476d2/BY5UkuuI+dYEO6t0hCUuFa/Tk8D56Je4SQmSKn7riY1QDVKWBNeW0h91XnIGCO6voP66TwEwk7VL310FK86oemV1ERAKSkOeq1HhIx7+p1ra+LPIUlu7vl1rdJvdaSlLTqyM/wDMJwT/AJxonvgs6RQKrcgayTR3S7jU420049uCgFLIHb5aJaaAECuVk6Z5Uds1dt5KEof3ZAP4a/EEGvpSnE7U0bBhVCVO+Jkyy2wnB2JGSAPTB4H1450w4etUknGPv/FC3DAB8JqxbVuynUxURnYHnSTg8KV9PYae2pSCCTBihnh4YExVX0y8ZDkGOttAa8yQMnP8O2h7gp1gbzW6GlFEmnzS7l3wFKLvhbkblKVqb4jYKKsbUysrkJwalfq1V1VESG6YtC9uQV5Jz8h76lbjh4bOoCPOmL19rTpSZ8ql79MSqa6sKccIVwVKJyfoNc2zygmScffypPcaQrw1j1O4m6ZH+LflJZ3AhSicqz7Ae+sS2W1HTjz/AIrNbqf1UK2teyLiriI0d7/gEO+FuBz4i+M499fOHu946G/0g/P791BLfEk9ar6PP/8Alr8RhS/iAyUhKf2MjP8ABI51V3RPdFSd9qHbUAsNkf2NT8xdnwlUq0N7IfZ/V4HY8EjHuNSzPFdIlRyMfCtgg61tx/k1RP2UKjI6k3cug1V/4CgwGl1KpvqUQlmK1ydxzgEnCR9dWnZy9TeogJkJ60odCph1UYM+g+v16VUFLjSeqnUOrdQrwWKJYNKBRTm1kobaZR2JHAxjBJ9SQO40Sl1y8dKEGGxy+u/3Hvo9Nu22ouvDxY9wyQPcJJG8nrFFcOrS6k5Vb0nwg5b0fLVFiuIyQg8GQ4PVxXGB6DA45xkpxp2QseAH0k+nQGAI5eZwQG3Ufmgwo7eQPX/kRnyxFB0KtUxhh65QEoqLrnwlOB7tk5Ut4+6jg8/PPqNCt2raQp6QdO3maNC1FQaGCqBjkIz74keUzSnuKmUOpTHhHaQ/NKw0cqxnHBJJ9M5OpS/sNatZyfqaeMvBIATjl7v7Ct21OpFtw6HRpeWZDTLMhLzKuwLw4A9uTphw7hw8KAdKh16QR8aW392IUTkQdv8AyBxz5UQ1qtOy74pDcGSyI8xqTBStJ2pIdZG3KePUjnOnduCyshA3AMTOQkE5+96HdQVuhKifaUn3KKhHpmZ99c2n5PUmkNyaMajNg12gvOPshgKdVOioJ8VoJJAUps7XEpP7JX7DXld/2nvCNYAC2T49Q1SmcHY5TsYMkEHlTWz4Ey0iHlSogwE4gx4hjr7QkHMirEgUKj/acsyM8qvw4fVVtjwpyZcYsJq7LbaktuxklSsyWf2kJ/5jSljuU7aji/DneM2a7u30rMeJKSqG5xrEhJCFHCxnrukUDZXyLd1DDgLZOEqIA70DOgZUe8QJUJgKTgESY3n2TukH2gOit71avUSt2u5RFMFqsRJ0tKKXJp6gPLN8YpBZI4Svao9th3cHHsHxHi7Cf9KXaqftnjHdJBXqUBu2QNKFpGSrWIEFYKYrnj9lwtC/9X/FIYfZGXJgBKv0OJmVoVyQUzuWyFSaqSq2b0T6MUm+evvRu1kdVLtiPq8VmO8mQLJZcThTsdnyuKZUoqSZPK0oAQAjKs0h/wCnPD+G3I4rxwqLCT+WkAFKXN/zVJ1hTif0Snu0kFYClQQO/wBr7jiFv+A4KEoXEuFRIWpB5pSdMtnmEnUrCVmMVyl6ldT7kvGtybvu2sS7gqMnaukQpKFJjxk8gK8E+VtlJOUtp4J75wSR+0/apy/bh2BZoJ0Nokd4dyCSlKjM/mOKkq9kGTFB8A4E1YuqWyV/iFgalr8UCIEZKQP6G0wlO8YyrbUrdZi3Hcrs2TU2n5JbZekIeUPiQQFKUv0PqOQe2vLHe2V6h8sB5SRHsD2ATgaU5SmBAEDFelNcDty0XHEJV0Ufb6yVbmdzJq5OmNnMFNMREbbcn1KXGZWlS9ylFeMZP/ShKe/udW/AOHwhVy5JLgAKjvG37/A+Zqd4tdHwoSACMQMQVY28hPxqT/8A4gD7dz9eW6dVlRmrVtWmIittoP3nkgqX/bH9dG/9YlLVw6z4QwCFK1urO2CAEenqdvlUv2IQVcXu+JrKe7QEMtjnKCor+JKdv2pm9DLycs/qnBkSFR4FGqsQMtNK4yAokKI9SQR+ekHZh8C6a7gSgjfqRER66vrVlxhhQSsOGFGPdij3r6xcN2LmUmiuPmphpwMLQspKlAgoXkduBj6H5a9f4hfdwnWjYdP6SmIHWJE4rzj/AE1V0Age1iDt4kqnJ3EgHn0oM+z/AHxCtmqxFTp8WqVuctcWQG3UpihaThxCzj/m8E4BwFDufSE4Va3CEKdvfCsGNIEqV0JH6R1wTPQVUW/Ebcv/APZkFKufIRukdVA+6OprE6u2fXod1M3ha9YeofT2Q4pJdbAC25CSMtj97cFdjkAYzqI7d2/EWryOFRCsuLj2cA55RmNM5OdhVd2aubUMA3xJUcJAMZkjEb+vu3rdtv2lT6WmRWp7Nqx0LDm5XkTVJKsf8zHKSVe5wMfXVD2Y4Oi4T3iYLsArWdogYCj8hjMwTUt2kukWx/7klKQo6UA4ydyAMGck/SKx7euy8HK05EmRFUm3nHEt/DKIxMSeywr5YJBHHppn/rJbeVbWqSdPtKI840o5dPU9KDTYqKQ7eEAkSEg/p3lXn8q1vUPrGKVc0CgUuoymnyhxzwFp3JLaQN3nHcYJ4Iz30241xdXD0J8Q1EhIwZJIJ6RsDvAHLJFCMNqdfDcYSkqJxAzA8zkis6T1KWKrES9NWmOuK3IU4DylOMbxjvjjPy50LadoyWW0IJk5SPIH9qNubRIeVqAIO5xgkb/fOtkubWapUIVWhT3HUIJSg+IfKMfsqHbjn1B+ozpivtA+ttIbMgHl/VS5vhKA54h8d4FCN7XQ/CW/Or1Tlynkt+FGaewRn985Bx9dE3NyH0JTdBJbTk+EGTyjznp60AthDS1ltRC1YA1GI6meR/tUiV5qDcUtwLdlRmMle5ogoWon7xx+A1F8VuEqVpYUUE422HQco61rb2h9twav55n1pXr6X0+oVF34lY8LJIWjyqP4f521G33AnnFgawfMc/4NMrXuZmCmtnTej66rNcbt2ppiwW05ffc4EdAHKsjg8A/nrpPBXbNKW2k63T7I6k9fStWUNulby3AllM6iTsP79aRXVyn3E9U24VEmiTSmkJaaG7Lj6R+2eOAf2fkPnquvm3rC1DLnidT7RjAJ/THX4gVDMNKvbvvvZaOUpmFRiFK/8hsOQHnWn6aQKpZly0u56s045CB8N9CR99lX3gR7jg/hrzt23uHkh1oEaTPnjcD3YBqxs3mmXfzACDg+h3mjvqFdT1pVSTUaUtsw2HCtsNK/5sZR3JJHuM/w161eoStKV2+6wCDH6v1D0P8Aaoe1vNBUh8iUEpwf0T4Cf/XB5HlvVI2F1ZidS7VNKfeKKk0kLjq/f57c/ljRHZbtKl4/h3eY94Pn51U31mpaIRhadvjt76WNwx6pQ6y1Um8sr3ZUAfKeecj2/kdMeJKUtIKdxzpUyyLd0q2nMfUU3KPWKTXacAEbZKR+sQTkg/1+ut+GsJLcLwelNlvocGNxWsmy3oyVbVkJT8+U6aMNKaMJ2r4Akp1KO1I7qJeqI8Z+LJGRj7wPc+4/PvqgslQZNSfF1agWwJHz9aiC5LiRPddV4qWnslO39/6HQ98uVFIzWnB0LLYURB6UirjfW444FFDwIznsfz0ifCoBVzqstGxyNIG5IQLjzm07jnHof++j7ByBA2o6CMnNJupvvR1lIcUMcEdxq0tGwrMV9aINaAzjuO/GcZ+Z0f8AhxsKOTb8waw35CXABtUB89bobiiW2o2rBO3JyU/LJ1tFFAYwKvKs3etRWErUM6/ny04STE17m7e6aWNUupQUrLmcntu9dVFpwcRtSe64rQJNutR3Yc2A/PtqiY4QKmrnjI5UMSLhfcWMKUEk8fPTZvhaQM1PXXElEUUW3P8A+LbW5kq7nPb8dKuJ2/gxSh2/yaqu2LuhQogdkOBLSQOOMqPoP8/vrzty1IXkUI7chZmiP/X70gKeK0tNlXlb3cfU6+KWQNAGaESkqMmiOjXFImvMqLy1DOO/c/21tZAlRola8gCnNArio7SUl1SlYGTng/X+WmSRnFdoRiK+X+o7zFQaYXIKEDB4VyB6dvTTMWiT61q5akRBMVV/SO8kVctoeeefbBCQOye2eAPprRduUskTvStwAOgR9/2q0LTLUmfH2AkNpH4f5nWFlbkLK66WsEaRVYUKT8OzE8UhZJBAHqfrpkpAkTWJVFGb9yvKYcbZXlO3snsfx9vnoa6QNMiuULMxSSrVZaaluoqMkqUrhDaT/P8A276n7hgGAr4V974JyNqT92SYrQMtpKHHhwEjB0humA0O8UcjYV9U8FeAfGpavWr1KsOJp0dSyVq2hIVyo57Z9Bxz76ieJX61qDY51tbNpCSd42nyp/8AR6z00VhmqVBAXMAAYaxgJJ7DH5qJ9tU/ArAtI1nlge/7mhnUhRPnzp30y61sVSp/DbVsgeDu4PiEcqP8Bpx+ObShaVfcVmw2ouBSMRSbXPEy467NkIQykkEJGAVcHk+w7689cWFOLIwkfxTJq1UHJVkmq/sK2JVtWNQ7QoAcjXTespuq1qQEn/5dQ2j+qbPsXFHd8+NegcGaXYMoYaP5jpJ9AevLoAOpPSllwhL+TAAyTE4Gw9+VHyCYEmqWq9Vg38iH0otRZFOiuIakqSf/AKl5ByUKV28NGNyj6qyPQ6quJ2ziW+5ZVBwTG+eUdT8hHWgrS779cqTKZIE4yOp/pTzPWegpYdQb3qtPuOH0/s+W/LozAInTXc4dIHnKfTaMY5//ALHSe84uLZSbGNauZ5JHIeZE/GetHs2Rd/PBIHKdzzJ6QSNvQZrJk31QqhVqVRAlDSocTxDkftrIGTjnOP5jWLzaSrQg7fvz++W1M2XNJkjac/t6isijQ/06tSKLNMeU4pSgpxGUqJ9DjP1/HQLjC0eOAqOUxWyXAsaQSJprjoxVn6tR51bhUyXAbpqGlrQ4QVEKCvu4x+OgF8SbW6AQUnHMRv6/tRP+kOBouQFYIyCOR93+KFeq1rWjGvO3IKa81TJzYSY7Lo2hTgRgBB4/d0yb4TekBdsQQN4Plz88UHcXtsXQ3cCNR6YJJG3Teucv2g7u6v2bflNr1g0ulP0ifFROLiU7suglLjeR2Bxgj1CjxqZ41xFvhd3LlsXJ+Mc8dCOYArFhNzdJS404ESAfftuJiCOhmeU1oaCqfEfod1WlOuPpXUp77UkSYcgl2C+kguw23z5mk9yNu0rbWnJOCND2PE3LJ0XPDFBWoS33yNQSk4UkNH8pSx7K1KSs7KTpkGuneGNXTAavQUTAWGnFJClDIlYh0J/UkagP6gYIq77jr9b+0NYrpiT0U7qDQd9RqVvwwEM1tpRPiVCMhGPHc7FbKsqa8xawlahq5v8Ajtyvhzl1whRZbVAeSCe8SJ8IUudRt5y3pISk+F1KlBKqFseCtpvUDiiQ6+mS2uAUH+pTaNm3iP8AdEalga21aZbpM2r9oqp9J5MG64rojXXFDkVpKV7o89pWErQ8kpwtlSc5BHfjuMgfsnxNDKCt/wD2jhaCAUrnMYO/MEezMnOKw7VIUQksKh4SULkgpnnjcH9SThQj1DsqfSHp19ouOOqnSmnGi3FKQp2tUJpXiKC0jKnGG8kuNDk7UDxGx6LSMgPtJ2Wa0C8sllTEDB/+GOSSI8IGwWPDOF6VGSZwPiwdWWnxpcUTsfbVuSJyVEZKPaiSnWnbDj/ZOr0pMZ5mn7GnVpClhQIU2R5lA+o268tvuHoD0JB1fYr0m2YUpkqSfDHLp+9MGwrKk0nq3aQfYXHjstzaqSTjw/CSUtj+Of8Atr1zhbShoabVgkJ8jAk9RyArz67Ugua3RgalzIxG0+nKuXN+W7Cu7qJdl33PPkVORKqT7qGVPfq0JKiBwO6cDt25Op//AKvoe4jxh1KjpZb0oAH6gkZk+pMjyob/AKW2aLLhTLhlTzpUsknA1qJx0ERA2jqTNfvUi4KRbyrGuuWuoOSYiQlhmN23IGMKV/7TxpSLIfhmXFL7tDccpJxED/6Ymnt6sm4LejUs7ZwIPM+hqhqj1Sh31FolRhtBukVaJtZDJ+9JQk4SSOeQFp7+g99et2PEGVMNuMq8Ue0d4Vty6z05VGXdsovwoSFyQB/Wnf8AY0prbs+jWpcEesNOVmrUCuS1Lap6QGmokopGHHns7k5IGUtpKiUklSecwNzw94OLeuH9LRUnIBU4o7QnGhAgQVuHppQo00tUtoUgW7RVrBMEhKG8ycSVuKnZCQkblS+Roql3dPQ7VOnvUl6nOX266HaPFwhmMtOPuIA8qFAKOefMAeSQTpmND7Sm3Wu6ZCQdO5VHmoyteDOTuYEV3Yl1hwNBZcuCVDVjE5jAhKT+kRyneSVH1EsV+vVClmq1Zs26xG35BJBWFbXUkfvJxsP++pLiNjfPIRwy2SE65+U7nyBk+6nDQt0uq4k6dQTtPOdyABuYjnAnrW6t686XS6BU5UhK61b8MhthhZ2Kj7U5y0s5KSB6cjJ7ap+BsNJWLLUC00Bnc77k85gkjlvNJb17Uk3ChlUkzj4dI2FRwH1X71QYuS0a61c0JpxTq6cvDVShoCSlaCwT+uSc43tFX0GoTt69dXF005YnW02sElOSCFSSpPtCEzGIPWjOBW/dIcW4CFrGAcTjAEYMnO5M7gCmi+l2PCiUx94N1RDgSy8BkN55IPqE/s/jrhLag2twHToIKI5A+yPcMmiCUlaWwJ1DJPlv8T8tqY1Bud60ac5RS8V1lKRhoKwFJOCAg9s/w9NU/Zp1TILtwfa2Hkef8Ch76XE6Wx4kc+ZP9uvM1PV4dS36nLmx7giTKgysqCZTZKFAD9hQxgY7dgdEcd7TJ1htK9CQMQMe8HINLeG8JUtBLiQszJkwo/DcDlzolta37dq9PalJp1epSSAfFU6EpUDzkZzu/DOkPBmEv+BDpJzkDH7j50wu2A2ApTUDpq+zTNpnTWgKj/GyazLYp4OVeIjw1L/HjP0A1UW3ArhatDbgKvIZ/j40BcXdu23rdBCSOZ+yfLlQHfdUtlqkKtq238UlSsvFpaEKkqHuTyRn+Wq224QOFlT5VNwob5Mem1R3FrwcUaSxpP4YGdIOFEc1YkjnnptUf1i0qbElv1eJVJrU5xe5RdnNukfMoCQB+f8AfUlfWVy8orKyUjYFASmes6lKPwHWa0sra3t1EpELVknUpSj6yEpHuk0lL1uG74rDjdKcalMnOQpGCo+/B49Py1ghXcpUpQB6nahbtt51YCDjOPP+9KKl1e840xwXBTnHoz/3mwrkfM6SX3HQ4EltwhKfvE0fZdnizqC9KlHJx9Y3PKm/09vyRbVWQz8KYcRa9yCSCUK9QCPfWFopsPh1sHSdyRzxn+acIW4kAKyR06VV/wDrSn3dGUJDSA8ACpaVZOcd8fh+OvT2r1EhpR3oO6YUtHegbHahSJUXqTMdejKWgoJKgr9r5aLctNCwQfSlrTytMgR1omdvJifEVvIS9zgg9zprbuhWFUctwwMYqV+oVbZlLe8Zfl5OSODzpu42QgpG9T7Sh3mtX3mo2vncH9yVqW2rJSofs/7/AO2lKisDUketO0sp1hOxMkUmX7mXFLkSou+Nt4Clckj56yLCiZGRTe3WNMRkUG1iptSUEtkrQCeFD1+ujWbYJ2rRlxSsEbUraq0HCoqTlXIT8/66f2y9OK1bBoGmIUyrCwdo4zp8yoKGKcW6pxWsLgAyOE599E6KLSMV8lxJx5Qr8dfgg9a6p01S41rCyF7Ukceuoa04WBFW97xeMpNA82suOcAgJx3OO2qBixA3qauOIqIia0ZfU4eOT9dMA2BSpdxX02V5ycn5576+KAihXHSaKaXJW3wlZSO/fvpTeNA0qcJ60woNVewlJfG3gfe7DU3cWiZ2rpKqKVXC2whtsL9RuJOlA4YSSa2Q+EiBTOtO60lxkLJHHqfT+2hmbIIUQa11zCulOR28ISWSpUhpO1PYHH0z/nOtLVqJWaOBEAc6DoklyqTXJRUQlRzkH00w1FIzmmaSNjmKt7oaH4qWStxTyicpSO3+caIDkpE1P3ykh4xmuivTZ6W9MS6sEN+3oP8AfXdigEExS1wnZJqsafLbQx4sle1ORgA+mP5aIdQSZr6hYCZ5VorkvJMKM43AXuWeAEEHPyGld5cd0MjJr8kYJTUzV275JkFyc+GFZJ2g8gfM6nLt+PEjBoMATDtLKqdRfj3106IUBH3fEWfvf20gu7pChpTlXOuw2snOE0ddP7Qj1aSKm60l1KVcZ53Hjj8dBWPBdcuOfCmBOAhJp+THFUmnutxW1yJW1SEbE5JUrg4/iPoPnpnf3AZbPOPqa2aYKzB51o7XodVWmQuctmnpJwElWScgE/j6aS2tu8tEqETO++d6M7kJKo8qJrEsm2Kre1Hpst12QJi9svKv+WwnK3VnHslKjr7wnst3tzLyjpOfh/Mx76GvOIpSgIHtEx8dz7gCr3VZ1eqyaRbVXvHfGoEmoJGx8j//ABsJKcMtITjKlhvaAkf+Ys9sa9HLBQpTwHiIxOwA3JPIbn/IpAH091q9lM5jf/iBjKhjG+qP6TU9L6pM2nRRblpxnIteqADkh9S/1sdonO1Z9FHuR/fQa+KscPQFNeJ1XPyO59428vWtzaOXKtChpSdx0jIT6jc+8nNMa161R67TY1IlLZbr0ttSwVKwrwEYyc+ylYHzzoIWiH0/iW/aVjzGen70zYdDQ7hwj+wj69KTN7rkdPjcVRqaRLqMkLWHEElLaQk4A9sApH4DU5bo7srefwSce7b9vfRN5cON/lpyeflNb/7P/V1FKq0AyJhIyAUqO5Iz6D+GqO1dNyz3ZgmPf8aUMXIbXqyM9cH0rrRR+o9Pr9MpBUmKlDzACVBXoRtxjUm/2dWXxpxXpdr2oR3BQrNTn9oW0KPVLwsO50LackIeSeVYSSCT+eM6rX+EvJcSZIAzA99QirptRCknII9OX39agq4KQy3RqxGS7KXJo89+Q00HAd8dajuHYnAJCvwOhOKtrUzLudBgyJMb/SflWVqhAJ7vfcQYHIHHwPxr6tatocpr8Wv0OEaVKCErCPM42Rna6O2VJyrj1SVJ4zpAhuxfSWVoUE8lHkesdIwY5Z3Ap4h26QrvAUqUOWcjnnr0nnjYmttHued0/uCnP0ynoplciqRKjSI43JUhXKXGnRyEqTjB9QeeeA24P3FlcBYMOJkEKJCiDuIJhST0ggiCOtCcVDtwyUAeEwQUxA6Hw+JJB6QRkb1hdSrRufrJFPUS1reEK4kI3VCn8Fmc2Ml1xgADZIb++tsZS80fFRhSHWwVx2xskoFxYp8CR4kwQUZ9odUSQFA+JpRGVNqSoJeHvXjrhbu/aPsqmQvclJxhYA1JV7LyAcJeQ4lTq+zbZt72tLhVhT6qIptSXCWnCCccgg+ih3BHI1lwfi1ywQWARHXlyx6jBGQRgzR9xaW7iChcH7x6Qcg7g5BBrps/1OprsF1+oLh02ahsB5fhEsTFkY3YRnw3DyVbRzgn5awXwhF08FNoCFCVFJOlONigx4ZMeEmOmJNVSu0Pc25QSVtmACN55z1Hmc0uJiaDOjdQLuiLZL1PoC4iFtOBaW1vHHCk8HgZ1bdneDuN3LCVgpCAVZ8hz/kV57xziaHbd9aCDqGiRjKjp/fnnyrj9X+jbrSpEtSHJLQWVb2yEqz9fz15nx7hVxcXLj4PtEq+JmrHhxbZZSzp8KQBnyEb0s7t6axa3ZlUgN1RLU2FI8RKV/ea3AHOPbhXGshwJ9VqpJzGRmOhz864cvEhwK3M/UQY+AoI+z9YnUR2JcPTpcmK/KiPCsUKQVYKFpIUto/LIBx7KOsOzN+6hTlm4iBHLb5f0mD8aF4rZKWhK0HxCFpneU7g/wDkmR6xVgVO1qk1SnZUWEp5ubsmwEp5W3JIwtGPTavcn641d93qbUp9Mc1DlqHLzz7vdSN1JKwm3MzkZznPy5xymo9tuhfaGvS87guh+1a8m9LbkNKo78lstpktuJU2psZxks8uAngjA98+Zdpe07fE7ttplOruAF6Ug50qwDgjx4x0HLNPeC8AuLW1cU8vS46op8RAISoZiSCAjxaT5kchVvXhFpk+xob7zEKnPr8JurRY7yFORJe0BLzYBwknyjYogLSUjhWNXFtauLsfxjjakFQlQIIjrExMHpuNpr4/csquO6CwpKTygiesjAnzPXyNQx1fqb1iWgujMSULfkIXJy3na6lR2oWkEZGdp4IyCCDgjU6ypyytXHFn2idjghIz7uXUHEVzcgvupbRviR01EkZ9AT6VFFrsVOHJFeil8TXilcfw1eZvCuHEn33ZP0GvEDerU+HiSNJJkEgz5c8T+1X10yNJYSJBiRiI+/hXR+lVQXVZTFauOVBm1uIx+tWsbn2ge+HU4JTx+1nGvbOzCF8RaC7tAC+o8JMYyBgic7SdpqA4spLP+2rA65j3n5bgchStZuiDXYcptioKiU5oltqW2R45Hq2on9nn07/yy4g2WnyygS4mMnOk+Q2mNp26Vuy2VsJf1EIPIGJHnzI8utaREKtPyUop1KbDruPCmrOWHgPVKsYCvmf7ZSFTHe6bkalH9PJXv/afWmCbd1SQprwf8sAgdPLzx6U3bbEO04qZNalCqVbG4oOAlB+Y5A51ZcC4M+4A9cANt8hsPSOtLuI8UQ0goZlxY3J+s86A786tRK4l+jS2nY7AO0qScj8cdtWq+LsWiNDOJ+8mox61XeK/PEx75pKu23FDD0umV9Tz6+fDWrchHy57fx0gQbtxRcUZHzPv/muXmmQIQrxc/wCKXtbpUplCnqtIYEYrKQtKgQo+2f76HuGnFGAkgxnFCoISkFahE4z1pZVViJFafVTJyGVpHCl84+YB7/4dDjhy3B+aCodP5rBy7QglDKtHn/apevu9q5S1mNGrcCUtZJWtCckc4ODzk/2+mtU2TZXK2gI2H9topfbuOr8Db8p5kAGesHMnz5cqC6ddct5DkpclbzpPB7ent6aE4g0pawkgADkPvNVljaoaQQklQPU1RvSa8pkhtBddLb4VnJP3x766trpSrjQozH38vpWriNCRIgTVHVSat+G1JTlL+PMM5Chq+4a73qClQyNqn+Itqad1J2O9Kmq3MWs7XNilAgebv6aYNMlJzuK6cckaR0pGXNc4V4rBcQp0Hygnn5/wOmCHJPiG9YlOkAoG32anq5auh8uAHOARj2PqdcqbKRR1o2CsK5gR/NTpds1xLq1pPnTxxzuH00VZtBVHNhXezyP1pbprL+4BS1hGffkacmzEYpn+GBzXsZzbqEpKgO5Hpn8dZ/h1CtQhW/Sh+W42shPB4z8xpkwggUcynE1oXmk/eQcZ7j20alXI0cmedYRVg4KUj8dbR0rcCiB2UXchSyRoFDQTtXDj071jbySPU9/p9daEUKtU5Nfbac5B5OvijWClTWSE7ccDdrKayK+hrNjvFCkgj1OsHUEihVpmt+xUMAJScK49cYGly7Y71nFZaKgM5B3q7k9tYqtjzr9Fb2kVh5h1AQtzIyeFcf5xoK6tQUk121g4pjUupSKh4TDSnHlHBV8/rpM8dHtbU0tUA5G9UtY1AmySyp1lTQ7EbP8AMaAeuwRCM0Y6sAEq2+NXZ0wpS6cI6ktndjGTn+Oi23SBBzSG7IUuQIq4+n8zwG/EylCgOCr0+g+WnDEAZoIzOMR86Pavc0p1KWIq14OeQe39tCvXayYTua+hCRiKxGZSo8RT7yyfLlSlHkD+mlz6c5I/ivtuYG2aU10wYlfdUlJVGaJyT+0v66jOIM7hJxRCGgsgqoJb6YuzZDIj5CSrOeePnqbasXVLCUb0Y+wAmVc6rW0KE1a1AZQ6S7tRtSlJxzjkk98f31fobIRrViNvM0G2wltMA/2r8qVyTtqWojRDaRyUoxlR9yfw0vedSSURWqVK3E1qUxZsthxbsxxndk8q83I/nrjW8E+DHnQ6rdCz4805+js21bJp11XtXnC9VUMfomESpKlNBfneeWjPKQ2nYB6qWBp3wPhSik3V0rSk4zgGMkA7jz9KDuboJUW2BKwOuUzzjY4GkDmTWDcHWE3IiTcNYiKj00Olmi08qyhLo7ubQMeXOSexUT7DXXEL9m4aISfy0bY9o8gZ3HToB6GurVp1lWtXtq949egjqNz6mp8bcmt1pbciWt2ZLUX3pXcJbySSPpzryq8u3nLgoVhR+Q/gCqmzsm22+8J+/ves+o3z/pyiVG4nZTqKvOcEaAArJYit+3zJHOnVtxd1tKr1J08h6Df45+VK32EyLc5Ud/If22nrQ9ROs66rbM+PfZ/SDDzm3x3DlTeVBIz+CdM3OJtcVt4eSELgx09396QNrXZkkytEjfJHr1GeWa8LcjSI9T/TFGlB+gpOUFKsknGeT/DSixS/bP6SMDn1osBp6FpNXpavUebT6Fa+yareI7iSknnclXb69tenMLSkIUoDIn4AVi0NSSJzn6kU4b1uiRKovTKcsKfjOTC0SRyDknn8M6ZXKgYC9/vFc2qIIUmRkiPhSpl2sxWqq1PSgOU93xmZaB+02olOePXkHU5esKDhSP14n6Z++dNrbQtIUrl8wcH5Z91Lo2+u3RIp815xt1lfhgJG4naSAee2RzxqZYsXFYXiOuaPVdNp2EnyxWtZtmqXKU0ZcqptR0OlcR157aEgnKmVE8BCidwJ4SvPos4fJDy0BDekuJwPCJKf6dt0/piJEp5JpG6w0HFOOAhJyZUYB674B/V5wQN539u31SeklXQGKpPfdCw29HS4pvfg8+buhSSMpUBlJHtkGh4X3jSB3y06MZwSDtgGRtIjYiQcHCTiaGQspbBU50yAeeSM7gEHJBAUNstqrda6hHDC6SqNPp8l3wmloZ8ILWcYQ4hP/KdAPKAdp7pyO3b6bW3JQpIBGxBkEDmknMT+kjUnY8qKt/xDqdQWTPIgAgnkqMTyChCVRI51v7n6miJQGoDzojSthlqIOducoa//AOSr/wBw0Pb92tJeSMqPONk//wCx+VMXFFJ7snCRmOpE/IR8a0svqc9b3Reru1OQGpNfuFinxzuIKmmG96z+BOPqRprwi8CEXd2jw902B71q0gD3H4Ul401LtpZO5710H3MpKyT/AO2kDzNIC5r2rlFQmUl9mdTUJLpSeSQP6/LUa7ftpEuoieYPxqq7p1M92uQNwfv+aGLF6k9P78qE6i1xtFDmyQppzcvAUQCUkH/8vz1+tGm7hxQtlSYgjyrhdwjSO/GknbO+MR8Ky37Mmw6nR6/0zu1KxBkNylBCh40rB/5O7t5+UfQ50E7w+/sjqQhK18yf0pG5jyG2d4rFAYuCHWVkAFJCZ3PLxchO5jadzTxrds16rSLlprtPlmgFCa3AdaWQWnFI/WsJ24I24Vx7o+eq1PFg4A2klJWkb7jfJ3yYBPTFKHOCpCit1AKUHUnoSZ1JjokHSkdKkeDcNndOazVLvkSKixVmkeO48+tZD6lAtsoAVwVgJIIGeFD30qfuOI3N6nv7tRBPs6sBKMrVpEQCoyZGQKX254Vw+2Wu0tgkQAFaMqW4AEAGJUoJ0pnlzzMk9r12cuovXGpUaqWjcGyPJgueb4VwNgOIPpgpBWD7E+qeJS+4u67cB8IlogJ8yoqOknrvAHSrPh9q2y0ptapUSpR6aYBIHKMSDSQ+0nF/TS4dNiRG7ioTeBCcLigtDZH3EuJ5SoYHCgRkdudTfbtxNhaotFgqRGCD4snOSCFbZnJ5EU64Mybl9TxWAsTMjBwRtgpweW3Q0jaNQHIxbihCkMsNpaBV94kJxj59+/115lYWRSUQJVzPSfFH0pzcOghS1Yk/2o/tKqTKQ8uA02t17BcLKlZS+0fvJPv6HV1wq8cZUSkwTtSm4tEKgGtHV6BQ7KuB643pjrVry1BQjqPljOE9uBwM479u49tEvcIdeUHLfwtnKid555nl5UNbXzduCHRqXMDmB5eXqa3svqsiJGEGitt/AqPmSkjsfUY/p76oUm0smzoyrf8AvFCrt3nzKhg/cTTBtWyqzcERMwrdUw4nIST6H2PppWzxx+6X4Tj5fwPpTI8DbabHn57esV4XLYTdDQXprTT4xu3dlj5fMDjVJbcDW+O8UmQalr67Qye7Uf3+xU73HLo8dTzaG0suEd0jJA9+O/bTRNklge1HlP7UguyXRBTjrFT/AHFerkAusIZdqaEg5Wv0/wDb29dcvPqIlZ3+Hv5n3UvFqf0iY67/AB2FSdd8m5K1JlmKRDiO5ykZBOe/rwNDXPHEtHSgnHTb4daxteAFyS6Pa5c/OTMkHp796V4sqa89+ukSHhnB25OBn30C72hHtHfzqjtOE27ZGkRyxTFoVmNtIRFDKQFdyrPJ9dJ3rxx06yfT9qdsoSPCnEU14FPZowhrY8pQcEE/eHtprwqwWlJUrc/Kll44hboByBTVjXew5FQy4+lwEbQT3+n11dcOTCdWB+1KbogkNE0qrxqrUV1SkkqZ2nnvtPz06UApIXzJoBshC9AmAKmW664pDy3kKcdVnO7v+OuoJRE0xZYShzUkHPXzpYyqmuW4XSkef72OcHWSnSoDyplbshJIA3oOrFKEgOKWrOOc54HtnWzNwU4FFG1TOvnSeqkdMRxxt1KkjJwfbVPbuFW1FWypMjehd+QSSAe3v66ZIaps23saxkyvNtdyr0zrRTfMVqlkcq+lLSoYyefUDXISRmvteRKM8gn8B/bXYmvs16he45PAzrjTFYLrISRjggD89cmsDWQ3g8Ekf5/31muuDispGMDJUOOQfXWVCqr6OBjapQ9cZ1+HSviQedfqFcnuodudfCnpXS04okpsRcooSkEg8A9zpVdvBFYEjamVQ7EmVBxoOBQZPcA41MXvH0IwneiGGdRiqt6c2FSY5Z8RtC3O5xg/XU+66pZ1KOaKU9pGd6sK26LSoTDKE+EDgHA9Bj1Ptr6i2WoZFZKuQBE01KNV6ZGUhKJDXf8AZPfTli3IzEUteu0wSDTxoN0xm222g/hOOx4AHudGo6E0IVxg0bNXhCSN28YI75GdfVsp5mvibke1H9q30a5Ys5pYLyAOcJ+f9dLL5hSk42oy3fSDk17QqZEnSmyrY2ojAOcY/vqK4haOkkpNUFgprUAumHTKQiCnxG1Bx8j9rBwP8xofhrbiD4t6c3bCNPh2rSVe9f0cgsFl5xZPht8due/48nVV+MaWgazEVG3C1JnQJmtM/dzakIG5DSsblFXp+H+emhXFNgnTmv2SIJivJivtyGXEqe29vXuMfLXC1a0eGuGm0gkmjK2LVl3NFdYZceRGXgr/AOsA59Pz1PcWfcS33QJ0yPT79Ko+DcPTcOQN6974sSXTYzLr6ltNMNeCy2js2ge2fUnJPz1M3XEHVqSkYSkYHvgn1P0qhf7PpZQSvM/5pIXJdDtFtNaKWG/07KUIrSdw/Vo43Ek++QPx0y/CBCA8oSVYHWpa7uJSUNmI3+/Papxvm/npdYXAYlKVDgMojFQIA3AZWR+Jx9RpfxS7RAt0CQkfClrTJJLijvAH360tbj6jsR6BSqLCcVIqK3Unwk9yohXP5qGl1w+vuRoOOZ+/uawRbI1QASc+7zn6027Gvir0C31suS5AabRyjxMJUs9x8+SP44024f2gc0Q4cDckUA5whLSToGTPOqo6bdRX6lSKDGbS9IlB+QnG/cMhYUAfbj01Z2/HG1sJWTJ6Rn7xQVlbFt0NBPM853g/vXQo1OLK6YWvMnrUj4euFhbbZ3KQFI3AfwOrN7xtoXICTz+nwpk0qHCkjxBW3umvqyajVKlThT6dTFQmUKcWt504BBJz39dL/wAc2pUNytdF29uoIGNI+z8/rihfqpeFq2qiNcU9yK6C2pLjilYbQ8gebd7ZGFADKj6D10xa4N3i/Gcq5Df54EHcmAOtJOI8aQw2XTgJxME7bQBkmIAABJPKo3uP7U0S4PFpNsNAxFpKVvFva458ko52J9hnPvrS8urCxPggr8jKR1g/qP8AyEzyxSuyur++BUpsobI2PtnzUNkY/TuJEwcD0jVV6rsR6lcdQakpSlIAkq3K4xgbvvfLJz276QXClX/iUkdZAAM+7GeZ5+smnFohq2hJUY6KJPuzy6CcemKY3SqmvT7uTWafJW3HUFB1tWH2Hm0/sLT+0ASD7g4IIOsFquCr8Os6kEjwq8huCDKVf8hmMZEgsbW1ZWv8SkaVwRqEbdCNlJ/4nBOYmDTM6jx35clLrLjC25E1EZLSXOQ2EhKQM84yB30ZdhSE+GdPszg+8+c5mtC2Fq8RyYx60qPtRV2dTqV0j6eU4SUuU2E9WpiwBzJkrO0Y9VBKc/8AuGl/aXiX4Ls62R/uXDufJLacT0BUoR/4ml3D7T8bx1SVAlFu14Ty1uqzy3DaOuNXnSMtnqO/XIa4NQQUOIG0JX2KRxnnuM5+fGpThfGw+zocMjb3/wAefuqhv7dSXARv1++vSsK46PBrUulVGlsKgSIkhD+1J27sK5KVeoI3D5Z0vurXuPzbRRCgZMEz1x1B+e1HsXReP5yRA2nYftNK+uXTfv2fqxWF0mXULjpini9CSMkNBfKTgcnAUdPrTtTes3JN/BZgGRucYn3ipu74U0lru+HJIXJAHITOQN8DqTmqo+zP9qzqDe8CVFrKlQ6hBeTKbjLG5MqESEvJGf20HC8fuk6sbDttw67cU20gKIG5weXsx12+FKGeB37CEqfXB6CI08580+1y8MjMCnJ1buey7irVJtiZaNKrlCkpRPbfZx4ZX7AkYKQAFJIPrrXtB2f4cbYoelDjspOCSANxIMgnn8K/cP41eG8GhKVtJAKTOn2gcgQQYHiEEb4rU2+OmlYkVCj0iTMo9F2Btxsk7SodlIP7yVAHnuMjsdJU9mPwsM2ruokTkyU8pzzA26b702TxlFyVPOtlKUmE4wqDg45dR0jka9qd0Vj1SoGQK5GqEcKKlAAo3fMjsDj+WvNu0/Ar6dCvZ9cev+K9D7Ort3DudURt768746S0Kl08ojoShzZjykZSR+1+Og+B8FhYLmR+/L3Ud2kbbSgd0c4+/fUg3Kx/p95l6np8d5ngKUc8ex+WONPXeD91Djhkp91SauIJWSAImljec56dTpThdfMF9GXENqCjtxzkevY5+mjA8paYR7J6xANYLQ3MnJ5xNaHpGwmJWGaZLbemxFLC47q1cFPpj5jUsq0DjmlxXT/FUNvdKAIbHp/NdQLXfptDoYWAlkbcjj+B1bdn+BhJGkYoXinE0JRB9rr9/vU1dU+pDD8p6IY4da5zkgkfh/XXqqLVplrQd/lXkV5xFbz5SE4FSnXG2qw269ClNJOCfCV2/AkcfjqM4lbHV4RTdhSVCEGR0NJGu08sJLSogbXySVEE6mFoJUVLE9KNJIGlPhpWVWlQ0IcdlTQ0cE7DyCef99fmmHV/7YAocIbEFUk0DLrFJj5QwhzcMkqUO/y1unhiUmXVAk10m4WoApBCa/mLl8EqWy0StIOCTnB750yRaMyNWRW6lOlBVtitVU7slSAkcoGef+3vqgC2UplKZpc1aE+JValFzvQ38OOkMHJwM8K9xrdkkJ1JHrXxTaNUb1lT7jTUY4Qreo7cAk5+mjLbSkwDRDjRJECkvXFAugDHhkYA47/LRRkCRWrYBMGlp43gOOtuZI9B3JGs1IkyKYtjGa/qjLD0fybU5T3B7j6aNtGQcmunNMRtNJ6vrYdSttawp0cgj1+un9mlSTtiuUL8UppcOrVvUkgAZxp6kYp60BFYyhyP2daA1uK/A4R64Pv66+lFfCkV9F3HsPx1801+01mA49efTWRFBqE16JI4yeO5H+2syK4NZbauMc5xrNQFYkV7oV/+Pf56zIrJaeYr037duSMex9NfKzCc1lx20OuJHPJydYuqIFYuEjFN200xGlMrd2hQPHPB1GcZKyCBWdufFJp3Ra1TojSWwtKT2JPf8dRxsStUmmQfArNT1Zp1Gc8OI8tx0ceTnVHY2itMqFKrp8qVDc0X0vq7VJ6koaW6lZx29B/TRZuG0AiYoRVk4vKj/enNal2TXEpyXA4edxOSB9PfXBuUnxTX4Wq0ylJgGnpRLqlKRnxV7u6uddF3rWaGtJNG0O4pry8qcJGeMk86zW8o10W0keLNG0G4JDbaSl5PHfB7cZ0O4+QNq+oaG9H9Au6WKgwj4hY4wVZ7DWHfJcBQef2aNRrSoFNU7RKsue1GYZW2HlgAjOCE+x51iOHKAlAmfpTH/UJ8KjkUGdRIMiM3Inx9rzraM59MH0Hv2/LU7ekteIjFE9wpeZyMVOKrkdUttp5xTq1EZ5wMfPWKnlLwTFDKZ05iaaFCeTUW1Ft3YnuSrGAdHMtrkRmsTpMjb31WHSassQiyx5XkDufcdvprviNh3jYHOm3BL3uHCRt1pzdQEQKtR3vA8LxVNgEBQyOPfUuOAOapI9Ksb7j7bzWia5WdRLar8G7I893xUUptOxCFHKUkkkrOPcnt7Aa/G6KFBpQJHLHPnUDc2Cj+Yo/P9ql6/KcilvSc1DLbiy6ENJyXHDzyfb66keJNOhZKYA8+fl7qJYQiNEzFAFjW3Km1lypvJfcbawQpYPc5xjS1+6TpCUxAyaISwYABx9aa09mvy5kalUmlSZ0WMnxnspISSOwV9SSfxGhLy4SlAZUZO5iskMKcJdG2w6fYp+9MKfeMin0kTZselpZqyiuPH7qQ41wOP+pJP56reBcXe7pIYagEqEkGeu3vqfvOEt6/zHcggwOciPMxjYRXWPplDhU6w66msOvOtNTGKinxCSrKU7Fc+nftr17h9s47Zhq4OQT84P1rJelDxcZG4HrgFP7ihq8erP6HpyWrfZQW3AMrOQEKx5Tt+uNbpvWLbwpEq5dD5Tz91aXIcUkK+PUf4qYbqg1jq9atepMh92OtaPioqUHHw8lsElIHoFp3J+eU6R8V4g/d26024gjxCfLBB619s2EpX+aZn+DHxEjzPOoUty3KjY1XnLcafjxtxW2lwY8EZwrdnknOcDUFZOuOu/nHUM6ec7TPIRTi4QlKD3eIj3R+/kaxqx1irtbrkKg0hExSVK2ILf7A/fJ9/XVlxHtE3asFLRGraOp9OlILPs+t13U6rw84xHTJ3nn/AGro10Zqb9s0JMqVIcD6WNoJ7k+p/MnTDs0645+Y4dhn1NG3CUtaUev+ab1lVn/Wl80iJLw40zIbUASOCDuzrfjjmvQwjbeBzrXhydS1Or5beVMrqj01hXfc9XrSmwttCw0zjnLaU7Rj2zjOontwvvnxbg4aAA6TufmYq57LcKAaD53Vk/Qf39ahfqH0ybt6qqqUFTzYQVLwkZz78fx0jtrBxsBSedJ+LNI70qVmPpWip900idHTTpw8FsjIUBtwr3Ht7EHT+3YBgI9rcR9RSJ64EQ7t970J9VriRQaDTKo7FfrTcdxFOWGgVlSSCplWfTIC0ZPGU/TR71ol23m6IGjc4Bg8/P03pdc3y23Am2STOBGRgddhifWIrS2hccFt4TYe225QCQ5K4SVAqG5sDnIUkKQr/pUdBcFtm2nUvWUKczGMDcAkGJiZAB3g5rO/dU4kpujoRjYyVQQYBEnSYhWMpJAwTVL0u5qS9b8yBLXCbZkL20JIOXYSiP8A6ZJ9UDGUeycJPbn0CwaS+rQoEBvmd8RM9TuOczqjw0vdu+7bCFEalmEACSCoeeYG4mAMI2pKWjezEOr1OjR1KeejJcU6oglTrucHn0HOkLqQm4l8jWoyeQTHIdTFd2TmtuGAdKduZ9ST58vhyq2+i1WeqEOZIkPJCQE4V+78tDfhDeOlMYFVvDr38OkKSd+dAnWG+mYVQdiNSDwMElXCjjOnLfZcW6ApWCaV3naBVytQnANRhdt1NTA660rw3ACrduJCvft2OlXEEpAjnXVqkqM9KA6TXRP8WEtEWU0olTeV4KVH0z8/5j56nAclKknPSN+vpTdGE+FQpn2bT1U98KTHSiODvbI7tk+3y0bY8MbWsETnqNj8KGdfcGJGOnnTYqfUd+nQTTnVpStSQjzEgY+Z/DGdemcJs2229SqkOLXi9fdA+tSh1CrkxL70xCFqSFA525xn01rdqSvw8hU/3KkLK5nNIOf1AVDcVvL0dwjghJ2qPz9NSjugKJBA8ppz3iyJM0D1S+ZDqvElNuOMd8trKc8+w40DcOJUTpx8D9aOYtFQFKz5GfnFBFQvCjy0COzBcRJXx5zn/PTQD7aEArcXMffpR9ulxUADTW0plptVf9YBhKk5A9jqW/FqK4T99KdNWI517Va0W6bEUshWdpIxwex/zGqrhNu6pYnlS/iryEJ0nFI+qKbbdwSpJzkgnB1WqtdINJWXCoRQ3KeQXM5KsH3/AD10UkordlmF4NYr1YCFeChQHGQeeP8AMaKtLUIya6dWSQEmhSpSlvpJU4AR+yR/HTNEgFMYNfkqTq1Urq1VIzD/AJMuObcH5aKZtFFInFah/wAcAUDyavKeK2XHCEfsgHj8dNW2QnxCuixqAJoYlAPKKs+n5aObVAo63IG1D8hASTuHPuOx0e2elNGieVaxfBI7jRKc0UivM8+utK7r6/8Ay/DX6v1Z6Unkk5+uhVGg1KmvtCTnOedcqVWZNZTaSOxyNZk1io1kIQSQDge2dZKV0rNSoFehSDzkYHy1zNc643r1adLawU8AdiP4a5WkHesFpmtxGrK4/KHVb/ccAaCdsQresFWxmaz/ANNVKWkMoeWEngnn/PTQ/wDp7SPERXJaxBoooMBSleK4Nyvck99KeIPgCBWyU4M1QVrRI7KW1OFAJAJGO51IHUpU0QpSTAqgbaQyWkgqzkjOPQZ7aPDRCRJ86EVvTPjVJuGEIBG4nPB7j2zrdDmwNYLbFFUGttoTgbCv1yTzrVKgcVlCgkxRzSq4z5WwSfkAeD9fx1hcNYkZrtoAb86aNAnt70OBSO3OecDSZQ0knY0wakkCnDZdZcjznXlOq3qICSVfdGR6fhp5wriJW0oKoS84dpdCwIpxV+rQpVCfWXUOkoUojv5inH+2lvEuHqLapGD+9O03KIATUaTWUxJbjjiU+GCQMjUyyyQRr3r454sda3dCuJapHh7vh4qD5skgZ1Q2+xGwpStGlUb08KJ1GYpEPxWN7SO2V/eWc+3oP76b2ykBMqzWbqlbJ3o6p/VGoVBtDweUtnJTt9+Pb250W443IChg7UK2lw+IGgDqFU49y0qbBjttrnAHOFcj5amOM2iG0FSd6ZWrhehBG1c7q7ZlzLryy+qWqAFEqCk52AHtn8+fcnXnN28bg6XTttVCLAN4TuaYFLaq1BgtintuIlu+cJAzg44wPkAPzGh0Mtsp1LRqHT6eZigbltS1K0K0n6Vuoc+7KS78be9eh0KnvL8zDKgX1DOSnan7vGBzouwU7cSpm37tKsalDHzj5/Ck113TI0PPFZG6Ukk+eBt8aoq2es9lxqFNgWPby4FSfS2puZOUlx11wHjgEgDBJznVZbs8MsWVqLxuHRmAIHuMD5YjnQqH725ISywLdChupQUvGRIBIE5mST+1KdOL3rSqdLiV2a48qRG8NQx+IwB9dG2PaFd02pCkhKTsBTVnhXce2oqV1PT/ADtEUtr1vldIm/AMxRJhuEhxWeUD6gaxSlltAadOTtS29fuC5qZ22Pu/tRd0/uNLkuOqKUqSoAr/AOsY+8fnjjT/AId3afCMK5+fmKCQ4SNYykfcUq/tW05dKpIq9D+LXFd8zng7dyV47H6jIP0GlHGLRFqO8AA1c428v488mjlJ1qTpkj129ajrpBATKqiK9JiTZTi1HYp94Y4Pt9ePoDqItmE3TuomAMABPxz5c/OnC1OtohI+f3610Dh1BRojv6pLCfDQlIyfugEk/wARr0y2hLJQ399aVlB1Src0Z9HqwKfcBmeLiR4gUVnkpSU/P8NAWrRNyFKztR1uoNoKBv8AzVOTOpMZmHKQp9JWQCcc7v8AONfrvgveL1qEk0yZ7Q921oHKpqvu7abPS+048kZ3KBzkgY5/voq34UEtkKGeVTvEOK94vWDz+xUrVl6nNuvyoaHJRUobmz8u/wBNTV/ZpQqSqAOnL08q/IecUmUpE+dYa+pNJtKCf0zR1XHSJS248lhIy5HBVw4E85Uk8j35GedE2lrZvNH/AFBcNwfFO8feem9B3V1dtwLJvW4SAU7QJ5Rz30jY7TmjW+egdw06nUeXbldoZ+Ph/pNbQf3yIsYnAIYA3Jz6FWDn0GhWeGcQTa/jG7dSmVK0oVjQcTq1Y1RIOMAEEmt7kW34k2qX060o7xaRPeAEkAFI9nYxqMkg7CpZuSrPqfjwmquqHCijw0u+IUvPKxySrOEjuOOdbuPX7DItUZWMmfZTmRjcnn02zQDNrZvLLrgBQQQB+pQO5UoHAO0DlzzRR09u81aZNYYlx3XmmUR1uoGVLSk58x9TjjOsvauA64mXDOTzJ5xsOcxiiWPEgtoV4RAjpGw846nlV7WDX0U+11RojxaK+XSDwRqx7Op0KW8dzEVrcKStKW28JSM1LPUK9G6vImOLcW4veQ56njjI+Yxn/vo/j92CrQT7OPOl/DLfUguAe3meuKlJFzzWaw5Tqi6fDyfCdSe5B9+xBGoPiKgtXdA5+tU/D2ihHeGmvTKRDq4ZmxghD5IG5s7Tn5j0P9dLGrRc6kkpPyo990KwACKd8aU9T6SsF9K1pTgZAyCPQ/P11ccHZUY7zPX160j4k8EtnRy2qWrx6g1luc8fEDraVYOQcBPIIOn19eoQO7jaoe2sHVSsK3OOe/pWlF/KnRxEmJ3gJHORkj5ep9NLxdoNNVMKjScdaXFQnwkPLD6X1xj91WwED+2lFwyhZiRB60S1qQCvTMdCK0b9etyNvU66nYAQUKaUcn5cfLQ54I4TDekj1FfV8bQjxLSqPQnn5TXlSH7GrshKRFSHknnCAnn6e2lvEez+PaA9DI/ejbPiyv6T7xFOSlQaTCbSYyDgDgjv+OhGuA6DlVORxBRTA3pX9SbkjxmPAbUlJKsEn3weD+WvQuDcKShOqoXjnFSXg0OZqUqtcDKlrSrbkHJ1q6zKs0Sw4oJgUB1CtNFafDUEk54GuEIxFM0pc1Aig2VWXi5nxEb+3J/potCBFdlJ1gnFa6XVN4SC6CSnBAznRDGogE8q+vBIMJoCqMv9eVBRVnnPvpo2gmu2UTvQhNdwoqSskj55I00YRiDTS3SDvWCqVuwd3fnHtrcNRRCWADWvkPBWQSknHtrdtEUa03ma1qjz3yfXRYooV8fjxr7XVfu4nuo6/V+rao7/APtzoJW1Lor1ABDZ9T3+euTWc71ko7Z9c41mo1xWQOMEcHjWaqxcGa9ilIxx66+A1ig5rHycHkj/ALa+1qN6+Ryrnnn+uvprdWMiianISVNpIyNoOPrnSy4UaXq3pm0lCUuBIGBjUneqOmaIZAMTTYozi0uFtKsIAGBjSVCjE1yrBMU9KG6420Ni1JwTpg2olWawXgGiZMqQpQKnVKI4H0zrgJGv1rNRhs0T051xbYUpZJUOf4a1k/Os3Tg1uY0ySFJw8v74H4Z1skyDP3islpBkH7zTntCVIdBU46pZAB5+o0j4kc0+sEiactHfeS+2EuKAyND2aigAprW8GR6/vTjYWoxVNlRKADwfkNPbklTWaGQAFgUpLtbQHVEJA8npqZ0DJo5/CgBzoTpyEhMnAxtTuHyJHJ+us0uHUEzihtIlRr5kuOOSYTK3FqbUrkZ7+YD+Wm2slAFA6RJNOi1jmDLJwSlOUk844OmtuZRmh2hK1Ck1LrVVj1qUpma6glZz2550MrxrCV5EVk2opBUN5/emA5GYlwsyGkuknJJ9eR/fUJe2raVYG5FP+HPrWPEZ3pXXYP0e7IVCKo6iQMpJ4HHb276+MH80+Qrm4bGrTymg56nQpjAkSo6X3yjlaiSecZ5/E6juMXbryiXFE6RjP7Uxt7ZtsaW0gD0rNoMCJEqlPbjshpvxkjAJ7ZOlFjcLnei1NJg4qrGajNjNx1MSFtqUACRjkY7avODLIVNA8XUREVvfhY9QiyFTGkSFLB3FXr31SXLYU2Sd6SBIkGv62h8C1MMQqYPcbT2x2xpjwNw6SrmnalF2wgKTAjVE+e9Mutw41cs6eirMNzkrYUtQWO6sd/4aa9pkAoJPISK34OB3INSzalLp9PrDUWFFajRwdoQkYABPOpXhFugJJA5GjbtZ1IHnTUuqbKaZCGnlNoLKMhPA5JzqvSkJY8PSlNw6ovwTzrHsGZKS/VFJfcB2tnOfXS3h6j3084o0DJr3vSsVRlQQ1OfQkshRAPc5Iyfw1SA+An0qO4k6o3OgnEH60sos+Y/IkJekLcSHE4z8wM6S8RcUEgg86O4WApwg0OOSH/HejeKvwSopIzzjdjGe+pviLhQhTqfaAqssmErdDSvZ9TWwm1SZQqu3DpZjx2PCSSFMIWVZx3UoEnv6nR/ZHs5ZcRtg7ethalKzM8tsbD3V5/2y7T3/AA99xFm4UBIEQBzOdxn3zQFc/UO77drBh0Kqt0pmQlDcjwIrKVPpPBC17Nyhye51/QHY/h7d5ZH8UVOBpMIClKITy8KSYGANhyr+bOOdsuIMcQ/CW6kttuQVhCG0FRO+opSCqZO5O5qcer7iqXGku07bBUpsKIaASnJJGQkcA8emv5vZdU7ekOkmSomT51/YFiwhNoChIGUpwAIG0ADbHSiH7OhKKHNlIJTILRWVg8lRGSfz0i4a4pfFDqM5j4A1Q8WtW2UlDSQkDaKvakT5jVgTX231oeKsFQ7425/rr0zgaj3hTyAxUhxFwptNacFRM+4YqRBLkrqNbCnlqAkuYye3bU/x91RvnATyH0ptwhpKbdAA2kfOgirNNrTUSpOVMuOBs+qQntzpJdgaUn73phaqJKgetNfppJfRUmEJdUEKIQR6EYHGmKMhE13bqI1RTeu91xFJQULUgrBCscZGAdWNlgSN8/SkHGEA4P3kVJdW886chfmSEKwDz7nSjibqi5B61nZJCUEChKS2gNMFKQlQ3AEcEcaVs+EGOtMikE5oMuJa2ou5pa2yUjO04zo5o86VXKAVAVNVfmy2ao14cl5Izj7x/wA9NNA+rSf4FDNWDUlcZHmf5o4siZJUtLpdPiA98DU/ftJLkkUXaOqAABqqYcqR+jWVeMsKIOceui7NICsUyfqduqrzqW5SkuLCkrOOe3J1b2SzA99QvEbdGrVGQR9alGpTZQGQ8sev+fnrFxIk01tFEpTNAc+ZKTIbAfcwVHPPfRLTKSnamdmgE5rBVJfUFpU6pQ+eu+7SIxWtygTWAZD/AN7xFbgTz+I1toEV30NaSc4srcJUcgjHy40ewkQKPthsetD0tasgZ0yaApq2kCtYpSgokEjRQG1HBIgV5qJIOTnXaK0SK8cnGfXXdd1/HX6v1fmv1fq//9k=",
        "encoding": "base64",
        "path": [
         "value"
        ]
       }
      ],
      "model_module": "@jupyter-widgets/controls",
      "model_module_version": "1.5.0",
      "model_name": "ImageModel",
      "state": {
       "height": "150",
       "layout": "IPY_MODEL_0bdf1d3fd92a45aa988f74dcefe29db3",
       "value": {},
       "width": "150"
      }
     },
     "5ad32addfc1b4d10a21b725284a24835": {
      "model_module": "@jupyter-widgets/base",
      "model_module_version": "1.2.0",
      "model_name": "LayoutModel",
      "state": {}
     },
     "5b706f5254d54eecb6fb45a4a91b8ee0": {
      "model_module": "@jupyter-widgets/base",
      "model_module_version": "1.2.0",
      "model_name": "LayoutModel",
      "state": {}
     },
     "5b81e16b6b9e49d1b1ef73efcb6a6cba": {
      "model_module": "@jupyter-widgets/controls",
      "model_module_version": "1.5.0",
      "model_name": "RadioButtonsModel",
      "state": {
       "_options_labels": [
        "网络下载",
        "搜索引擎爬取",
        "视频转换"
       ],
       "description": "数据准备方式",
       "index": 0,
       "layout": "IPY_MODEL_a3dd5643e5954a93a016394dc26d9b1a",
       "style": "IPY_MODEL_d65a712057b549649a06e823317a5511"
      }
     },
     "5bf1c1da51ce40a6bf3389657105a8a2": {
      "model_module": "@jupyter-widgets/base",
      "model_module_version": "1.2.0",
      "model_name": "LayoutModel",
      "state": {}
     },
     "5c386797e2004c85b4491f5ca33dc922": {
      "model_module": "@jupyter-widgets/base",
      "model_module_version": "1.2.0",
      "model_name": "LayoutModel",
      "state": {}
     },
     "5d7c05530ebb443694fdab3ae2482923": {
      "model_module": "@jupyter-widgets/base",
      "model_module_version": "1.2.0",
      "model_name": "LayoutModel",
      "state": {}
     },
     "5eacba4be83a4334941a9961f3c03c04": {
      "model_module": "@jupyter-widgets/controls",
      "model_module_version": "1.5.0",
      "model_name": "VBoxModel",
      "state": {
       "children": [
        "IPY_MODEL_dd4f079f98c4416f9198a79f50414d55",
        "IPY_MODEL_e6004639cc364342943cc3d3896c2f84"
       ],
       "layout": "IPY_MODEL_c01e9f6835e644e68d4f8081e65f0fd1"
      }
     },
     "5f8a4a6b1f8a4ee3b4ed7f57c760b5c8": {
      "model_module": "@jupyter-widgets/controls",
      "model_module_version": "1.5.0",
      "model_name": "ButtonModel",
      "state": {
       "description": "刷新",
       "layout": "IPY_MODEL_4d52923022974430b26e85167a9f0334",
       "style": "IPY_MODEL_7ae25156bfff4dd58da14ccbf68567f0"
      }
     },
     "5fc010ef7a2e48b49dab8ccd8eb7f362": {
      "model_module": "@jupyter-widgets/controls",
      "model_module_version": "1.5.0",
      "model_name": "CheckboxModel",
      "state": {
       "description": "进行随机水平翻转",
       "disabled": false,
       "layout": "IPY_MODEL_71d9897cf14244abb64740406beece69",
       "style": "IPY_MODEL_b79f67eddf4348778ec5c008b2b5752f",
       "value": true
      }
     },
     "5fe7deb1c8e1484584429d044a914113": {
      "model_module": "@jupyter-widgets/controls",
      "model_module_version": "1.5.0",
      "model_name": "VBoxModel",
      "state": {
       "children": [
        "IPY_MODEL_06e5a09bd5634961a2813cd109e2b3f3",
        "IPY_MODEL_fada12c6c5ef4d15b86337c5001b3453"
       ],
       "layout": "IPY_MODEL_aea12930f2b143ba9fe89952c34ab70a"
      }
     },
     "60b3a0aca2b94ca1acb9c596193ae43d": {
      "model_module": "@jupyter-widgets/base",
      "model_module_version": "1.2.0",
      "model_name": "LayoutModel",
      "state": {
       "grid_area": "widget032"
      }
     },
     "60b64dac9d234bef9e943b6774ad857f": {
      "model_module": "@jupyter-widgets/base",
      "model_module_version": "1.2.0",
      "model_name": "LayoutModel",
      "state": {}
     },
     "61cb7ad86e604682adb92bfb43807a6e": {
      "model_module": "@jupyter-widgets/controls",
      "model_module_version": "1.5.0",
      "model_name": "RadioButtonsModel",
      "state": {
       "_options_labels": [
        "网络下载",
        "搜索引擎爬取",
        "视频转换"
       ],
       "description": "数据准备方式",
       "index": 2,
       "layout": "IPY_MODEL_039e18c4d33245d59dc4d114d252eb07",
       "style": "IPY_MODEL_0880ced80d64403787313dc2cb528390"
      }
     },
     "6547fc55a14e423d9c975f32253e45b8": {
      "model_module": "@jupyter-widgets/controls",
      "model_module_version": "1.5.0",
      "model_name": "DescriptionStyleModel",
      "state": {
       "description_width": ""
      }
     },
     "65a35542da0547478db62ecaaf7b01fe": {
      "model_module": "@jupyter-widgets/controls",
      "model_module_version": "1.5.0",
      "model_name": "VBoxModel",
      "state": {
       "children": [
        "IPY_MODEL_d07eea6287d24fadbc84598ce7c71cd3",
        "IPY_MODEL_20e8c455f27f4c9b8db68141000e2f1a"
       ],
       "layout": "IPY_MODEL_c3a341c6a3614c44a8d160000772c092"
      }
     },
     "673b6c9a3e51407fad5ba117fa099182": {
      "model_module": "@jupyter-widgets/controls",
      "model_module_version": "1.5.0",
      "model_name": "ButtonStyleModel",
      "state": {}
     },
     "67d6298179cc481dade0ec053579dfb4": {
      "model_module": "@jupyter-widgets/base",
      "model_module_version": "1.2.0",
      "model_name": "LayoutModel",
      "state": {}
     },
     "680dc8fec7a84c5781d5ee56b10e5505": {
      "model_module": "@jupyter-widgets/controls",
      "model_module_version": "1.5.0",
      "model_name": "DescriptionStyleModel",
      "state": {
       "description_width": ""
      }
     },
     "68ee1cb5fa4d4cf180f8c94436b54446": {
      "model_module": "@jupyter-widgets/base",
      "model_module_version": "1.2.0",
      "model_name": "LayoutModel",
      "state": {}
     },
     "6977abe60b7e43628cc92e22f03774ca": {
      "model_module": "@jupyter-widgets/controls",
      "model_module_version": "1.5.0",
      "model_name": "LabelModel",
      "state": {
       "layout": "IPY_MODEL_f6883ed1e6e54b89861f404bc23d96dd",
       "style": "IPY_MODEL_455f70c11e5445989d1aabffa657ef26",
       "value": "10043234166_e6dd915111_n.jpg"
      }
     },
     "6b2f3436435841908048ff6e0c89413d": {
      "model_module": "@jupyter-widgets/controls",
      "model_module_version": "1.5.0",
      "model_name": "ButtonStyleModel",
      "state": {}
     },
     "6b594f87b90e4257850342e47ee53832": {
      "model_module": "@jupyter-widgets/output",
      "model_module_version": "1.0.0",
      "model_name": "OutputModel",
      "state": {
       "layout": "IPY_MODEL_d22de5c381794f869c30c65c25e6d362",
       "outputs": [
        {
         "data": {
          "application/vnd.jupyter.widget-view+json": {
           "model_id": "61cb7ad86e604682adb92bfb43807a6e",
           "version_major": 2,
           "version_minor": 0
          },
          "text/plain": "RadioButtons(description='数据准备方式', index=2, options=('网络下载', '搜索引擎爬取', '视频转换'), value='视频转换')"
         },
         "metadata": {},
         "output_type": "display_data"
        },
        {
         "name": "stdout",
         "output_type": "stream",
         "text": "请输入数据集名称、要保存的标签名、选择需转换成图像的视频文件和转换间隔，点击“转换”按键将把视频转换成数据集\n"
        },
        {
         "data": {
          "application/vnd.jupyter.widget-view+json": {
           "model_id": "34d663a2e18447c38c0ede5bd0eb73ba",
           "version_major": 2,
           "version_minor": 0
          },
          "text/plain": "VBox(children=(Combobox(value='', description='数据集名称:', options=('phone', 'dataset', 'dataset1'), placeholder=…"
         },
         "metadata": {},
         "output_type": "display_data"
        }
       ]
      }
     },
     "6d237ae2648145c0bd2475147d9913c5": {
      "model_module": "@jupyter-widgets/controls",
      "model_module_version": "1.5.0",
      "model_name": "LabelModel",
      "state": {
       "layout": "IPY_MODEL_e73b6647f5c44897a8f3d7488c6d34a4",
       "style": "IPY_MODEL_1a05f5ae1dab4075af9692c313a26299",
       "value": "10437652486_aa86c14985.jpg"
      }
     },
     "6db2ca0e649b444c86d7abd59bdf10a3": {
      "model_module": "@jupyter-widgets/base",
      "model_module_version": "1.2.0",
      "model_name": "LayoutModel",
      "state": {}
     },
     "6dda1410f5734717ae8fdc7c19421a0d": {
      "model_module": "@jupyter-widgets/base",
      "model_module_version": "1.2.0",
      "model_name": "LayoutModel",
      "state": {}
     },
     "6ffabf6f51874ff387be7a9c797991ac": {
      "model_module": "@jupyter-widgets/base",
      "model_module_version": "1.2.0",
      "model_name": "LayoutModel",
      "state": {}
     },
     "71d9897cf14244abb64740406beece69": {
      "model_module": "@jupyter-widgets/base",
      "model_module_version": "1.2.0",
      "model_name": "LayoutModel",
      "state": {}
     },
     "7300a1606f6f4f618ae3ec7f6c6dbe76": {
      "model_module": "@jupyter-widgets/controls",
      "model_module_version": "1.5.0",
      "model_name": "VBoxModel",
      "state": {
       "children": [
        "IPY_MODEL_2b6e64c453b94ed289d8dc0d4eca16c9",
        "IPY_MODEL_87596c914cbc4a91804d42caf0446d88"
       ],
       "layout": "IPY_MODEL_9c0a8207c867484b96080e5200cfc007"
      }
     },
     "74884cca60554d8a993506d37dc875bf": {
      "model_module": "@jupyter-widgets/controls",
      "model_module_version": "1.5.0",
      "model_name": "FloatTextModel",
      "state": {
       "description": "竖直偏移幅度",
       "layout": "IPY_MODEL_0fd919b6f5de4b0ab040d5bfdc372fb3",
       "step": null,
       "style": "IPY_MODEL_b090925f6e784b918ca70598f17579c0",
       "value": 0.15
      }
     },
     "7545cde59b1145109d13301a49e72eb9": {
      "model_module": "@jupyter-widgets/base",
      "model_module_version": "1.2.0",
      "model_name": "LayoutModel",
      "state": {}
     },
     "76c809d27a754cab816ab07a68895eda": {
      "model_module": "@jupyter-widgets/base",
      "model_module_version": "1.2.0",
      "model_name": "LayoutModel",
      "state": {}
     },
     "77fb7ca62fb04eba8d475dded600128c": {
      "model_module": "@jupyter-widgets/controls",
      "model_module_version": "1.5.0",
      "model_name": "DescriptionStyleModel",
      "state": {
       "description_width": ""
      }
     },
     "786a0aba829b4e648dc71581adfc3cb3": {
      "model_module": "@jupyter-widgets/base",
      "model_module_version": "1.2.0",
      "model_name": "LayoutModel",
      "state": {}
     },
     "79eb0d8181b4421fa64566edcc440fca": {
      "model_module": "@jupyter-widgets/controls",
      "model_module_version": "1.5.0",
      "model_name": "VBoxModel",
      "state": {
       "children": [
        "IPY_MODEL_7b1ee91d56e3460ea86ce867ada90fe0",
        "IPY_MODEL_145083901a744bcdb5d5bcaf3e88941e"
       ],
       "layout": "IPY_MODEL_43969aea1dd84ce5b568d61caf76e70b"
      }
     },
     "7ae25156bfff4dd58da14ccbf68567f0": {
      "model_module": "@jupyter-widgets/controls",
      "model_module_version": "1.5.0",
      "model_name": "ButtonStyleModel",
      "state": {}
     },
     "7b1ee91d56e3460ea86ce867ada90fe0": {
      "model_module": "@jupyter-widgets/controls",
      "model_module_version": "1.5.0",
      "model_name": "CheckboxModel",
      "state": {
       "disabled": false,
       "layout": "IPY_MODEL_0ebc3dacf9f04cbe856c2be5229d155b",
       "style": "IPY_MODEL_1893df2b6ebe47f680153e1acb733b0f",
       "value": false
      }
     },
     "7c4c5664908b49d1af9fbdfb3c98588f": {
      "model_module": "@jupyter-widgets/controls",
      "model_module_version": "1.5.0",
      "model_name": "DescriptionStyleModel",
      "state": {
       "description_width": ""
      }
     },
     "7df2bd9e5a6d40ef8a9436575344e2f8": {
      "model_module": "@jupyter-widgets/base",
      "model_module_version": "1.2.0",
      "model_name": "LayoutModel",
      "state": {}
     },
     "7ed46a5351674552ac3e2558381ddea5": {
      "model_module": "@jupyter-widgets/controls",
      "model_module_version": "1.5.0",
      "model_name": "DescriptionStyleModel",
      "state": {
       "description_width": ""
      }
     },
     "80078ba2abd94cc29cb93337fcc891fe": {
      "model_module": "@jupyter-widgets/controls",
      "model_module_version": "1.5.0",
      "model_name": "DescriptionStyleModel",
      "state": {
       "description_width": ""
      }
     },
     "8075d9dbbf104742ac6a186ec13252e1": {
      "model_module": "@jupyter-widgets/base",
      "model_module_version": "1.2.0",
      "model_name": "LayoutModel",
      "state": {}
     },
     "80ae69ace71a4cfa863218e4dc8b79a9": {
      "model_module": "@jupyter-widgets/output",
      "model_module_version": "1.0.0",
      "model_name": "OutputModel",
      "state": {
       "layout": "IPY_MODEL_95dcc148c635442ea82debc30f881ca3",
       "outputs": [
        {
         "name": "stdout",
         "output_type": "stream",
         "text": "page:1\n"
        },
        {
         "data": {
          "application/vnd.jupyter.widget-view+json": {
           "model_id": "bb9f0538a4f248da80e014d28c4c56b7",
           "version_major": 2,
           "version_minor": 0
          },
          "text/plain": "GridspecLayout(children=(VBox(children=(Checkbox(value=False), Image(value=b'\\xff\\xd8\\xff\\xe0\\x00\\x10JFIF\\x00\\…"
         },
         "metadata": {},
         "output_type": "display_data"
        }
       ]
      }
     },
     "8206d298adec4070976dd287a6c37051": {
      "model_module": "@jupyter-widgets/controls",
      "model_module_version": "1.5.0",
      "model_name": "LabelModel",
      "state": {
       "layout": "IPY_MODEL_e05bb97b241a40c1acd10d6fdc1653c2",
       "style": "IPY_MODEL_a3a4f8bdb4774824a9d07eea231fe756",
       "value": "10443973_aeb97513fc_m.jpg"
      }
     },
     "829973e695704a37804a5ed9cb116e19": {
      "model_module": "@jupyter-widgets/base",
      "model_module_version": "1.2.0",
      "model_name": "LayoutModel",
      "state": {}
     },
     "842ef492028f4f3ba2c2718c097335c1": {
      "model_module": "@jupyter-widgets/controls",
      "model_module_version": "1.5.0",
      "model_name": "ButtonModel",
      "state": {
       "description": "训练模型",
       "layout": "IPY_MODEL_60b64dac9d234bef9e943b6774ad857f",
       "style": "IPY_MODEL_673b6c9a3e51407fad5ba117fa099182"
      }
     },
     "87596c914cbc4a91804d42caf0446d88": {
      "model_module": "@jupyter-widgets/controls",
      "model_module_version": "1.5.0",
      "model_name": "ImageModel",
      "state": {
       "height": "150",
       "layout": "IPY_MODEL_76c809d27a754cab816ab07a68895eda",
       "width": "150"
      }
     },
     "8a9a5f89489741b6bc2786aeb9300d85": {
      "model_module": "@jupyter-widgets/base",
      "model_module_version": "1.2.0",
      "model_name": "LayoutModel",
      "state": {
       "grid_area": "widget034"
      }
     },
     "8adbed78b2864a91aa925e33d4585ce3": {
      "model_module": "@jupyter-widgets/controls",
      "model_module_version": "1.5.0",
      "model_name": "DescriptionStyleModel",
      "state": {
       "description_width": ""
      }
     },
     "8bc34a23fa4f4f9eb65cd4fab037e513": {
      "model_module": "@jupyter-widgets/controls",
      "model_module_version": "1.5.0",
      "model_name": "TextModel",
      "state": {
       "description": "链接",
       "layout": "IPY_MODEL_f80d09481f5b47eeab4c43571125ff35",
       "style": "IPY_MODEL_fb6f557ffabe4730a6795155ae69940a"
      }
     },
     "8dedcd3e4d694586a687b7c673d710b3": {
      "model_module": "@jupyter-widgets/controls",
      "model_module_version": "1.5.0",
      "model_name": "ButtonModel",
      "state": {
       "description": "传输",
       "layout": "IPY_MODEL_b9a372832a93401992bc5d4691b0daeb",
       "style": "IPY_MODEL_90d3b25f706f4b50ad26b52706cf524d"
      }
     },
     "8e257f74cc5f44e8a0889f686345a3ff": {
      "model_module": "@jupyter-widgets/controls",
      "model_module_version": "1.5.0",
      "model_name": "DescriptionStyleModel",
      "state": {
       "description_width": ""
      }
     },
     "8ec65bc116f24fe08fd2caaafcc622e9": {
      "model_module": "@jupyter-widgets/controls",
      "model_module_version": "1.5.0",
      "model_name": "ButtonStyleModel",
      "state": {}
     },
     "8fbc8526bad74eb187bd647fb46469f9": {
      "model_module": "@jupyter-widgets/controls",
      "model_module_version": "1.5.0",
      "model_name": "DescriptionStyleModel",
      "state": {
       "description_width": ""
      }
     },
     "90d3b25f706f4b50ad26b52706cf524d": {
      "model_module": "@jupyter-widgets/controls",
      "model_module_version": "1.5.0",
      "model_name": "ButtonStyleModel",
      "state": {}
     },
     "925527297c9148bb89f4a5dc24938d30": {
      "model_module": "@jupyter-widgets/base",
      "model_module_version": "1.2.0",
      "model_name": "LayoutModel",
      "state": {}
     },
     "94a98b0912b34a928bcaba0f63b243ba": {
      "model_module": "@jupyter-widgets/controls",
      "model_module_version": "1.5.0",
      "model_name": "DropdownModel",
      "state": {
       "_options_labels": [
        "daisy",
        "roses",
        "tulips",
        "sunflowers",
        "dandelion"
       ],
       "description": "类别:",
       "index": 4,
       "layout": "IPY_MODEL_dba9d9632f5b4621aea27e117b834462",
       "style": "IPY_MODEL_a9c4a6289f95411785da0fa8c4299948"
      }
     },
     "95006ba6aa054e0c98ca2d5ea40a2524": {
      "model_module": "@jupyter-widgets/base",
      "model_module_version": "1.2.0",
      "model_name": "LayoutModel",
      "state": {
       "grid_area": "widget033"
      }
     },
     "9550945be02a4ba39c2edd30c0c1dadb": {
      "model_module": "@jupyter-widgets/controls",
      "model_module_version": "1.5.0",
      "model_name": "VBoxModel",
      "state": {
       "children": [
        "IPY_MODEL_9b4f5db6814947ef9e32ec0cb24d5813",
        "IPY_MODEL_298d892385624a989546ee10a3906b27"
       ],
       "layout": "IPY_MODEL_4ee79153fcd143eb8654775dcfdae870"
      }
     },
     "95dcc148c635442ea82debc30f881ca3": {
      "model_module": "@jupyter-widgets/base",
      "model_module_version": "1.2.0",
      "model_name": "LayoutModel",
      "state": {
       "border": "1px solid black"
      }
     },
     "974ca94a710a45efada1ee3c0a68d04a": {
      "model_module": "@jupyter-widgets/controls",
      "model_module_version": "1.5.0",
      "model_name": "DescriptionStyleModel",
      "state": {
       "description_width": ""
      }
     },
     "9877980789f9413fad836fc7ce2ea0b0": {
      "model_module": "@jupyter-widgets/controls",
      "model_module_version": "1.5.0",
      "model_name": "DropdownModel",
      "state": {
       "_options_labels": [
        "phone.zip",
        "dataset1.zip",
        "dataset.zip",
        "dataset (1).zip",
        "flower_photos.tgz"
       ],
       "description": "zip文件:",
       "index": 4,
       "layout": "IPY_MODEL_ab7734a3bbee40ae928c25c8bc3a8fa2",
       "style": "IPY_MODEL_a30920b138324de9b9004b8e266e1e0c"
      }
     },
     "9b4f5db6814947ef9e32ec0cb24d5813": {
      "model_module": "@jupyter-widgets/controls",
      "model_module_version": "1.5.0",
      "model_name": "CheckboxModel",
      "state": {
       "disabled": true,
       "layout": "IPY_MODEL_08e908db3de24d6f88484db31b081df8",
       "style": "IPY_MODEL_8adbed78b2864a91aa925e33d4585ce3",
       "value": false
      }
     },
     "9c08a19e44e84f479849526274ed7108": {
      "model_module": "@jupyter-widgets/controls",
      "model_module_version": "1.5.0",
      "model_name": "DescriptionStyleModel",
      "state": {
       "description_width": ""
      }
     },
     "9c0a8207c867484b96080e5200cfc007": {
      "model_module": "@jupyter-widgets/base",
      "model_module_version": "1.2.0",
      "model_name": "LayoutModel",
      "state": {
       "grid_area": "widget005"
      }
     },
     "9c973381905d4dbdaf37d6b034c6184c": {
      "model_module": "@jupyter-widgets/controls",
      "model_module_version": "1.5.0",
      "model_name": "LabelModel",
      "state": {
       "layout": "IPY_MODEL_01263af053544e0a9de0350da2a41bd6",
       "style": "IPY_MODEL_8fbc8526bad74eb187bd647fb46469f9"
      }
     },
     "9cf1f56134684c2e9048fef613b4eb89": {
      "model_module": "@jupyter-widgets/controls",
      "model_module_version": "1.5.0",
      "model_name": "ButtonStyleModel",
      "state": {}
     },
     "9de79f8028194d12972a330f42702d05": {
      "model_module": "@jupyter-widgets/controls",
      "model_module_version": "1.5.0",
      "model_name": "DescriptionStyleModel",
      "state": {
       "description_width": ""
      }
     },
     "9f56fdeb97ea49ec8ef8048346dd2b35": {
      "model_module": "@jupyter-widgets/controls",
      "model_module_version": "1.5.0",
      "model_name": "VBoxModel",
      "state": {
       "children": [
        "IPY_MODEL_3e750bea3464454eba57cc889ec4b15e",
        "IPY_MODEL_fa127a3c8a6340f2a1848ec917a27fd1"
       ],
       "layout": "IPY_MODEL_4c273f3aeba741bd898b49a27f5f5502"
      }
     },
     "a0eafd9f983f4618a9f3f9232b640631": {
      "model_module": "@jupyter-widgets/base",
      "model_module_version": "1.2.0",
      "model_name": "LayoutModel",
      "state": {
       "grid_area": "widget001"
      }
     },
     "a1066defb5c04571af81aebfb02d12a6": {
      "buffers": [
       {
        "data": "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",
        "encoding": "base64",
        "path": [
         "value"
        ]
       }
      ],
      "model_module": "@jupyter-widgets/controls",
      "model_module_version": "1.5.0",
      "model_name": "ImageModel",
      "state": {
       "height": "150",
       "layout": "IPY_MODEL_0cc8bc59d09844258ea35b01d6c15b76",
       "value": {},
       "width": "150"
      }
     },
     "a230e819308247758856d0e1777967c1": {
      "model_module": "@jupyter-widgets/controls",
      "model_module_version": "1.5.0",
      "model_name": "CheckboxModel",
      "state": {
       "description": "数据增强",
       "disabled": false,
       "indent": false,
       "layout": "IPY_MODEL_bf7f76ce1be04bf8836ea20517518334",
       "style": "IPY_MODEL_77fb7ca62fb04eba8d475dded600128c",
       "value": false
      }
     },
     "a2575a4ce49242ffa3eb70272a3b43eb": {
      "model_module": "@jupyter-widgets/controls",
      "model_module_version": "1.5.0",
      "model_name": "FloatTextModel",
      "state": {
       "description": "验证集比例",
       "layout": "IPY_MODEL_f00ad333d855479c8e39985944d07413",
       "step": null,
       "style": "IPY_MODEL_974ca94a710a45efada1ee3c0a68d04a",
       "value": 0.1
      }
     },
     "a30920b138324de9b9004b8e266e1e0c": {
      "model_module": "@jupyter-widgets/controls",
      "model_module_version": "1.5.0",
      "model_name": "DescriptionStyleModel",
      "state": {
       "description_width": ""
      }
     },
     "a3a4f8bdb4774824a9d07eea231fe756": {
      "model_module": "@jupyter-widgets/controls",
      "model_module_version": "1.5.0",
      "model_name": "DescriptionStyleModel",
      "state": {
       "description_width": ""
      }
     },
     "a3bc269f11fd4e84b639850fff5f38b3": {
      "model_module": "@jupyter-widgets/base",
      "model_module_version": "1.2.0",
      "model_name": "LayoutModel",
      "state": {
       "border": "1px solid black"
      }
     },
     "a3d2e07ff328491abb0553c77eff34e8": {
      "model_module": "@jupyter-widgets/controls",
      "model_module_version": "1.5.0",
      "model_name": "VBoxModel",
      "state": {
       "children": [
        "IPY_MODEL_e742c5b4aa3e4440960bdb7b6a91b806",
        "IPY_MODEL_e1b28067b5da45ee8fde0561af561c66"
       ],
       "layout": "IPY_MODEL_3eb723e85775447da56c2e89e272bb1d"
      }
     },
     "a3dd5643e5954a93a016394dc26d9b1a": {
      "model_module": "@jupyter-widgets/base",
      "model_module_version": "1.2.0",
      "model_name": "LayoutModel",
      "state": {}
     },
     "a458031f2c3b4635b5f6da954ea568ee": {
      "model_module": "@jupyter-widgets/controls",
      "model_module_version": "1.5.0",
      "model_name": "DescriptionStyleModel",
      "state": {
       "description_width": ""
      }
     },
     "a631aac577ac41bcb201e6c58fc7c577": {
      "model_module": "@jupyter-widgets/base",
      "model_module_version": "1.2.0",
      "model_name": "LayoutModel",
      "state": {}
     },
     "a9c4a6289f95411785da0fa8c4299948": {
      "model_module": "@jupyter-widgets/controls",
      "model_module_version": "1.5.0",
      "model_name": "DescriptionStyleModel",
      "state": {
       "description_width": ""
      }
     },
     "a9d38c41648e44f8883a39efb93cf0f5": {
      "model_module": "@jupyter-widgets/controls",
      "model_module_version": "1.5.0",
      "model_name": "VBoxModel",
      "state": {
       "children": [
        "IPY_MODEL_8bc34a23fa4f4f9eb65cd4fab037e513",
        "IPY_MODEL_c4c67a6fcdf749c3ba7e53a91c471ba8",
        "IPY_MODEL_8dedcd3e4d694586a687b7c673d710b3"
       ],
       "layout": "IPY_MODEL_3dbaa58dd8164da4979b4680c951d975"
      }
     },
     "a9e8ef3449f14d1688f6f427357096fa": {
      "model_module": "@jupyter-widgets/controls",
      "model_module_version": "1.5.0",
      "model_name": "DescriptionStyleModel",
      "state": {
       "description_width": ""
      }
     },
     "ab02256d9d074c66808f23860a61a3f6": {
      "model_module": "@jupyter-widgets/base",
      "model_module_version": "1.2.0",
      "model_name": "LayoutModel",
      "state": {}
     },
     "ab1e5d0217894059a4e227edc918c23f": {
      "model_module": "@jupyter-widgets/controls",
      "model_module_version": "1.5.0",
      "model_name": "FloatTextModel",
      "state": {
       "description": "缩放幅度",
       "layout": "IPY_MODEL_1c2d6a4d3e6f41369adb05842eafc1fc",
       "step": null,
       "style": "IPY_MODEL_1ad9f5bd0a3a4baca39e759a225949b4",
       "value": 0.5
      }
     },
     "ab7734a3bbee40ae928c25c8bc3a8fa2": {
      "model_module": "@jupyter-widgets/base",
      "model_module_version": "1.2.0",
      "model_name": "LayoutModel",
      "state": {}
     },
     "acb7e215a8564ddfb7583ce95c87dfc8": {
      "model_module": "@jupyter-widgets/base",
      "model_module_version": "1.2.0",
      "model_name": "LayoutModel",
      "state": {}
     },
     "ade0b4da27a34007bd3586a5d7806653": {
      "model_module": "@jupyter-widgets/controls",
      "model_module_version": "1.5.0",
      "model_name": "ComboboxModel",
      "state": {
       "description": "视频文件:",
       "ensure_option": false,
       "layout": "IPY_MODEL_17eac0bb8d7249f4b52f69a28adc3162",
       "placeholder": "选择一个当前目录下的视频文件或输入路径名",
       "style": "IPY_MODEL_a9e8ef3449f14d1688f6f427357096fa"
      }
     },
     "ae074898634f452db1e91bc0857af724": {
      "model_module": "@jupyter-widgets/base",
      "model_module_version": "1.2.0",
      "model_name": "LayoutModel",
      "state": {}
     },
     "aea12930f2b143ba9fe89952c34ab70a": {
      "model_module": "@jupyter-widgets/base",
      "model_module_version": "1.2.0",
      "model_name": "LayoutModel",
      "state": {
       "grid_area": "widget002"
      }
     },
     "aeef8da604544eed929b89d836251ecf": {
      "model_module": "@jupyter-widgets/controls",
      "model_module_version": "1.5.0",
      "model_name": "DropdownModel",
      "state": {
       "_options_labels": [
        "phone",
        "dataset",
        "dataset1"
       ],
       "description": "数据集目录",
       "index": 0,
       "layout": "IPY_MODEL_ec5ddf308f4a43009051ebb074d73e05",
       "style": "IPY_MODEL_d10d3c002fb142fd9f02101569ef60e8"
      }
     },
     "b090925f6e784b918ca70598f17579c0": {
      "model_module": "@jupyter-widgets/controls",
      "model_module_version": "1.5.0",
      "model_name": "DescriptionStyleModel",
      "state": {
       "description_width": ""
      }
     },
     "b3f587827cac4ea18fa384b23b3c4ba9": {
      "model_module": "@jupyter-widgets/controls",
      "model_module_version": "1.5.0",
      "model_name": "ButtonStyleModel",
      "state": {}
     },
     "b42fd29491ca4fe28c86b8b32f8791f3": {
      "model_module": "@jupyter-widgets/controls",
      "model_module_version": "1.5.0",
      "model_name": "ButtonModel",
      "state": {
       "description": "刷新",
       "layout": "IPY_MODEL_c1fac096f7f840cf8cdc5433c737fd5e",
       "style": "IPY_MODEL_5956f371b0034ff28fbf37e855ffbdbd"
      }
     },
     "b4e340267d424d95bc4657795eb52087": {
      "model_module": "@jupyter-widgets/base",
      "model_module_version": "1.2.0",
      "model_name": "LayoutModel",
      "state": {}
     },
     "b6ee1b11a94c469f83a641ad2a075d93": {
      "model_module": "@jupyter-widgets/base",
      "model_module_version": "1.2.0",
      "model_name": "LayoutModel",
      "state": {}
     },
     "b78b61c80081405389c561c20a2903da": {
      "model_module": "@jupyter-widgets/base",
      "model_module_version": "1.2.0",
      "model_name": "LayoutModel",
      "state": {}
     },
     "b79f67eddf4348778ec5c008b2b5752f": {
      "model_module": "@jupyter-widgets/controls",
      "model_module_version": "1.5.0",
      "model_name": "DescriptionStyleModel",
      "state": {
       "description_width": ""
      }
     },
     "b7fb834c642641178ea0398754df92ec": {
      "model_module": "@jupyter-widgets/controls",
      "model_module_version": "1.5.0",
      "model_name": "ButtonModel",
      "state": {
       "description": "转换",
       "layout": "IPY_MODEL_acb7e215a8564ddfb7583ce95c87dfc8",
       "style": "IPY_MODEL_b3f587827cac4ea18fa384b23b3c4ba9"
      }
     },
     "b951c2dc8a6d48c7b0b0fb3d8ff13efd": {
      "model_module": "@jupyter-widgets/controls",
      "model_module_version": "1.5.0",
      "model_name": "ButtonModel",
      "state": {
       "description": "刷新",
       "layout": "IPY_MODEL_bae3f44eb80b4b39a52088fb05a14c49",
       "style": "IPY_MODEL_dc22dad80bc1434eac4435d050a848b3"
      }
     },
     "b9a372832a93401992bc5d4691b0daeb": {
      "model_module": "@jupyter-widgets/base",
      "model_module_version": "1.2.0",
      "model_name": "LayoutModel",
      "state": {}
     },
     "ba3742d8495e48fd82b2a9d66311e45b": {
      "model_module": "@jupyter-widgets/controls",
      "model_module_version": "1.5.0",
      "model_name": "IntTextModel",
      "state": {
       "description": "旋转角度范围",
       "layout": "IPY_MODEL_0dbe831b49d547bfbcabd72fcdc24b1d",
       "step": 1,
       "style": "IPY_MODEL_6547fc55a14e423d9c975f32253e45b8",
       "value": 45
      }
     },
     "ba38339de34045788dc673f05648cabe": {
      "model_module": "@jupyter-widgets/controls",
      "model_module_version": "1.5.0",
      "model_name": "DropdownModel",
      "state": {
       "_options_labels": [
        "daisy",
        "roses",
        "tulips",
        ".ipynb_checkpoints",
        "sunflowers",
        "dandelion"
       ],
       "description": "类别:",
       "index": 3,
       "layout": "IPY_MODEL_fc85faec55324fb7b8a38f472ea16d22",
       "style": "IPY_MODEL_f869cef93e404081a00a19586557f64b"
      }
     },
     "bae3f44eb80b4b39a52088fb05a14c49": {
      "model_module": "@jupyter-widgets/base",
      "model_module_version": "1.2.0",
      "model_name": "LayoutModel",
      "state": {}
     },
     "bb02ef1e1ba9425ca9931f1b6ae30a0f": {
      "model_module": "@jupyter-widgets/controls",
      "model_module_version": "1.5.0",
      "model_name": "ButtonModel",
      "state": {
       "description": "传输",
       "layout": "IPY_MODEL_d9d2812b6b2042deb44f585bacd975b5",
       "style": "IPY_MODEL_c08f837dd1064b2aa19caf5c4ff535d7"
      }
     },
     "bb251899b4e04cd7bea6b854127e62f8": {
      "model_module": "@jupyter-widgets/controls",
      "model_module_version": "1.5.0",
      "model_name": "VBoxModel",
      "state": {
       "children": [
        "IPY_MODEL_db92153cc9c84af9a98a192a436347e8",
        "IPY_MODEL_27926d77fe4941e999de661dc8e64510"
       ],
       "layout": "IPY_MODEL_d13850308f404f73a93a4397cd955ba5"
      }
     },
     "bb43345844e44017a3f7df19077eb82c": {
      "model_module": "@jupyter-widgets/base",
      "model_module_version": "1.2.0",
      "model_name": "LayoutModel",
      "state": {}
     },
     "bb9f0538a4f248da80e014d28c4c56b7": {
      "model_module": "@jupyter-widgets/controls",
      "model_module_version": "1.5.0",
      "model_name": "GridBoxModel",
      "state": {
       "children": [
        "IPY_MODEL_bb251899b4e04cd7bea6b854127e62f8",
        "IPY_MODEL_79eb0d8181b4421fa64566edcc440fca",
        "IPY_MODEL_0fd35d0063a74eabbef06f1502cb9044",
        "IPY_MODEL_27e1b1cdbb804f46b0520c9367e9185f",
        "IPY_MODEL_c8f74e5eb2114e93b8970b25b30db589",
        "IPY_MODEL_9f56fdeb97ea49ec8ef8048346dd2b35"
       ],
       "layout": "IPY_MODEL_40315c9cc2924a758245cb64f42dbe30"
      }
     },
     "bc258ab17e6f4b20b8e18df5732f4dec": {
      "model_module": "@jupyter-widgets/controls",
      "model_module_version": "1.5.0",
      "model_name": "DropdownModel",
      "state": {
       "_options_labels": [
        "flower_photos",
        "phone",
        "dataset",
        "dataset1"
       ],
       "description": "数据集目录",
       "index": 0,
       "layout": "IPY_MODEL_925527297c9148bb89f4a5dc24938d30",
       "style": "IPY_MODEL_d8715c81bb114622806800c126bc27f7"
      }
     },
     "bda07914bc7b4627a89eac8d5817efd2": {
      "model_module": "@jupyter-widgets/controls",
      "model_module_version": "1.5.0",
      "model_name": "LabelModel",
      "state": {
       "layout": "IPY_MODEL_ff04f88a7d814d0b86e5317d1d49482d",
       "style": "IPY_MODEL_2529eae8d7154b53a0540a02c2835b12",
       "value": "10200780773_c6051a7d71_n.jpg"
      }
     },
     "be268ca4ff2447b98dac06d39f921168": {
      "model_module": "@jupyter-widgets/base",
      "model_module_version": "1.2.0",
      "model_name": "LayoutModel",
      "state": {}
     },
     "bf7f76ce1be04bf8836ea20517518334": {
      "model_module": "@jupyter-widgets/base",
      "model_module_version": "1.2.0",
      "model_name": "LayoutModel",
      "state": {}
     },
     "bfa03b59dcfd4ecead6988148f342511": {
      "model_module": "@jupyter-widgets/controls",
      "model_module_version": "1.5.0",
      "model_name": "LabelModel",
      "state": {
       "layout": "IPY_MODEL_6dda1410f5734717ae8fdc7c19421a0d",
       "style": "IPY_MODEL_9c08a19e44e84f479849526274ed7108"
      }
     },
     "bfcd34b95a374988bd6fe23001a5b2aa": {
      "model_module": "@jupyter-widgets/controls",
      "model_module_version": "1.5.0",
      "model_name": "DescriptionStyleModel",
      "state": {
       "description_width": ""
      }
     },
     "c01e9f6835e644e68d4f8081e65f0fd1": {
      "model_module": "@jupyter-widgets/base",
      "model_module_version": "1.2.0",
      "model_name": "LayoutModel",
      "state": {
       "grid_area": "widget006"
      }
     },
     "c08f837dd1064b2aa19caf5c4ff535d7": {
      "model_module": "@jupyter-widgets/controls",
      "model_module_version": "1.5.0",
      "model_name": "ButtonStyleModel",
      "state": {}
     },
     "c1042b0af653481db9db76fd3a921bea": {
      "model_module": "@jupyter-widgets/controls",
      "model_module_version": "1.5.0",
      "model_name": "ButtonStyleModel",
      "state": {}
     },
     "c17001b1ed8d4497a8c4655cddf7207d": {
      "model_module": "@jupyter-widgets/controls",
      "model_module_version": "1.5.0",
      "model_name": "ImageModel",
      "state": {
       "height": "150",
       "layout": "IPY_MODEL_5b706f5254d54eecb6fb45a4a91b8ee0",
       "width": "150"
      }
     },
     "c1fac096f7f840cf8cdc5433c737fd5e": {
      "model_module": "@jupyter-widgets/base",
      "model_module_version": "1.2.0",
      "model_name": "LayoutModel",
      "state": {}
     },
     "c38200085c7a450987c915e54bddb433": {
      "model_module": "@jupyter-widgets/base",
      "model_module_version": "1.2.0",
      "model_name": "LayoutModel",
      "state": {}
     },
     "c3a341c6a3614c44a8d160000772c092": {
      "model_module": "@jupyter-widgets/base",
      "model_module_version": "1.2.0",
      "model_name": "LayoutModel",
      "state": {}
     },
     "c3dcf7bbf78f44fe9caaa93cba442fcd": {
      "model_module": "@jupyter-widgets/base",
      "model_module_version": "1.2.0",
      "model_name": "LayoutModel",
      "state": {}
     },
     "c4b3ded3df9e416c90a7c490cff9853c": {
      "model_module": "@jupyter-widgets/base",
      "model_module_version": "1.2.0",
      "model_name": "LayoutModel",
      "state": {}
     },
     "c4c67a6fcdf749c3ba7e53a91c471ba8": {
      "model_module": "@jupyter-widgets/controls",
      "model_module_version": "1.5.0",
      "model_name": "TextModel",
      "state": {
       "description": "文件名",
       "layout": "IPY_MODEL_b6ee1b11a94c469f83a641ad2a075d93",
       "style": "IPY_MODEL_ca179e04634e472a908373534cf75ca1",
       "value": "dataset.zip"
      }
     },
     "c4ec48e50c96468490e51b28b507cbf3": {
      "model_module": "@jupyter-widgets/base",
      "model_module_version": "1.2.0",
      "model_name": "LayoutModel",
      "state": {}
     },
     "c522ac52bf5d4255aec6b09244e83142": {
      "model_module": "@jupyter-widgets/controls",
      "model_module_version": "1.5.0",
      "model_name": "ButtonModel",
      "state": {
       "description": "删除选中图像",
       "layout": "IPY_MODEL_a631aac577ac41bcb201e6c58fc7c577",
       "style": "IPY_MODEL_d8dde2abddd54afea49d65d5d3ed2734"
      }
     },
     "c71d421d28724a82a295c97235d6f68d": {
      "model_module": "@jupyter-widgets/controls",
      "model_module_version": "1.5.0",
      "model_name": "BoxModel",
      "state": {
       "children": [
        "IPY_MODEL_9877980789f9413fad836fc7ce2ea0b0",
        "IPY_MODEL_05bba99863d649cabd6d53e132aeb5bf",
        "IPY_MODEL_b951c2dc8a6d48c7b0b0fb3d8ff13efd"
       ],
       "layout": "IPY_MODEL_b4e340267d424d95bc4657795eb52087"
      }
     },
     "c806c107756747a58c50896ee3e3b67b": {
      "model_module": "@jupyter-widgets/controls",
      "model_module_version": "1.5.0",
      "model_name": "LabelModel",
      "state": {
       "layout": "IPY_MODEL_7df2bd9e5a6d40ef8a9436575344e2f8",
       "style": "IPY_MODEL_fc7517ec4d7f49db98fc2dc473151a5f"
      }
     },
     "c8f74e5eb2114e93b8970b25b30db589": {
      "model_module": "@jupyter-widgets/controls",
      "model_module_version": "1.5.0",
      "model_name": "VBoxModel",
      "state": {
       "children": [
        "IPY_MODEL_1f71bf17381f47c9810ce63842bfaee6",
        "IPY_MODEL_a1066defb5c04571af81aebfb02d12a6"
       ],
       "layout": "IPY_MODEL_8a9a5f89489741b6bc2786aeb9300d85"
      }
     },
     "ca179e04634e472a908373534cf75ca1": {
      "model_module": "@jupyter-widgets/controls",
      "model_module_version": "1.5.0",
      "model_name": "DescriptionStyleModel",
      "state": {
       "description_width": ""
      }
     },
     "ca1a0710b8ce4250beca94d01500600a": {
      "model_module": "@jupyter-widgets/base",
      "model_module_version": "1.2.0",
      "model_name": "LayoutModel",
      "state": {}
     },
     "cc2c01928e0848cc95bb04e2fe21bbad": {
      "model_module": "@jupyter-widgets/base",
      "model_module_version": "1.2.0",
      "model_name": "LayoutModel",
      "state": {}
     },
     "cc7e9bb403384fd69e6a322fa125fc0c": {
      "model_module": "@jupyter-widgets/controls",
      "model_module_version": "1.5.0",
      "model_name": "IntTextModel",
      "state": {
       "description": "训练轮数",
       "layout": "IPY_MODEL_55fc621726a140bb8fd8dc863ce48052",
       "step": 1,
       "style": "IPY_MODEL_10e880c954ce41dcbf814334c562a77a",
       "value": 15
      }
     },
     "ce25879ce154492381444fbe1e003bfd": {
      "model_module": "@jupyter-widgets/controls",
      "model_module_version": "1.5.0",
      "model_name": "ButtonModel",
      "state": {
       "description": "解压",
       "layout": "IPY_MODEL_ffed7294e6754e28839fc44053a0cf4e",
       "style": "IPY_MODEL_8ec65bc116f24fe08fd2caaafcc622e9"
      }
     },
     "d0740c120aa747d685d4e7e8a6700449": {
      "model_module": "@jupyter-widgets/controls",
      "model_module_version": "1.5.0",
      "model_name": "TextModel",
      "state": {
       "description": "链接",
       "layout": "IPY_MODEL_fb957cdc1736426d961a44485ee17b30",
       "style": "IPY_MODEL_9de79f8028194d12972a330f42702d05"
      }
     },
     "d07eea6287d24fadbc84598ce7c71cd3": {
      "model_module": "@jupyter-widgets/controls",
      "model_module_version": "1.5.0",
      "model_name": "FileUploadModel",
      "state": {
       "accept": "image/*",
       "description": "上传待识别图像",
       "description_tooltip": null,
       "layout": "IPY_MODEL_4b964d0728cd4d0ca8f4b639fbfa3fb5",
       "style": "IPY_MODEL_3d56dd2644ea454f84c968d007cd8ecc"
      }
     },
     "d10d3c002fb142fd9f02101569ef60e8": {
      "model_module": "@jupyter-widgets/controls",
      "model_module_version": "1.5.0",
      "model_name": "DescriptionStyleModel",
      "state": {
       "description_width": ""
      }
     },
     "d13850308f404f73a93a4397cd955ba5": {
      "model_module": "@jupyter-widgets/base",
      "model_module_version": "1.2.0",
      "model_name": "LayoutModel",
      "state": {
       "grid_area": "widget030"
      }
     },
     "d22de5c381794f869c30c65c25e6d362": {
      "model_module": "@jupyter-widgets/base",
      "model_module_version": "1.2.0",
      "model_name": "LayoutModel",
      "state": {
       "border": "1px solid black",
       "height": "320px"
      }
     },
     "d2982743ed334cbfae77c4839f9cb891": {
      "model_module": "@jupyter-widgets/controls",
      "model_module_version": "1.5.0",
      "model_name": "DescriptionStyleModel",
      "state": {
       "description_width": ""
      }
     },
     "d2fcfdf223b847a8a62dfb963c00a042": {
      "model_module": "@jupyter-widgets/controls",
      "model_module_version": "1.5.0",
      "model_name": "DescriptionStyleModel",
      "state": {
       "description_width": ""
      }
     },
     "d65a712057b549649a06e823317a5511": {
      "model_module": "@jupyter-widgets/controls",
      "model_module_version": "1.5.0",
      "model_name": "DescriptionStyleModel",
      "state": {
       "description_width": ""
      }
     },
     "d6dfa164a838405ab31e89e87be271a8": {
      "model_module": "@jupyter-widgets/controls",
      "model_module_version": "1.5.0",
      "model_name": "DescriptionStyleModel",
      "state": {
       "description_width": ""
      }
     },
     "d8715c81bb114622806800c126bc27f7": {
      "model_module": "@jupyter-widgets/controls",
      "model_module_version": "1.5.0",
      "model_name": "DescriptionStyleModel",
      "state": {
       "description_width": ""
      }
     },
     "d8dde2abddd54afea49d65d5d3ed2734": {
      "model_module": "@jupyter-widgets/controls",
      "model_module_version": "1.5.0",
      "model_name": "ButtonStyleModel",
      "state": {}
     },
     "d9d2812b6b2042deb44f585bacd975b5": {
      "model_module": "@jupyter-widgets/base",
      "model_module_version": "1.2.0",
      "model_name": "LayoutModel",
      "state": {}
     },
     "da4317fcc6d240f98cde3d8a6d7223d8": {
      "model_module": "@jupyter-widgets/controls",
      "model_module_version": "1.5.0",
      "model_name": "ButtonStyleModel",
      "state": {}
     },
     "da6b3656f98340889b93206f703889f9": {
      "model_module": "@jupyter-widgets/controls",
      "model_module_version": "1.5.0",
      "model_name": "BoxModel",
      "state": {
       "children": [
        "IPY_MODEL_4f794af2c75848759a82e33219964555",
        "IPY_MODEL_ce25879ce154492381444fbe1e003bfd",
        "IPY_MODEL_5f8a4a6b1f8a4ee3b4ed7f57c760b5c8"
       ],
       "layout": "IPY_MODEL_c3dcf7bbf78f44fe9caaa93cba442fcd"
      }
     },
     "db92153cc9c84af9a98a192a436347e8": {
      "model_module": "@jupyter-widgets/controls",
      "model_module_version": "1.5.0",
      "model_name": "CheckboxModel",
      "state": {
       "disabled": false,
       "layout": "IPY_MODEL_fb91eab21b404adab6c9748fc1c5db1a",
       "style": "IPY_MODEL_35e5d272a758405f9a3ee4b4a42115a5",
       "value": false
      }
     },
     "dba9d9632f5b4621aea27e117b834462": {
      "model_module": "@jupyter-widgets/base",
      "model_module_version": "1.2.0",
      "model_name": "LayoutModel",
      "state": {}
     },
     "dc22dad80bc1434eac4435d050a848b3": {
      "model_module": "@jupyter-widgets/controls",
      "model_module_version": "1.5.0",
      "model_name": "ButtonStyleModel",
      "state": {}
     },
     "dc98df362c7141769d1718a3896939c7": {
      "model_module": "@jupyter-widgets/base",
      "model_module_version": "1.2.0",
      "model_name": "LayoutModel",
      "state": {}
     },
     "dd4f079f98c4416f9198a79f50414d55": {
      "model_module": "@jupyter-widgets/controls",
      "model_module_version": "1.5.0",
      "model_name": "CheckboxModel",
      "state": {
       "disabled": true,
       "layout": "IPY_MODEL_4216dcceb928413ca81df744dd37a6b3",
       "style": "IPY_MODEL_51e43372263e498c957fee7a49c6c826",
       "value": false
      }
     },
     "de66ed3f4b814a44ae9311fa77cc2f94": {
      "model_module": "@jupyter-widgets/base",
      "model_module_version": "1.2.0",
      "model_name": "LayoutModel",
      "state": {}
     },
     "dee863d816964a149b89031676365ec5": {
      "model_module": "@jupyter-widgets/base",
      "model_module_version": "1.2.0",
      "model_name": "LayoutModel",
      "state": {}
     },
     "def801f686f149d6b262a7e7067ae998": {
      "model_module": "@jupyter-widgets/controls",
      "model_module_version": "1.5.0",
      "model_name": "CheckboxModel",
      "state": {
       "disabled": false,
       "layout": "IPY_MODEL_5bf1c1da51ce40a6bf3389657105a8a2",
       "style": "IPY_MODEL_bfcd34b95a374988bd6fe23001a5b2aa",
       "value": false
      }
     },
     "e05bb97b241a40c1acd10d6fdc1653c2": {
      "model_module": "@jupyter-widgets/base",
      "model_module_version": "1.2.0",
      "model_name": "LayoutModel",
      "state": {}
     },
     "e1302cd6fff346c78eeec09309191abf": {
      "model_module": "@jupyter-widgets/controls",
      "model_module_version": "1.5.0",
      "model_name": "DescriptionStyleModel",
      "state": {
       "description_width": ""
      }
     },
     "e178cee9cc7b440f8241505cfaf1aa3b": {
      "model_module": "@jupyter-widgets/controls",
      "model_module_version": "1.5.0",
      "model_name": "CheckboxModel",
      "state": {
       "disabled": true,
       "layout": "IPY_MODEL_3b4d14e8c7024319bb9f0692654d0bb0",
       "style": "IPY_MODEL_d2982743ed334cbfae77c4839f9cb891",
       "value": false
      }
     },
     "e1b28067b5da45ee8fde0561af561c66": {
      "model_module": "@jupyter-widgets/controls",
      "model_module_version": "1.5.0",
      "model_name": "ImageModel",
      "state": {
       "height": "150",
       "layout": "IPY_MODEL_67d6298179cc481dade0ec053579dfb4",
       "width": "150"
      }
     },
     "e2478172070946a395b420b8db4e2b3a": {
      "model_module": "@jupyter-widgets/controls",
      "model_module_version": "1.5.0",
      "model_name": "DescriptionStyleModel",
      "state": {
       "description_width": ""
      }
     },
     "e301517b6a2d40b0a0e6e723d104a5aa": {
      "model_module": "@jupyter-widgets/controls",
      "model_module_version": "1.5.0",
      "model_name": "VBoxModel",
      "state": {
       "children": [
        "IPY_MODEL_0a5c32bce3c748068c1d5d8e9d5e8df6",
        "IPY_MODEL_842ef492028f4f3ba2c2718c097335c1"
       ],
       "layout": "IPY_MODEL_f4f81c085d634c718f125b2d74a545c3"
      }
     },
     "e3ca35b8cffb481489f0eff5781aa527": {
      "model_module": "@jupyter-widgets/base",
      "model_module_version": "1.2.0",
      "model_name": "LayoutModel",
      "state": {
       "grid_template_areas": "\"widget001 widget002 widget003\"\n\"widget004 widget005 widget006\"",
       "grid_template_columns": "repeat(3, 1fr)",
       "grid_template_rows": "repeat(2, 1fr)"
      }
     },
     "e5e9b38fd26e43d9ae773d6d8541beec": {
      "model_module": "@jupyter-widgets/base",
      "model_module_version": "1.2.0",
      "model_name": "LayoutModel",
      "state": {}
     },
     "e6004639cc364342943cc3d3896c2f84": {
      "model_module": "@jupyter-widgets/controls",
      "model_module_version": "1.5.0",
      "model_name": "ImageModel",
      "state": {
       "height": "150",
       "layout": "IPY_MODEL_dee863d816964a149b89031676365ec5",
       "width": "150"
      }
     },
     "e73b6647f5c44897a8f3d7488c6d34a4": {
      "model_module": "@jupyter-widgets/base",
      "model_module_version": "1.2.0",
      "model_name": "LayoutModel",
      "state": {}
     },
     "e742c5b4aa3e4440960bdb7b6a91b806": {
      "model_module": "@jupyter-widgets/controls",
      "model_module_version": "1.5.0",
      "model_name": "CheckboxModel",
      "state": {
       "disabled": true,
       "layout": "IPY_MODEL_4a24c797efb545f4a2a46c35a0399abf",
       "style": "IPY_MODEL_46923ca122fd49a3a9b75547548b7cc2",
       "value": false
      }
     },
     "e8309a5519994c9cbb862c16fba2ad2f": {
      "model_module": "@jupyter-widgets/controls",
      "model_module_version": "1.5.0",
      "model_name": "LabelModel",
      "state": {
       "layout": "IPY_MODEL_5c386797e2004c85b4491f5ca33dc922",
       "style": "IPY_MODEL_8e257f74cc5f44e8a0889f686345a3ff",
       "value": "10477378514_9ffbcec4cf_m.jpg"
      }
     },
     "ec5ddf308f4a43009051ebb074d73e05": {
      "model_module": "@jupyter-widgets/base",
      "model_module_version": "1.2.0",
      "model_name": "LayoutModel",
      "state": {}
     },
     "ece7c82974d147d08719a3da5d271a94": {
      "model_module": "@jupyter-widgets/base",
      "model_module_version": "1.2.0",
      "model_name": "LayoutModel",
      "state": {}
     },
     "f00ad333d855479c8e39985944d07413": {
      "model_module": "@jupyter-widgets/base",
      "model_module_version": "1.2.0",
      "model_name": "LayoutModel",
      "state": {}
     },
     "f34f26bc847847759604d0dc501db474": {
      "model_module": "@jupyter-widgets/base",
      "model_module_version": "1.2.0",
      "model_name": "LayoutModel",
      "state": {}
     },
     "f4f81c085d634c718f125b2d74a545c3": {
      "model_module": "@jupyter-widgets/base",
      "model_module_version": "1.2.0",
      "model_name": "LayoutModel",
      "state": {}
     },
     "f6883ed1e6e54b89861f404bc23d96dd": {
      "model_module": "@jupyter-widgets/base",
      "model_module_version": "1.2.0",
      "model_name": "LayoutModel",
      "state": {}
     },
     "f80d09481f5b47eeab4c43571125ff35": {
      "model_module": "@jupyter-widgets/base",
      "model_module_version": "1.2.0",
      "model_name": "LayoutModel",
      "state": {}
     },
     "f869cef93e404081a00a19586557f64b": {
      "model_module": "@jupyter-widgets/controls",
      "model_module_version": "1.5.0",
      "model_name": "DescriptionStyleModel",
      "state": {
       "description_width": ""
      }
     },
     "f907630a93934bab8a4447c43ee24e45": {
      "model_module": "@jupyter-widgets/controls",
      "model_module_version": "1.5.0",
      "model_name": "ComboboxModel",
      "state": {
       "description": "数据集名称:",
       "ensure_option": false,
       "layout": "IPY_MODEL_074edab9162048d786e3fa1559f89301",
       "options": [
        "phone",
        "dataset",
        "dataset1"
       ],
       "placeholder": "选择一个已有数据集或输入新数据集名称",
       "style": "IPY_MODEL_2d4655f809584e5d9d1a03ae21927956"
      }
     },
     "fa127a3c8a6340f2a1848ec917a27fd1": {
      "buffers": [
       {
        "data": "/9j/4AAQSkZJRgABAQAAAQABAAD/2wBDAAMCAgMCAgMDAwMEAwMEBQgFBQQEBQoHBwYIDAoMDAsKCwsNDhIQDQ4RDgsLEBYQERMUFRUVDA8XGBYUGBIUFRT/2wBDAQMEBAUEBQkFBQkUDQsNFBQUFBQUFBQUFBQUFBQUFBQUFBQUFBQUFBQUFBQUFBQUFBQUFBQUFBQUFBQUFBQUFBT/wAARCADwALQDAREAAhEBAxEB/8QAHQAAAgMBAQEBAQAAAAAAAAAABQYDBAcIAQIACf/EAD8QAAEDAwMCBAQEBAUDAwUAAAECAwQABREGEiExQQcTIlEUMmFxQoGRoQgVI7EWM1Ji0cHw8SRDcgkXc4Lh/8QAGwEAAgMBAQEAAAAAAAAAAAAAAwUCBAYBAAf/xAA1EQABBAEDAwMBBwQCAwEBAAABAAIDEQQSITEFE0EiUWFxFCMygaHR8EKRscEG4TNi8XI0/9oADAMBAAIRAxEAPwDjK1utKVtUNpSOuKxYVIFNLbqEsK2ndlPFQfsrAOyCz4fxK0nHbGagx6GRZVBdvKVfLRtQ5UKpeqihCCD0xQ7NrijtM4sOuMk4B5Ga5IdIsKYdSLyJRdYWjOdw6UuMhDgpF+yFx3enGAKZNeFy0ftQRIQUEArxwK8H26l4m1YdtpQnPcn2o2qlGkLk2tTM5Km0ZBwTgd6qyGyoFHoJ+HV1KD1INVjupsNJutMxqU60MjKcBQoTiWtKsgozLszDyFK4OMGljss2vEpQk2BDktxaUAc+1O8ecvYLQyArzNnLLbnHHXmrDxqFrvHCpz2EhtI45B6Ulk2K8UGlRktsglPeoRutyjVIU7EbcKikDFM2O4XiEIm2H1pWhOBmmjHboZBVdNtW0vpxnFWSfShG15JYKcihEqI3UCGhjkHP0o4cQFPhfSgGlkpOKWxHwvVujNtdK9oPOa7M1EaUbEdBwOwqiDRRgLQ6cgNZUCMA4orXWovCGvJcdbJSM4omqzQQSl551UWeAoY5xzRHjUxQ5CPx1FYz7Uoe1Su1WWwpqWpOcAnIFWmklq4D4R20NlOFZ5B4NdJI4RmhMPxPm4RtTuNSdMQ3dTpTx7eh8JKj8p7nrVMTg8roAQu7LCpgS0fSkYJHc1cAttobuVYsshcaajKvmoE34CpNNcrQYs0OISVHjGPvWUe7S4oiCy5PkvPbRzv61oMR1sG6ipZUxSm07l4BGSBV1si6EOV/XA70pkOpxXlXusE+QPTjjOK5FYcvEWl5hrYvaRgmmzfCgEQdjpW0RwcVdY5ScEImxkiQ2kdM1bDtkEjelXXbN6lrKcgdBQ7XtIVJdvwojFH1BcoJaNxLjgHXJ6VUY0g2vI5a38EUeQWFy901W9RdScjPtVB4CsNNqtdoRSxkfKT0oH4Ta64bKFqICxlPTHP3rrXWg6fZJ2p0gS0kfMBg/emUXqbRQyi1oBdaQfcUqkaQ5DA8K/OiKy26Bz0NFiFghT8r6jyFR8jsf2rxFojTSNW/cr1nkq/YUtncRspalLc7j8O2GkcOHoR2FBxmOc6yvF1bBV46XCQpQyD3p+wgClJSrd2XBk+/FU8nZhUXbFaBaYpfY45xgisLJJTt1NCtRMqjAqA4zg09wn7UvE7Jdl3FRbBKuAMU7a0EKBciFlf80I3f6sVWdHpsqYN7pgvUJCoZcTxtHShMIJ3U7SZJbSgg5Gc0xa66Q7Ujai6hWOgGKlq3oKV2ENeStUxO9JGOatNdsh+d1ZiKLjqhtyPtXNZCmN1A5DWtxRDRIJ9q6JSFCvdZsIas5AzVkKCOWhJUoBQxjk1x76UU52wJb5PG4VQLt6RmL27ndFWB0BBrpbaIeEGSFPHAJxjqKqVpKrEk8IXfLQXGisA5xk0zxpBwohp5UmleUBtX4DXsltOtTAtNy4PnRlcDKTkVSY4tciaQUIRCDklY4wDkiiyOoWuUjCUiPF3H5cc0uLTI7ZcIpDmYi5sjc5wV/LVt7e0yguNG6PNQC0yEe6cD71RM+9qxW1IK4vZMa3cqzzRJTrYUB2xWi6cmAMBIVyKyU8QLtwiKtqB0PsvpCeQd3FXsf7stXVntyX5oCRxmtPG5V3myiGn5QQ8GlZ7EGgT2AXBSY6tloLANwiKb7KTxSgPOpFpJl3s70NzzOVJBxTuLcWoub5C8gxlLBAGB2qw4bWV1oKZ2dLqcj7kpyvHGRRI5WgIi+Uaf/oLUQELTwTjGanNuLC8gY2tEpUtKSD0JpdqXrpJr1hBSlSU5J4wBTES+Cg6VZgWVaMlQ7YqrNLp3XNKLQmMlLW3npXGOLjaIArlxs6xDcUM4285pgGULUiNkvWtGFFKh16UsyDpKA3lX7hHSWDgbvSRx9qFDL6tkQ7BJtt3xbmUdEE05yPVHaDafWH8NgZ6jFKDdqwCqhjlMhWO/JqUjrUDzSlcaU8lpr8JOTR8cANLgpVaurh+U22sD1JUAK5IbBCkQijyEjaAc4ANITYNFSCTdQgx7s0pPyk5xTKOjEbVaTZybNNz+AMHKvak00V7ogNhWJMhTjigRnkg0VsewCkgMm17nXBtO8cpP0p3CLbaHVlfTUBcE7ynkc5Iq329TDa6G0tB0wpEmDlZCVAjHHakE4bGd0QELzUsdkRXRwSeB96tYsg2CkUrxSmJIaPG38VM5f/GVBafZ3Y6mGyofMnr7VnGTuuipA2l65r2y5DCc7OSn61o2ODmAFRNpFl29apCyO554oJiF7KNqOyQviZG5fKAAPzosLNZXiSEXv1sTAZbDY9SjUMpm2y80lCrepInt7k49Wc1XhIHKkE2XFlCrW6QkE7DV/wC0gbKfhZxb2T5ik4zzVDJGrdVgN90yQ7Wp6MDtySM80GIBptGASZqm0/y2Wh1tO0Ebse1PA4PGlBeKK/QZxfKRmlbxpKiHbJngRw7hau6c0tkeboIjVM1EJkpIGRnpV+FxDUdFZ8ANsqODxg0fUCu0oIifM3JV1SB+lKZ20+wvJe1HD3rQ4Bktq/aiMOlqDJvuiNiQAylQ4waASeV1nCOR0omtuhQwrPBoEkhjoqRCLs6dcRH+IcYVuxj8qd4Z1Cygg+UJvrKWkhWBsOP19qZSHtsJU72Umnw642raClIVgAVjs6RzlC186kkqS0tJPfFcwXGwSiglUrTAEx9lK8lRINadsg07qVLS24QiR0t4zjBFZ2SVjHkFSSxf1BiT5yThROMfSmsE4cNlE7oE8gPOqWlQwfrTNrxSrE1svjTMchkq2jIOQKt48ZYLKk42pZz4ly8qVwnAxSzLlaH0it2CGiKFOZA53Z/KlxshS5TaxAckMJSSdqkUmdMWOoleQJjSixKPo25JJIpqcgPZS5SNR2F29lLJAPfpmgtlLeF0JD11BccWeOOozTbGlLihyDZKkGKpl9AVkfSiTlVjynOMFCMlI9uftScMt9lGbujVobBd54GOtEdJpaQjgplnR0PRRjlRTVNuSTspoGu2PMyGXAg7VJ2qq+GukbdLhQ9UD4qQEkcEkKqboyQFw7heJiuWdSzgYSOQehFTe0FqhwiGg2hdJqVr4QVbtvsapGEl9uXfxLT5cVcGGouKBRjJVnoKbQO0FdIpZmG1XiWkKSNiFEoT+dGyH6mKDRaa4FvTHYThOAeg96zOQNZUy1ANQWVyalwJ+ZJBqzHAWkOChwo9ONobmkucLbABxR5pxHHSlqATy/PDzRXgBKRgViZp3ulql4uSJfHS6vcO5NaTDcaoqIQNCVNjaPf3pwJKFWoloV6zyfhYR3AEY6/lWgEls2UtKWZsqQ7qO226G4y09Pc8tK317UD3Uo9gKGcSCaIyOO4VuKIP2CL6gucXQ2r3bBdJcaRIbSk/ERV7mzkZ/WgMwyY9cYsLssDozS0PS8uJckJ8hxDreMgg5rDdUacd9kKtwaV6YyzFeUo4HtVXGl1gLqGttqlpURyvOAKYSO0NC4gOoLH57Sg519qPhz0atRrwUtJ0nleFJUechSRnFPNQcN0FzQNl7Gt7jMhTLgKSDj8qpytDTypDhFEMqjYc6cYP1pZI48KaNWKaiQ60HSOpSMmo48fqsqYKJyLe408zjOdx4P2rVYwC6h0Fhlbbz20JwVflzXZ2hgNLloXcoyro4htsFRByQO/sKUnU86QouNJp0ho+Va2VvvNbEqOcjnb96LOSzkLoNonqCQp6MWioqbBHp96rRSFxROUGYtSWE+eyCClQ3J+/eiTPptryuxTJlSmm22iQVAAAUtZqe8AKLnbJ1a0BIRFXIdaIB5PHIFaF0Lw0GkMDys3ct6YT0l4YypZSkfnWemuR+lAVrzt8NSQeVDApU7HqSyiNQaTbStsgq9YPSm8AAOymN0O+AzyRk1ashdtQCOn4XCfbmtUxtMtSSPE8Mmrvq1+7zJciW5gpajKVhtrjAwKqu6g5rBDG0D5XDI4GghGprDY5UK22OwWu7ytbsPu/zBZSXEutAFWQOvAwcjjAOa0OK+V51OrT4TLUwsBB9SO6O0jqy36LGr9PvsyYTKyJEMSAHWkg9VA8c88DkfWluazCynnGnbR90U45ezWEzWnxUiajcUxNzDnNkJUhfpyfzrIz/wDH34h1wm2pa+It3C0DTiA81vbWSnOcDmkuRZ29kMK1qKK2lsO4AUPmBHWhwRkOXjXKrW+EFvtq58oc/StXG4tbRUKs2p7xpptUgSEpwso3Ef6qrZBDtxyuFtJF1vdY+nYCFrJC3fS2kDJJ9h9aDjYxyn/ARYYzK6go4EDw7V4Z3OVqS6X+Hr5aCmLalsLaShZ5QoHGCgjru5xnHatI2MseGNaNPutPHjRNb4SdprU17sSo6VyH5kNzATHfXuCuowhXY9h2zgHHUGkhDfU3ZBkxI5fw7FP0G4olEmMvdGeG9KsYyPt2PUEdiCKpZBJas/I0xuLXDdMGiYqZl2cSvHmFBLafc+36VSgDWm1WO7lqcVoQ4Ra5249e7ufpUpBq2Rgl27MMsPOAtb2ivB9xS5xETqCKDSGuNIcUlLKvnPJNUDlCS2FDdfhaB4bWNhu4R3nin0K5Cv2q5hTRNkGo0pBtBaxeYceDb3X8pDPlLBz3JGABWsMrBGSvUuU9QwVou/lo4aRk5Pcms01g3cqzhRtUreCt5tHJAzS7JpotTHCMfBMraWpRAUFZNexXAqTR5QMwPMUpQyASaYubvupUqdrtiH0FHYjIP3rTsf8AdWht5VWFCRHmepWzCind2zSE6XSbrrhZtZbq/XV38IfFC63eOwxIbvET4ZKpAUUqSUhO0kEdwDt74Fa2CFuTjtbqrSrsMvaN0kefFummLw1DvjrtvLnlvrQwvd6Tg7iMkEjuDzxzTH7uVhfGAUcPc00TSeL/AOKkTQGuWtRaWuUDXBVDDCRdbcEGIcdgMAkdj1H0pfFjvmj7b7Zv78qxI9jXB34kD0D/ABETLHdnDc20uRZDpUptsbQ3k5O36ZPSqud0SOdts2cEveA8kjZdEQ9VW/V9q+JgSUPtrRykEbgfqKwkkD8OTtyClVeDwVf0+xIYR5ayS3jOD2NOInWzdeApELpdAmOlKlZWrKQMc1Rm9O4Q3nZZHbNMan8VvGiNp+zKZalW1ImtqmHDSQn1Aq4ORx7d60WK2OHGDnf1J5gsGm/KZtZeJcrXfiXa7t4h2ePItNu2Rp0K0keqO2TuIGc9eeuMew5ogaY2ERndOiBxwid/8O9Bav1mW9B6xt1t0pPiG4KVdJC0ptZDgSWSVepZ5QU5BUMkEkJ3UJs7mjS8Lun+ocpF0o9H/wAYXy1RZiJ8dp9bjMppO1DvqKVLA6+ogK56A0CXaMWkvUoxqEjfK0SPAcYUopyHVevjqn7Ug170EkARxOq5bEJbLiyspxtWrkge1XWSOA9S6bUUK9LuLK2tgCs8qNJZ3PLqaptNr7hOiPPaUrBAOMfQ1RdGW+pSTyif5MdpTZ2rCweO4xUACVIkUjS7o7OglClqKD2J6VAzyx7E7KCzLV7XqGPmzjPvTiOa2g2hP52UFhgJWlDo5USQfvVHLn1GlNvCl1GhMCCpawEk+w71fw5GmrXDQSrDv7TbASrkgnNXZH+rhRsrxuQqEwkpGccE/amWLk6o9KGDRXloU1KKkuc7jnkdKpyP0u3VkbpD8btJPX7THkRlLEmI957YQBlZAIx+hNPOl5TWSaXcFcvSaWJ3ZzUniLpt+8S5wnMWBtMQtKbCXEJ6kkAc8jkn2rUM7OM/tt5durZLpW37Ix4U6ythsNw0nP0a1qybOUpcNbCgh5C9vJ3dcACq2XDIHiZsmkDm0eB7A0sLbWV3W3TYV3XCehOxnA5tLDwwtGTgDnrTZrmuZqBtVHAh1EJpg6oc0LqFZ03PeejMKCFpkDaVqHzce2c4qhLjMy46mbupOAugup/CfxdtPiCx5C1iHdEgbmHDjcf9tYLqOJN071jdqA5tI04ku3tYfdCG0lXqUeEgd6RxTGc/VVKJckO1Whn/AAnrvWbmp/5ffoU9Nvt8aHKAW82Sd3TkpI5BH51t2gN0QEWKta/FYY47CIeE2nvEWw6L1R4o6T/l0yLa0OW+WJ4S455biUlxSUq4VgY4PPJ60SQwvcInGij6iN6tYhZLPcL629Jtrbuxr1POgbUMbiQCo9BnHGeuKuSaG7PVdhLr0or4Z342XxHtrcghKi+qM+oKyCFcAj7nGKoZseqFxH1QMgh0Rb5C66VE8pBWkAkDBPvWSx27gpDyli5QZLjoO3jOdqadSxjSolXYVsXFb9HJVyaz8rDqUgKVKaHWJyAg7zwSB2rzmF8ZC47hONok/FJaS5+FOcH3qjjNd3NJXgLTha46FMujPCWyr86Lm433bneymlW9WkylhSvlzg56UkwnOe4MKGRabrDbItut7SWmmVNJHJKQSTWxfABHsApjYUs18Ughq4OoT8gTnb7d6Qwt0TENQjuVmjLKFBRDnBUTTiy7dTARW5FQaWCQkBRoEL+0dNoDgQq+nnkqmqbUrAUeM1ae5pdZKKw2ma+Q2pcRtQxvQeSPapsmEbhak4AhcuzNHy7L4oydKov0y12q/rw/JaG9K0rJOwjuc8V9AZMySBs7m2Wo8RPAPKRx/MvCnXxUw4RcbRLISFIyFFJ79eo7Vde1mZDTuCpgmF9jwtO8Z7X4g+KNotWs5dgtyrWI/mpcsTYK0A4J838RIwB3x+dKsCXGx3uga86vn/SvTtkkaJNO3wsLMjzWcnaVJ+VQyM//ANrQVul9ghTQLy7CltSI7qostshSH0HBB+tDkjbI0teLBXLtbhpzxid1Hpa8xbnK+CvbMNSmnwgqD56BOB3PvWPf0VuNkNki/B7ey9FFqlCOeJDWhINm0XH0nNTLlrtSXbu8rc2kSlH5Tu6FOVA9uBViJ0h1GRvHC04GkBGf4g9DaY8NNNabg6X8QEagmzYyV3q1wpXnMsv7UkLCkekZzjaTkY9jwHFeZnFzm17Gv3XpdTW0sutGoXGtOmE258HGWtDr/l5UZKk+lO7nGEbiQO24nvVogl9u3/0gig2ghcl8NayssloJyt5talA90nPP6VNwuB4PgFAkHj3Xcdvnpkwm1KTnOMn8qxOKNJorPjhXotsy5lxI3EbgT7VdlyA0Va7Shkwx8S2nASjPJpQZQ47riguGmG4KUyW0gqB3KIPUVdjezTS44bKmxNVDeB/Coe3SqDqZJYQwSEZtl4UsKwrclWE8VZk9bCCiA2jU6XHMQpykEgbgT3pBHEGPoKaU4+sp1sS7FQWygqyjencR9eabz5kkcXopDJoJc1A8/cUqkLBdcOSs0pwpbeS87qA33S4zbEOI3Ng7T+1aFrrCnqTVKs7L7bygMFXvWadlB1FRcLS1G07LlT1NxmFO7TuG3rmnkDHZEdBCFhGkCXF3NS2HWynr5iTxVd8MkRp4UtSx7x2tdxXZX7hEdSYsZJcdaUkZ45BB6gitt0V7HHQ7lFad1jWstI2iDobTmpbfMdlO3HemWh9SQpDw5O0A5I56mtRBO98ronNqv8K65jQwPBTD4P3XVHiDEf8AD9jWU2x2cRHHGYrSRh5RUNyCQQrbgnjOOOnJqlmsx8VwyjFqdf8AZWsd0kw7LXUFmuvNKSPD/UUizTFMyX20gh5kqAxk4/tTfHmbkxiRqpyxmFxaUBbfTIWEvfN0Do7fcf8AWjkaRshg3ytx/h6lW3S1+s19uunZV6g2aeZ81UYhSXI5SlKEqBBSEhwAgnruIP0R55c8aGGiU2xGVuVoehdU6a1F42SdUaqsr0jTSZL9zkWm3RfOSASVJbKAANuSAc4H5Unn1tiDGcpq3d1+FnHivfdM6p1pd7jpPTrlgsDzhUxblOblNccnuBzyACccDNWodbQBIbKrylpO3CWLbGedsyfLCHEuI83duA2hJIJx78H8ue9FeQHm0IAluyopktnUlrQpQWEujgZHJxjr96MWnsvNeEJzgOfld3aXhu/DIaIwMJPP2r5q6btglZ9qfrNEKsqUnG1OBuFUw8vdupoTqm8Rrar4iW4220lJ4AOVH2AHJP0FMI2GQVW66Ut6JudzlaQ23hS3ZSn3SkyEpQ6lgrPlJWEgDcE4zgffmp5AjDz2eP8AfmlG74UZhuoSQ5lRHf2FIPU5+oodUr1kWG0EbuU9qbPlDWUFPwql2U60pxpStxXk570hc4sdaHqINIP8OUFpzbk9Ce9DkmDmkWuuOyJqQhSUnGUnrSmN7g61AFfmLO0tsFJCQfanrMlwFLqK6rsjthZ904Kc/wBqqxQiVgcxWJozEaKD6MWia8UEhLgV6hvCT9+a23StOjTe4VNp9S1N+2ofDRI80KO0pcGU7cc57VopIwW77o5Frnz+JK5WDRmmn0SkFTtw3MR4THK3l47D2Bxk0DBie+ao9gOT8KYHsuUfD/RMXUd8k2u/lcN5cRb0YLXs2LHJGMc8DoK2Uk4a0PjojyrDGajRSEzdZFkuSn4T7sCW0pSAtpRStI5BwftVxzBK2nCwohxY62mlp3iJ4SxmdHRdX2e/C6sPMockIkvbnU5HPXk4PGKTYmdqlOO9mkhMp8T7sTtdYWOoK3DsST6iMfU0+NJTyuqLJ4iXbww8B7tYI+ml29OswgG7uA4fhxwEONtj/wDIcqP+76isvJH3p9ZdsFo4qijsqXwr/iQuX8Ptm1PbIdhiTL9f2EBM91zd8KztI27AOSSQcdOKqS4jcxwla/0t2UxliMFpbv4WO6ji3eytQ5ct5oLnZdSkEbge4Ke3WrsD4Z9QZ4VOR72fi8oTb7kEtS4bxDKgrzWjnj2Kftgg/lVuSMEB43XmSarbwvNOrNw1za20ZcSZbDY+vrTnj9alMAzGcT7H/CqyO/FXC/o8ZEW1PDerbuAQhtAypah2SB1r4892s0PCWihwrUy9TW4w2FFvaV0KsLdP5dB+9WI2sBDrsrthJ819lUl1ba1OOpBy+6dy/wAj2/LFemmc70DZQJtfNpmgObcA5HOTXDJbPlcFBN8COi5Jb2J5/F9qrxsL3G1PlV5yEQXFhDaUcgjHtXnURuF7YIOhQm3JSnFbkZBA7UslaXGygE+q1Zn29TbB2YBByMVUkDV1wNWEtykyGlEtk7Rz+VXMeON1WoAHwvlqe6E4SogDjFMDjscbUSSCto1dHjXuI4hSC2TyFJOUn34p1BgRtjDmik0nl7ixy+aWchrK0E+jI3J7jtXWQ6X7pYRSsWDVM6A0qMl4qQfwrJIz9q5LlPh2BRmHwkL+Ia5ackaNlI1NcI8S4raK4KFDDvmDlJQkerGQOelW+lvy5slr4ASPPtSKNja5Y1X4kx3I1oetDixeGWwH5Km8bTgAhJPXP2reYuC9j3938J4CvSTAtaG8rOnXFPuqccWpTiyVKUrkkmngoDZUtytij6WtV60Tb4MjVTttdabBVGmJ8tsL6kcgZGT71nPtBZO57Y7+RuU4EBdEGufX1QDw68ONRXDxFs0aywY16dROHkOEeZEfW2PMUhSj6ThI3KBPCeaZzZcUcBlfsFTjx3uk0tFrRvFXxj1Je5Vi03fIlvYt+mmE2yLChkkLbb2ZJUeSFrbStRGNxT7CkUELJGGSNxOoc+1/7/wmE8j2kNcKrwk6O2q0RZOsLq2JJfkluKw4QjzF4Pqzg+lPTHvn2rjqmrAgNUNyN6Ht9Sjx6oR9skF3x+6TblfJd8uK5cx5Jd/CE8pQnslI9qbxQMgjEcY2S173yOLnndRSbg0ISEuevKhhSRjtgnP5f3qbIna7CgXhotXfDO8JtGtbXcnG47pjvmQG5L6WG1EA4BWogJ5NTzIDkQuhBqxSqlxIXf8AoG+wdQ2xFybdafklRbffZkokIChwQhxHpKfbHHNfIM/DkxMh2O/x7eQglT3GW69JWkqKkpyE7faqLvu2gHwhncqg9AUH0ZVlLmNxFWogHm17zSNXLTDdpgtSQsFRG4gKzkcc/TrV6aBjG2OSuubQsLzS94dZlhsqIWDwfekc03aPpUWHwieryVhLpSGyn5gOMivF5cN1N48pXgKdUFJQMYyQR1q0IO421X8rWtLeH4vNgRNklxReGRt7Y71exOitfGTJvasVYSfd9Mm1S34xO8Nqxz+IUilxX405YDwotbSU3W9jq0oSnAPtV5su3CiatOd2v8kMIQhfnIPPq6479Kt9OzpXM0yGwF2R1DZLE29+cFZJLmMFPT9qZvlagWShVra3XLOBsKuc0rmb3Ha/Cm00VknidomJoHxWttwQ0mdY9VtrbmfzBKZJbkDJwFrypKSD0zgAH6Vr8PKORhFrTTo6422+gTbGcO5ThsVyffWo/wDiS4otycxBIWGQBwE7jjH0rdwlxjbr5pAkoPOnhfoUORqS+W62NpKH3nUsJ9ONpKsZ/LrXp5GwxukdwAvRMMjwxvJXQWs9MuTI9rt7kF5VvdeAedaIccdVjCUBCecqVjNYTBkawukafV4+PlarKje6mEbI5p/xZg+CusrdC0/pVyGNNxJcZlq9ktOu3F7AdlvtDI9KBsS3n5QkE9RTDLhOfCGPdYJB29vZVIXNxHcbj/KFeE3gTafEeHrPU2pr5Pt8S3PojsuQ2A6/NmLSpam0BRGSDsGB1K88AZqrndTmwpocSBgJIJPgADYf7/srOLgR5jXzyOPP91iGtr9Ovk1MSQ8j4K3gxosdj/JbSk445O4nGSrJz71osLHixwXMHqduSeT/AD28JVmTSTEMc7Zuw9kshRa4Wshs9Qk4JpnV8cpWLHJUT7pdJVklGRwrr9P2zU2ilEklEtN6en6xvrNstrBedeVwlPGEg9T7UDInZixGSQ7BcXa/hnaXtEWU6dZYKVtZfQ4nJDiSQCrPuFEA/cdiK+T5GQMucZF3e35+37LjjqPpGy3yz6GlwLPbbpMYQpuaN7PIVgJVtO4dskdD2pVM+LI70TD6mVfI5FiijCJzNL3DYoFrlgWzVVwTgcOqWAgAfNz0HAHPak2DPeOx4O9KGUO3M4Be6asMrVYua1umNEtkB6a6oIKh6E+lH3UogfbJ5xio5vUXROYCLJIH/a9FEZw43QAJ/n1VK0Q0rkocSM8bVD69qrTz+ndVmts2j3iFZLpaYkFM1gsGSgOIClAq2+5HUfnU4M6KdulpulZnikiA1irSlb1BuUAve3tIHPRVa6NxbANlTHytr01r5m02BKHEpKEDBSrt7/rTrDzw2IByI1yzuXfzftQTFyFJxIVvQemB2ArPTh0sxe7yV4b8qs5p8rVuDqk5/wBJxUfsZduF3SgzM5C2W955OSeelUemx90koRFmkKXIZVcFIwF89R1rQugNKHmkcasxa2uoB2r5GaoOdp2HKIW7Wsv/AIgtHNeIMK16cXcE2y5I8yfHDh/zEpAQeP8A9x+9aHokjsdz53N9Jof7V3Hj7tttcTobVYLvIiyEgux3S2sdRlJx/wBK+lseHtDm+UNzaNFfrpdH5N7Tco6FQnipKkLRlOFjHI9q7IGyNIeNipRkscC07rrHTPiRYfCHVvh1Muk86kmwY0q4zFtYdUl8pCYqQBwOQtWPYpJrDOwzkYzxG3RqI/t5Wq+0dqUB7tVDf6rNtEaTmeL/AI1wItwTOm/zeU5OmCOfNdbaKirBUTxnIGT0B9+Ks5uR9hwHOioEUBfv/N6QsWIZeX97ZHJRD+IfxITZtUq01o1tqw6ftjC4qUW91akuuKUrznQvOFFfCStPVPGcULpGCXxCfKOt53N/p/b2VvqOV2XdrH9LQsDdVsQFSHAjPRCfmrWNFmmhZlxNW/ZU3VZRkgtJUnKO+/nHX9f0qwAqpIPC+HnFzpSlhA3uK4bbTgDPQAVIU0b+FFdF/wAOPh3ruD8bdLJp/wAt8n4d6XPaCvKQraDsayFKWCoHFY3q+bhy1E+S/YA8/mpNbr2C6k0L4bvWXUrcO6XG4LuM0KguXU5C2VucJIb+TaFYygjkZGc4I+WZ/UJIojJEwAM9Wn3A535uvPv8KxiUZhG7h2y3603G53rQrlsvKGW9QWKU1HfS16WXWtqUtvNk9ULSpB90/KrkZOVx+oiHMfk6i6KZponkV/Sflv4fkbhaDLxT2gxo3aQvbh4UvX3XVwnvRm/gW7Z5iVyeGVvKQUpTn3BIP5CgdO6izFxWveNrpVMjBdNkmh4/VMNs8F7vB8C37VAYP+Ib9KYU+jIAS0lxJCVKzhKUhO4n6qHemEbDnTsfELLjTR8Vd/zwgnHdDjOZwfKqeEn8PaGb5KvE2ULhZYagGFJSUpnOp6qR38oHgE/NjPQ1PLiBDg1wIZyRwT7D3+vlBxsSnAuRPUNyslt1FdbzqS2N3TVPmJZtllUfMZjpHyrcSOvPOO/tVrpEcLGvkmj9V+kHj6n6eB5U8sesEmz7LE9a+G2rf5w5cZaG5kqSvzpCGihsRiTwF9Ep4B4HAxg4PFaZufjH7kmiP5sqUuLM5uuuUpXO7FENbfCVLSD9KtPjLWamJTq0mkp2a5vuXJ0LUr09EjocUimnkio+F0OWo27UbLcRtL0UOLAxvz1FNYupBrACFaB2WK6kuUqwKSyo+oDCsjvmvdJaWvcED8J3UOl5xlXyKVulKVrAVz9adzyBvJRBRW4azv8AZNH6TaulykNx4sb+o88eiU49u5JwABySQBkml7Q3KlbFFu5GNUuJNZat1144+JTusNIWGY3AhsGDBLmwJS2N2SpSiElZKiSBnHpHOM19CihxsPHGPkOFnc/VWIg+9UY4WEy0SbdeJCLk04me28oPIkAhYczzu+ua0LNOkaOEB12dXKe9IaYY1mybvfHEwbJGlxbWwrelpLkp9RPqUro2hpp1xaucbW0nHmAitkyujjdo/FRI/L/shWMeMPeNXCdfH686Pv8A4mvP6JgotOiraym320sslK5YRnc+QcKKlkjlfJAGcHgIsGOWOGpzbnGz8fCbZb2F4DNgBSM/wpajjaT1Bqidqq8GDYoUQSpVtASH7iTny2R+JY4PoBxnk4SFGlfX8d0vYbjx24mr8NHk+1n3TLo84a2UyPoDx5P89li/iRriV4k69uN4bgoYfuEg/DwYjfpZRnCG0JA5wMD6mtXh4oxoRGTxyVnsvKM8peEHsmmZ19nsRoLSrlOd2LbS0krbTzyHDjjHH0569qPNkR47C6Q6QP7/AJJeT5K2+zfwwuG2sRp8iMm53FDpQ/tUpqOtOCGwkY6gkg5/CeKx8/8AyJrLlaDpbW3k/KHrBRGz+COmtDy3bDqm2uz7g/IHwV9Q4pMZ5JbSSxtHKHUqC1Ak+tJ4wU4IMjrc+ZitysI0BepuxIHAP091YfG5sTZK2PnwukP4eP4YrDq2TOXJVe2bc62hqG+1MdLBnFXDbigrhSkjKSR1T1rMSdWfKwvc0agQNm8k8C6oXvV7fRGxonS7g1S6Li+Flr8PW4El20xrfKVKatV9VGyUvEqAYkHn5y55OCDyHlE9TXzzIzMmTqLcPIBcGnYbEuB/E3nSbbe97kD2Wrigj7JkBFne/Yjz7rQ0aNTcb25CUHIr78DKJbRGYzrS8JxnIO7z1cHqE85rHYMf3hhbegE1exIdxf8AYfItNZnAMDjyeURdtctdij265+SSy/H8yWlf9NQTgqJ/3KISAORyeasRaGQzNm4A9PkAu5si962H9lVlYXlhj88++yf7lCN7cTFWhxNtDf8AXQ1/7wzjyj9D3APPIPHB1YMssobEC1jW0SOeQNIPudxyLNjikrIa1pLjuT/Ch2onry+lqw6fQm34Th+4bdxa/wBjCPxK93DhKegyrITdme7HiZiwtt9cDev3Pu7i787CrpLyXXQ9/wCf4We3Wx6U8OmHpbEhpiYFETtTXUlZaX+JDWeVvdeEDP261SZqcexiSEu/qeQQGny1t7l30/QbrzYo4PvZR9Pc/J+Fzt4ja3Gu7klu3Jdi2GOlQYaeOXXz3cdIPKjgcchIAAzyTpMfprcZmpvPueUjys12QdI/Cs4kMvPOFsnKAMZPamkcxIpyUOYSdkMQpES4hvgqGM9jVibCbNHvwoAEbUj8VQkR0LDwHGOVYrKzQyRPLGo4JrYpe1ZBcuk1Tvkny3APUR0Favpsb3AyOFbojnWaSVqOSjRMZieGHJaysIaisDLjy+wSP+vampw3ZjnBpoDkngLunyheovDDVni78DO1ld02u1IcT8NYbad/lAg5UtZ4K/8Adg9wMCq8HVMDo2pmFHrf5cdr+B8fH+UQHbZB9e+Ct88LP5JcNA3W7vIXIS07bnZGWwCPmUOBtJ68d6ZdN/5FjdTEjcxgYQLB/nlFbKY9wVm2ufB/VF71WZsxyHIu12e3i228qW7jp6RjoMYyTWnw+pY74gIroeSKRGXkuJCdrjD8OYv8KPnhy4TvEOPdDERb3CUNWhsOoLz5bT6f6qA02p1eVKWpCEgBrjjZMh+Xpdsyv7+36/zdNjHG2Akc/wAv+fRYOzcUtKbKVAr7KX0B+n0pp2yUqLvZbFo7XSNEeC+tX5FnC7jOUbWq6hOfjPOSSlG88hCEpJKU4BO3PWs1l4003WIWiX0AatPtW118nyU+xs7Di6fJGW/enz7/APxJfhf4R3bW625BYNmtShl2e6MuOEHP9HIBT1xwccYJq31XrePgAxtOt/sPH/6WYLw1dt+Hng5p93SaLVpKM3AvzCAVQ1Eb7iB+NK+CXB/p6e2OlfJ8rquVPkasrcHg+B8UrTYGZEWqI+scj3+QhEvQeqLs+9a7ZaZki8xFCW1FSyouNuNnHIxkBQJQT7LNWY8iJrtD+HbH6f8AXP5Kg1j7IpNOndJf41tN+g3tiVb7TOt6jKcfbKDHW2chXPRbbrf3SpP0rPS5E3T54+1u4OqvB9x8gg/2Wx6ewT4bseTYg/of+1034Q6Fc014TWGDKt0i1zHITKp7GfUpxRCvMUQfSrIB5JwRx7Vj+py5LcyXIiJA8OFm2k7ccD6/UJtiRQsjEYH9/f8A2mvV7NwumndRrUwl+ebe4+lbaMea+2graKk8DduSk9DkgYNBZkSZWa6aU0TRc7jfyTVAbWSaPF8Eq2ImRsa1vHAHOxRFu8W+63qBOYfAddBkeYyctqStCtoxngDek47ECqb8xjcsl1B7/wARH4QSSRQ8VsK4AFIpxn9njYe/Pzf133RhM9Lcd0rQNj6sZcxt3bgR+Q6mijI7cb3EbPPmquwRXwDz4QTFqeAOW+y+bjri0toiRP5ihhtvbvkqBwSfwto7qJwMn8qYnqOPl9rCxnkEAW4A7e4Y3yTxqJsf0hUvssseqZ7eeB+59v4Vn+t/EnVclhMPRWmZSmZKilyaVJelLwOPQDhAPYqO36VpYIseNnOkO5o6pCPGqtmj/wBRsEtkc4uN71+Q/L3XP+ovCfxCuk43HV8iLb3APSq7XJpvykH8IBICU+wAA+lWo3iEjRGQPFitvHNJDLBNK4ue79ULiQ7Nph1sy538+AUorZtmW2uhwPPWnB5x8iVDGec0/MuRMymMoe5P+B/AqYihi3kdfwP3Tlo3TlovlpkOFlOdxUltRyUd8Z4zxRumMjnuN59QXAARYWO6+0qi26lfXFcJWpWQ2Og+lOpw3FaQ0rlAqtFYlsMgFpRz6ulZZ88crtRNKq5pvZaHq9Vqt9rfUFtrWhAwgc84HFbvEEboLaUZ1BZI7Djai2vpQn4ltOxC+4TnOP1pDNJK13b1en2UAdQpH5rqIllYSVeWtK0pJHVJ5GaRiEGVxIv4UiaV+DpQ3KK2p26zpPOQHXBg/oKrwztL3BsTW/S/3VhjO4VmfjS7bPC7Tr8iFbHn7pctzKNiVOLcVjhSlc42kggfpWl6YzJzsgNdJTGbnxQ+ilJGWEG0k6QsEm+2nX/hzpy3SokbVEPT7tzuc87kw3WkJlSUqV1US8rCUj6E9M1qsvqMOJ2st79VaqA5PgflzZV05EfacwcuA/cqJ7wEnxJ0TSb9tis6cYYDku6pIL8p8qPOeowCAEjgYJ5JpbN1VvbOdG4l/geAEb7fFHjGAMBsc+b/AGW6q0raLVoaJaUWyMu3REjymHWg4AQPmOQcq6818qf1DKnzXTOkIc7kg1+X0WfLiGpZg3Jp51DewBAGzA4CR2AH5U9ix73J3QhwiF1myorUd+EpQdaIKVIO1Q+xFWxj9y2lGYXNILeV1t4SeOUnVdvgPjTs1cllpLDs9TDinFpA5xISnPJHQ5FYbMGfjuDNIkDTsQSHAe2obj9VsMefHmHqtrq9rTbrmxWzUem5VhjOqQvVF8YdYhPKVuYUtIVMx2SFNsyHD0ypau5rsebHmtfodT2VQcdw7dvPHJFnk+lMmNdA4OI2rkeybyqSbI4LhHeZ3rDbyt4G1QOMj9aylTY2K4SMcG3R39vjlMBokkGgi/C+5T5TavLaUJWQVMvvJ8orPGEkfiGCevevTyMbj9objctcdrO23/tQvnzwpxNJl1ONHyBv+fws403aBY5SfOU7Dt3mec4+6RtjrPzNfZSskHp6sdhSZrRkuMj9tHNcmuDXv4TiWYtbpG5PCZ9R6ita4DCFTHHElwRmWWVJ8wJzlSinqo00jjgzou5I8hjKaNt65J+TaVtMkMmzRqO5/nhYlq6+SdKymblItj84BXmMOOpw0kA+xBGeKb9O6Ic3HMuPKAPatzX6H9QqHU+qfZTocwk/oh9w/iL15c4QttsmN2WOT63Io3urH/zV8o+gArXNLun4vbLyb/lewH0pYafPdM+w0BZtcozztwMyY+5KlvKy488orWr7k80rikBGkCglsjnPNuNoxHdZFuWlTYyAFBXvWkwswt9L+EQUW7qTT2oja4zzbKik43JwfyIqlM9+PkdyMqUbwNkm2eeblql74pxSiVkJUr37VfycqV8Nk2vB1mlp8W2RlsJKeRWIfkPDiprFp93VOlSN6vQtRTgGvunSmD7O0XwqRJJtKke4u2C8eWlW5tSgRk0bLxgfUAug0nPUKg7a23B1WpKuOxzWSiA7rgVI77pitd3dh29jy87xwMUkx3t77mOVqJ5ZuFBqBp68Wl198Ba8ZSnqQabFmh+lo5XJpC8WUB0dKkW6d5TjKmfNSFFRTjcRj9eP7VWy8ZzGh5VVjqOyOaibelTYy85aJBWPeqsE57bmOKk+7BRme2hy1pbxxtxis1B//SpjhZezaHUX1aGyfKWTjHvit1F6iFDTvSf9JaKu13lbIUF6cy0ULeLSQA0cjqtRCEn23EVHqWXDhx+pwFjzsr+PC97wGC106jxn8QY6Yjdu0tNhwGvSf/SlaHEgYwVIQB9eDWEHVcmKO45rA+n7BbH7LDdEIVrzxUTctQaFk3SEuHcH7oGJK2EqaU4wliT6Nx6Y8xfTnKyewpZJnSdUbM6aNru22zRq/Wyh8ebPnzwEwigEAppq+PP5pzjeI02DGES2rTeYSCVtsyQXXEoH/trIGceyz+fvVcdTldEI3UBzRGoUPB2B+m679mZq1cH3G35hXDquddrUvzn7dbEIG5wy3kbGM4GTvIIAJxu+/saTt+15hEFtLLNXQH1GqztexAJ8jgq3ePD6qJd8X/pCBqTTmptM3+ZY7o7qKfamiy9IksFcJohHrQgnAUApW0KxySMZ5NaJ+HDiQtYHOMga0mx6Q0g3V8erYEi7Iob2q3ekfINQDWkng738/kuAvGa+X3w78RIripsjyn0B+HKDikqBzyEnPG08fpX0T/j+NjdSwvw0QaO385SHquTNBPpBtq3vwp/iOufijZDH1jcYspi2eZ5ZfbRG8tnyk/5S0gl15Sk8oUDkEcp60fqP/HHvZHDFLQjBLbNbk+KB3Pz7bqjDnW42wernf99k7SfDaJJhxbxaFNOQZCd7T8YjafdKkfgUO6eDyOoIr51lTZcTBDkbjwfP/wB+D9eCiPwMfKGuDY/osx8RoUjTQiPyEBMd11SUODoSByPuMiruAzvNJCzmXjSYzgHhRWyaxKhcrH9RORj3/wDNX3kNG/KCxwpDLYhP8/DWctr5A+veuSP1RWoNAD0aOjWY9zeklW0KIIx2PY1axndxtFG0i1O7ehEWWkOgAVXkxWucTSlYCxeb8Wiath1vynUqwpChjFfRoJxhHQUItHlDLtbJCVhxQK1E5zTV+bFNGaKhp8rRNPobmWVsPJCyOoUO2RmsFkvc2VxZsrePGHGij8OC0IjrbfrQkYBB6UpgeI8gPeFF7Q0kBVZ0pTMFHoK0IPrFaCHMY+bcILuN0C0ze2blcH9ja20g53KGOh+lMupSNbGNtkEHe0yqmtS7ihlRByCAMdKw+X6Wl7EWwdkQuzrUC2L3q9QGM/2qfSomTvPuigABI2nCu43RbqkqylJUnAwK1EMTxOA5ABJctV0n4wQdMzI8C6QXJ8aOSoIMgjysnnYgjZk9ysKz7Vnur9Mb9p71WTX8F2P7gj4TyDqJgb2yNv5/OU+6n/ijmTULiaRsDkYqQEByQ42jtzwylICftt+ppVmQh7rY7tMI3prA4/Fta2h8Af3VuLP1elkep3yTX9rNpD1lcxddW2Rq+htdwhOrnpiICsKeQ3t6jkjLpO5SunfHFKsJhjilkh9LSA265F3v8nSn78gtDQ7cnwE/+H/ihadL2W7TNUfzC+3NeVxGlNp2vkDCErWgJ9CcdMD35NX8bExciZz54rbWw4aXe7t7r4BpL8nNdC0N1U745/b81mmrZH+JZF1u19LCbrcm1uznkoCTHj7eG0q6pASAMA+lI4xkVdbNJlzh4FMafSBsCfp7DwFUdO/Di5uR/wCgWh6D8P8ASn/238MiuQ41b514gTH3JCzl0LfCkAqV6kjBQDnqoKxgJFEZFFk9SHe2Di5j6rYUQSPYDi9w43R2TGOWZmOQ42QL/P8A2sz/APqOeHTGl/C7TFyVG8iei6vxIzaxtU4jur3I4BrQ/wDE+mZXTZ3CcEMdq5/9TQP5ql1CZmSz07kV+q598B37A9pe9w7y3Jb1CpoLtD0UtoaQ9k7lPLUoHGdiQOnqUSOK22RJCx7nvv4SWMekglarY9Yy7TY2Aqdh1IUVOxnSEqwo8BQ6j69PbivmfVIzlZb7bW/+kvdM+LaMkfQpV1VqaZq5xnzpbz5ZSUJLrhXsHPpGTwPpVjFhGKNwq75JJDb3X9VR0vfJqnPhlApKcpJx0+v9qvzYAm9bOEOynLTr76bzF875+pPuRWfzIuy1zfZFYdwtblQlSnGnUKwgowrHUivdJbqNkq2lWbbYkeQpJISOoBGeM0zyG0/0lcpJcSCrxAgiYyQ0+2k8q6k+xrY52OJgXDlQ/Go4NvDjPlvoGU8EH3r57NK+J5AK5aoXZD0I7Y6lIT3Ce9McSRsxqRTa7Twj2l7k5CtLu9WVbc4PUVSz8V7ZbYdivE7WpJs8SLK6oJACgTkVzDhcyYE+EK9knaSlqiOLWU5QpW3P7Vs84a4KHNIScV2svyGZrS/L2qGT1zmstFj96ItKkB7KXUpcdW0hzhO5KV+2Pei9Ax+3kuafCk80mhvTcW12Tz2V/wDqSncEgfMMZx9+9brLY2FutTADRar6C8C7h4o3dy5kOogbApws49KR3Uo8IHB61hsjOkyX6YWaiP0+vt+avw4hmHceab/lM1xi2Rqe7adPvxJMG3AJlzGQVRmFexc6urPZI6k9hzWdyI3k9ybjx8/Qf7TphbEO3jiz/j6pMvN3UJr0h6QuW6f6QfdA3rQCducdqrwY/cpkYpvNfzypZE/2dlk2/hFotzU0YhaiMSWUgrJfUdoPbAHze/tV0vaPQ/b4CRMe1p7jtz/OUCDL90u01ieVPpnhSXlnjdvBB6dODV5xEeh8ZqqVVz3vkL3HcrN/F7TPiXPdtsFq6P3O2W1AbgsxVhgNoQkJTlCcAqAAG7nOT2Nabps3ToGvAbpLzZveyf8A6mTs1761eEmaqi6+8W4ceZqa9XC6zIai2zHuMgrKdowcDOEngdgTTT7fjYMnaHFc7mvbnx+ipS5Ti7SSq+jNLPRI777UpaXwvynUoThTQPHOfrxUsuclgkaAQoPDmjURYT+/Yn5VjQ3GQpTLaMZz1Pc5+pzSXHhMshlcqlFxtBrUGbXIJfUMKGVBR6GiZMJkHp8ITm+ydLFItzS1PjasEYWgj9/7UXAnYz7px5U20Dum2zx478pp7KMpO7jnrWX67IDIQEZtWnWVdUtQg0jG8o259qU9PlMbbRiaQn+UsTUoedcO9Q55qw6Z73Fy6G2snsVzes8ZuRCcw25w6lPP5/Q19M6g4tGuIqtfsmHcXGw6g5KuTjvWHyoBL94xeB91NAXbn3wzIKCtR+U8nNdZCyPHMrjupgi6Ud1h+Q+200MowUq+tCxpnZApxUnDbZFbZaWpERLC0kkDOwDr9KcY7GmS3LjBsjF10ZabbZUFtttDiwcJTxk4yD+tN5Z2kBpU9AApANLoef8AiWvL3tJGeScgGk0h+zWG8ILBRKoXidsL7cg846jqBXMEiGbue6i477qjYbxdrvD8hh/+iglAG3KsHtn7Zp71F0j/AENOxXSSeER1KxqWJptyCzLfZgq5Uw26pKTnqcDr0pdjYHaGo8qZkkA03srOmNQwLJpGJDRaFOTI/pJdeywhZ6u7MepRJ/FkDsO9Z/qPT8gyume8aTx717JtF1COGENYz1fzdAbldhPadcWorcWvDhPUk85/eq8ERYaCVvlfMS553TIxIFvt0dpKypQJOfoKJmwMa4fK9wmywIYmx23lYJTz9ce9I5nOBpTFFVr/AHNpmaFdVDkZ7im/TYi4nX5XCQOUrfBR5Um4T0teWZKgVHsFJGAcduOtH6kyUOb7DZVnercrM7qf5HqV25sNhSU+mUwflWgjkkfbr+taDBkd2RG7zx+yfdNnbIPss3B4/b9lq2i59ql6YeTGVvaIVsKj6kdfSr3x798UeQuxRpA2PChPhuw36HcHg+6558US4xd1pjqUlClbgB2yauYA1i3hIJwQ7ZM2gFSZUJG7K1BOOe4NJ+psbA7W1RIIbunqyvu2115C1bWhhSc/fpWbyCJ2g+VNhrlalpN6JcfMckrSNqyMLPYiidMjiaHB53VwEHdKl7kPM3aU3Hd/opWQnBNV5GsLz2+EFzyDSyqwzFRGksrHoKef+a+gMyBICxyH8pwtSHU5QMrQRlOO1JZGGCagPSVL8W6+bFb1jVAcUPQOce1A60O1jADyusB1bprvEVxxQdCd2KyvT5hG7dHItBrnqVFraZWoq3hWFY71soYg8Od4USSETtkt26rDanFLV+AlRPB5FIBIY5SXFdDrVu6yEabZIYwXV5TwepP/AJrssxmOm9lFxpZdInP3BbqFglwqUVc1psGFuxCFunPwCMNc1fxr6Qlsn0qOAT2H1p6+EOnaXHYIrB5TnrjxEtjt2ctsdWWggjJSCknuKlnZEcQ0jhecRwswROKXpKMENOK9BUMf+azGXK4AN8KsOaRLT9qZlWyYsp3KKxge2Eiq+OwOO6staFfdKUSi0VD0JyPuRVHNBDwSvOO6taIvCos5yK6r0AEoz3B7UmzWbB4XGu3ophvMNhvYvhaCcpz2zziuYOSRIK8IhFodJvUBxHwyWwhRWASAAR+Vb+RrMyMHyh2DshN/0xhSZBaTlAIUcAhafr70lyi6FgAUHtI9QWTOyHNAXlTsY7rPK+ZnnCDnOM/2p/hTtzYe3MN/5utvgZMfVYDjz/iHn/aNP6dRqd1mQgh2O4g4WOSQeh/79qYxt7NsWXy8Z+PKYpBv/lMVrsSdO25tCkjePVn37Csj1PVLKGApY6+FRnOqlIfUvc2kjBKeCD/2K5j4ng+FFjfdOqoSF6UQpL5TJBHrCuDj6VVPT2M1OcrP9NAqiCXUpcKhlQyeaHHFTV2qWbW1K1tO704UkdPpTh7gx4KHSa9PX9hmJ5aiPMb9+4prGWSENcvCmlELQxLcuC5rX9Roj049vaqHUWtm+4epb3YTrEvkOPDWqSUhOMkqr5+/Fkim7YRgbFrLPEWZDuDjDkRWEleRjp1rddNbJHGQ9QdRCbdGOlplJWMuFA2j6d6R5DO6+mqIShdr1Onard3JV5LXCEnpn3q4+BkUIB5QjZO6BJlSEXKWtSMp34SK0eI3txNI8qfCj8P7gtq6PNeZsLjhT/em8jhqoLkRslG7rHOl7wiXJPnR5DuQpR/MilkwZIQbulNzQm26TId/tcZ2IwUFvJ3Y6g9v1pTnZMb5Gx0uGtla8PbVKDUnz+E+oj2HpxTSLFDW6lYaLSpeJExq/wAha0qDPmelQ6EDilWVjkv3QP6kSbZeZXGXnatC8pWO4Pak2RjlgNjYobwbT5IZNwtQCFesIGPvis5A4MlVjkJKg2VyTclPJVhxKhkH3Hatfj5QhpAAJNpv1A7Jm2pLY9Kknbj78Z/eqWVkdyTc7Kb7IpZbeNOKRCcbmJ8xChggjkZ6Y+1M8eUNcHN5UIJHwPD2HcIFpq/StEXZiJM3/AOj0LI6gnhQ/sa1zCJmUt7931fH9njj+ey3SVphd+YhG3qEhchIUkjlJ5/5P7Uo+ydyegPUsVLE6NxY4UQgOrtAXS0/ExZMV1lRa3+gdR2UCPsanlQyYxojdVnAjlVbNZHV6Zc3KUssjKeeprOwwGeW3cFTY3ZBVOyA4vyFZbz79+9HkfHG7SEMuor15iEIiks4MoHBSO4phNEJoA+PkKw4iktyLX/Lx5wV6SeR96WRZDidvCrk2nrwx1Cwy8q2SiAs8oKvrXOpySSxiaPxyjs4pG7vY2V3FMbeFMvHnPY1TZL3Yu4PxBeIooJrjTltsMNnaodunQVHGyZpnFeeNle03KityY5HylIT+VRhm7EhMi9HVq7q+Db2d8ttCUFCcZ/1UfKl+0AFqnJRNhZdZVRZzshuavykvDKF9OQa1uE1vbDXeEMCwgeoIcGwtMzbdKLy0vBSsHoc1eyWtedLTuguAaLC0fU9tj6k8PG5uQXG0B9J9vcVn443QyE2jEWy15YrilrT7aPLwUhJ/UUlyo3TzUzlDLttk+6Sd+NgTm0DaptAIGMdcH/mtDiTPcztyjcK3CCVmjl4bfkzYziQlxL6wCvp1qZla8gqoSQ4oXedRrjuIZZQU7XUlWT/AN+/7UPLDZWUvPdYTvZry5IENLRO1wYVntWRjwxLKWDkKQfuAFe1DbZNlmtz2fUy6Mr/AOaKYzCe29EcC31KWzTnJ76A6P8AMScDPf8A8VBrGOfRXAbKs630ytqzLnKVwlAdA7EdafhsTWUOV58e1rN9VaeF80sht9sIbbJCHfxN56H7U+x3ljbKPi5UmJIJG8eVb8CvE2XoS+R7fPO5Md0YS98vPY/Qg9R9DV2OQdxszOR+o9lq8yKPqEQnh/F/n4XemsoVl1XoBqewlBktNB5hYHqwRkoNajI7c0PcrdZFzfBXKk6XGtsCQGUJQgr3YHQKz0r5HkZBhe4MCiaYEqMsx2t48tK07iR04FJSZHG6QjR5WWrvhianYKU/0nPUTWuxXdqMldvelLqxUszWmmjuY3A8fXpVvswiIzN8oJ2Ul7betkeLOaJQ+0ATjrikuLI1znRHcFF8JhtusBdbcmUp3MhtODz1qv2Tjz6K9JXb1BEZ0yLfNM/HSXCspOAD2Ipm1kcMpZGNyvX6d1LZlx24TLqF5XsBOT06/wDIpD1GP1UFEUVPqIvXaNtY5JSMAnrmqUWiJzSSpO3UemrdHajvMyY2Xm1ABKx2zzX0GHIjbFrbvanGaCyq5RnZZnxFDaBJIIPuCaI59uDx7Ku4arCa9KXRT2nU2paySlCkFOeDzSTLl7RJpTB9NFaFB06iEplONzamUqHHQgc0i6Xk9zK9Sk1tIpKvTdkStEdO1x5rsOpxWlyZNJOlWA4t4SLL02y/apNzK/IO7Hr6lXeg49GPWPCr15KWICTJz5oCnfw/XHQ0DLJFEILimXT7MgIQgEoJAcSfbpmkxk0y2w7rjb1J4uepS1ZzEfR5hI+b3HvU8h5cQK3V58tt0FBrdGWq2F5hRceaUlxG3r2GP0Jq12mSMDRyR+qAB6bRPUl5kXPSIZKVJcQgp2K+h6UvEEkco1LpcXNSDEvsy424R3kpDPCHFY5I7GtBHM58gjcdkLV4XmubXbLlZY7sZaG71EbyhSTw+kH5Cffuk9jkdDwzY5sb9IOydYOZ9lfpJ9JTZ4Q+P1xY0o7aJDinnGElLbaj6k46o/KnzMh7GFoTLqOKD9/F+f7pfsOpndQTZbMjcEFZcSg/fmsRkY7BL3XrLg6tipJS3IshbIUhQQcZUrBNBLWSeoIJ2KTIlnFw27fU9HXj7ii9wh3/AOka0y/Ax4y2XZLwC1J2hJ6H2p7jMEmM5pXHtvdST7M/dHXUbNraGSefbGaQsw5I2GUcBRG52SSbYvTz0UJc8xp1RJT7D2pzI1k0DXg7lSFjhNd5djxNKoTGO5p1YUQO3vS7E/8AMe5yuPVb1wbIhxKzuU3x+uaozeuYtcohFYmqv5bCYklO9CgAoUqdidyQsBorwsJ/tDsPVUJuQypLb23r7/Q1yEzQHQeAjtIKx/WxRpzUdxS6NqHVJePHuOf3Brd4DmyxNvnhR2HKUdI3Rci/YQo7d24D86r9SjAiJVUG3ELen9UqtwYRsLm9ACfor2rF9LHbmLlYDtPKE3eTNknz/hllqOAVLA+UE9T9K0mQyWd2pg2CKDqFqxcLK7eNGqkeanY1IO5rOCMp61axccCMCU7gqOnU21nOlJDqbyy0/wAhpRAJ/EKJmNZNGdHKred1qyrY6zb48plJDSFYJ/0hXTP7Vk340zCX1SPoNWFPDtqLiwfMcHmYKeal9nfIbKk1hdso7bcmtJqkMu4IUMJ4yO9MscuiddKRHa2KDwdavTJkhl1hBjlxW3HYdqcyvD229qrC72U0q3RNjio6diXEEgAcZpXExksodGaIUTbTuobR4WTdRwV3FbiW2W0ZwR15ps9gGxO6MGahZSdrDR3+FUovttdJSCkPpSeRzwsfY8GrGOX6dzwtDgZRA7Lzt4UllvbE9r+YRUhD49MhsDG0n8Q+hqGTi9wa2qn1DD7Du6z8J/REZlhuGonEyUeY0tKfKcCR1UO/6EUljcIQWWlenVus80rq8NareZUFBClklR6davZuGfs4e3kKOuzSfbmyLvNhobPrDg6DOKD0+V5dpd5UhvsjMnVJgXGbAcZVlgFkuEYJOBitBOWCLteV0N0ndCr1bGRFta04UtSVFwZyR0ApNktGNAxl7rw90JipbhQroxJJUhKgpCfYGqTXF0jHMXCKVVuSt62sR3BjujPcVZyYw4mRvhBFheTdyosWMgZzxgUrjrW55U03RnH9IWRt/CwnIBIBxk1ONhncSBspAEC0U1xpGJq/Sse4hxImONEJUT1I5wf1/agQ5T8SfQeFJzdQWM+G0uDZNRPm4jY42rYkLHHXmto9rJ4zarMoO3WwT7xaS8qUlY+HSrchJOeBWQjx2wzEtRDRKkgeKMaJe2AGiYjhLbwAyFIPBBHtxWm6fNUh1hXWluiloOpkW272ViFalBMZ13elbaAMpUnjPvjGKP1Nkb4wWbC0I8UFm7ujY7anFl9pl5t1G0Z5VnAOKymLrbLpc78vdBDPcrUrDqKzQfLtU4oUXWth4yh1Ixj7Hpx9K1waws0ycFWw4AUVT1hoG1aeZfuyLu4G3E72mI/q2/8Ay/5qjP0+PGjLg6weK3Q707hZvOT8S2iW8ouNBJyevNZNj5A/SUKRxdulOLP/AJpcZqYpDaSkHH+lXU/vmnLnOiYA7dDaaKP6ava0Rn2ZqFF5tWRt/eqdiF2sBGY5oNla1YHFXOwqQ0tbaFHaR7UvfliSYNcjOIJ9KBXKNYYabhbAw7KDqCD544SSOcVq5MuHEaBGCb91AbcLm6JLk6RvjgaJASpSQlfKCM8pI+1M4pQ9od4K0eJktyozHKN/K6M0rfLPf7M1NYmIhlz/ADGlkJwvAzjPas5ndLdLMXsuknmxXwvLQLC//9k=",
        "encoding": "base64",
        "path": [
         "value"
        ]
       }
      ],
      "model_module": "@jupyter-widgets/controls",
      "model_module_version": "1.5.0",
      "model_name": "ImageModel",
      "state": {
       "height": "150",
       "layout": "IPY_MODEL_ae074898634f452db1e91bc0857af724",
       "value": {},
       "width": "150"
      }
     },
     "fada12c6c5ef4d15b86337c5001b3453": {
      "model_module": "@jupyter-widgets/controls",
      "model_module_version": "1.5.0",
      "model_name": "ImageModel",
      "state": {
       "height": "150",
       "layout": "IPY_MODEL_c4ec48e50c96468490e51b28b507cbf3",
       "width": "150"
      }
     },
     "fb1bed6afd6a4332bf40bdaf838bb58f": {
      "model_module": "@jupyter-widgets/controls",
      "model_module_version": "1.5.0",
      "model_name": "IntTextModel",
      "state": {
       "description": "间隔时间(秒)",
       "layout": "IPY_MODEL_c38200085c7a450987c915e54bddb433",
       "step": 1,
       "style": "IPY_MODEL_e2478172070946a395b420b8db4e2b3a",
       "value": 1
      }
     },
     "fb6f557ffabe4730a6795155ae69940a": {
      "model_module": "@jupyter-widgets/controls",
      "model_module_version": "1.5.0",
      "model_name": "DescriptionStyleModel",
      "state": {
       "description_width": ""
      }
     },
     "fb91eab21b404adab6c9748fc1c5db1a": {
      "model_module": "@jupyter-widgets/base",
      "model_module_version": "1.2.0",
      "model_name": "LayoutModel",
      "state": {}
     },
     "fb957cdc1736426d961a44485ee17b30": {
      "model_module": "@jupyter-widgets/base",
      "model_module_version": "1.2.0",
      "model_name": "LayoutModel",
      "state": {}
     },
     "fc7517ec4d7f49db98fc2dc473151a5f": {
      "model_module": "@jupyter-widgets/controls",
      "model_module_version": "1.5.0",
      "model_name": "DescriptionStyleModel",
      "state": {
       "description_width": ""
      }
     },
     "fc85faec55324fb7b8a38f472ea16d22": {
      "model_module": "@jupyter-widgets/base",
      "model_module_version": "1.2.0",
      "model_name": "LayoutModel",
      "state": {}
     },
     "fcb5122c8571488787c6f00d6774e045": {
      "model_module": "@jupyter-widgets/base",
      "model_module_version": "1.2.0",
      "model_name": "LayoutModel",
      "state": {}
     },
     "ff04f88a7d814d0b86e5317d1d49482d": {
      "model_module": "@jupyter-widgets/base",
      "model_module_version": "1.2.0",
      "model_name": "LayoutModel",
      "state": {}
     },
     "ffed7294e6754e28839fc44053a0cf4e": {
      "model_module": "@jupyter-widgets/base",
      "model_module_version": "1.2.0",
      "model_name": "LayoutModel",
      "state": {}
     }
    },
    "version_major": 2,
    "version_minor": 0
   }
  }
 },
 "nbformat": 4,
 "nbformat_minor": 2
}

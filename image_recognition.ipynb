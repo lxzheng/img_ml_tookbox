{
 "cells": [
  {
   "cell_type": "markdown",
   "metadata": {},
   "source": [
    "# 图像识别示例\n",
    "\n",
    "## 准备工作：首先运行下面的代码，导入一些函数库"
   ]
  },
  {
   "cell_type": "code",
   "execution_count": 1,
   "metadata": {},
   "outputs": [],
   "source": [
    "import net_transfer\n",
    "import unzip_data\n",
    "import image_browser \n",
    "import gen_model\n",
    "import classifier\n",
    "import transvideo_data\n",
    "import downloadimage_data"
   ]
  },
  {
   "cell_type": "markdown",
   "metadata": {},
   "source": [
    "# 数据准备\n",
    "1. 收集\n",
    "2. 分类整理并打包\n",
    "3. 加载：有以下三种加载方式\n",
    ">     ①如果数据没加载到服务器，则运行下面的代码，输入链接地址(链接为包含zip格式打包的网络下载地址，例如qq邮箱超大附件的下载链接),点击传输按键，下载数据集\n",
    ">     ②输入名字根据关键词，从搜索引擎下载图片数据集\n",
    ">     ③输入本地视频的地址、对应的标签和帧数间隔，生成数据集"
   ]
  },
  {
   "cell_type": "code",
   "execution_count": 2,
   "metadata": {},
   "outputs": [
    {
     "name": "stdout",
     "output_type": "stream",
     "text": [
      "请输入下载链接，和要保存的文件名，点击“传输”按键将网盘上的zip传输到服务器\n"
     ]
    },
    {
     "data": {
      "application/vnd.jupyter.widget-view+json": {
       "model_id": "fd1df6eb47e64453a276fdaca361c7e0",
       "version_major": 2,
       "version_minor": 0
      },
      "text/plain": [
       "VBox(children=(Text(value='', description='链接'), Text(value='dataset.zip', description='文件名'), Button(descript…"
      ]
     },
     "metadata": {},
     "output_type": "display_data"
    }
   ],
   "source": [
    "net_transfer.get_zip_file()"
   ]
  },
  {
   "cell_type": "markdown",
   "metadata": {},
   "source": [
    "在进行模型训练前，需先把上一步骤下载的数据集解压，运行下面的代码后，在选择框中选择要解压的文件，点击解压按键提取图像数据。"
   ]
  },
  {
   "cell_type": "code",
   "execution_count": 3,
   "metadata": {},
   "outputs": [
    {
     "name": "stdout",
     "output_type": "stream",
     "text": [
      "请选择要解压的zip文件，点击“解压”按键将zip文件解压，点击“刷新”按键更新zip文件列表\n"
     ]
    },
    {
     "data": {
      "application/vnd.jupyter.widget-view+json": {
       "model_id": "9d6fc44bf03840ce8f59d79670d639f0",
       "version_major": 2,
       "version_minor": 0
      },
      "text/plain": [
       "Box(children=(Dropdown(description='zip文件:', options=('flower_photos.zip', 'cats_and_dogs_filtered.zip', 'cats…"
      ]
     },
     "metadata": {},
     "output_type": "display_data"
    }
   ],
   "source": [
    "unzip_data.do_unzip(net_transfer.file_name)"
   ]
  },
  {
   "cell_type": "code",
   "execution_count": 4,
   "metadata": {},
   "outputs": [
    {
     "name": "stdout",
     "output_type": "stream",
     "text": [
      "请输入要下载的数据集信息（注意如果要一次性下载多多种类型的图片,关键字之间用分号;隔开）\n"
     ]
    },
    {
     "data": {
      "application/vnd.jupyter.widget-view+json": {
       "model_id": "fdd44a59cda448768f45a9dec9af7e3d",
       "version_major": 2,
       "version_minor": 0
      },
      "text/plain": [
       "VBox(children=(Text(value='', description='数据集名称'), Text(value='', description='图片类别'), Dropdown(description='…"
      ]
     },
     "metadata": {},
     "output_type": "display_data"
    }
   ],
   "source": [
    "downloadimage_data.get_image()"
   ]
  },
  {
   "cell_type": "code",
   "execution_count": 5,
   "metadata": {},
   "outputs": [
    {
     "name": "stdout",
     "output_type": "stream",
     "text": [
      "请输入本地视频地址、要保存的标签名和间隔，点击“传输”按键将把视频转换成数据集\n"
     ]
    },
    {
     "data": {
      "application/vnd.jupyter.widget-view+json": {
       "model_id": "990d09cd01db404cb9111dde256ccc73",
       "version_major": 2,
       "version_minor": 0
      },
      "text/plain": [
       "VBox(children=(Text(value='test2.mp4', description='视频位置'), Dropdown(description='选择本地文件:', options=('test2.mp…"
      ]
     },
     "metadata": {},
     "output_type": "display_data"
    }
   ],
   "source": [
    "transvideo_data.get_Video()"
   ]
  },
  {
   "cell_type": "markdown",
   "metadata": {},
   "source": [
    "4. 数据检查与确认。运行下面的代码，选择一个想要训练的数据集，并检查确认图像的正确性"
   ]
  },
  {
   "cell_type": "code",
   "execution_count": 6,
   "metadata": {},
   "outputs": [
    {
     "data": {
      "application/vnd.jupyter.widget-view+json": {
       "model_id": "8d9d46eb027d43898cfeebcd19c8b8b6",
       "version_major": 2,
       "version_minor": 0
      },
      "text/plain": [
       "Box(children=(Dropdown(description='数据集目录', options=('cats_and_dogs', 'cats_and_dogs_filtered', '水果', '测试', 'f…"
      ]
     },
     "metadata": {},
     "output_type": "display_data"
    },
    {
     "data": {
      "application/vnd.jupyter.widget-view+json": {
       "model_id": "1819d0bb291d4bfab29b52875e0d21b8",
       "version_major": 2,
       "version_minor": 0
      },
      "text/plain": [
       "Dropdown(description='类别:', options=('cats_and_dogs_filtered',), value='cats_and_dogs_filtered')"
      ]
     },
     "metadata": {},
     "output_type": "display_data"
    },
    {
     "data": {
      "application/vnd.jupyter.widget-view+json": {
       "model_id": "ef13ee18742b49d9bc543ae92ba377f6",
       "version_major": 2,
       "version_minor": 0
      },
      "text/plain": [
       "Button(description='下一页', style=ButtonStyle())"
      ]
     },
     "metadata": {},
     "output_type": "display_data"
    },
    {
     "data": {
      "application/vnd.jupyter.widget-view+json": {
       "model_id": "99f387b9ed8d4f8492f5d8cdbad5f53d",
       "version_major": 2,
       "version_minor": 0
      },
      "text/plain": [
       "Output(layout=Layout(border='1px solid black'))"
      ]
     },
     "metadata": {},
     "output_type": "display_data"
    },
    {
     "data": {
      "application/vnd.jupyter.widget-view+json": {
       "model_id": "a540c7db6e944d69a60f0458a7990132",
       "version_major": 2,
       "version_minor": 0
      },
      "text/plain": [
       "Button(description='删除选中图像', style=ButtonStyle())"
      ]
     },
     "metadata": {},
     "output_type": "display_data"
    }
   ],
   "source": [
    "image_browser.display_images(grid_size=(2,3),img_disp_size=(150,150))"
   ]
  },
  {
   "cell_type": "markdown",
   "metadata": {},
   "source": [
    "## 训练模型\n",
    "运行下面的代码，点击训练模型按键，开始训练"
   ]
  },
  {
   "cell_type": "code",
   "execution_count": 7,
   "metadata": {},
   "outputs": [
    {
     "data": {
      "application/vnd.jupyter.widget-view+json": {
       "model_id": "2136c19dc9c348a98523153e43ecdbae",
       "version_major": 2,
       "version_minor": 0
      },
      "text/plain": [
       "VBox(children=(Checkbox(value=True, description='高级选项', indent=False), Dropdown(description='训练模型选择', options=…"
      ]
     },
     "metadata": {},
     "output_type": "display_data"
    },
    {
     "data": {
      "application/vnd.jupyter.widget-view+json": {
       "model_id": "e748d94b2bf24ff4903502a1301334a6",
       "version_major": 2,
       "version_minor": 0
      },
      "text/plain": [
       "VBox(children=(Button(description='训练模型', style=ButtonStyle()),))"
      ]
     },
     "metadata": {},
     "output_type": "display_data"
    },
    {
     "name": "stdout",
     "output_type": "stream",
     "text": [
      "Found 3306 images belonging to 5 classes.\n",
      "Found 364 images belonging to 5 classes.\n",
      "开始模型训练。。。\n",
      "使用的模型为mobilenetv2（适用于移动端模型）\n",
      "WARNING:tensorflow:sample_weight modes were coerced from\n",
      "  ...\n",
      "    to  \n",
      "  ['...']\n"
     ]
    },
    {
     "name": "stderr",
     "output_type": "stream",
     "text": [
      "WARNING:tensorflow:sample_weight modes were coerced from\n",
      "  ...\n",
      "    to  \n",
      "  ['...']\n"
     ]
    },
    {
     "name": "stdout",
     "output_type": "stream",
     "text": [
      "WARNING:tensorflow:sample_weight modes were coerced from\n",
      "  ...\n",
      "    to  \n",
      "  ['...']\n"
     ]
    },
    {
     "name": "stderr",
     "output_type": "stream",
     "text": [
      "WARNING:tensorflow:sample_weight modes were coerced from\n",
      "  ...\n",
      "    to  \n",
      "  ['...']\n"
     ]
    },
    {
     "name": "stdout",
     "output_type": "stream",
     "text": [
      "Train for 827 steps, validate for 91 steps\n",
      "Epoch 1/15\n",
      "827/827 [==============================] - 26s 32ms/step - loss: 1.7630 - acc: 0.1788 - val_loss: 1.7433 - val_acc: 0.2308\n",
      "Epoch 2/15\n",
      "754/827 [==========================>...] - ETA: 2s - loss: 1.6260 - acc: 0.2571"
     ]
    }
   ],
   "source": [
    "gen_model.do_model_train(image_browser.current_dataset_dir)"
   ]
  },
  {
   "cell_type": "markdown",
   "metadata": {},
   "source": [
    "## 分类预测\n",
    "* 上传一张图片，进行分类测试"
   ]
  },
  {
   "cell_type": "code",
   "execution_count": 9,
   "metadata": {
    "scrolled": true
   },
   "outputs": [
    {
     "data": {
      "application/vnd.jupyter.widget-view+json": {
       "model_id": "d67d0ca8802d4b868e7274489e956505",
       "version_major": 2,
       "version_minor": 0
      },
      "text/plain": [
       "VBox(children=(FileUpload(value={'zrs.jpeg': {'metadata': {'name': 'zrs.jpeg', 'type': 'image/jpeg', 'size': 1…"
      ]
     },
     "metadata": {},
     "output_type": "display_data"
    },
    {
     "data": {
      "application/vnd.jupyter.widget-view+json": {
       "model_id": "fcbbfaef36a24c20848622534f9469e3",
       "version_major": 2,
       "version_minor": 0
      },
      "text/plain": [
       "Image(value=b'\\xff\\xd8\\xff\\xe1\\x16[Exif\\x00\\x00MM\\x00*\\x00\\x00\\x00\\x08\\x00\\t\\x01\\x0f\\x00\\x02\\x00\\x00\\x00\\x06\\x…"
      ]
     },
     "metadata": {},
     "output_type": "display_data"
    }
   ],
   "source": [
    "classifier.do_classification(gen_model.label_names)"
   ]
  },
  {
   "cell_type": "code",
   "execution_count": null,
   "metadata": {},
   "outputs": [],
   "source": []
  }
 ],
 "metadata": {
  "kernelspec": {
   "display_name": "Python 3",
   "language": "python",
   "name": "python3"
  },
  "language_info": {
   "codemirror_mode": {
    "name": "ipython",
    "version": 3
   },
   "file_extension": ".py",
   "mimetype": "text/x-python",
   "name": "python",
   "nbconvert_exporter": "python",
   "pygments_lexer": "ipython3",
   "version": "3.7.6"
  }
 },
 "nbformat": 4,
 "nbformat_minor": 2
}
